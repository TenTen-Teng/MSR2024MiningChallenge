{
 "cells": [
  {
   "cell_type": "markdown",
   "metadata": {},
   "source": [
    "# Pull Requestion Analysis\n",
    "\n",
    "This notebook aims to analyze the pull request dataset.\n",
    "\n",
    "1. [Determine the number of interactions with ChatGPT](#interactions)\n",
    "2. [Calculate the average length of prompts (measured in tokens)](#average-length-of-prompt)\n",
    "3. [Calculate the average length of answers (measured in tokens)](#average-length-of-answer)\n",
    "\n",
    "> NOTE\n",
    ">\n",
    "> All file paths to CSV files are replaced with relative paths."
   ]
  },
  {
   "cell_type": "code",
   "execution_count": 67,
   "metadata": {},
   "outputs": [
    {
     "data": {
      "text/plain": [
       "RendererRegistry.enable('jupyterlab')"
      ]
     },
     "execution_count": 67,
     "metadata": {},
     "output_type": "execute_result"
    }
   ],
   "source": [
    "# Import libraries.\n",
    "\n",
    "import pandas as pd\n",
    "from langdetect import detect\n",
    "import numpy as np\n",
    "import altair as alt\n",
    "\n",
    "alt.renderers.enable(\"jupyterlab\")"
   ]
  },
  {
   "cell_type": "markdown",
   "metadata": {},
   "source": [
    "## Read Dataset"
   ]
  },
  {
   "cell_type": "code",
   "execution_count": 68,
   "metadata": {},
   "outputs": [
    {
     "name": "stdout",
     "output_type": "stream",
     "text": [
      "<class 'pandas.core.frame.DataFrame'>\n",
      "Index: 28348 entries, 0 to 28347\n",
      "Data columns (total 40 columns):\n",
      " #   Column                Non-Null Count  Dtype  \n",
      "---  ------                --------------  -----  \n",
      " 0   Type                  28348 non-null  object \n",
      " 1   URL_pr                28348 non-null  object \n",
      " 2   Author                28348 non-null  object \n",
      " 3   RepoName              28348 non-null  object \n",
      " 4   RepoLanguage          28252 non-null  object \n",
      " 5   Number                28348 non-null  int64  \n",
      " 6   Title_x               28348 non-null  object \n",
      " 7   Body                  28150 non-null  object \n",
      " 8   CreatedAt             28348 non-null  object \n",
      " 9   ClosedAt              27642 non-null  object \n",
      " 10  MergedAt              23310 non-null  object \n",
      " 11  UpdatedAt             28348 non-null  object \n",
      " 12  State                 28348 non-null  object \n",
      " 13  Additions             28348 non-null  int64  \n",
      " 14  Deletions             28348 non-null  int64  \n",
      " 15  ChangedFiles          28348 non-null  int64  \n",
      " 16  CommitsTotalCount     28348 non-null  int64  \n",
      " 17  CommitShas            20528 non-null  object \n",
      " 18  CommitSha             7820 non-null   object \n",
      " 19  source_date           28348 non-null  int64  \n",
      " 20  URL_chatgptsharing_x  28348 non-null  object \n",
      " 21  Status                28348 non-null  int64  \n",
      " 22  DateOfConversation    28210 non-null  object \n",
      " 23  DateOfAccess          28210 non-null  object \n",
      " 24  Title_y               28210 non-null  object \n",
      " 25  NumberOfPrompts       28210 non-null  float64\n",
      " 26  TokensOfPrompts       28210 non-null  float64\n",
      " 27  TokensOfAnswers       28210 non-null  float64\n",
      " 28  Model                 28210 non-null  object \n",
      " 29  HTMLContent           28210 non-null  object \n",
      " 30  URL_chatgptsharing_y  28348 non-null  object \n",
      " 31  MentionedURL          28348 non-null  object \n",
      " 32  MentionedProperty     28348 non-null  object \n",
      " 33  MentionedAuthor       28348 non-null  object \n",
      " 34  MentionedText         28348 non-null  object \n",
      " 35  MentionedPath         3697 non-null   object \n",
      " 36  URL_chatgptsharing    28242 non-null  object \n",
      " 37  Prompt                28242 non-null  object \n",
      " 38  Answer                28242 non-null  object \n",
      " 39  ListOfCode            28242 non-null  object \n",
      "dtypes: float64(3), int64(7), object(30)\n",
      "memory usage: 8.9+ MB\n"
     ]
    }
   ],
   "source": [
    "file_path = \"~/data/DevGPT/cleaned/pr_total.csv\"\n",
    "\n",
    "df = pd.read_csv(file_path, index_col=0)\n",
    "df.info()"
   ]
  },
  {
   "cell_type": "code",
   "execution_count": 69,
   "metadata": {},
   "outputs": [
    {
     "name": "stdout",
     "output_type": "stream",
     "text": [
      "<class 'pandas.core.frame.DataFrame'>\n",
      "Index: 28242 entries, 0 to 28343\n",
      "Data columns (total 40 columns):\n",
      " #   Column                Non-Null Count  Dtype  \n",
      "---  ------                --------------  -----  \n",
      " 0   Type                  28242 non-null  object \n",
      " 1   URL_pr                28242 non-null  object \n",
      " 2   Author                28242 non-null  object \n",
      " 3   RepoName              28242 non-null  object \n",
      " 4   RepoLanguage          28146 non-null  object \n",
      " 5   Number                28242 non-null  int64  \n",
      " 6   Title_x               28242 non-null  object \n",
      " 7   Body                  28052 non-null  object \n",
      " 8   CreatedAt             28242 non-null  object \n",
      " 9   ClosedAt              27544 non-null  object \n",
      " 10  MergedAt              23228 non-null  object \n",
      " 11  UpdatedAt             28242 non-null  object \n",
      " 12  State                 28242 non-null  object \n",
      " 13  Additions             28242 non-null  int64  \n",
      " 14  Deletions             28242 non-null  int64  \n",
      " 15  ChangedFiles          28242 non-null  int64  \n",
      " 16  CommitsTotalCount     28242 non-null  int64  \n",
      " 17  CommitShas            20459 non-null  object \n",
      " 18  CommitSha             7783 non-null   object \n",
      " 19  source_date           28242 non-null  int64  \n",
      " 20  URL_chatgptsharing_x  28242 non-null  object \n",
      " 21  Status                28242 non-null  int64  \n",
      " 22  DateOfConversation    28210 non-null  object \n",
      " 23  DateOfAccess          28210 non-null  object \n",
      " 24  Title_y               28210 non-null  object \n",
      " 25  NumberOfPrompts       28210 non-null  float64\n",
      " 26  TokensOfPrompts       28210 non-null  float64\n",
      " 27  TokensOfAnswers       28210 non-null  float64\n",
      " 28  Model                 28210 non-null  object \n",
      " 29  HTMLContent           28210 non-null  object \n",
      " 30  URL_chatgptsharing_y  28242 non-null  object \n",
      " 31  MentionedURL          28242 non-null  object \n",
      " 32  MentionedProperty     28242 non-null  object \n",
      " 33  MentionedAuthor       28242 non-null  object \n",
      " 34  MentionedText         28242 non-null  object \n",
      " 35  MentionedPath         3633 non-null   object \n",
      " 36  URL_chatgptsharing    28242 non-null  object \n",
      " 37  Prompt                28242 non-null  object \n",
      " 38  Answer                28242 non-null  object \n",
      " 39  ListOfCode            28242 non-null  object \n",
      "dtypes: float64(3), int64(7), object(30)\n",
      "memory usage: 8.8+ MB\n"
     ]
    }
   ],
   "source": [
    "# Remove nan answer and promot.\n",
    "df = df[~df[\"Answer\"].isna()]\n",
    "df = df[~df[\"Prompt\"].isna()]\n",
    "df.info()"
   ]
  },
  {
   "cell_type": "code",
   "execution_count": 70,
   "metadata": {},
   "outputs": [
    {
     "name": "stdout",
     "output_type": "stream",
     "text": [
      "<class 'pandas.core.frame.DataFrame'>\n",
      "Index: 478 entries, 7870 to 23117\n",
      "Data columns (total 41 columns):\n",
      " #   Column                Non-Null Count  Dtype  \n",
      "---  ------                --------------  -----  \n",
      " 0   Type                  478 non-null    object \n",
      " 1   URL_pr                478 non-null    object \n",
      " 2   Author                478 non-null    object \n",
      " 3   RepoName              478 non-null    object \n",
      " 4   RepoLanguage          478 non-null    object \n",
      " 5   Number                478 non-null    int64  \n",
      " 6   Title_x               478 non-null    object \n",
      " 7   Body                  405 non-null    object \n",
      " 8   CreatedAt             478 non-null    object \n",
      " 9   ClosedAt              466 non-null    object \n",
      " 10  MergedAt              465 non-null    object \n",
      " 11  UpdatedAt             478 non-null    object \n",
      " 12  State                 478 non-null    object \n",
      " 13  Additions             478 non-null    int64  \n",
      " 14  Deletions             478 non-null    int64  \n",
      " 15  ChangedFiles          478 non-null    int64  \n",
      " 16  CommitsTotalCount     478 non-null    int64  \n",
      " 17  CommitShas            478 non-null    object \n",
      " 18  CommitSha             0 non-null      object \n",
      " 19  source_date           478 non-null    int64  \n",
      " 20  URL_chatgptsharing_x  478 non-null    object \n",
      " 21  Status                478 non-null    int64  \n",
      " 22  DateOfConversation    478 non-null    object \n",
      " 23  DateOfAccess          478 non-null    object \n",
      " 24  Title_y               478 non-null    object \n",
      " 25  NumberOfPrompts       478 non-null    float64\n",
      " 26  TokensOfPrompts       478 non-null    float64\n",
      " 27  TokensOfAnswers       478 non-null    float64\n",
      " 28  Model                 478 non-null    object \n",
      " 29  HTMLContent           478 non-null    object \n",
      " 30  URL_chatgptsharing_y  478 non-null    object \n",
      " 31  MentionedURL          478 non-null    object \n",
      " 32  MentionedProperty     478 non-null    object \n",
      " 33  MentionedAuthor       478 non-null    object \n",
      " 34  MentionedText         478 non-null    object \n",
      " 35  MentionedPath         59 non-null     object \n",
      " 36  URL_chatgptsharing    478 non-null    object \n",
      " 37  Prompt                478 non-null    object \n",
      " 38  Answer                478 non-null    object \n",
      " 39  ListOfCode            478 non-null    object \n",
      " 40  Language              478 non-null    object \n",
      "dtypes: float64(3), int64(7), object(31)\n",
      "memory usage: 156.8+ KB\n"
     ]
    }
   ],
   "source": [
    "# Filter out Python and English\n",
    "df = df.loc[df[\"RepoLanguage\"] == \"Python\"]\n",
    "\n",
    "# Detect answer language\n",
    "df[\"Language\"] = df[\"Answer\"].apply(detect)\n",
    "\n",
    "# Get English only.\n",
    "df = df.loc[df[\"Language\"] == \"en\"]\n",
    "df.info()"
   ]
  },
  {
   "cell_type": "code",
   "execution_count": 71,
   "metadata": {},
   "outputs": [
    {
     "data": {
      "text/html": [
       "<div>\n",
       "<style scoped>\n",
       "    .dataframe tbody tr th:only-of-type {\n",
       "        vertical-align: middle;\n",
       "    }\n",
       "\n",
       "    .dataframe tbody tr th {\n",
       "        vertical-align: top;\n",
       "    }\n",
       "\n",
       "    .dataframe thead th {\n",
       "        text-align: right;\n",
       "    }\n",
       "</style>\n",
       "<table border=\"1\" class=\"dataframe\">\n",
       "  <thead>\n",
       "    <tr style=\"text-align: right;\">\n",
       "      <th></th>\n",
       "      <th>Type</th>\n",
       "      <th>URL_pr</th>\n",
       "      <th>Author</th>\n",
       "      <th>RepoName</th>\n",
       "      <th>RepoLanguage</th>\n",
       "      <th>Number</th>\n",
       "      <th>Title_x</th>\n",
       "      <th>Body</th>\n",
       "      <th>CreatedAt</th>\n",
       "      <th>ClosedAt</th>\n",
       "      <th>...</th>\n",
       "      <th>MentionedURL</th>\n",
       "      <th>MentionedProperty</th>\n",
       "      <th>MentionedAuthor</th>\n",
       "      <th>MentionedText</th>\n",
       "      <th>MentionedPath</th>\n",
       "      <th>URL_chatgptsharing</th>\n",
       "      <th>Prompt</th>\n",
       "      <th>Answer</th>\n",
       "      <th>ListOfCode</th>\n",
       "      <th>Language</th>\n",
       "    </tr>\n",
       "  </thead>\n",
       "  <tbody>\n",
       "    <tr>\n",
       "      <th>7870</th>\n",
       "      <td>pull request</td>\n",
       "      <td>https://github.com/paul-gauthier/aider/pull/119</td>\n",
       "      <td>joshuavial</td>\n",
       "      <td>paul-gauthier/aider</td>\n",
       "      <td>Python</td>\n",
       "      <td>119</td>\n",
       "      <td>create Dockerfile and scripts for managing it</td>\n",
       "      <td>I don't know if you want this in the codebase ...</td>\n",
       "      <td>2023-07-18T03:46:34Z</td>\n",
       "      <td>NaN</td>\n",
       "      <td>...</td>\n",
       "      <td>https://github.com/paul-gauthier/aider/pull/11...</td>\n",
       "      <td>comments.body</td>\n",
       "      <td>joshuavial</td>\n",
       "      <td>This feels like a much nicer approach to me @p...</td>\n",
       "      <td>NaN</td>\n",
       "      <td>https://chat.openai.com/share/4555f0ea-1e7b-49...</td>\n",
       "      <td>How can I setup a github action to automatical...</td>\n",
       "      <td>Sure, I can certainly help you with that. Here...</td>\n",
       "      <td>[{'ReplaceString': '[CODE_BLOCK_0]', 'Type': '...</td>\n",
       "      <td>en</td>\n",
       "    </tr>\n",
       "    <tr>\n",
       "      <th>7871</th>\n",
       "      <td>pull request</td>\n",
       "      <td>https://github.com/paul-gauthier/aider/pull/119</td>\n",
       "      <td>joshuavial</td>\n",
       "      <td>paul-gauthier/aider</td>\n",
       "      <td>Python</td>\n",
       "      <td>119</td>\n",
       "      <td>create Dockerfile and scripts for managing it</td>\n",
       "      <td>I don't know if you want this in the codebase ...</td>\n",
       "      <td>2023-07-18T03:46:34Z</td>\n",
       "      <td>NaN</td>\n",
       "      <td>...</td>\n",
       "      <td>https://github.com/paul-gauthier/aider/pull/11...</td>\n",
       "      <td>comments.body</td>\n",
       "      <td>joshuavial</td>\n",
       "      <td>This feels like a much nicer approach to me @p...</td>\n",
       "      <td>NaN</td>\n",
       "      <td>https://chat.openai.com/share/4555f0ea-1e7b-49...</td>\n",
       "      <td>How can I setup a github action to automatical...</td>\n",
       "      <td>Sure, I can certainly help you with that. Here...</td>\n",
       "      <td>[{'ReplaceString': '[CODE_BLOCK_0]', 'Type': '...</td>\n",
       "      <td>en</td>\n",
       "    </tr>\n",
       "    <tr>\n",
       "      <th>7872</th>\n",
       "      <td>pull request</td>\n",
       "      <td>https://github.com/paul-gauthier/aider/pull/119</td>\n",
       "      <td>joshuavial</td>\n",
       "      <td>paul-gauthier/aider</td>\n",
       "      <td>Python</td>\n",
       "      <td>119</td>\n",
       "      <td>create Dockerfile and scripts for managing it</td>\n",
       "      <td>I don't know if you want this in the codebase ...</td>\n",
       "      <td>2023-07-18T03:46:34Z</td>\n",
       "      <td>NaN</td>\n",
       "      <td>...</td>\n",
       "      <td>https://github.com/paul-gauthier/aider/pull/11...</td>\n",
       "      <td>comments.body</td>\n",
       "      <td>joshuavial</td>\n",
       "      <td>This feels like a much nicer approach to me @p...</td>\n",
       "      <td>NaN</td>\n",
       "      <td>https://chat.openai.com/share/4555f0ea-1e7b-49...</td>\n",
       "      <td>How can I setup a github action to automatical...</td>\n",
       "      <td>Sure, I can certainly help you with that. Here...</td>\n",
       "      <td>[{'ReplaceString': '[CODE_BLOCK_0]', 'Type': '...</td>\n",
       "      <td>en</td>\n",
       "    </tr>\n",
       "    <tr>\n",
       "      <th>7873</th>\n",
       "      <td>pull request</td>\n",
       "      <td>https://github.com/paul-gauthier/aider/pull/119</td>\n",
       "      <td>joshuavial</td>\n",
       "      <td>paul-gauthier/aider</td>\n",
       "      <td>Python</td>\n",
       "      <td>119</td>\n",
       "      <td>create Dockerfile and scripts for managing it</td>\n",
       "      <td>I don't know if you want this in the codebase ...</td>\n",
       "      <td>2023-07-18T03:46:34Z</td>\n",
       "      <td>NaN</td>\n",
       "      <td>...</td>\n",
       "      <td>https://github.com/paul-gauthier/aider/pull/11...</td>\n",
       "      <td>comments.body</td>\n",
       "      <td>joshuavial</td>\n",
       "      <td>This feels like a much nicer approach to me @p...</td>\n",
       "      <td>NaN</td>\n",
       "      <td>https://chat.openai.com/share/4555f0ea-1e7b-49...</td>\n",
       "      <td>How can I setup a github action to automatical...</td>\n",
       "      <td>Sure, I can certainly help you with that. Here...</td>\n",
       "      <td>[{'ReplaceString': '[CODE_BLOCK_0]', 'Type': '...</td>\n",
       "      <td>en</td>\n",
       "    </tr>\n",
       "    <tr>\n",
       "      <th>7898</th>\n",
       "      <td>pull request</td>\n",
       "      <td>https://github.com/chitalian/gptask/pull/2</td>\n",
       "      <td>calum-bird</td>\n",
       "      <td>chitalian/gptask</td>\n",
       "      <td>Python</td>\n",
       "      <td>2</td>\n",
       "      <td>Fix: recursive/glob support</td>\n",
       "      <td>Changes:\\r\\n`-r` is now a flag, not an argumen...</td>\n",
       "      <td>2023-07-24T18:09:25Z</td>\n",
       "      <td>2023-07-24T19:52:21Z</td>\n",
       "      <td>...</td>\n",
       "      <td>https://github.com/chitalian/gptask/pull/2#iss...</td>\n",
       "      <td>comments.body</td>\n",
       "      <td>chitalian</td>\n",
       "      <td>@calum-bird \\r\\nhttps://chat.openai.com/share/...</td>\n",
       "      <td>NaN</td>\n",
       "      <td>https://chat.openai.com/share/902cd378-3ebc-4e...</td>\n",
       "      <td>Give me some test commands for this\\n\\nimport ...</td>\n",
       "      <td>This Python script is a command-line tool that...</td>\n",
       "      <td>[{'ReplaceString': '[CODE_BLOCK_0]', 'Type': '...</td>\n",
       "      <td>en</td>\n",
       "    </tr>\n",
       "  </tbody>\n",
       "</table>\n",
       "<p>5 rows × 41 columns</p>\n",
       "</div>"
      ],
      "text/plain": [
       "              Type                                           URL_pr  \\\n",
       "7870  pull request  https://github.com/paul-gauthier/aider/pull/119   \n",
       "7871  pull request  https://github.com/paul-gauthier/aider/pull/119   \n",
       "7872  pull request  https://github.com/paul-gauthier/aider/pull/119   \n",
       "7873  pull request  https://github.com/paul-gauthier/aider/pull/119   \n",
       "7898  pull request       https://github.com/chitalian/gptask/pull/2   \n",
       "\n",
       "          Author             RepoName RepoLanguage  Number  \\\n",
       "7870  joshuavial  paul-gauthier/aider       Python     119   \n",
       "7871  joshuavial  paul-gauthier/aider       Python     119   \n",
       "7872  joshuavial  paul-gauthier/aider       Python     119   \n",
       "7873  joshuavial  paul-gauthier/aider       Python     119   \n",
       "7898  calum-bird     chitalian/gptask       Python       2   \n",
       "\n",
       "                                            Title_x  \\\n",
       "7870  create Dockerfile and scripts for managing it   \n",
       "7871  create Dockerfile and scripts for managing it   \n",
       "7872  create Dockerfile and scripts for managing it   \n",
       "7873  create Dockerfile and scripts for managing it   \n",
       "7898                    Fix: recursive/glob support   \n",
       "\n",
       "                                                   Body             CreatedAt  \\\n",
       "7870  I don't know if you want this in the codebase ...  2023-07-18T03:46:34Z   \n",
       "7871  I don't know if you want this in the codebase ...  2023-07-18T03:46:34Z   \n",
       "7872  I don't know if you want this in the codebase ...  2023-07-18T03:46:34Z   \n",
       "7873  I don't know if you want this in the codebase ...  2023-07-18T03:46:34Z   \n",
       "7898  Changes:\\r\\n`-r` is now a flag, not an argumen...  2023-07-24T18:09:25Z   \n",
       "\n",
       "                  ClosedAt  ...  \\\n",
       "7870                   NaN  ...   \n",
       "7871                   NaN  ...   \n",
       "7872                   NaN  ...   \n",
       "7873                   NaN  ...   \n",
       "7898  2023-07-24T19:52:21Z  ...   \n",
       "\n",
       "                                           MentionedURL MentionedProperty  \\\n",
       "7870  https://github.com/paul-gauthier/aider/pull/11...     comments.body   \n",
       "7871  https://github.com/paul-gauthier/aider/pull/11...     comments.body   \n",
       "7872  https://github.com/paul-gauthier/aider/pull/11...     comments.body   \n",
       "7873  https://github.com/paul-gauthier/aider/pull/11...     comments.body   \n",
       "7898  https://github.com/chitalian/gptask/pull/2#iss...     comments.body   \n",
       "\n",
       "     MentionedAuthor                                      MentionedText  \\\n",
       "7870      joshuavial  This feels like a much nicer approach to me @p...   \n",
       "7871      joshuavial  This feels like a much nicer approach to me @p...   \n",
       "7872      joshuavial  This feels like a much nicer approach to me @p...   \n",
       "7873      joshuavial  This feels like a much nicer approach to me @p...   \n",
       "7898       chitalian  @calum-bird \\r\\nhttps://chat.openai.com/share/...   \n",
       "\n",
       "      MentionedPath                                 URL_chatgptsharing  \\\n",
       "7870            NaN  https://chat.openai.com/share/4555f0ea-1e7b-49...   \n",
       "7871            NaN  https://chat.openai.com/share/4555f0ea-1e7b-49...   \n",
       "7872            NaN  https://chat.openai.com/share/4555f0ea-1e7b-49...   \n",
       "7873            NaN  https://chat.openai.com/share/4555f0ea-1e7b-49...   \n",
       "7898            NaN  https://chat.openai.com/share/902cd378-3ebc-4e...   \n",
       "\n",
       "                                                 Prompt  \\\n",
       "7870  How can I setup a github action to automatical...   \n",
       "7871  How can I setup a github action to automatical...   \n",
       "7872  How can I setup a github action to automatical...   \n",
       "7873  How can I setup a github action to automatical...   \n",
       "7898  Give me some test commands for this\\n\\nimport ...   \n",
       "\n",
       "                                                 Answer  \\\n",
       "7870  Sure, I can certainly help you with that. Here...   \n",
       "7871  Sure, I can certainly help you with that. Here...   \n",
       "7872  Sure, I can certainly help you with that. Here...   \n",
       "7873  Sure, I can certainly help you with that. Here...   \n",
       "7898  This Python script is a command-line tool that...   \n",
       "\n",
       "                                             ListOfCode  Language  \n",
       "7870  [{'ReplaceString': '[CODE_BLOCK_0]', 'Type': '...        en  \n",
       "7871  [{'ReplaceString': '[CODE_BLOCK_0]', 'Type': '...        en  \n",
       "7872  [{'ReplaceString': '[CODE_BLOCK_0]', 'Type': '...        en  \n",
       "7873  [{'ReplaceString': '[CODE_BLOCK_0]', 'Type': '...        en  \n",
       "7898  [{'ReplaceString': '[CODE_BLOCK_0]', 'Type': '...        en  \n",
       "\n",
       "[5 rows x 41 columns]"
      ]
     },
     "execution_count": 71,
     "metadata": {},
     "output_type": "execute_result"
    }
   ],
   "source": [
    "df.head()"
   ]
  },
  {
   "cell_type": "code",
   "execution_count": 72,
   "metadata": {},
   "outputs": [
    {
     "name": "stdout",
     "output_type": "stream",
     "text": [
      "There are 18 unique URL in pull request dataset\n"
     ]
    }
   ],
   "source": [
    "# Check unique pr URL: 18\n",
    "print(f\"There are {len(df[\"URL_pr\"].unique())} unique URL in pull request dataset\")"
   ]
  },
  {
   "cell_type": "code",
   "execution_count": 73,
   "metadata": {},
   "outputs": [],
   "source": [
    "# Group data by URL.\n",
    "df_url = df.groupby(by=[\"URL_pr\"])"
   ]
  },
  {
   "cell_type": "markdown",
   "metadata": {},
   "source": [
    "## Interactions\n",
    "\n",
    "Determine the number of interactions with ChatGPT.\n",
    "\n",
    "Method:\n",
    "1. Leverage the grouped dataset.\n",
    "2. Calculate the average number of interactions using column `URL_chatgptsharing`."
   ]
  },
  {
   "cell_type": "code",
   "execution_count": 74,
   "metadata": {},
   "outputs": [
    {
     "data": {
      "text/html": [
       "<div>\n",
       "<style scoped>\n",
       "    .dataframe tbody tr th:only-of-type {\n",
       "        vertical-align: middle;\n",
       "    }\n",
       "\n",
       "    .dataframe tbody tr th {\n",
       "        vertical-align: top;\n",
       "    }\n",
       "\n",
       "    .dataframe thead th {\n",
       "        text-align: right;\n",
       "    }\n",
       "</style>\n",
       "<table border=\"1\" class=\"dataframe\">\n",
       "  <thead>\n",
       "    <tr style=\"text-align: right;\">\n",
       "      <th></th>\n",
       "      <th>URL_pr</th>\n",
       "      <th>URL_chatgptsharing</th>\n",
       "    </tr>\n",
       "  </thead>\n",
       "  <tbody>\n",
       "    <tr>\n",
       "      <th>0</th>\n",
       "      <td>https://github.com/Email-Generation/email_gene...</td>\n",
       "      <td>167</td>\n",
       "    </tr>\n",
       "    <tr>\n",
       "      <th>1</th>\n",
       "      <td>https://github.com/Hochfrequenz/kohlrahbi/pull...</td>\n",
       "      <td>16</td>\n",
       "    </tr>\n",
       "    <tr>\n",
       "      <th>2</th>\n",
       "      <td>https://github.com/RND247/Pype-Synthetic-Data-...</td>\n",
       "      <td>32</td>\n",
       "    </tr>\n",
       "    <tr>\n",
       "      <th>3</th>\n",
       "      <td>https://github.com/aiplanethub/genai-stack/pul...</td>\n",
       "      <td>1</td>\n",
       "    </tr>\n",
       "    <tr>\n",
       "      <th>4</th>\n",
       "      <td>https://github.com/app-sre/qontract-reconcile/...</td>\n",
       "      <td>80</td>\n",
       "    </tr>\n",
       "  </tbody>\n",
       "</table>\n",
       "</div>"
      ],
      "text/plain": [
       "                                              URL_pr  URL_chatgptsharing\n",
       "0  https://github.com/Email-Generation/email_gene...                 167\n",
       "1  https://github.com/Hochfrequenz/kohlrahbi/pull...                  16\n",
       "2  https://github.com/RND247/Pype-Synthetic-Data-...                  32\n",
       "3  https://github.com/aiplanethub/genai-stack/pul...                   1\n",
       "4  https://github.com/app-sre/qontract-reconcile/...                  80"
      ]
     },
     "execution_count": 74,
     "metadata": {},
     "output_type": "execute_result"
    }
   ],
   "source": [
    "df_url_count = df_url[\"URL_chatgptsharing\"].aggregate(len).reset_index()\n",
    "df_url_count.head()"
   ]
  },
  {
   "cell_type": "code",
   "execution_count": 75,
   "metadata": {},
   "outputs": [
    {
     "name": "stdout",
     "output_type": "stream",
     "text": [
      "Average interactions per pr: 26.56\n",
      "Maximum number of interactions: 167 from repo: https://github.com/Email-Generation/email_generation/pull/2\n",
      "Minimum number of iteractions: 1 from repo: ['https://github.com/aiplanethub/genai-stack/pull/21', 'https://github.com/bancaditalia/black-it/pull/58', 'https://github.com/comfyanonymous/ComfyUI/pull/1115', 'https://github.com/microsoft/visionmetrics/pull/42']\n"
     ]
    }
   ],
   "source": [
    "idx_max = np.argmax(df_url_count[\"URL_chatgptsharing\"])\n",
    "idx_min = np.argmin(df_url_count[\"URL_chatgptsharing\"])\n",
    "\n",
    "min_count = df_url_count.iloc[idx_min][\"URL_chatgptsharing\"]\n",
    "min_count_repos = df_url_count.loc[df_url_count[\"URL_chatgptsharing\"] == min_count][\"URL_pr\"]\n",
    "\n",
    "print(\n",
    "    f\"Average interactions per pr: {np.mean(df_url_count[\"URL_chatgptsharing\"]):.2f}\\n\"\n",
    "    f\"Maximum number of interactions: {df_url_count.iloc[idx_max][\"URL_chatgptsharing\"]} from \"\n",
    "    f\"repo: {df_url_count.iloc[idx_max][\"URL_pr\"]}\\n\"\n",
    "    f\"Minimum number of iteractions: {df_url_count.iloc[idx_min][\"URL_chatgptsharing\"]} from \"\n",
    "    f\"repo: {[repo for repo in min_count_repos]}\" \n",
    ")"
   ]
  },
  {
   "cell_type": "code",
   "execution_count": 85,
   "metadata": {},
   "outputs": [
    {
     "data": {
      "application/vnd.vegalite.v5+json": {
       "$schema": "https://vega.github.io/schema/vega-lite/v5.20.1.json",
       "config": {
        "view": {
         "continuousHeight": 300,
         "continuousWidth": 300
        }
       },
       "data": {
        "name": "data-2e8d40b17ce0fac9acf2508cbf8e3b36"
       },
       "datasets": {
        "data-2e8d40b17ce0fac9acf2508cbf8e3b36": [
         {
          "URL_chatgptsharing": 167,
          "URL_pr": "https://github.com/Email-Generation/email_generation/pull/2"
         },
         {
          "URL_chatgptsharing": 16,
          "URL_pr": "https://github.com/Hochfrequenz/kohlrahbi/pull/158"
         },
         {
          "URL_chatgptsharing": 32,
          "URL_pr": "https://github.com/RND247/Pype-Synthetic-Data-for-Testing/pull/16"
         },
         {
          "URL_chatgptsharing": 1,
          "URL_pr": "https://github.com/aiplanethub/genai-stack/pull/21"
         },
         {
          "URL_chatgptsharing": 80,
          "URL_pr": "https://github.com/app-sre/qontract-reconcile/pull/3630"
         },
         {
          "URL_chatgptsharing": 1,
          "URL_pr": "https://github.com/bancaditalia/black-it/pull/58"
         },
         {
          "URL_chatgptsharing": 48,
          "URL_pr": "https://github.com/bbelderbos/htmx-demo/pull/2"
         },
         {
          "URL_chatgptsharing": 16,
          "URL_pr": "https://github.com/chitalian/gptask/pull/2"
         },
         {
          "URL_chatgptsharing": 1,
          "URL_pr": "https://github.com/comfyanonymous/ComfyUI/pull/1115"
         },
         {
          "URL_chatgptsharing": 32,
          "URL_pr": "https://github.com/jefftriplett/frontmatter-cli/pull/6"
         },
         {
          "URL_chatgptsharing": 32,
          "URL_pr": "https://github.com/livingbio/gpt-fn/pull/4"
         },
         {
          "URL_chatgptsharing": 2,
          "URL_pr": "https://github.com/metaphorsystems/metaphor-python/pull/5"
         },
         {
          "URL_chatgptsharing": 1,
          "URL_pr": "https://github.com/microsoft/visionmetrics/pull/42"
         },
         {
          "URL_chatgptsharing": 16,
          "URL_pr": "https://github.com/monarch-initiative/oai-monarch-plugin/pull/39"
         },
         {
          "URL_chatgptsharing": 4,
          "URL_pr": "https://github.com/paul-gauthier/aider/pull/119"
         },
         {
          "URL_chatgptsharing": 16,
          "URL_pr": "https://github.com/roslinmahmud/easy-hire-backend/pull/11"
         },
         {
          "URL_chatgptsharing": 5,
          "URL_pr": "https://github.com/tinygrad/tinygrad/pull/1661"
         },
         {
          "URL_chatgptsharing": 8,
          "URL_pr": "https://github.com/wafflestudio/wacruit-server/pull/26"
         }
        ]
       },
       "layer": [
        {
         "encoding": {
          "x": {
           "field": "URL_chatgptsharing",
           "title": "Number of Interactions with ChatGPT",
           "type": "nominal"
          },
          "y": {
           "aggregate": "count",
           "title": "Count",
           "type": "quantitative"
          }
         },
         "mark": {
          "size": 5,
          "type": "bar"
         },
         "title": {
          "subtitle": "Pull Request",
          "text": "Distribution of the number of interactions with ChatGPT"
         }
        },
        {
         "encoding": {
          "size": {
           "value": 2
          },
          "x": {
           "aggregate": "mean",
           "axis": {
            "format": "2d"
           },
           "field": "URL_chatgptsharing",
           "type": "nominal"
          }
         },
         "mark": {
          "type": "rule"
         }
        }
       ]
      },
      "text/plain": [
       "<VegaLite 5 object>\n",
       "\n",
       "If you see this message, it means the renderer has not been properly enabled\n",
       "for the frontend that you are using. For more information, see\n",
       "https://altair-viz.github.io/user_guide/display_frontends.html#troubleshooting\n"
      ]
     },
     "execution_count": 85,
     "metadata": {},
     "output_type": "execute_result"
    }
   ],
   "source": [
    "# Checking histogarm\n",
    "inter_bar = alt.Chart(df_url_count).mark_bar(size=5).encode(\n",
    "    x=alt.X(\n",
    "        \"URL_chatgptsharing:N\",\n",
    "        title=\"Number of Interactions with ChatGPT\",\n",
    "    ),\n",
    "    y=alt.Y(\"count()\", title=\"Count\"),\n",
    ").properties(\n",
    "    title={\n",
    "        \"text\": \"Distribution of the number of interactions with ChatGPT\",\n",
    "        \"subtitle\": \"Pull Request\"\n",
    "    }\n",
    ")\n",
    "\n",
    "rule = alt.Chart(df_url_count).mark_rule().encode(\n",
    "    x=alt.X(\n",
    "        'URL_chatgptsharing:N',\n",
    "        aggregate=\"mean\",\n",
    "        type='nominal',\n",
    "        axis=alt.Axis(format=\"2d\")\n",
    "    ),\n",
    "    size=alt.value(2),\n",
    ")\n",
    "\n",
    "alt.layer(inter_bar, rule)"
   ]
  },
  {
   "cell_type": "markdown",
   "metadata": {},
   "source": [
    "![Distribution of the number of interactions with ChatGPT](./graphs/interaction-pr-hist.png)"
   ]
  },
  {
   "cell_type": "markdown",
   "metadata": {},
   "source": [
    "## Average Length of Prompt\n",
    "\n",
    "Calculate the average length of prompts (measured in tokens).\n",
    "\n",
    "Method:\n",
    "1. Leverage the grouped dataset.\n",
    "2. Calculate the average length of prompts using column `TokensOfPrompts`\n"
   ]
  },
  {
   "cell_type": "code",
   "execution_count": 77,
   "metadata": {},
   "outputs": [
    {
     "data": {
      "text/html": [
       "<div>\n",
       "<style scoped>\n",
       "    .dataframe tbody tr th:only-of-type {\n",
       "        vertical-align: middle;\n",
       "    }\n",
       "\n",
       "    .dataframe tbody tr th {\n",
       "        vertical-align: top;\n",
       "    }\n",
       "\n",
       "    .dataframe thead th {\n",
       "        text-align: right;\n",
       "    }\n",
       "</style>\n",
       "<table border=\"1\" class=\"dataframe\">\n",
       "  <thead>\n",
       "    <tr style=\"text-align: right;\">\n",
       "      <th></th>\n",
       "      <th>URL_pr</th>\n",
       "      <th>TokensOfPrompts</th>\n",
       "    </tr>\n",
       "  </thead>\n",
       "  <tbody>\n",
       "    <tr>\n",
       "      <th>0</th>\n",
       "      <td>https://github.com/Email-Generation/email_gene...</td>\n",
       "      <td>21133.0</td>\n",
       "    </tr>\n",
       "    <tr>\n",
       "      <th>1</th>\n",
       "      <td>https://github.com/Hochfrequenz/kohlrahbi/pull...</td>\n",
       "      <td>17.0</td>\n",
       "    </tr>\n",
       "    <tr>\n",
       "      <th>2</th>\n",
       "      <td>https://github.com/RND247/Pype-Synthetic-Data-...</td>\n",
       "      <td>33.0</td>\n",
       "    </tr>\n",
       "    <tr>\n",
       "      <th>3</th>\n",
       "      <td>https://github.com/aiplanethub/genai-stack/pul...</td>\n",
       "      <td>11.0</td>\n",
       "    </tr>\n",
       "    <tr>\n",
       "      <th>4</th>\n",
       "      <td>https://github.com/app-sre/qontract-reconcile/...</td>\n",
       "      <td>109.0</td>\n",
       "    </tr>\n",
       "  </tbody>\n",
       "</table>\n",
       "</div>"
      ],
      "text/plain": [
       "                                              URL_pr  TokensOfPrompts\n",
       "0  https://github.com/Email-Generation/email_gene...          21133.0\n",
       "1  https://github.com/Hochfrequenz/kohlrahbi/pull...             17.0\n",
       "2  https://github.com/RND247/Pype-Synthetic-Data-...             33.0\n",
       "3  https://github.com/aiplanethub/genai-stack/pul...             11.0\n",
       "4  https://github.com/app-sre/qontract-reconcile/...            109.0"
      ]
     },
     "execution_count": 77,
     "metadata": {},
     "output_type": "execute_result"
    }
   ],
   "source": [
    "df_url_prompt = df_url[\"TokensOfPrompts\"].aggregate(\"mean\").reset_index()\n",
    "df_url_prompt.head()"
   ]
  },
  {
   "cell_type": "code",
   "execution_count": 78,
   "metadata": {},
   "outputs": [
    {
     "name": "stdout",
     "output_type": "stream",
     "text": [
      "Average length of prompt per pr: 1520.47\n",
      "Maximum number of prompt: 21133.0 from repo: https://github.com/Email-Generation/email_generation/pull/2\n",
      "Minimum number of prompt: 10.0 from repo: https://github.com/microsoft/visionmetrics/pull/42\n"
     ]
    }
   ],
   "source": [
    "idx_max = np.argmax(df_url_prompt[\"TokensOfPrompts\"])\n",
    "idx_min = np.argmin(df_url_prompt[\"TokensOfPrompts\"])\n",
    "\n",
    "print(\n",
    "    f\"Average length of prompt per pr: {np.mean(df_url_prompt[\"TokensOfPrompts\"]):.2f}\\n\"\n",
    "    f\"Maximum number of prompt: {df_url_prompt[\"TokensOfPrompts\"].iloc[idx_max]} from \"\n",
    "    f\"repo: {df_url_prompt[\"URL_pr\"].iloc[idx_max]}\\n\"\n",
    "    f\"Minimum number of prompt: {df_url_prompt[\"TokensOfPrompts\"].iloc[idx_min]} from \"\n",
    "    f\"repo: {df_url_prompt[\"URL_pr\"].iloc[idx_min]}\"\n",
    ")"
   ]
  },
  {
   "cell_type": "code",
   "execution_count": 84,
   "metadata": {},
   "outputs": [
    {
     "data": {
      "application/vnd.vegalite.v5+json": {
       "$schema": "https://vega.github.io/schema/vega-lite/v5.20.1.json",
       "config": {
        "view": {
         "continuousHeight": 300,
         "continuousWidth": 300
        }
       },
       "data": {
        "name": "data-073e075b98458dac7efbe956addc7084"
       },
       "datasets": {
        "data-073e075b98458dac7efbe956addc7084": [
         {
          "TokensOfPrompts": 21133,
          "URL_pr": "https://github.com/Email-Generation/email_generation/pull/2"
         },
         {
          "TokensOfPrompts": 17,
          "URL_pr": "https://github.com/Hochfrequenz/kohlrahbi/pull/158"
         },
         {
          "TokensOfPrompts": 33,
          "URL_pr": "https://github.com/RND247/Pype-Synthetic-Data-for-Testing/pull/16"
         },
         {
          "TokensOfPrompts": 11,
          "URL_pr": "https://github.com/aiplanethub/genai-stack/pull/21"
         },
         {
          "TokensOfPrompts": 109,
          "URL_pr": "https://github.com/app-sre/qontract-reconcile/pull/3630"
         },
         {
          "TokensOfPrompts": 341,
          "URL_pr": "https://github.com/bancaditalia/black-it/pull/58"
         },
         {
          "TokensOfPrompts": 340,
          "URL_pr": "https://github.com/bbelderbos/htmx-demo/pull/2"
         },
         {
          "TokensOfPrompts": 980,
          "URL_pr": "https://github.com/chitalian/gptask/pull/2"
         },
         {
          "TokensOfPrompts": 28,
          "URL_pr": "https://github.com/comfyanonymous/ComfyUI/pull/1115"
         },
         {
          "TokensOfPrompts": 502,
          "URL_pr": "https://github.com/jefftriplett/frontmatter-cli/pull/6"
         },
         {
          "TokensOfPrompts": 75,
          "URL_pr": "https://github.com/livingbio/gpt-fn/pull/4"
         },
         {
          "TokensOfPrompts": 1655,
          "URL_pr": "https://github.com/metaphorsystems/metaphor-python/pull/5"
         },
         {
          "TokensOfPrompts": 10,
          "URL_pr": "https://github.com/microsoft/visionmetrics/pull/42"
         },
         {
          "TokensOfPrompts": 27,
          "URL_pr": "https://github.com/monarch-initiative/oai-monarch-plugin/pull/39"
         },
         {
          "TokensOfPrompts": 15.5,
          "URL_pr": "https://github.com/paul-gauthier/aider/pull/119"
         },
         {
          "TokensOfPrompts": 26,
          "URL_pr": "https://github.com/roslinmahmud/easy-hire-backend/pull/11"
         },
         {
          "TokensOfPrompts": 2039,
          "URL_pr": "https://github.com/tinygrad/tinygrad/pull/1661"
         },
         {
          "TokensOfPrompts": 27,
          "URL_pr": "https://github.com/wafflestudio/wacruit-server/pull/26"
         }
        ]
       },
       "layer": [
        {
         "encoding": {
          "x": {
           "field": "TokensOfPrompts",
           "title": "Length of Prompts (tokens)",
           "type": "nominal"
          },
          "y": {
           "aggregate": "count",
           "title": "Count",
           "type": "quantitative"
          }
         },
         "mark": {
          "size": 5,
          "type": "bar"
         },
         "title": {
          "subtitle": "Pull Request",
          "text": "Distribution of the length of prompt with ChatGPT"
         }
        },
        {
         "encoding": {
          "x": {
           "aggregate": "mean",
           "axis": {
            "format": "2d"
           },
           "field": "TokensOfPrompts",
           "type": "nominal"
          }
         },
         "mark": {
          "type": "rule"
         }
        }
       ]
      },
      "text/plain": [
       "<VegaLite 5 object>\n",
       "\n",
       "If you see this message, it means the renderer has not been properly enabled\n",
       "for the frontend that you are using. For more information, see\n",
       "https://altair-viz.github.io/user_guide/display_frontends.html#troubleshooting\n"
      ]
     },
     "execution_count": 84,
     "metadata": {},
     "output_type": "execute_result"
    }
   ],
   "source": [
    "# Checking histogarm\n",
    "inter_bar = alt.Chart(df_url_prompt).mark_bar(size=5).encode(\n",
    "    x=alt.X(\n",
    "        \"TokensOfPrompts:N\",\n",
    "        title=\"Length of Prompts (tokens)\",\n",
    "    ),\n",
    "    y=alt.Y(\"count()\", title=\"Count\"),\n",
    ").properties(\n",
    "    title={\n",
    "        \"text\": \"Distribution of the length of prompt with ChatGPT\",\n",
    "        \"subtitle\": \"Pull Request\"\n",
    "    }\n",
    ")\n",
    "\n",
    "rule = alt.Chart(df_url_prompt).mark_rule().encode(\n",
    "    x=alt.X(\n",
    "        'TokensOfPrompts:N',\n",
    "        aggregate=\"mean\",\n",
    "        type='nominal',\n",
    "        axis=alt.Axis(format=\"2d\")\n",
    "    ),\n",
    ")\n",
    "\n",
    "alt.layer(inter_bar, rule)"
   ]
  },
  {
   "cell_type": "markdown",
   "metadata": {},
   "source": [
    "![Distribution of the length of prompt with ChatGPT](./graphs/prompt-pr-hist.png)"
   ]
  },
  {
   "cell_type": "markdown",
   "metadata": {},
   "source": [
    "## Average Length of Answer\n",
    "\n",
    "Calculate the average length of answers (measured in tokens).\n",
    "\n",
    "Method:\n",
    "1. Leverage the grouped dataset.\n",
    "2. Calculate the average length of prompts using column `TokensOfAnswers`"
   ]
  },
  {
   "cell_type": "code",
   "execution_count": 80,
   "metadata": {},
   "outputs": [
    {
     "data": {
      "text/html": [
       "<div>\n",
       "<style scoped>\n",
       "    .dataframe tbody tr th:only-of-type {\n",
       "        vertical-align: middle;\n",
       "    }\n",
       "\n",
       "    .dataframe tbody tr th {\n",
       "        vertical-align: top;\n",
       "    }\n",
       "\n",
       "    .dataframe thead th {\n",
       "        text-align: right;\n",
       "    }\n",
       "</style>\n",
       "<table border=\"1\" class=\"dataframe\">\n",
       "  <thead>\n",
       "    <tr style=\"text-align: right;\">\n",
       "      <th></th>\n",
       "      <th>URL_pr</th>\n",
       "      <th>TokensOfAnswers</th>\n",
       "    </tr>\n",
       "  </thead>\n",
       "  <tbody>\n",
       "    <tr>\n",
       "      <th>0</th>\n",
       "      <td>https://github.com/Email-Generation/email_gene...</td>\n",
       "      <td>49053.0</td>\n",
       "    </tr>\n",
       "    <tr>\n",
       "      <th>1</th>\n",
       "      <td>https://github.com/Hochfrequenz/kohlrahbi/pull...</td>\n",
       "      <td>267.0</td>\n",
       "    </tr>\n",
       "    <tr>\n",
       "      <th>2</th>\n",
       "      <td>https://github.com/RND247/Pype-Synthetic-Data-...</td>\n",
       "      <td>761.0</td>\n",
       "    </tr>\n",
       "    <tr>\n",
       "      <th>3</th>\n",
       "      <td>https://github.com/aiplanethub/genai-stack/pul...</td>\n",
       "      <td>410.0</td>\n",
       "    </tr>\n",
       "    <tr>\n",
       "      <th>4</th>\n",
       "      <td>https://github.com/app-sre/qontract-reconcile/...</td>\n",
       "      <td>1660.0</td>\n",
       "    </tr>\n",
       "  </tbody>\n",
       "</table>\n",
       "</div>"
      ],
      "text/plain": [
       "                                              URL_pr  TokensOfAnswers\n",
       "0  https://github.com/Email-Generation/email_gene...          49053.0\n",
       "1  https://github.com/Hochfrequenz/kohlrahbi/pull...            267.0\n",
       "2  https://github.com/RND247/Pype-Synthetic-Data-...            761.0\n",
       "3  https://github.com/aiplanethub/genai-stack/pul...            410.0\n",
       "4  https://github.com/app-sre/qontract-reconcile/...           1660.0"
      ]
     },
     "execution_count": 80,
     "metadata": {},
     "output_type": "execute_result"
    }
   ],
   "source": [
    "df_url_ans = df_url[\"TokensOfAnswers\"].aggregate(\"mean\").reset_index()\n",
    "df_url_ans.head()"
   ]
  },
  {
   "cell_type": "code",
   "execution_count": 81,
   "metadata": {},
   "outputs": [
    {
     "name": "stdout",
     "output_type": "stream",
     "text": [
      "Average length of prompt per pr: 3434.83\n",
      "Maximum number of prompt: 49053.0 from repo: https://github.com/Email-Generation/email_generation/pull/2\n",
      "Minimum number of prompt: 100.0 from repo: https://github.com/monarch-initiative/oai-monarch-plugin/pull/39\n"
     ]
    }
   ],
   "source": [
    "idx_max = np.argmax(df_url_ans[\"TokensOfAnswers\"])\n",
    "idx_min = np.argmin(df_url_ans[\"TokensOfAnswers\"])\n",
    "\n",
    "print(\n",
    "    f\"Average length of prompt per pr: {np.mean(df_url_ans[\"TokensOfAnswers\"]):.2f}\\n\"\n",
    "    f\"Maximum number of prompt: {df_url_ans[\"TokensOfAnswers\"].iloc[idx_max]} from \"\n",
    "    f\"repo: {df_url_ans[\"URL_pr\"].iloc[idx_max]}\\n\"\n",
    "    f\"Minimum number of prompt: {df_url_ans[\"TokensOfAnswers\"].iloc[idx_min]} from \"\n",
    "    f\"repo: {df_url_ans[\"URL_pr\"].iloc[idx_min]}\"\n",
    ")"
   ]
  },
  {
   "cell_type": "code",
   "execution_count": 83,
   "metadata": {},
   "outputs": [
    {
     "data": {
      "application/vnd.vegalite.v5+json": {
       "$schema": "https://vega.github.io/schema/vega-lite/v5.20.1.json",
       "config": {
        "view": {
         "continuousHeight": 300,
         "continuousWidth": 300
        }
       },
       "data": {
        "name": "data-4221eea734138f79803051c4cd50d970"
       },
       "datasets": {
        "data-4221eea734138f79803051c4cd50d970": [
         {
          "TokensOfAnswers": 49053,
          "URL_pr": "https://github.com/Email-Generation/email_generation/pull/2"
         },
         {
          "TokensOfAnswers": 267,
          "URL_pr": "https://github.com/Hochfrequenz/kohlrahbi/pull/158"
         },
         {
          "TokensOfAnswers": 761,
          "URL_pr": "https://github.com/RND247/Pype-Synthetic-Data-for-Testing/pull/16"
         },
         {
          "TokensOfAnswers": 410,
          "URL_pr": "https://github.com/aiplanethub/genai-stack/pull/21"
         },
         {
          "TokensOfAnswers": 1660,
          "URL_pr": "https://github.com/app-sre/qontract-reconcile/pull/3630"
         },
         {
          "TokensOfAnswers": 522,
          "URL_pr": "https://github.com/bancaditalia/black-it/pull/58"
         },
         {
          "TokensOfAnswers": 941,
          "URL_pr": "https://github.com/bbelderbos/htmx-demo/pull/2"
         },
         {
          "TokensOfAnswers": 301,
          "URL_pr": "https://github.com/chitalian/gptask/pull/2"
         },
         {
          "TokensOfAnswers": 488,
          "URL_pr": "https://github.com/comfyanonymous/ComfyUI/pull/1115"
         },
         {
          "TokensOfAnswers": 1896,
          "URL_pr": "https://github.com/jefftriplett/frontmatter-cli/pull/6"
         },
         {
          "TokensOfAnswers": 1091,
          "URL_pr": "https://github.com/livingbio/gpt-fn/pull/4"
         },
         {
          "TokensOfAnswers": 328,
          "URL_pr": "https://github.com/metaphorsystems/metaphor-python/pull/5"
         },
         {
          "TokensOfAnswers": 460,
          "URL_pr": "https://github.com/microsoft/visionmetrics/pull/42"
         },
         {
          "TokensOfAnswers": 100,
          "URL_pr": "https://github.com/monarch-initiative/oai-monarch-plugin/pull/39"
         },
         {
          "TokensOfAnswers": 237,
          "URL_pr": "https://github.com/paul-gauthier/aider/pull/119"
         },
         {
          "TokensOfAnswers": 399,
          "URL_pr": "https://github.com/roslinmahmud/easy-hire-backend/pull/11"
         },
         {
          "TokensOfAnswers": 2677,
          "URL_pr": "https://github.com/tinygrad/tinygrad/pull/1661"
         },
         {
          "TokensOfAnswers": 236,
          "URL_pr": "https://github.com/wafflestudio/wacruit-server/pull/26"
         }
        ]
       },
       "layer": [
        {
         "encoding": {
          "x": {
           "field": "TokensOfAnswers",
           "title": "Length of Answers (tokens)",
           "type": "nominal"
          },
          "y": {
           "aggregate": "count",
           "title": "Count",
           "type": "quantitative"
          }
         },
         "mark": {
          "size": 5,
          "type": "bar"
         },
         "title": {
          "subtitle": "Pull Request",
          "text": "Distribution of the length of answers with ChatGPT"
         }
        },
        {
         "encoding": {
          "x": {
           "aggregate": "mean",
           "axis": {
            "format": "2d"
           },
           "field": "TokensOfAnswers",
           "type": "nominal"
          }
         },
         "mark": {
          "type": "rule"
         }
        }
       ]
      },
      "text/plain": [
       "<VegaLite 5 object>\n",
       "\n",
       "If you see this message, it means the renderer has not been properly enabled\n",
       "for the frontend that you are using. For more information, see\n",
       "https://altair-viz.github.io/user_guide/display_frontends.html#troubleshooting\n"
      ]
     },
     "execution_count": 83,
     "metadata": {},
     "output_type": "execute_result"
    }
   ],
   "source": [
    "# Checking histogarm\n",
    "inter_bar = alt.Chart(df_url_ans).mark_bar(size=5).encode(\n",
    "    x=alt.X(\n",
    "        \"TokensOfAnswers:N\",\n",
    "        title=\"Length of Answers (tokens)\",\n",
    "    ),\n",
    "    y=alt.Y(\"count()\", title=\"Count\"),\n",
    ").properties(\n",
    "    title={\n",
    "        \"text\": \"Distribution of the length of answers with ChatGPT\",\n",
    "        \"subtitle\": \"Pull Request\"\n",
    "    }\n",
    ")\n",
    "\n",
    "rule = alt.Chart(df_url_ans).mark_rule().encode(\n",
    "    x=alt.X(\n",
    "        'TokensOfAnswers:N',\n",
    "        aggregate=\"mean\",\n",
    "        type='nominal',\n",
    "        axis=alt.Axis(format=\"2d\")\n",
    "    ),\n",
    ")\n",
    "\n",
    "alt.layer(inter_bar, rule)"
   ]
  },
  {
   "cell_type": "markdown",
   "metadata": {},
   "source": [
    "![Distribution of the length of answers with ChatGPT](./graphs/answer-pr-hist.png)"
   ]
  }
 ],
 "metadata": {
  "kernelspec": {
   "display_name": "base",
   "language": "python",
   "name": "python3"
  },
  "language_info": {
   "codemirror_mode": {
    "name": "ipython",
    "version": 3
   },
   "file_extension": ".py",
   "mimetype": "text/x-python",
   "name": "python",
   "nbconvert_exporter": "python",
   "pygments_lexer": "ipython3",
   "version": "3.12.2"
  }
 },
 "nbformat": 4,
 "nbformat_minor": 2
}
