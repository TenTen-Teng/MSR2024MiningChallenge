{
 "cells": [
  {
   "cell_type": "code",
   "execution_count": 1,
   "metadata": {},
   "outputs": [
    {
     "data": {
      "text/plain": [
       "RendererRegistry.enable('jupyterlab')"
      ]
     },
     "execution_count": 1,
     "metadata": {},
     "output_type": "execute_result"
    }
   ],
   "source": [
    "import pandas as pd\n",
    "from langdetect import detect\n",
    "import numpy as np\n",
    "import altair as alt\n",
    "import spacy\n",
    "from multiprocessing.dummy import Pool\n",
    "from tqdm import tqdm\n",
    "import collections\n",
    "import dask.dataframe as dd\n",
    "\n",
    "alt.renderers.enable(\"jupyterlab\")"
   ]
  },
  {
   "cell_type": "code",
   "execution_count": 2,
   "metadata": {},
   "outputs": [
    {
     "name": "stdout",
     "output_type": "stream",
     "text": [
      "<class 'pandas.core.frame.DataFrame'>\n",
      "RangeIndex: 28348 entries, 0 to 28347\n",
      "Data columns (total 41 columns):\n",
      " #   Column                Non-Null Count  Dtype  \n",
      "---  ------                --------------  -----  \n",
      " 0   Unnamed: 0            28348 non-null  int64  \n",
      " 1   Type                  28348 non-null  object \n",
      " 2   URL_pr                28348 non-null  object \n",
      " 3   Author                28348 non-null  object \n",
      " 4   RepoName              28348 non-null  object \n",
      " 5   RepoLanguage          28252 non-null  object \n",
      " 6   Number                28348 non-null  int64  \n",
      " 7   Title_x               28348 non-null  object \n",
      " 8   Body                  28150 non-null  object \n",
      " 9   CreatedAt             28348 non-null  object \n",
      " 10  ClosedAt              27642 non-null  object \n",
      " 11  MergedAt              23310 non-null  object \n",
      " 12  UpdatedAt             28348 non-null  object \n",
      " 13  State                 28348 non-null  object \n",
      " 14  Additions             28348 non-null  int64  \n",
      " 15  Deletions             28348 non-null  int64  \n",
      " 16  ChangedFiles          28348 non-null  int64  \n",
      " 17  CommitsTotalCount     28348 non-null  int64  \n",
      " 18  CommitShas            20528 non-null  object \n",
      " 19  CommitSha             7820 non-null   object \n",
      " 20  source_date           28348 non-null  int64  \n",
      " 21  URL_chatgptsharing_x  28348 non-null  object \n",
      " 22  Status                28348 non-null  int64  \n",
      " 23  DateOfConversation    28210 non-null  object \n",
      " 24  DateOfAccess          28210 non-null  object \n",
      " 25  Title_y               28210 non-null  object \n",
      " 26  NumberOfPrompts       28210 non-null  float64\n",
      " 27  TokensOfPrompts       28210 non-null  float64\n",
      " 28  TokensOfAnswers       28210 non-null  float64\n",
      " 29  Model                 28210 non-null  object \n",
      " 30  HTMLContent           28210 non-null  object \n",
      " 31  URL_chatgptsharing_y  28348 non-null  object \n",
      " 32  MentionedURL          28348 non-null  object \n",
      " 33  MentionedProperty     28348 non-null  object \n",
      " 34  MentionedAuthor       28348 non-null  object \n",
      " 35  MentionedText         28348 non-null  object \n",
      " 36  MentionedPath         3697 non-null   object \n",
      " 37  URL_chatgptsharing    28242 non-null  object \n",
      " 38  Prompt                28242 non-null  object \n",
      " 39  Answer                28242 non-null  object \n",
      " 40  ListOfCode            28242 non-null  object \n",
      "dtypes: float64(3), int64(8), object(30)\n",
      "memory usage: 8.9+ MB\n"
     ]
    }
   ],
   "source": [
    "file_path = \"/Users/teng/UBCO/mds_labs/block4/542/data/DevGPT/cleaned/pr_total.csv\"\n",
    "\n",
    "df = pd.read_csv(file_path)\n",
    "df.info()"
   ]
  },
  {
   "cell_type": "code",
   "execution_count": 3,
   "metadata": {},
   "outputs": [
    {
     "name": "stdout",
     "output_type": "stream",
     "text": [
      "<class 'pandas.core.frame.DataFrame'>\n",
      "Index: 28242 entries, 0 to 28343\n",
      "Data columns (total 41 columns):\n",
      " #   Column                Non-Null Count  Dtype  \n",
      "---  ------                --------------  -----  \n",
      " 0   Unnamed: 0            28242 non-null  int64  \n",
      " 1   Type                  28242 non-null  object \n",
      " 2   URL_pr                28242 non-null  object \n",
      " 3   Author                28242 non-null  object \n",
      " 4   RepoName              28242 non-null  object \n",
      " 5   RepoLanguage          28146 non-null  object \n",
      " 6   Number                28242 non-null  int64  \n",
      " 7   Title_x               28242 non-null  object \n",
      " 8   Body                  28052 non-null  object \n",
      " 9   CreatedAt             28242 non-null  object \n",
      " 10  ClosedAt              27544 non-null  object \n",
      " 11  MergedAt              23228 non-null  object \n",
      " 12  UpdatedAt             28242 non-null  object \n",
      " 13  State                 28242 non-null  object \n",
      " 14  Additions             28242 non-null  int64  \n",
      " 15  Deletions             28242 non-null  int64  \n",
      " 16  ChangedFiles          28242 non-null  int64  \n",
      " 17  CommitsTotalCount     28242 non-null  int64  \n",
      " 18  CommitShas            20459 non-null  object \n",
      " 19  CommitSha             7783 non-null   object \n",
      " 20  source_date           28242 non-null  int64  \n",
      " 21  URL_chatgptsharing_x  28242 non-null  object \n",
      " 22  Status                28242 non-null  int64  \n",
      " 23  DateOfConversation    28210 non-null  object \n",
      " 24  DateOfAccess          28210 non-null  object \n",
      " 25  Title_y               28210 non-null  object \n",
      " 26  NumberOfPrompts       28210 non-null  float64\n",
      " 27  TokensOfPrompts       28210 non-null  float64\n",
      " 28  TokensOfAnswers       28210 non-null  float64\n",
      " 29  Model                 28210 non-null  object \n",
      " 30  HTMLContent           28210 non-null  object \n",
      " 31  URL_chatgptsharing_y  28242 non-null  object \n",
      " 32  MentionedURL          28242 non-null  object \n",
      " 33  MentionedProperty     28242 non-null  object \n",
      " 34  MentionedAuthor       28242 non-null  object \n",
      " 35  MentionedText         28242 non-null  object \n",
      " 36  MentionedPath         3633 non-null   object \n",
      " 37  URL_chatgptsharing    28242 non-null  object \n",
      " 38  Prompt                28242 non-null  object \n",
      " 39  Answer                28242 non-null  object \n",
      " 40  ListOfCode            28242 non-null  object \n",
      "dtypes: float64(3), int64(8), object(30)\n",
      "memory usage: 9.0+ MB\n"
     ]
    }
   ],
   "source": [
    "# Remove nan answer and promot.\n",
    "df = df[~df[\"Answer\"].isna()]\n",
    "df = df[~df[\"Prompt\"].isna()]\n",
    "df.info()"
   ]
  },
  {
   "cell_type": "code",
   "execution_count": 4,
   "metadata": {},
   "outputs": [
    {
     "name": "stdout",
     "output_type": "stream",
     "text": [
      "<class 'pandas.core.frame.DataFrame'>\n",
      "Index: 478 entries, 7870 to 23117\n",
      "Data columns (total 42 columns):\n",
      " #   Column                Non-Null Count  Dtype  \n",
      "---  ------                --------------  -----  \n",
      " 0   Unnamed: 0            478 non-null    int64  \n",
      " 1   Type                  478 non-null    object \n",
      " 2   URL_pr                478 non-null    object \n",
      " 3   Author                478 non-null    object \n",
      " 4   RepoName              478 non-null    object \n",
      " 5   RepoLanguage          478 non-null    object \n",
      " 6   Number                478 non-null    int64  \n",
      " 7   Title_x               478 non-null    object \n",
      " 8   Body                  405 non-null    object \n",
      " 9   CreatedAt             478 non-null    object \n",
      " 10  ClosedAt              466 non-null    object \n",
      " 11  MergedAt              465 non-null    object \n",
      " 12  UpdatedAt             478 non-null    object \n",
      " 13  State                 478 non-null    object \n",
      " 14  Additions             478 non-null    int64  \n",
      " 15  Deletions             478 non-null    int64  \n",
      " 16  ChangedFiles          478 non-null    int64  \n",
      " 17  CommitsTotalCount     478 non-null    int64  \n",
      " 18  CommitShas            478 non-null    object \n",
      " 19  CommitSha             0 non-null      object \n",
      " 20  source_date           478 non-null    int64  \n",
      " 21  URL_chatgptsharing_x  478 non-null    object \n",
      " 22  Status                478 non-null    int64  \n",
      " 23  DateOfConversation    478 non-null    object \n",
      " 24  DateOfAccess          478 non-null    object \n",
      " 25  Title_y               478 non-null    object \n",
      " 26  NumberOfPrompts       478 non-null    float64\n",
      " 27  TokensOfPrompts       478 non-null    float64\n",
      " 28  TokensOfAnswers       478 non-null    float64\n",
      " 29  Model                 478 non-null    object \n",
      " 30  HTMLContent           478 non-null    object \n",
      " 31  URL_chatgptsharing_y  478 non-null    object \n",
      " 32  MentionedURL          478 non-null    object \n",
      " 33  MentionedProperty     478 non-null    object \n",
      " 34  MentionedAuthor       478 non-null    object \n",
      " 35  MentionedText         478 non-null    object \n",
      " 36  MentionedPath         59 non-null     object \n",
      " 37  URL_chatgptsharing    478 non-null    object \n",
      " 38  Prompt                478 non-null    object \n",
      " 39  Answer                478 non-null    object \n",
      " 40  ListOfCode            478 non-null    object \n",
      " 41  Language              478 non-null    object \n",
      "dtypes: float64(3), int64(8), object(31)\n",
      "memory usage: 160.6+ KB\n"
     ]
    }
   ],
   "source": [
    "# Filter out Python and English\n",
    "df = df.loc[df[\"RepoLanguage\"] == \"Python\"]\n",
    "\n",
    "# Detect answer language\n",
    "df[\"Language\"] = df[\"Answer\"].apply(detect)\n",
    "\n",
    "# Get English only.\n",
    "df = df.loc[df[\"Language\"] == \"en\"]\n",
    "df.info()"
   ]
  },
  {
   "cell_type": "code",
   "execution_count": 5,
   "metadata": {},
   "outputs": [
    {
     "data": {
      "text/html": [
       "<div>\n",
       "<style scoped>\n",
       "    .dataframe tbody tr th:only-of-type {\n",
       "        vertical-align: middle;\n",
       "    }\n",
       "\n",
       "    .dataframe tbody tr th {\n",
       "        vertical-align: top;\n",
       "    }\n",
       "\n",
       "    .dataframe thead th {\n",
       "        text-align: right;\n",
       "    }\n",
       "</style>\n",
       "<table border=\"1\" class=\"dataframe\">\n",
       "  <thead>\n",
       "    <tr style=\"text-align: right;\">\n",
       "      <th></th>\n",
       "      <th>Unnamed: 0</th>\n",
       "      <th>Type</th>\n",
       "      <th>URL_pr</th>\n",
       "      <th>Author</th>\n",
       "      <th>RepoName</th>\n",
       "      <th>RepoLanguage</th>\n",
       "      <th>Number</th>\n",
       "      <th>Title_x</th>\n",
       "      <th>Body</th>\n",
       "      <th>CreatedAt</th>\n",
       "      <th>...</th>\n",
       "      <th>MentionedURL</th>\n",
       "      <th>MentionedProperty</th>\n",
       "      <th>MentionedAuthor</th>\n",
       "      <th>MentionedText</th>\n",
       "      <th>MentionedPath</th>\n",
       "      <th>URL_chatgptsharing</th>\n",
       "      <th>Prompt</th>\n",
       "      <th>Answer</th>\n",
       "      <th>ListOfCode</th>\n",
       "      <th>Language</th>\n",
       "    </tr>\n",
       "  </thead>\n",
       "  <tbody>\n",
       "    <tr>\n",
       "      <th>7870</th>\n",
       "      <td>7870</td>\n",
       "      <td>pull request</td>\n",
       "      <td>https://github.com/paul-gauthier/aider/pull/119</td>\n",
       "      <td>joshuavial</td>\n",
       "      <td>paul-gauthier/aider</td>\n",
       "      <td>Python</td>\n",
       "      <td>119</td>\n",
       "      <td>create Dockerfile and scripts for managing it</td>\n",
       "      <td>I don't know if you want this in the codebase ...</td>\n",
       "      <td>2023-07-18T03:46:34Z</td>\n",
       "      <td>...</td>\n",
       "      <td>https://github.com/paul-gauthier/aider/pull/11...</td>\n",
       "      <td>comments.body</td>\n",
       "      <td>joshuavial</td>\n",
       "      <td>This feels like a much nicer approach to me @p...</td>\n",
       "      <td>NaN</td>\n",
       "      <td>https://chat.openai.com/share/4555f0ea-1e7b-49...</td>\n",
       "      <td>How can I setup a github action to automatical...</td>\n",
       "      <td>Sure, I can certainly help you with that. Here...</td>\n",
       "      <td>[{'ReplaceString': '[CODE_BLOCK_0]', 'Type': '...</td>\n",
       "      <td>en</td>\n",
       "    </tr>\n",
       "    <tr>\n",
       "      <th>7871</th>\n",
       "      <td>7871</td>\n",
       "      <td>pull request</td>\n",
       "      <td>https://github.com/paul-gauthier/aider/pull/119</td>\n",
       "      <td>joshuavial</td>\n",
       "      <td>paul-gauthier/aider</td>\n",
       "      <td>Python</td>\n",
       "      <td>119</td>\n",
       "      <td>create Dockerfile and scripts for managing it</td>\n",
       "      <td>I don't know if you want this in the codebase ...</td>\n",
       "      <td>2023-07-18T03:46:34Z</td>\n",
       "      <td>...</td>\n",
       "      <td>https://github.com/paul-gauthier/aider/pull/11...</td>\n",
       "      <td>comments.body</td>\n",
       "      <td>joshuavial</td>\n",
       "      <td>This feels like a much nicer approach to me @p...</td>\n",
       "      <td>NaN</td>\n",
       "      <td>https://chat.openai.com/share/4555f0ea-1e7b-49...</td>\n",
       "      <td>How can I setup a github action to automatical...</td>\n",
       "      <td>Sure, I can certainly help you with that. Here...</td>\n",
       "      <td>[{'ReplaceString': '[CODE_BLOCK_0]', 'Type': '...</td>\n",
       "      <td>en</td>\n",
       "    </tr>\n",
       "    <tr>\n",
       "      <th>7872</th>\n",
       "      <td>7872</td>\n",
       "      <td>pull request</td>\n",
       "      <td>https://github.com/paul-gauthier/aider/pull/119</td>\n",
       "      <td>joshuavial</td>\n",
       "      <td>paul-gauthier/aider</td>\n",
       "      <td>Python</td>\n",
       "      <td>119</td>\n",
       "      <td>create Dockerfile and scripts for managing it</td>\n",
       "      <td>I don't know if you want this in the codebase ...</td>\n",
       "      <td>2023-07-18T03:46:34Z</td>\n",
       "      <td>...</td>\n",
       "      <td>https://github.com/paul-gauthier/aider/pull/11...</td>\n",
       "      <td>comments.body</td>\n",
       "      <td>joshuavial</td>\n",
       "      <td>This feels like a much nicer approach to me @p...</td>\n",
       "      <td>NaN</td>\n",
       "      <td>https://chat.openai.com/share/4555f0ea-1e7b-49...</td>\n",
       "      <td>How can I setup a github action to automatical...</td>\n",
       "      <td>Sure, I can certainly help you with that. Here...</td>\n",
       "      <td>[{'ReplaceString': '[CODE_BLOCK_0]', 'Type': '...</td>\n",
       "      <td>en</td>\n",
       "    </tr>\n",
       "    <tr>\n",
       "      <th>7873</th>\n",
       "      <td>7873</td>\n",
       "      <td>pull request</td>\n",
       "      <td>https://github.com/paul-gauthier/aider/pull/119</td>\n",
       "      <td>joshuavial</td>\n",
       "      <td>paul-gauthier/aider</td>\n",
       "      <td>Python</td>\n",
       "      <td>119</td>\n",
       "      <td>create Dockerfile and scripts for managing it</td>\n",
       "      <td>I don't know if you want this in the codebase ...</td>\n",
       "      <td>2023-07-18T03:46:34Z</td>\n",
       "      <td>...</td>\n",
       "      <td>https://github.com/paul-gauthier/aider/pull/11...</td>\n",
       "      <td>comments.body</td>\n",
       "      <td>joshuavial</td>\n",
       "      <td>This feels like a much nicer approach to me @p...</td>\n",
       "      <td>NaN</td>\n",
       "      <td>https://chat.openai.com/share/4555f0ea-1e7b-49...</td>\n",
       "      <td>How can I setup a github action to automatical...</td>\n",
       "      <td>Sure, I can certainly help you with that. Here...</td>\n",
       "      <td>[{'ReplaceString': '[CODE_BLOCK_0]', 'Type': '...</td>\n",
       "      <td>en</td>\n",
       "    </tr>\n",
       "    <tr>\n",
       "      <th>7898</th>\n",
       "      <td>7898</td>\n",
       "      <td>pull request</td>\n",
       "      <td>https://github.com/chitalian/gptask/pull/2</td>\n",
       "      <td>calum-bird</td>\n",
       "      <td>chitalian/gptask</td>\n",
       "      <td>Python</td>\n",
       "      <td>2</td>\n",
       "      <td>Fix: recursive/glob support</td>\n",
       "      <td>Changes:\\r\\n`-r` is now a flag, not an argumen...</td>\n",
       "      <td>2023-07-24T18:09:25Z</td>\n",
       "      <td>...</td>\n",
       "      <td>https://github.com/chitalian/gptask/pull/2#iss...</td>\n",
       "      <td>comments.body</td>\n",
       "      <td>chitalian</td>\n",
       "      <td>@calum-bird \\r\\nhttps://chat.openai.com/share/...</td>\n",
       "      <td>NaN</td>\n",
       "      <td>https://chat.openai.com/share/902cd378-3ebc-4e...</td>\n",
       "      <td>Give me some test commands for this\\n\\nimport ...</td>\n",
       "      <td>This Python script is a command-line tool that...</td>\n",
       "      <td>[{'ReplaceString': '[CODE_BLOCK_0]', 'Type': '...</td>\n",
       "      <td>en</td>\n",
       "    </tr>\n",
       "  </tbody>\n",
       "</table>\n",
       "<p>5 rows × 42 columns</p>\n",
       "</div>"
      ],
      "text/plain": [
       "      Unnamed: 0          Type  \\\n",
       "7870        7870  pull request   \n",
       "7871        7871  pull request   \n",
       "7872        7872  pull request   \n",
       "7873        7873  pull request   \n",
       "7898        7898  pull request   \n",
       "\n",
       "                                               URL_pr      Author  \\\n",
       "7870  https://github.com/paul-gauthier/aider/pull/119  joshuavial   \n",
       "7871  https://github.com/paul-gauthier/aider/pull/119  joshuavial   \n",
       "7872  https://github.com/paul-gauthier/aider/pull/119  joshuavial   \n",
       "7873  https://github.com/paul-gauthier/aider/pull/119  joshuavial   \n",
       "7898       https://github.com/chitalian/gptask/pull/2  calum-bird   \n",
       "\n",
       "                 RepoName RepoLanguage  Number  \\\n",
       "7870  paul-gauthier/aider       Python     119   \n",
       "7871  paul-gauthier/aider       Python     119   \n",
       "7872  paul-gauthier/aider       Python     119   \n",
       "7873  paul-gauthier/aider       Python     119   \n",
       "7898     chitalian/gptask       Python       2   \n",
       "\n",
       "                                            Title_x  \\\n",
       "7870  create Dockerfile and scripts for managing it   \n",
       "7871  create Dockerfile and scripts for managing it   \n",
       "7872  create Dockerfile and scripts for managing it   \n",
       "7873  create Dockerfile and scripts for managing it   \n",
       "7898                    Fix: recursive/glob support   \n",
       "\n",
       "                                                   Body             CreatedAt  \\\n",
       "7870  I don't know if you want this in the codebase ...  2023-07-18T03:46:34Z   \n",
       "7871  I don't know if you want this in the codebase ...  2023-07-18T03:46:34Z   \n",
       "7872  I don't know if you want this in the codebase ...  2023-07-18T03:46:34Z   \n",
       "7873  I don't know if you want this in the codebase ...  2023-07-18T03:46:34Z   \n",
       "7898  Changes:\\r\\n`-r` is now a flag, not an argumen...  2023-07-24T18:09:25Z   \n",
       "\n",
       "      ...                                       MentionedURL  \\\n",
       "7870  ...  https://github.com/paul-gauthier/aider/pull/11...   \n",
       "7871  ...  https://github.com/paul-gauthier/aider/pull/11...   \n",
       "7872  ...  https://github.com/paul-gauthier/aider/pull/11...   \n",
       "7873  ...  https://github.com/paul-gauthier/aider/pull/11...   \n",
       "7898  ...  https://github.com/chitalian/gptask/pull/2#iss...   \n",
       "\n",
       "     MentionedProperty MentionedAuthor  \\\n",
       "7870     comments.body      joshuavial   \n",
       "7871     comments.body      joshuavial   \n",
       "7872     comments.body      joshuavial   \n",
       "7873     comments.body      joshuavial   \n",
       "7898     comments.body       chitalian   \n",
       "\n",
       "                                          MentionedText  MentionedPath  \\\n",
       "7870  This feels like a much nicer approach to me @p...            NaN   \n",
       "7871  This feels like a much nicer approach to me @p...            NaN   \n",
       "7872  This feels like a much nicer approach to me @p...            NaN   \n",
       "7873  This feels like a much nicer approach to me @p...            NaN   \n",
       "7898  @calum-bird \\r\\nhttps://chat.openai.com/share/...            NaN   \n",
       "\n",
       "                                     URL_chatgptsharing  \\\n",
       "7870  https://chat.openai.com/share/4555f0ea-1e7b-49...   \n",
       "7871  https://chat.openai.com/share/4555f0ea-1e7b-49...   \n",
       "7872  https://chat.openai.com/share/4555f0ea-1e7b-49...   \n",
       "7873  https://chat.openai.com/share/4555f0ea-1e7b-49...   \n",
       "7898  https://chat.openai.com/share/902cd378-3ebc-4e...   \n",
       "\n",
       "                                                 Prompt  \\\n",
       "7870  How can I setup a github action to automatical...   \n",
       "7871  How can I setup a github action to automatical...   \n",
       "7872  How can I setup a github action to automatical...   \n",
       "7873  How can I setup a github action to automatical...   \n",
       "7898  Give me some test commands for this\\n\\nimport ...   \n",
       "\n",
       "                                                 Answer  \\\n",
       "7870  Sure, I can certainly help you with that. Here...   \n",
       "7871  Sure, I can certainly help you with that. Here...   \n",
       "7872  Sure, I can certainly help you with that. Here...   \n",
       "7873  Sure, I can certainly help you with that. Here...   \n",
       "7898  This Python script is a command-line tool that...   \n",
       "\n",
       "                                             ListOfCode Language  \n",
       "7870  [{'ReplaceString': '[CODE_BLOCK_0]', 'Type': '...       en  \n",
       "7871  [{'ReplaceString': '[CODE_BLOCK_0]', 'Type': '...       en  \n",
       "7872  [{'ReplaceString': '[CODE_BLOCK_0]', 'Type': '...       en  \n",
       "7873  [{'ReplaceString': '[CODE_BLOCK_0]', 'Type': '...       en  \n",
       "7898  [{'ReplaceString': '[CODE_BLOCK_0]', 'Type': '...       en  \n",
       "\n",
       "[5 rows x 42 columns]"
      ]
     },
     "execution_count": 5,
     "metadata": {},
     "output_type": "execute_result"
    }
   ],
   "source": [
    "df.head()"
   ]
  },
  {
   "cell_type": "code",
   "execution_count": 6,
   "metadata": {},
   "outputs": [
    {
     "data": {
      "text/plain": [
       "18"
      ]
     },
     "execution_count": 6,
     "metadata": {},
     "output_type": "execute_result"
    }
   ],
   "source": [
    "len(df[\"URL_pr\"].unique())"
   ]
  },
  {
   "cell_type": "code",
   "execution_count": 7,
   "metadata": {},
   "outputs": [],
   "source": [
    "df_url = df.groupby(by=[\"URL_pr\"])"
   ]
  },
  {
   "cell_type": "markdown",
   "metadata": {},
   "source": [
    "## Interactions"
   ]
  },
  {
   "cell_type": "code",
   "execution_count": 8,
   "metadata": {},
   "outputs": [
    {
     "name": "stdout",
     "output_type": "stream",
     "text": [
      "Average interactions per pr: 26.555555555555557\n",
      "Maximum number of interactions: 167\n",
      "Minimum number of iteractions: 1\n"
     ]
    }
   ],
   "source": [
    "# Mean number of interactions per issuedf_url\n",
    "ls_url_chatgptsharing = [len(ls) for ls in df_url.aggregate(list)[\"URL_chatgptsharing\"]]\n",
    "idx_max = np.argmax(ls_url_chatgptsharing)\n",
    "idx_min = np.argmin(ls_url_chatgptsharing)\n",
    "print(\n",
    "    f\"Average interactions per pr: {np.mean(ls_url_chatgptsharing)}\\n\"\n",
    "    f\"Maximum number of interactions: {ls_url_chatgptsharing[idx_max]}\\n\"\n",
    "    f\"Minimum number of iteractions: {ls_url_chatgptsharing[idx_min]}\"\n",
    ")"
   ]
  },
  {
   "cell_type": "code",
   "execution_count": 9,
   "metadata": {},
   "outputs": [
    {
     "data": {
      "text/plain": [
       "Index(['URL_pr', 'URL_chatgptsharing'], dtype='object')"
      ]
     },
     "execution_count": 9,
     "metadata": {},
     "output_type": "execute_result"
    }
   ],
   "source": [
    "df_url_count = df_url[\"URL_chatgptsharing\"].aggregate(len).reset_index()\n",
    "df_url_count.columns"
   ]
  },
  {
   "cell_type": "code",
   "execution_count": 10,
   "metadata": {},
   "outputs": [
    {
     "data": {
      "text/html": [
       "<div>\n",
       "<style scoped>\n",
       "    .dataframe tbody tr th:only-of-type {\n",
       "        vertical-align: middle;\n",
       "    }\n",
       "\n",
       "    .dataframe tbody tr th {\n",
       "        vertical-align: top;\n",
       "    }\n",
       "\n",
       "    .dataframe thead th {\n",
       "        text-align: right;\n",
       "    }\n",
       "</style>\n",
       "<table border=\"1\" class=\"dataframe\">\n",
       "  <thead>\n",
       "    <tr style=\"text-align: right;\">\n",
       "      <th></th>\n",
       "      <th>URL_pr</th>\n",
       "      <th>URL_chatgptsharing</th>\n",
       "    </tr>\n",
       "  </thead>\n",
       "  <tbody>\n",
       "    <tr>\n",
       "      <th>0</th>\n",
       "      <td>https://github.com/Email-Generation/email_gene...</td>\n",
       "      <td>167</td>\n",
       "    </tr>\n",
       "    <tr>\n",
       "      <th>1</th>\n",
       "      <td>https://github.com/Hochfrequenz/kohlrahbi/pull...</td>\n",
       "      <td>16</td>\n",
       "    </tr>\n",
       "    <tr>\n",
       "      <th>2</th>\n",
       "      <td>https://github.com/RND247/Pype-Synthetic-Data-...</td>\n",
       "      <td>32</td>\n",
       "    </tr>\n",
       "    <tr>\n",
       "      <th>3</th>\n",
       "      <td>https://github.com/aiplanethub/genai-stack/pul...</td>\n",
       "      <td>1</td>\n",
       "    </tr>\n",
       "    <tr>\n",
       "      <th>4</th>\n",
       "      <td>https://github.com/app-sre/qontract-reconcile/...</td>\n",
       "      <td>80</td>\n",
       "    </tr>\n",
       "    <tr>\n",
       "      <th>5</th>\n",
       "      <td>https://github.com/bancaditalia/black-it/pull/58</td>\n",
       "      <td>1</td>\n",
       "    </tr>\n",
       "    <tr>\n",
       "      <th>6</th>\n",
       "      <td>https://github.com/bbelderbos/htmx-demo/pull/2</td>\n",
       "      <td>48</td>\n",
       "    </tr>\n",
       "    <tr>\n",
       "      <th>7</th>\n",
       "      <td>https://github.com/chitalian/gptask/pull/2</td>\n",
       "      <td>16</td>\n",
       "    </tr>\n",
       "    <tr>\n",
       "      <th>8</th>\n",
       "      <td>https://github.com/comfyanonymous/ComfyUI/pull...</td>\n",
       "      <td>1</td>\n",
       "    </tr>\n",
       "    <tr>\n",
       "      <th>9</th>\n",
       "      <td>https://github.com/jefftriplett/frontmatter-cl...</td>\n",
       "      <td>32</td>\n",
       "    </tr>\n",
       "    <tr>\n",
       "      <th>10</th>\n",
       "      <td>https://github.com/livingbio/gpt-fn/pull/4</td>\n",
       "      <td>32</td>\n",
       "    </tr>\n",
       "    <tr>\n",
       "      <th>11</th>\n",
       "      <td>https://github.com/metaphorsystems/metaphor-py...</td>\n",
       "      <td>2</td>\n",
       "    </tr>\n",
       "    <tr>\n",
       "      <th>12</th>\n",
       "      <td>https://github.com/microsoft/visionmetrics/pul...</td>\n",
       "      <td>1</td>\n",
       "    </tr>\n",
       "    <tr>\n",
       "      <th>13</th>\n",
       "      <td>https://github.com/monarch-initiative/oai-mona...</td>\n",
       "      <td>16</td>\n",
       "    </tr>\n",
       "    <tr>\n",
       "      <th>14</th>\n",
       "      <td>https://github.com/paul-gauthier/aider/pull/119</td>\n",
       "      <td>4</td>\n",
       "    </tr>\n",
       "    <tr>\n",
       "      <th>15</th>\n",
       "      <td>https://github.com/roslinmahmud/easy-hire-back...</td>\n",
       "      <td>16</td>\n",
       "    </tr>\n",
       "    <tr>\n",
       "      <th>16</th>\n",
       "      <td>https://github.com/tinygrad/tinygrad/pull/1661</td>\n",
       "      <td>5</td>\n",
       "    </tr>\n",
       "    <tr>\n",
       "      <th>17</th>\n",
       "      <td>https://github.com/wafflestudio/wacruit-server...</td>\n",
       "      <td>8</td>\n",
       "    </tr>\n",
       "  </tbody>\n",
       "</table>\n",
       "</div>"
      ],
      "text/plain": [
       "                                               URL_pr  URL_chatgptsharing\n",
       "0   https://github.com/Email-Generation/email_gene...                 167\n",
       "1   https://github.com/Hochfrequenz/kohlrahbi/pull...                  16\n",
       "2   https://github.com/RND247/Pype-Synthetic-Data-...                  32\n",
       "3   https://github.com/aiplanethub/genai-stack/pul...                   1\n",
       "4   https://github.com/app-sre/qontract-reconcile/...                  80\n",
       "5    https://github.com/bancaditalia/black-it/pull/58                   1\n",
       "6      https://github.com/bbelderbos/htmx-demo/pull/2                  48\n",
       "7          https://github.com/chitalian/gptask/pull/2                  16\n",
       "8   https://github.com/comfyanonymous/ComfyUI/pull...                   1\n",
       "9   https://github.com/jefftriplett/frontmatter-cl...                  32\n",
       "10         https://github.com/livingbio/gpt-fn/pull/4                  32\n",
       "11  https://github.com/metaphorsystems/metaphor-py...                   2\n",
       "12  https://github.com/microsoft/visionmetrics/pul...                   1\n",
       "13  https://github.com/monarch-initiative/oai-mona...                  16\n",
       "14    https://github.com/paul-gauthier/aider/pull/119                   4\n",
       "15  https://github.com/roslinmahmud/easy-hire-back...                  16\n",
       "16     https://github.com/tinygrad/tinygrad/pull/1661                   5\n",
       "17  https://github.com/wafflestudio/wacruit-server...                   8"
      ]
     },
     "execution_count": 10,
     "metadata": {},
     "output_type": "execute_result"
    }
   ],
   "source": [
    "df_url_count"
   ]
  },
  {
   "cell_type": "code",
   "execution_count": 11,
   "metadata": {},
   "outputs": [
    {
     "data": {
      "application/vnd.vegalite.v5+json": {
       "$schema": "https://vega.github.io/schema/vega-lite/v5.20.1.json",
       "config": {
        "view": {
         "continuousHeight": 300,
         "continuousWidth": 300
        }
       },
       "data": {
        "name": "data-2e8d40b17ce0fac9acf2508cbf8e3b36"
       },
       "datasets": {
        "data-2e8d40b17ce0fac9acf2508cbf8e3b36": [
         {
          "URL_chatgptsharing": 167,
          "URL_pr": "https://github.com/Email-Generation/email_generation/pull/2"
         },
         {
          "URL_chatgptsharing": 16,
          "URL_pr": "https://github.com/Hochfrequenz/kohlrahbi/pull/158"
         },
         {
          "URL_chatgptsharing": 32,
          "URL_pr": "https://github.com/RND247/Pype-Synthetic-Data-for-Testing/pull/16"
         },
         {
          "URL_chatgptsharing": 1,
          "URL_pr": "https://github.com/aiplanethub/genai-stack/pull/21"
         },
         {
          "URL_chatgptsharing": 80,
          "URL_pr": "https://github.com/app-sre/qontract-reconcile/pull/3630"
         },
         {
          "URL_chatgptsharing": 1,
          "URL_pr": "https://github.com/bancaditalia/black-it/pull/58"
         },
         {
          "URL_chatgptsharing": 48,
          "URL_pr": "https://github.com/bbelderbos/htmx-demo/pull/2"
         },
         {
          "URL_chatgptsharing": 16,
          "URL_pr": "https://github.com/chitalian/gptask/pull/2"
         },
         {
          "URL_chatgptsharing": 1,
          "URL_pr": "https://github.com/comfyanonymous/ComfyUI/pull/1115"
         },
         {
          "URL_chatgptsharing": 32,
          "URL_pr": "https://github.com/jefftriplett/frontmatter-cli/pull/6"
         },
         {
          "URL_chatgptsharing": 32,
          "URL_pr": "https://github.com/livingbio/gpt-fn/pull/4"
         },
         {
          "URL_chatgptsharing": 2,
          "URL_pr": "https://github.com/metaphorsystems/metaphor-python/pull/5"
         },
         {
          "URL_chatgptsharing": 1,
          "URL_pr": "https://github.com/microsoft/visionmetrics/pull/42"
         },
         {
          "URL_chatgptsharing": 16,
          "URL_pr": "https://github.com/monarch-initiative/oai-monarch-plugin/pull/39"
         },
         {
          "URL_chatgptsharing": 4,
          "URL_pr": "https://github.com/paul-gauthier/aider/pull/119"
         },
         {
          "URL_chatgptsharing": 16,
          "URL_pr": "https://github.com/roslinmahmud/easy-hire-backend/pull/11"
         },
         {
          "URL_chatgptsharing": 5,
          "URL_pr": "https://github.com/tinygrad/tinygrad/pull/1661"
         },
         {
          "URL_chatgptsharing": 8,
          "URL_pr": "https://github.com/wafflestudio/wacruit-server/pull/26"
         }
        ]
       },
       "encoding": {
        "x": {
         "field": "URL_chatgptsharing",
         "title": "Number of Interactions with ChatGPT in PR",
         "type": "nominal"
        },
        "y": {
         "aggregate": "count",
         "type": "quantitative"
        }
       },
       "mark": {
        "type": "bar"
       }
      },
      "text/plain": [
       "<VegaLite 5 object>\n",
       "\n",
       "If you see this message, it means the renderer has not been properly enabled\n",
       "for the frontend that you are using. For more information, see\n",
       "https://altair-viz.github.io/user_guide/display_frontends.html#troubleshooting\n"
      ]
     },
     "execution_count": 11,
     "metadata": {},
     "output_type": "execute_result"
    }
   ],
   "source": [
    "# Checking histogarm\n",
    "# df_url_count.hist(column=\"URL_chatgptsharing\")\n",
    "alt.Chart(df_url_count).mark_bar().encode(\n",
    "    x=alt.X(\"URL_chatgptsharing:N\", title=\"Number of Interactions with ChatGPT in PR\"),\n",
    "    y=\"count()\",\n",
    ")"
   ]
  },
  {
   "cell_type": "markdown",
   "metadata": {},
   "source": [
    "## Average length of Prompt"
   ]
  },
  {
   "cell_type": "code",
   "execution_count": 12,
   "metadata": {},
   "outputs": [],
   "source": [
    "nlp = spacy.load(\"en_core_web_sm\")"
   ]
  },
  {
   "cell_type": "code",
   "execution_count": 13,
   "metadata": {},
   "outputs": [],
   "source": [
    "prompts = df[\"Prompt\"].drop_duplicates().to_list()"
   ]
  },
  {
   "cell_type": "code",
   "execution_count": 14,
   "metadata": {},
   "outputs": [
    {
     "name": "stderr",
     "output_type": "stream",
     "text": [
      "100%|██████████| 200/200 [00:00<00:00, 27979.75it/s]\n"
     ]
    }
   ],
   "source": [
    "# Remove punctuation\n",
    "with Pool() as pool:\n",
    "    doc = pool.map(nlp, tqdm(prompts, total=len(prompts)))\n",
    "    "
   ]
  },
  {
   "cell_type": "code",
   "execution_count": 15,
   "metadata": {},
   "outputs": [
    {
     "name": "stderr",
     "output_type": "stream",
     "text": [
      "100%|██████████| 200/200 [00:00<00:00, 2668.62it/s]\n"
     ]
    }
   ],
   "source": [
    "tokens = []\n",
    "for d in tqdm(doc):\n",
    "    token_without_punc = [token for token in d if not token.is_punct]\n",
    "    tokens.append(token_without_punc)"
   ]
  },
  {
   "cell_type": "code",
   "execution_count": 16,
   "metadata": {},
   "outputs": [
    {
     "name": "stdout",
     "output_type": "stream",
     "text": [
      "Average length of prompt per pr: 64.71\n",
      "---------------------------\n",
      "Maximum length of prompt: import re\n",
      "import requests\n",
      "from typing import List, Optional, Dict\n",
      "from dataclasses import dataclass, field\n",
      "\n",
      "def snake_to_camel(snake_str: str) -> str:\n",
      "    components = snake_str.split(\"_\")\n",
      "    return components[0] + \"\".join(x.title() for x in components[1:])\n",
      "\n",
      "def to_camel_case(data: dict) -> dict:\n",
      "    return {snake_to_camel(k): v for k, v in data.items() if v is not None}\n",
      "\n",
      "def camel_to_snake(camel_str: str) -> str:\n",
      "    snake_str = re.sub(\"(.)([A-Z][a-z]+)\", r\"\\1_\\2\", camel_str)\n",
      "    return re.sub(\"([a-z0-9])([A-Z])\", r\"\\1_\\2\", snake_str).lower()\n",
      "\n",
      "def to_snake_case(data: dict) -> dict:\n",
      "    return {camel_to_snake(k): v for k, v in data.items()}\n",
      "\n",
      "SEARCH_OPTIONS_TYPES = {\n",
      "    'query': str,\n",
      "    'num_results': int,\n",
      "    'include_domains': list,\n",
      "    'exclude_domains': list,\n",
      "    'start_crawl_date': str,\n",
      "    'end_crawl_date': str,\n",
      "    'start_published_date': str,\n",
      "    'end_published_date': str,\n",
      "    'use_autoprompt': bool,\n",
      "    'type': str\n",
      "}\n",
      "\n",
      "FIND_SIMILAR_OPTIONS_TYPES = {\n",
      "    'url': str,\n",
      "    'num_results': int,\n",
      "    'include_domains': list,\n",
      "    'exclude_domains': list,\n",
      "    'start_crawl_date': str,\n",
      "    'end_crawl_date': str,\n",
      "    'start_published_date': str,\n",
      "    'end_published_date': str,\n",
      "}\n",
      "\n",
      "def validate_search_options(options: Dict[str, Optional[object]]) -> None:\n",
      "    for key, value in options.items():\n",
      "        if key not in SEARCH_OPTIONS_TYPES:\n",
      "            raise ValueError(f\"Invalid option: '{key}'\")\n",
      "        if not isinstance(value, SEARCH_OPTIONS_TYPES[key]):\n",
      "            raise ValueError(f\"Invalid type for option '{key}': Expected {SEARCH_OPTIONS_TYPES[key]}, got {type(value)}\")\n",
      "        if key in ['include_domains', 'exclude_domains'] and not value:\n",
      "            raise ValueError(f\"Invalid value for option '{key}': cannot be an empty list\")\n",
      "\n",
      "def validate_find_similar_options(options: Dict[str, Optional[object]]) -> None:\n",
      "    for key, value in options.items():\n",
      "        if key not in FIND_SIMILAR_OPTIONS_TYPES:\n",
      "            raise ValueError(f\"Invalid option: '{key}'\")\n",
      "        if not isinstance(value, FIND_SIMILAR_OPTIONS_TYPES[key]):\n",
      "            raise ValueError(f\"Invalid type for option '{key}': Expected {FIND_SIMILAR_OPTIONS_TYPES[key]}, got {type(value)}\")\n",
      "        if key in ['include_domains', 'exclude_domains'] and not value:\n",
      "            raise ValueError(f\"Invalid value for option '{key}': cannot be an empty list\")\n",
      "\n",
      "@dataclass\n",
      "class Result:\n",
      "    title: str\n",
      "    url: str\n",
      "    id: str\n",
      "    score: Optional[float] = None\n",
      "    published_date: Optional[str] = None\n",
      "    author: Optional[str] = None\n",
      "    extract: Optional[str] = None\n",
      "\n",
      "    def __init__(self, title, url, id, score=None, published_date=None, author=None, **kwargs):\n",
      "        self.title = title\n",
      "        self.url = url\n",
      "        self.score = score\n",
      "        self.id = id\n",
      "        self.published_date = published_date\n",
      "        self.author = author\n",
      "\n",
      "@dataclass\n",
      "class DocumentContent:\n",
      "    id: str\n",
      "    url: str\n",
      "    title: str\n",
      "    extract: str\n",
      "\n",
      "    def __init__(self, id, url, title, extract, **kwargs):\n",
      "        self.id = id\n",
      "        self.url = url\n",
      "        self.title = title\n",
      "        self.extract = extract\n",
      "\n",
      "@dataclass\n",
      "class GetContentsResponse:\n",
      "    contents: List[DocumentContent]\n",
      "\n",
      "@dataclass\n",
      "class SearchResponse:\n",
      "    results: List[Result]\n",
      "    api: Optional['Metaphor'] = field(default=None, init=False)\n",
      "\n",
      "    def get_contents(self):\n",
      "        if self.api is None:\n",
      "            raise Exception(\"API client is not set. This method should be called on a SearchResponse returned by the 'search' method of 'Metaphor'.\")\n",
      "        ids = [result.id for result in self.results]\n",
      "        return self.api.get_contents(ids)\n",
      "\n",
      "class Metaphor:\n",
      "    def __init__(self, api_key: str):\n",
      "        self.base_url = \"https://api.metaphor.systems\"\n",
      "        self.headers = {\"x-api-key\": api_key}\n",
      "\n",
      "    def search(self, query: str, num_results: Optional[int] = None, include_domains: Optional[List[str]] = None,\n",
      "               exclude_domains: Optional[List[str]] = None, start_crawl_date: Optional[str] = None,\n",
      "               end_crawl_date: Optional[str] = None, start_published_date: Optional[str] = None,\n",
      "               end_published_date: Optional[str] = None, use_autoprompt: Optional[bool] = None,\n",
      "               type: Optional[str] = None) -> SearchResponse:\n",
      "        options = {k: v for k, v in locals().items() if k != 'self' and v is not None}\n",
      "        validate_search_options(options)\n",
      "        request = {'query': query}\n",
      "        request.update(to_camel_case(options))\n",
      "        response = requests.post(f\"{self.base_url}/search\", json=request, headers=self.headers)\n",
      "        if response.status_code != 200:\n",
      "            raise Exception(f\"Request failed with status code {response.status_code}. Message: {response.text}\")\n",
      "        results = [Result(**to_snake_case(result)) for result in response.json()[\"results\"]]\n",
      "        search_response = SearchResponse(results=results)\n",
      "        search_response.api = self\n",
      "        return search_response\n",
      "\n",
      "    def find_similar(self, url: str, num_results: Optional[int] = None, include_domains: Optional[List[str]] = None,\n",
      "                     exclude_domains: Optional[List[str]] = None, start_crawl_date: Optional[str] = None,\n",
      "                     end_crawl_date: Optional[str] = None, start_published_date: Optional[str] = None,\n",
      "                     end_published_date: Optional[str] = None) -> SearchResponse:\n",
      "        options = {k: v for k, v in locals().items() if k != 'self' and v is not None}\n",
      "        validate_find_similar_options(options)\n",
      "        request = {'url': url}\n",
      "        request.update(to_camel_case(options))\n",
      "        response = requests.post(f\"{self.base_url}/findSimilar\", json=request, headers=self.headers)\n",
      "        if response.status_code != 200:\n",
      "            raise Exception(f\"Request failed with status code {response.status_code}. Message: {response.text}\")\n",
      "        results = [Result(**to_snake_case(result)) for result in response.json()[\"results\"]]\n",
      "        find_similar_response = SearchResponse(results=results)\n",
      "        find_similar_response.api = self\n",
      "        return find_similar_response\n",
      "\n",
      "    def get_contents(self, ids: List[str]) -> GetContentsResponse:\n",
      "        if len(ids) == 0:\n",
      "            raise ValueError(\"ids cannot be empty\")\n",
      "        response = requests.get(f\"{self.base_url}/contents\", params=to_camel_case({\"ids\": ids}), headers=self.headers)\n",
      "        if response.status_code != 200:\n",
      "            raise Exception(f\"Request failed with status code {response.status_code}. Message: {response.text}\")\n",
      "        return GetContentsResponse([DocumentContent(**to_snake_case(document)) for document in response.json()[\"contents\"]])\n",
      "\n",
      "Hang tight for a second - I'm going to pass off this conversation to someone else who is going to ask you for help with implementing some code that uses the Python package above, which is called metaphor-python, which is importable with \"from metaphor_python\" and implements the Metaphor neural search API. Ok my friend is coming now and will be sending the next message to you. Just sit there.\n",
      "---------------------------\n",
      "Minimum length of prompt: hey\n"
     ]
    }
   ],
   "source": [
    "# Calculate average length of prompt\n",
    "ls_len_promot = [len(token) for token in tokens]\n",
    "idx_max = np.argmax(ls_len_promot)\n",
    "idx_min = np.argmin(ls_len_promot)\n",
    "print(\n",
    "    f\"Average length of prompt per pr: {np.mean(ls_len_promot)}\\n\"\n",
    "    f\"---------------------------\\n\"\n",
    "    f\"Maximum length of prompt: {prompts[idx_max]}\\n\"\n",
    "    f\"---------------------------\\n\"\n",
    "    f\"Minimum length of prompt: {prompts[idx_min]}\"\n",
    ")"
   ]
  },
  {
   "cell_type": "markdown",
   "metadata": {},
   "source": [
    "## Average length of Answer"
   ]
  },
  {
   "cell_type": "code",
   "execution_count": 17,
   "metadata": {},
   "outputs": [],
   "source": [
    "answers = df[\"Answer\"].drop_duplicates().to_list()\n"
   ]
  },
  {
   "cell_type": "code",
   "execution_count": 18,
   "metadata": {},
   "outputs": [
    {
     "name": "stderr",
     "output_type": "stream",
     "text": [
      "100%|██████████| 200/200 [00:00<00:00, 133683.00it/s]\n"
     ]
    }
   ],
   "source": [
    "# Remove punctuation\n",
    "with Pool() as pool:\n",
    "    doc = pool.map(nlp, tqdm(answers, total=len(answers)))"
   ]
  },
  {
   "cell_type": "code",
   "execution_count": 19,
   "metadata": {},
   "outputs": [
    {
     "name": "stderr",
     "output_type": "stream",
     "text": [
      "100%|██████████| 200/200 [00:00<00:00, 52006.25it/s]\n"
     ]
    }
   ],
   "source": [
    "tokens = []\n",
    "for d in tqdm(doc):\n",
    "    token_without_punc = [token for token in d if not token.is_punct]\n",
    "    tokens.append(token_without_punc)"
   ]
  },
  {
   "cell_type": "code",
   "execution_count": 20,
   "metadata": {},
   "outputs": [
    {
     "name": "stdout",
     "output_type": "stream",
     "text": [
      "Average length of answer per pr: 163.705\n",
      "---------------------------\n",
      "Maximum length of answer: The error message \"mangum.http: An error occurred running the application\" is indicating that an error occurred while running your Mangum application within the Lambda environment. This could be due to a variety of reasons, including misconfigured dependencies, incorrect application setup, unhandled exceptions, or issues related to the integration between your code and the Mangum framework.Here are some steps you can take to diagnose and resolve the issue:Check Logs: Review the logs and any stack traces that were printed during the execution of the Lambda function. Look for more detailed error messages or stack traces that can provide insights into the specific error that occurred.Mangum Configuration: Double-check your Mangum application setup and configuration. Ensure that you have properly defined the Mangum app instance and configured it to work with your FastAPI application.Dependencies: Verify that all the required dependencies are correctly installed and properly configured within your Lambda function environment. Ensure that you are using compatible versions of Mangum and other dependencies.FastAPI Application: Make sure your FastAPI application is correctly structured and follows the required conventions. Ensure that the routes, request handling, and response generation are properly implemented.Exception Handling: Implement proper exception handling within your FastAPI application. Catch and handle exceptions where appropriate, and provide meaningful error messages to help diagnose issues.Memory and Timeout: If your Lambda function is running out of memory or experiencing timeouts, it could lead to errors. Ensure that your function's memory allocation and timeout settings are appropriate.Testing: Test your Mangum application in a local environment or on a non-Lambda platform to ensure that it works as expected outside of the Lambda environment.Documentation and Examples: Review the documentation and example code provided by Mangum and FastAPI to ensure that you are following best practices and using the framework correctly.Lambda Configuration: Double-check the Lambda function's runtime configuration, such as environment variables, execution role, and permissions, to ensure that everything is correctly set up.Rollback and Incremental Changes: If you made recent changes to your code, try reverting those changes and deploying a known working version. Then, incrementally reintroduce changes to identify the specific change that caused the error.External Services: If your application interacts with external services or APIs, ensure they are operational and properly configured.Resource Limits: Check if you are hitting any resource limits imposed by AWS Lambda, such as the maximum size of the deployment package or the number of open files.By carefully reviewing the logs, checking your configuration, and verifying the integration between Mangum and FastAPI, you should be able to identify the cause of the error and take appropriate steps to resolve it.\n",
      "---------------------------\n",
      "Minimum length of answer: Hello! How can I assist you further? Is there anything specific you need help with?\n"
     ]
    }
   ],
   "source": [
    "# Calculate average length of prompt\n",
    "ls_len_answer = [len(token) for token in tokens]\n",
    "idx_max = np.argmax(ls_len_answer)\n",
    "idx_min = np.argmin(ls_len_answer)\n",
    "print(\n",
    "    f\"Average length of answer per pr: {np.mean(ls_len_answer)}\\n\"\n",
    "    f\"---------------------------\\n\"\n",
    "    f\"Maximum length of answer: {answers[idx_max]}\\n\"\n",
    "    f\"---------------------------\\n\"\n",
    "    f\"Minimum length of answer: {answers[idx_min]}\"\n",
    ")"
   ]
  }
 ],
 "metadata": {
  "kernelspec": {
   "display_name": "base",
   "language": "python",
   "name": "python3"
  },
  "language_info": {
   "codemirror_mode": {
    "name": "ipython",
    "version": 3
   },
   "file_extension": ".py",
   "mimetype": "text/x-python",
   "name": "python",
   "nbconvert_exporter": "python",
   "pygments_lexer": "ipython3",
   "version": "3.12.2"
  }
 },
 "nbformat": 4,
 "nbformat_minor": 2
}
