{
 "cells": [
  {
   "cell_type": "markdown",
   "metadata": {},
   "source": [
    "# Data Cleaning"
   ]
  },
  {
   "cell_type": "code",
   "execution_count": 1,
   "metadata": {},
   "outputs": [],
   "source": [
    "import pandas as pd\n",
    "import helper\n",
    "import os"
   ]
  },
  {
   "cell_type": "code",
   "execution_count": 16,
   "metadata": {},
   "outputs": [],
   "source": [
    "# Set up file paths and target tables.\n",
    "\n",
    "snapshots = [\"snapshot_20230727\"]\n",
    "dir_path = \"/Users/teng/UBCO/mds_labs/block4/542/data/DevGPT/\"\n",
    "\n",
    "# Options are \"hn\", \"pr\", \"issue\", \"discussion\", \"commit\", \"file\"\n",
    "target = \"discussion\"\n",
    "URL_rename = \"URL_\" + target\n",
    "\n",
    "if target == \"hn\":\n",
    "    pk = [URL_rename]\n",
    "else:\n",
    "    pk = [URL_rename, \"RepoName\"]"
   ]
  },
  {
   "cell_type": "code",
   "execution_count": 17,
   "metadata": {},
   "outputs": [],
   "source": [
    "# Read all json file paths.\n",
    "file_paths = []\n",
    "for snapshot in snapshots:\n",
    "    file_path = os.path.join(dir_path, snapshot)\n",
    "    file_paths += helper.read_filepaths(file_path, target)"
   ]
  },
  {
   "cell_type": "code",
   "execution_count": 18,
   "metadata": {},
   "outputs": [
    {
     "name": "stdout",
     "output_type": "stream",
     "text": [
      "<class 'pandas.core.frame.DataFrame'>\n",
      "RangeIndex: 32 entries, 0 to 31\n",
      "Data columns (total 15 columns):\n",
      " #   Column          Non-Null Count  Dtype \n",
      "---  ------          --------------  ----- \n",
      " 0   Type            32 non-null     object\n",
      " 1   URL_discussion  32 non-null     object\n",
      " 2   Author          32 non-null     object\n",
      " 3   RepoName        32 non-null     object\n",
      " 4   RepoLanguage    27 non-null     object\n",
      " 5   Number          32 non-null     int64 \n",
      " 6   Title           32 non-null     object\n",
      " 7   Body            32 non-null     object\n",
      " 8   CreatedAt       32 non-null     object\n",
      " 9   ClosedAt        4 non-null      object\n",
      " 10  UpdatedAt       32 non-null     object\n",
      " 11  Closed          32 non-null     bool  \n",
      " 12  UpvoteCount     32 non-null     int64 \n",
      " 13  ChatgptSharing  32 non-null     object\n",
      " 14  source_date     32 non-null     object\n",
      "dtypes: bool(1), int64(2), object(12)\n",
      "memory usage: 3.7+ KB\n"
     ]
    }
   ],
   "source": [
    "# Load Json files.\n",
    "df = helper.load_dataframes(file_paths)\n",
    "\n",
    "# Rename URL to URL_[target].\n",
    "df.rename(columns={\"URL\": URL_rename}, inplace=True)\n",
    "df.info()"
   ]
  },
  {
   "cell_type": "markdown",
   "metadata": {},
   "source": [
    "## ChatGPTSharing Table"
   ]
  },
  {
   "cell_type": "code",
   "execution_count": 19,
   "metadata": {},
   "outputs": [
    {
     "name": "stdout",
     "output_type": "stream",
     "text": [
      "<class 'pandas.core.frame.DataFrame'>\n",
      "RangeIndex: 38 entries, 0 to 37\n",
      "Data columns (total 14 columns):\n",
      " #   Column              Non-Null Count  Dtype  \n",
      "---  ------              --------------  -----  \n",
      " 0   URL_discussion      38 non-null     object \n",
      " 1   RepoName            38 non-null     object \n",
      " 2   URL_chatgptsharing  38 non-null     object \n",
      " 3   Mention             38 non-null     object \n",
      " 4   Status              38 non-null     int64  \n",
      " 5   DateOfConversation  33 non-null     object \n",
      " 6   DateOfAccess        33 non-null     object \n",
      " 7   Title               33 non-null     object \n",
      " 8   NumberOfPrompts     33 non-null     float64\n",
      " 9   TokensOfPrompts     33 non-null     float64\n",
      " 10  TokensOfAnswers     33 non-null     float64\n",
      " 11  Model               33 non-null     object \n",
      " 12  Conversations       33 non-null     object \n",
      " 13  HTMLContent         33 non-null     object \n",
      "dtypes: float64(3), int64(1), object(10)\n",
      "memory usage: 4.3+ KB\n"
     ]
    }
   ],
   "source": [
    "records = []\n",
    "\n",
    "pk += [\"ChatgptSharing\"]\n",
    "\n",
    "for idx, row in df[pk].iterrows():\n",
    "    for item in row[\"ChatgptSharing\"]:\n",
    "        obs = {}\n",
    "        obs[URL_rename] = row[URL_rename]\n",
    "\n",
    "        if target != \"hn\":\n",
    "            obs[\"RepoName\"] = row[\"RepoName\"]\n",
    "            \n",
    "        obs.update(item)\n",
    "        records.append(obs)\n",
    "\n",
    "df_chatgpt_sharing = pd.DataFrame(records)\n",
    "\n",
    "# Rename URL to URL_chatgptsharing.\n",
    "df_chatgpt_sharing.rename(columns={\"URL\": \"URL_chatgptsharing\"}, inplace=True)\n",
    "df_chatgpt_sharing.info()\n"
   ]
  },
  {
   "cell_type": "markdown",
   "metadata": {},
   "source": [
    "## Mention table\n",
    "\n",
    "`MentionedURL` is identical with `URL_[target]`"
   ]
  },
  {
   "cell_type": "code",
   "execution_count": 20,
   "metadata": {},
   "outputs": [
    {
     "name": "stdout",
     "output_type": "stream",
     "text": [
      "<class 'pandas.core.frame.DataFrame'>\n",
      "RangeIndex: 38 entries, 0 to 37\n",
      "Data columns (total 9 columns):\n",
      " #   Column                Non-Null Count  Dtype  \n",
      "---  ------                --------------  -----  \n",
      " 0   URL_discussion        38 non-null     object \n",
      " 1   RepoName              38 non-null     object \n",
      " 2   URL_chatgptsharing    38 non-null     object \n",
      " 3   MentionedURL          38 non-null     object \n",
      " 4   MentionedProperty     38 non-null     object \n",
      " 5   MentionedAuthor       38 non-null     object \n",
      " 6   MentionedText         38 non-null     object \n",
      " 7   MentionedIsAnswer     19 non-null     object \n",
      " 8   MentionedUpvoteCount  19 non-null     float64\n",
      "dtypes: float64(1), object(8)\n",
      "memory usage: 2.8+ KB\n"
     ]
    }
   ],
   "source": [
    "records = []\n",
    "\n",
    "pk.pop() \n",
    "pk += [\"URL_chatgptsharing\", \"Mention\"]\n",
    "\n",
    "for idx, row in df_chatgpt_sharing[pk].iterrows():\n",
    "\n",
    "    if not isinstance(row[\"Mention\"], dict):\n",
    "        continue\n",
    "\n",
    "    obs = {}\n",
    "    obs[URL_rename] = row[URL_rename]\n",
    "\n",
    "    if target != \"hn\":\n",
    "        obs[\"RepoName\"] = row[\"RepoName\"]\n",
    "        \n",
    "    obs[\"URL_chatgptsharing\"] = row[\"URL_chatgptsharing\"]\n",
    "    obs.update(row[\"Mention\"])\n",
    "    records.append(obs)\n",
    "\n",
    "df_mention = pd.DataFrame(records)\n",
    "df_mention.info()"
   ]
  },
  {
   "cell_type": "markdown",
   "metadata": {},
   "source": [
    "## Conversation Table"
   ]
  },
  {
   "cell_type": "code",
   "execution_count": 21,
   "metadata": {},
   "outputs": [
    {
     "name": "stdout",
     "output_type": "stream",
     "text": [
      "<class 'pandas.core.frame.DataFrame'>\n",
      "RangeIndex: 174 entries, 0 to 173\n",
      "Data columns (total 6 columns):\n",
      " #   Column              Non-Null Count  Dtype \n",
      "---  ------              --------------  ----- \n",
      " 0   URL_discussion      174 non-null    object\n",
      " 1   RepoName            174 non-null    object\n",
      " 2   URL_chatgptsharing  174 non-null    object\n",
      " 3   Prompt              174 non-null    object\n",
      " 4   Answer              174 non-null    object\n",
      " 5   ListOfCode          174 non-null    object\n",
      "dtypes: object(6)\n",
      "memory usage: 8.3+ KB\n"
     ]
    }
   ],
   "source": [
    "records = []\n",
    "\n",
    "pk += [\"Conversations\"]\n",
    "for idx, row in df_chatgpt_sharing[pk].iterrows():\n",
    "\n",
    "    if not isinstance(row[\"Conversations\"], list):\n",
    "        continue\n",
    "\n",
    "    for item in row[\"Conversations\"]:\n",
    "        obs = {}\n",
    "        obs[URL_rename] = row[URL_rename]\n",
    "\n",
    "        if target != \"hn\":\n",
    "            obs[\"RepoName\"] = row[\"RepoName\"]\n",
    "            \n",
    "        obs[\"URL_chatgptsharing\"] = row[\"URL_chatgptsharing\"]\n",
    "        obs.update(item)\n",
    "        records.append(obs)\n",
    "\n",
    "df_conversation = pd.DataFrame(records)\n",
    "df_conversation.info()"
   ]
  },
  {
   "cell_type": "markdown",
   "metadata": {},
   "source": [
    "## Clean Up\n",
    "4 tables: `df_[target]`, `df_chatgpt_sharing`, `df_mention`, `df_conversation`"
   ]
  },
  {
   "cell_type": "code",
   "execution_count": 22,
   "metadata": {},
   "outputs": [],
   "source": [
    "# Remove redundant columns\n",
    "df = df.drop(columns=\"ChatgptSharing\")\n",
    "df_chatgpt_sharing = df_chatgpt_sharing.drop(columns=[\"Mention\", \"Conversations\"])"
   ]
  },
  {
   "cell_type": "markdown",
   "metadata": {},
   "source": [
    "## Save to file"
   ]
  },
  {
   "cell_type": "code",
   "execution_count": 23,
   "metadata": {},
   "outputs": [],
   "source": [
    "# df dataframe contains the initial dataset\n",
    "df.to_csv(\n",
    "    os.path.join(dir_path, \"cleaned\", target + \".csv\")\n",
    "    )\n",
    "\n",
    "# df_chatgpt_sharing dataframe contains chatgptsharing content in target table.\n",
    "# It can combine with other tables using URL_'target' and RepoName.\n",
    "df_chatgpt_sharing.to_csv(\n",
    "    os.path.join(dir_path, \"cleaned\", target + \"_chatgpt_sharing.csv\")\n",
    "    )\n",
    "\n",
    "# df_mention dataframe contains mention content in target table.\n",
    "# It can combine with other tables using URL_'target' and RepoName.\n",
    "df_mention.to_csv(\n",
    "    os.path.join(dir_path, \"cleaned\", target + \"_mention.csv\")\n",
    "    )\n",
    "\n",
    "# df_conversation dataframe contains conversation content in target table.\n",
    "# It can combine with other tables using URL_'target' and RepoName.\n",
    "df_conversation.to_csv(\n",
    "    os.path.join(dir_path, \"cleaned\", target + \"_conversation.csv\")\n",
    "    )"
   ]
  },
  {
   "cell_type": "markdown",
   "metadata": {},
   "source": [
    "## Combine to a big dataframe\n",
    "\n",
    "`df_total` is the dataframe that contains all the information of the target table.\n",
    "Combining `chatgptsharing`, `mention`, and `conversation`"
   ]
  },
  {
   "cell_type": "code",
   "execution_count": 24,
   "metadata": {},
   "outputs": [],
   "source": [
    "# Merge ChatGptSharing table to target table.\n",
    "if target != \"hn\":\n",
    "    merge_on = [URL_rename, \"RepoName\"]\n",
    "else:\n",
    "    merge_on = [URL_rename]\n",
    "\n",
    "df_total = pd.merge(\n",
    "    df, df_chatgpt_sharing,\n",
    "    left_on=merge_on, \n",
    "    right_on=merge_on, \n",
    "    how=\"left\"\n",
    ")"
   ]
  },
  {
   "cell_type": "code",
   "execution_count": 25,
   "metadata": {},
   "outputs": [],
   "source": [
    "# Merge Mention table to target table.\n",
    "df_total = pd.merge(\n",
    "    df_total, df_mention,\n",
    "    left_on=merge_on, \n",
    "    right_on=merge_on, \n",
    "    how=\"left\"\n",
    ")"
   ]
  },
  {
   "cell_type": "code",
   "execution_count": 26,
   "metadata": {},
   "outputs": [],
   "source": [
    "# Merge Conversation table to target table.\n",
    "df_total = pd.merge(\n",
    "    df_total, df_conversation,\n",
    "    left_on=merge_on, \n",
    "    right_on=merge_on, \n",
    "    how=\"left\"\n",
    ")"
   ]
  },
  {
   "cell_type": "code",
   "execution_count": 27,
   "metadata": {},
   "outputs": [
    {
     "data": {
      "text/plain": [
       "Index(['Type', 'URL_discussion', 'Author', 'RepoName', 'RepoLanguage',\n",
       "       'Number', 'Title_x', 'Body', 'CreatedAt', 'ClosedAt', 'UpdatedAt',\n",
       "       'Closed', 'UpvoteCount', 'source_date', 'URL_chatgptsharing_x',\n",
       "       'Status', 'DateOfConversation', 'DateOfAccess', 'Title_y',\n",
       "       'NumberOfPrompts', 'TokensOfPrompts', 'TokensOfAnswers', 'Model',\n",
       "       'HTMLContent', 'URL_chatgptsharing_y', 'MentionedURL',\n",
       "       'MentionedProperty', 'MentionedAuthor', 'MentionedText',\n",
       "       'MentionedIsAnswer', 'MentionedUpvoteCount', 'URL_chatgptsharing',\n",
       "       'Prompt', 'Answer', 'ListOfCode'],\n",
       "      dtype='object')"
      ]
     },
     "execution_count": 27,
     "metadata": {},
     "output_type": "execute_result"
    }
   ],
   "source": [
    "df_total.columns"
   ]
  },
  {
   "cell_type": "code",
   "execution_count": 28,
   "metadata": {},
   "outputs": [
    {
     "name": "stdout",
     "output_type": "stream",
     "text": [
      "<class 'pandas.core.frame.DataFrame'>\n",
      "RangeIndex: 317 entries, 0 to 316\n",
      "Data columns (total 35 columns):\n",
      " #   Column                Non-Null Count  Dtype  \n",
      "---  ------                --------------  -----  \n",
      " 0   Type                  317 non-null    object \n",
      " 1   URL_discussion        317 non-null    object \n",
      " 2   Author                317 non-null    object \n",
      " 3   RepoName              317 non-null    object \n",
      " 4   RepoLanguage          292 non-null    object \n",
      " 5   Number                317 non-null    int64  \n",
      " 6   Title_x               317 non-null    object \n",
      " 7   Body                  317 non-null    object \n",
      " 8   CreatedAt             317 non-null    object \n",
      " 9   ClosedAt              4 non-null      object \n",
      " 10  UpdatedAt             317 non-null    object \n",
      " 11  Closed                317 non-null    bool   \n",
      " 12  UpvoteCount           317 non-null    int64  \n",
      " 13  source_date           317 non-null    object \n",
      " 14  URL_chatgptsharing_x  317 non-null    object \n",
      " 15  Status                317 non-null    int64  \n",
      " 16  DateOfConversation    312 non-null    object \n",
      " 17  DateOfAccess          312 non-null    object \n",
      " 18  Title_y               312 non-null    object \n",
      " 19  NumberOfPrompts       312 non-null    float64\n",
      " 20  TokensOfPrompts       312 non-null    float64\n",
      " 21  TokensOfAnswers       312 non-null    float64\n",
      " 22  Model                 312 non-null    object \n",
      " 23  HTMLContent           312 non-null    object \n",
      " 24  URL_chatgptsharing_y  317 non-null    object \n",
      " 25  MentionedURL          317 non-null    object \n",
      " 26  MentionedProperty     317 non-null    object \n",
      " 27  MentionedAuthor       317 non-null    object \n",
      " 28  MentionedText         317 non-null    object \n",
      " 29  MentionedIsAnswer     152 non-null    object \n",
      " 30  MentionedUpvoteCount  152 non-null    float64\n",
      " 31  URL_chatgptsharing    312 non-null    object \n",
      " 32  Prompt                312 non-null    object \n",
      " 33  Answer                312 non-null    object \n",
      " 34  ListOfCode            312 non-null    object \n",
      "dtypes: bool(1), float64(4), int64(3), object(27)\n",
      "memory usage: 84.6+ KB\n"
     ]
    }
   ],
   "source": [
    "df_total.info()"
   ]
  },
  {
   "cell_type": "code",
   "execution_count": 29,
   "metadata": {},
   "outputs": [],
   "source": [
    "# Save to file.\n",
    "\n",
    "df_total.to_csv(os.path.join(dir_path, \"cleaned\", target + \"_total.csv\"))"
   ]
  }
 ],
 "metadata": {
  "kernelspec": {
   "display_name": "base",
   "language": "python",
   "name": "python3"
  },
  "language_info": {
   "codemirror_mode": {
    "name": "ipython",
    "version": 3
   },
   "file_extension": ".py",
   "mimetype": "text/x-python",
   "name": "python",
   "nbconvert_exporter": "python",
   "pygments_lexer": "ipython3",
   "version": "3.12.2"
  }
 },
 "nbformat": 4,
 "nbformat_minor": 2
}
