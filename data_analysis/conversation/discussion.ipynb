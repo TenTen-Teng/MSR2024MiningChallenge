{
 "cells": [
  {
   "cell_type": "markdown",
   "metadata": {},
   "source": [
    "### Importing Libraries and Data and Initialize Functions"
   ]
  },
  {
   "cell_type": "code",
   "execution_count": 28,
   "metadata": {},
   "outputs": [],
   "source": [
    "import altair as alt\n",
    "import pandas as pd\n",
    "import numpy as np\n",
    "from langdetect import detect\n",
    "import spacy"
   ]
  },
  {
   "cell_type": "code",
   "execution_count": 29,
   "metadata": {},
   "outputs": [],
   "source": [
    "nlp = spacy.load(\"en_core_web_sm\")\n",
    "\n",
    "def is_english(row):\n",
    "    try:\n",
    "        return detect(row['Prompt']) == 'en' and detect(row['Answer']) == 'en'\n",
    "    except:\n",
    "        return False\n",
    "\n",
    "def count_tokens(sentence):\n",
    "    doc = nlp(sentence)\n",
    "    return len([token for token in doc])"
   ]
  },
  {
   "cell_type": "code",
   "execution_count": 30,
   "metadata": {},
   "outputs": [],
   "source": [
    "discussion = pd.read_csv('/Users/red/Desktop/CLONERepo/DevGPT/cleaned/discussion_total.csv')"
   ]
  },
  {
   "cell_type": "markdown",
   "metadata": {},
   "source": [
    "### Data Overview"
   ]
  },
  {
   "cell_type": "code",
   "execution_count": 31,
   "metadata": {},
   "outputs": [
    {
     "data": {
      "text/html": [
       "<div>\n",
       "<style scoped>\n",
       "    .dataframe tbody tr th:only-of-type {\n",
       "        vertical-align: middle;\n",
       "    }\n",
       "\n",
       "    .dataframe tbody tr th {\n",
       "        vertical-align: top;\n",
       "    }\n",
       "\n",
       "    .dataframe thead th {\n",
       "        text-align: right;\n",
       "    }\n",
       "</style>\n",
       "<table border=\"1\" class=\"dataframe\">\n",
       "  <thead>\n",
       "    <tr style=\"text-align: right;\">\n",
       "      <th></th>\n",
       "      <th>Type</th>\n",
       "      <th>URL_discussion</th>\n",
       "      <th>Author</th>\n",
       "      <th>RepoName</th>\n",
       "      <th>RepoLanguage</th>\n",
       "      <th>Number</th>\n",
       "      <th>Title_x</th>\n",
       "      <th>Body</th>\n",
       "      <th>CreatedAt</th>\n",
       "      <th>ClosedAt</th>\n",
       "      <th>...</th>\n",
       "      <th>MentionedURL</th>\n",
       "      <th>MentionedProperty</th>\n",
       "      <th>MentionedAuthor</th>\n",
       "      <th>MentionedText</th>\n",
       "      <th>MentionedIsAnswer</th>\n",
       "      <th>MentionedUpvoteCount</th>\n",
       "      <th>URL_chatgptsharing</th>\n",
       "      <th>Prompt</th>\n",
       "      <th>Answer</th>\n",
       "      <th>ListOfCode</th>\n",
       "    </tr>\n",
       "  </thead>\n",
       "  <tbody>\n",
       "    <tr>\n",
       "      <th>0</th>\n",
       "      <td>discussion</td>\n",
       "      <td>https://github.com/orgs/deep-foundation/discus...</td>\n",
       "      <td>FreePhoenix888</td>\n",
       "      <td>deep-foundation/Discussions</td>\n",
       "      <td>NaN</td>\n",
       "      <td>27</td>\n",
       "      <td>Should we worry about imports perfomance in ha...</td>\n",
       "      <td>My dialogue with chatgpt about it: https://cha...</td>\n",
       "      <td>2023-07-11T11:31:00Z</td>\n",
       "      <td>NaN</td>\n",
       "      <td>...</td>\n",
       "      <td>https://github.com/deep-foundation/Discussions...</td>\n",
       "      <td>comments.body</td>\n",
       "      <td>Konard</td>\n",
       "      <td>https://chat.openai.com/share/1e0f86ff-2094-44...</td>\n",
       "      <td>False</td>\n",
       "      <td>1.0</td>\n",
       "      <td>https://chat.openai.com/share/1e0f86ff-2094-44...</td>\n",
       "      <td>Can I always use await import instead of plain...</td>\n",
       "      <td>The use of await import(...) and import ... in...</td>\n",
       "      <td>[]</td>\n",
       "    </tr>\n",
       "  </tbody>\n",
       "</table>\n",
       "<p>1 rows × 35 columns</p>\n",
       "</div>"
      ],
      "text/plain": [
       "         Type                                     URL_discussion  \\\n",
       "0  discussion  https://github.com/orgs/deep-foundation/discus...   \n",
       "\n",
       "           Author                     RepoName RepoLanguage  Number  \\\n",
       "0  FreePhoenix888  deep-foundation/Discussions          NaN      27   \n",
       "\n",
       "                                             Title_x  \\\n",
       "0  Should we worry about imports perfomance in ha...   \n",
       "\n",
       "                                                Body             CreatedAt  \\\n",
       "0  My dialogue with chatgpt about it: https://cha...  2023-07-11T11:31:00Z   \n",
       "\n",
       "  ClosedAt  ...                                       MentionedURL  \\\n",
       "0      NaN  ...  https://github.com/deep-foundation/Discussions...   \n",
       "\n",
       "   MentionedProperty  MentionedAuthor  \\\n",
       "0      comments.body           Konard   \n",
       "\n",
       "                                       MentionedText MentionedIsAnswer  \\\n",
       "0  https://chat.openai.com/share/1e0f86ff-2094-44...             False   \n",
       "\n",
       "   MentionedUpvoteCount                                 URL_chatgptsharing  \\\n",
       "0                   1.0  https://chat.openai.com/share/1e0f86ff-2094-44...   \n",
       "\n",
       "                                              Prompt  \\\n",
       "0  Can I always use await import instead of plain...   \n",
       "\n",
       "                                              Answer  ListOfCode  \n",
       "0  The use of await import(...) and import ... in...          []  \n",
       "\n",
       "[1 rows x 35 columns]"
      ]
     },
     "execution_count": 31,
     "metadata": {},
     "output_type": "execute_result"
    }
   ],
   "source": [
    "discussion.head(1)"
   ]
  },
  {
   "cell_type": "code",
   "execution_count": 32,
   "metadata": {},
   "outputs": [
    {
     "data": {
      "text/plain": [
       "Index(['Type', 'URL_discussion', 'Author', 'RepoName', 'RepoLanguage',\n",
       "       'Number', 'Title_x', 'Body', 'CreatedAt', 'ClosedAt', 'UpdatedAt',\n",
       "       'Closed', 'UpvoteCount', 'source_date', 'URL_chatgptsharing_x',\n",
       "       'Status', 'DateOfConversation', 'DateOfAccess', 'Title_y',\n",
       "       'NumberOfPrompts', 'TokensOfPrompts', 'TokensOfAnswers', 'Model',\n",
       "       'HTMLContent', 'URL_chatgptsharing_y', 'MentionedURL',\n",
       "       'MentionedProperty', 'MentionedAuthor', 'MentionedText',\n",
       "       'MentionedIsAnswer', 'MentionedUpvoteCount', 'URL_chatgptsharing',\n",
       "       'Prompt', 'Answer', 'ListOfCode'],\n",
       "      dtype='object')"
      ]
     },
     "execution_count": 32,
     "metadata": {},
     "output_type": "execute_result"
    }
   ],
   "source": [
    "discussion.columns"
   ]
  },
  {
   "cell_type": "markdown",
   "metadata": {},
   "source": [
    "### filtering and preprocessing the data"
   ]
  },
  {
   "cell_type": "code",
   "execution_count": 33,
   "metadata": {},
   "outputs": [],
   "source": [
    "filtered_discussion = discussion.query(\"RepoLanguage == 'Python'\")\n",
    "filtered_discussion = filtered_discussion[filtered_discussion.apply(is_english, axis=1)]"
   ]
  },
  {
   "cell_type": "code",
   "execution_count": 34,
   "metadata": {},
   "outputs": [
    {
     "name": "stdout",
     "output_type": "stream",
     "text": [
      "<class 'pandas.core.frame.DataFrame'>\n",
      "Int64Index: 60 entries, 16 to 312\n",
      "Data columns (total 35 columns):\n",
      " #   Column                Non-Null Count  Dtype  \n",
      "---  ------                --------------  -----  \n",
      " 0   Type                  60 non-null     object \n",
      " 1   URL_discussion        60 non-null     object \n",
      " 2   Author                60 non-null     object \n",
      " 3   RepoName              60 non-null     object \n",
      " 4   RepoLanguage          60 non-null     object \n",
      " 5   Number                60 non-null     int64  \n",
      " 6   Title_x               60 non-null     object \n",
      " 7   Body                  60 non-null     object \n",
      " 8   CreatedAt             60 non-null     object \n",
      " 9   ClosedAt              0 non-null      object \n",
      " 10  UpdatedAt             60 non-null     object \n",
      " 11  Closed                60 non-null     bool   \n",
      " 12  UpvoteCount           60 non-null     int64  \n",
      " 13  source_date           60 non-null     int64  \n",
      " 14  URL_chatgptsharing_x  60 non-null     object \n",
      " 15  Status                60 non-null     int64  \n",
      " 16  DateOfConversation    60 non-null     object \n",
      " 17  DateOfAccess          60 non-null     object \n",
      " 18  Title_y               60 non-null     object \n",
      " 19  NumberOfPrompts       60 non-null     float64\n",
      " 20  TokensOfPrompts       60 non-null     float64\n",
      " 21  TokensOfAnswers       60 non-null     float64\n",
      " 22  Model                 60 non-null     object \n",
      " 23  HTMLContent           60 non-null     object \n",
      " 24  URL_chatgptsharing_y  60 non-null     object \n",
      " 25  MentionedURL          60 non-null     object \n",
      " 26  MentionedProperty     60 non-null     object \n",
      " 27  MentionedAuthor       60 non-null     object \n",
      " 28  MentionedText         60 non-null     object \n",
      " 29  MentionedIsAnswer     37 non-null     object \n",
      " 30  MentionedUpvoteCount  37 non-null     float64\n",
      " 31  URL_chatgptsharing    60 non-null     object \n",
      " 32  Prompt                60 non-null     object \n",
      " 33  Answer                60 non-null     object \n",
      " 34  ListOfCode            60 non-null     object \n",
      "dtypes: bool(1), float64(4), int64(4), object(26)\n",
      "memory usage: 16.5+ KB\n"
     ]
    }
   ],
   "source": [
    "filtered_discussion.info()"
   ]
  },
  {
   "cell_type": "code",
   "execution_count": 35,
   "metadata": {},
   "outputs": [],
   "source": [
    "filtered_discussion['Prompt_tokens'] = filtered_discussion['Prompt'].apply(count_tokens)\n",
    "filtered_discussion['Answer_tokens'] = filtered_discussion['Answer'].apply(count_tokens)"
   ]
  },
  {
   "cell_type": "code",
   "execution_count": 36,
   "metadata": {},
   "outputs": [
    {
     "data": {
      "text/html": [
       "<div>\n",
       "<style scoped>\n",
       "    .dataframe tbody tr th:only-of-type {\n",
       "        vertical-align: middle;\n",
       "    }\n",
       "\n",
       "    .dataframe tbody tr th {\n",
       "        vertical-align: top;\n",
       "    }\n",
       "\n",
       "    .dataframe thead th {\n",
       "        text-align: right;\n",
       "    }\n",
       "</style>\n",
       "<table border=\"1\" class=\"dataframe\">\n",
       "  <thead>\n",
       "    <tr style=\"text-align: right;\">\n",
       "      <th></th>\n",
       "      <th>Type</th>\n",
       "      <th>URL_discussion</th>\n",
       "      <th>Author</th>\n",
       "      <th>RepoName</th>\n",
       "      <th>RepoLanguage</th>\n",
       "      <th>Number</th>\n",
       "      <th>Title_x</th>\n",
       "      <th>Body</th>\n",
       "      <th>CreatedAt</th>\n",
       "      <th>ClosedAt</th>\n",
       "      <th>...</th>\n",
       "      <th>MentionedAuthor</th>\n",
       "      <th>MentionedText</th>\n",
       "      <th>MentionedIsAnswer</th>\n",
       "      <th>MentionedUpvoteCount</th>\n",
       "      <th>URL_chatgptsharing</th>\n",
       "      <th>Prompt</th>\n",
       "      <th>Answer</th>\n",
       "      <th>ListOfCode</th>\n",
       "      <th>Prompt_tokens</th>\n",
       "      <th>Answer_tokens</th>\n",
       "    </tr>\n",
       "  </thead>\n",
       "  <tbody>\n",
       "    <tr>\n",
       "      <th>16</th>\n",
       "      <td>discussion</td>\n",
       "      <td>https://github.com/dtch1997/gpt-text-gym/discu...</td>\n",
       "      <td>dtch1997</td>\n",
       "      <td>dtch1997/gpt-text-gym</td>\n",
       "      <td>Python</td>\n",
       "      <td>7</td>\n",
       "      <td>GPT decomposing missions using functions</td>\n",
       "      <td>Message 1: Environment description\\r\\nMessage ...</td>\n",
       "      <td>2023-06-26T19:30:34Z</td>\n",
       "      <td>NaN</td>\n",
       "      <td>...</td>\n",
       "      <td>dtch1997</td>\n",
       "      <td>Message 1: Environment description\\r\\nMessage ...</td>\n",
       "      <td>False</td>\n",
       "      <td>1.0</td>\n",
       "      <td>https://chat.openai.com/share/1ee48447-8296-4a...</td>\n",
       "      <td>You are an agent in a gridworld.\\nThe environm...</td>\n",
       "      <td>Yes, I understand the rules and structure of t...</td>\n",
       "      <td>[]</td>\n",
       "      <td>601</td>\n",
       "      <td>13</td>\n",
       "    </tr>\n",
       "  </tbody>\n",
       "</table>\n",
       "<p>1 rows × 37 columns</p>\n",
       "</div>"
      ],
      "text/plain": [
       "          Type                                     URL_discussion    Author  \\\n",
       "16  discussion  https://github.com/dtch1997/gpt-text-gym/discu...  dtch1997   \n",
       "\n",
       "                 RepoName RepoLanguage  Number  \\\n",
       "16  dtch1997/gpt-text-gym       Python       7   \n",
       "\n",
       "                                     Title_x  \\\n",
       "16  GPT decomposing missions using functions   \n",
       "\n",
       "                                                 Body             CreatedAt  \\\n",
       "16  Message 1: Environment description\\r\\nMessage ...  2023-06-26T19:30:34Z   \n",
       "\n",
       "   ClosedAt  ... MentionedAuthor  \\\n",
       "16      NaN  ...        dtch1997   \n",
       "\n",
       "                                        MentionedText  MentionedIsAnswer  \\\n",
       "16  Message 1: Environment description\\r\\nMessage ...              False   \n",
       "\n",
       "    MentionedUpvoteCount                                 URL_chatgptsharing  \\\n",
       "16                   1.0  https://chat.openai.com/share/1ee48447-8296-4a...   \n",
       "\n",
       "                                               Prompt  \\\n",
       "16  You are an agent in a gridworld.\\nThe environm...   \n",
       "\n",
       "                                               Answer ListOfCode  \\\n",
       "16  Yes, I understand the rules and structure of t...         []   \n",
       "\n",
       "   Prompt_tokens  Answer_tokens  \n",
       "16           601             13  \n",
       "\n",
       "[1 rows x 37 columns]"
      ]
     },
     "execution_count": 36,
     "metadata": {},
     "output_type": "execute_result"
    }
   ],
   "source": [
    "filtered_discussion.head(1)"
   ]
  },
  {
   "cell_type": "code",
   "execution_count": 37,
   "metadata": {},
   "outputs": [
    {
     "name": "stdout",
     "output_type": "stream",
     "text": [
      "filtered discussion data has\n",
      "60 rows\n",
      "8 unique URLs\n"
     ]
    }
   ],
   "source": [
    "print(\"filtered discussion data has\")\n",
    "print(str(len(filtered_discussion)) + \" rows\")\n",
    "print(str(len(filtered_discussion['URL_discussion'].unique())) + \" unique URLs\")"
   ]
  },
  {
   "cell_type": "markdown",
   "metadata": {},
   "source": [
    "### Data analysis and visualization"
   ]
  },
  {
   "cell_type": "code",
   "execution_count": 38,
   "metadata": {},
   "outputs": [
    {
     "name": "stdout",
     "output_type": "stream",
     "text": [
      "average interactions per issue: 7.5\n"
     ]
    }
   ],
   "source": [
    "interactions_per_issue = filtered_discussion['URL_discussion'].value_counts()\n",
    "avergae_interactions_per_issue = interactions_per_issue.mean()\n",
    "\n",
    "print(\"average interactions per issue: \" + str(avergae_interactions_per_issue))"
   ]
  },
  {
   "cell_type": "code",
   "execution_count": 39,
   "metadata": {},
   "outputs": [
    {
     "name": "stdout",
     "output_type": "stream",
     "text": [
      "average length of prompt: 1572.88\n",
      "average length of answer: 1181.38\n"
     ]
    }
   ],
   "source": [
    "total_length_prompt_per_issue = filtered_discussion.groupby('URL_discussion')['Prompt_tokens'].sum()\n",
    "total_length_answer_per_issue = filtered_discussion.groupby('URL_discussion')['Answer_tokens'].sum()\n",
    "\n",
    "average_length_prompt = total_length_prompt_per_issue.mean()\n",
    "average_length_answer = total_length_answer_per_issue.mean()\n",
    "\n",
    "print(\"average length of prompt: \" + str(round(average_length_prompt, 2)))\n",
    "print(\"average length of answer: \" + str(round(average_length_answer, 2)))"
   ]
  }
 ],
 "metadata": {
  "kernelspec": {
   "display_name": "GLOBAL_ENV_3_9",
   "language": "python",
   "name": "python3"
  },
  "language_info": {
   "codemirror_mode": {
    "name": "ipython",
    "version": 3
   },
   "file_extension": ".py",
   "mimetype": "text/x-python",
   "name": "python",
   "nbconvert_exporter": "python",
   "pygments_lexer": "ipython3",
   "version": "3.9.19"
  }
 },
 "nbformat": 4,
 "nbformat_minor": 2
}
