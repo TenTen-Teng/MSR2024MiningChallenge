{
 "cells": [
  {
   "cell_type": "markdown",
   "metadata": {},
   "source": [
    "### Importing Libraries and Data and Initialize Functions"
   ]
  },
  {
   "cell_type": "code",
   "execution_count": 1,
   "metadata": {},
   "outputs": [],
   "source": [
    "import altair as alt\n",
    "import pandas as pd\n",
    "import numpy as np\n",
    "from langdetect import detect\n",
    "import spacy"
   ]
  },
  {
   "cell_type": "code",
   "execution_count": 2,
   "metadata": {},
   "outputs": [],
   "source": [
    "nlp = spacy.load(\"en_core_web_sm\")\n",
    "\n",
    "def is_english(row):\n",
    "    try:\n",
    "        return detect(row['Prompt']) == 'en' and detect(row['Answer']) == 'en'\n",
    "    except:\n",
    "        return False\n",
    "\n",
    "def count_tokens(sentence):\n",
    "    doc = nlp(sentence)\n",
    "    return len([token for token in doc])"
   ]
  },
  {
   "cell_type": "code",
   "execution_count": 3,
   "metadata": {},
   "outputs": [],
   "source": [
    "discussion = pd.read_csv('/Users/red/Desktop/CLONERepo/DevGPT/cleaned/discussion_total.csv')"
   ]
  },
  {
   "cell_type": "markdown",
   "metadata": {},
   "source": [
    "### Data Overview"
   ]
  },
  {
   "cell_type": "code",
   "execution_count": 4,
   "metadata": {},
   "outputs": [
    {
     "data": {
      "text/html": [
       "<div>\n",
       "<style scoped>\n",
       "    .dataframe tbody tr th:only-of-type {\n",
       "        vertical-align: middle;\n",
       "    }\n",
       "\n",
       "    .dataframe tbody tr th {\n",
       "        vertical-align: top;\n",
       "    }\n",
       "\n",
       "    .dataframe thead th {\n",
       "        text-align: right;\n",
       "    }\n",
       "</style>\n",
       "<table border=\"1\" class=\"dataframe\">\n",
       "  <thead>\n",
       "    <tr style=\"text-align: right;\">\n",
       "      <th></th>\n",
       "      <th>Type</th>\n",
       "      <th>URL_discussion</th>\n",
       "      <th>Author</th>\n",
       "      <th>RepoName</th>\n",
       "      <th>RepoLanguage</th>\n",
       "      <th>Number</th>\n",
       "      <th>Title_x</th>\n",
       "      <th>Body</th>\n",
       "      <th>CreatedAt</th>\n",
       "      <th>ClosedAt</th>\n",
       "      <th>...</th>\n",
       "      <th>MentionedURL</th>\n",
       "      <th>MentionedProperty</th>\n",
       "      <th>MentionedAuthor</th>\n",
       "      <th>MentionedText</th>\n",
       "      <th>MentionedIsAnswer</th>\n",
       "      <th>MentionedUpvoteCount</th>\n",
       "      <th>URL_chatgptsharing</th>\n",
       "      <th>Prompt</th>\n",
       "      <th>Answer</th>\n",
       "      <th>ListOfCode</th>\n",
       "    </tr>\n",
       "  </thead>\n",
       "  <tbody>\n",
       "    <tr>\n",
       "      <th>0</th>\n",
       "      <td>discussion</td>\n",
       "      <td>https://github.com/orgs/deep-foundation/discus...</td>\n",
       "      <td>FreePhoenix888</td>\n",
       "      <td>deep-foundation/Discussions</td>\n",
       "      <td>NaN</td>\n",
       "      <td>27</td>\n",
       "      <td>Should we worry about imports perfomance in ha...</td>\n",
       "      <td>My dialogue with chatgpt about it: https://cha...</td>\n",
       "      <td>2023-07-11T11:31:00Z</td>\n",
       "      <td>NaN</td>\n",
       "      <td>...</td>\n",
       "      <td>https://github.com/deep-foundation/Discussions...</td>\n",
       "      <td>comments.body</td>\n",
       "      <td>Konard</td>\n",
       "      <td>https://chat.openai.com/share/1e0f86ff-2094-44...</td>\n",
       "      <td>False</td>\n",
       "      <td>1.0</td>\n",
       "      <td>https://chat.openai.com/share/1e0f86ff-2094-44...</td>\n",
       "      <td>Can I always use await import instead of plain...</td>\n",
       "      <td>The use of await import(...) and import ... in...</td>\n",
       "      <td>[]</td>\n",
       "    </tr>\n",
       "  </tbody>\n",
       "</table>\n",
       "<p>1 rows × 35 columns</p>\n",
       "</div>"
      ],
      "text/plain": [
       "         Type                                     URL_discussion  \\\n",
       "0  discussion  https://github.com/orgs/deep-foundation/discus...   \n",
       "\n",
       "           Author                     RepoName RepoLanguage  Number  \\\n",
       "0  FreePhoenix888  deep-foundation/Discussions          NaN      27   \n",
       "\n",
       "                                             Title_x  \\\n",
       "0  Should we worry about imports perfomance in ha...   \n",
       "\n",
       "                                                Body             CreatedAt  \\\n",
       "0  My dialogue with chatgpt about it: https://cha...  2023-07-11T11:31:00Z   \n",
       "\n",
       "  ClosedAt  ...                                       MentionedURL  \\\n",
       "0      NaN  ...  https://github.com/deep-foundation/Discussions...   \n",
       "\n",
       "   MentionedProperty  MentionedAuthor  \\\n",
       "0      comments.body           Konard   \n",
       "\n",
       "                                       MentionedText MentionedIsAnswer  \\\n",
       "0  https://chat.openai.com/share/1e0f86ff-2094-44...             False   \n",
       "\n",
       "   MentionedUpvoteCount                                 URL_chatgptsharing  \\\n",
       "0                   1.0  https://chat.openai.com/share/1e0f86ff-2094-44...   \n",
       "\n",
       "                                              Prompt  \\\n",
       "0  Can I always use await import instead of plain...   \n",
       "\n",
       "                                              Answer  ListOfCode  \n",
       "0  The use of await import(...) and import ... in...          []  \n",
       "\n",
       "[1 rows x 35 columns]"
      ]
     },
     "execution_count": 4,
     "metadata": {},
     "output_type": "execute_result"
    }
   ],
   "source": [
    "discussion.head(1)"
   ]
  },
  {
   "cell_type": "code",
   "execution_count": 5,
   "metadata": {},
   "outputs": [
    {
     "data": {
      "text/plain": [
       "Index(['Type', 'URL_discussion', 'Author', 'RepoName', 'RepoLanguage',\n",
       "       'Number', 'Title_x', 'Body', 'CreatedAt', 'ClosedAt', 'UpdatedAt',\n",
       "       'Closed', 'UpvoteCount', 'source_date', 'URL_chatgptsharing_x',\n",
       "       'Status', 'DateOfConversation', 'DateOfAccess', 'Title_y',\n",
       "       'NumberOfPrompts', 'TokensOfPrompts', 'TokensOfAnswers', 'Model',\n",
       "       'HTMLContent', 'URL_chatgptsharing_y', 'MentionedURL',\n",
       "       'MentionedProperty', 'MentionedAuthor', 'MentionedText',\n",
       "       'MentionedIsAnswer', 'MentionedUpvoteCount', 'URL_chatgptsharing',\n",
       "       'Prompt', 'Answer', 'ListOfCode'],\n",
       "      dtype='object')"
      ]
     },
     "execution_count": 5,
     "metadata": {},
     "output_type": "execute_result"
    }
   ],
   "source": [
    "discussion.columns"
   ]
  },
  {
   "cell_type": "markdown",
   "metadata": {},
   "source": [
    "### Filtering and preprocessing the data"
   ]
  },
  {
   "cell_type": "code",
   "execution_count": 6,
   "metadata": {},
   "outputs": [],
   "source": [
    "filtered_discussion = discussion.query(\"RepoLanguage == 'Python'\")\n",
    "filtered_discussion = filtered_discussion[filtered_discussion.apply(is_english, axis=1)]"
   ]
  },
  {
   "cell_type": "code",
   "execution_count": 7,
   "metadata": {},
   "outputs": [
    {
     "name": "stdout",
     "output_type": "stream",
     "text": [
      "<class 'pandas.core.frame.DataFrame'>\n",
      "Int64Index: 59 entries, 16 to 312\n",
      "Data columns (total 35 columns):\n",
      " #   Column                Non-Null Count  Dtype  \n",
      "---  ------                --------------  -----  \n",
      " 0   Type                  59 non-null     object \n",
      " 1   URL_discussion        59 non-null     object \n",
      " 2   Author                59 non-null     object \n",
      " 3   RepoName              59 non-null     object \n",
      " 4   RepoLanguage          59 non-null     object \n",
      " 5   Number                59 non-null     int64  \n",
      " 6   Title_x               59 non-null     object \n",
      " 7   Body                  59 non-null     object \n",
      " 8   CreatedAt             59 non-null     object \n",
      " 9   ClosedAt              0 non-null      object \n",
      " 10  UpdatedAt             59 non-null     object \n",
      " 11  Closed                59 non-null     bool   \n",
      " 12  UpvoteCount           59 non-null     int64  \n",
      " 13  source_date           59 non-null     int64  \n",
      " 14  URL_chatgptsharing_x  59 non-null     object \n",
      " 15  Status                59 non-null     int64  \n",
      " 16  DateOfConversation    59 non-null     object \n",
      " 17  DateOfAccess          59 non-null     object \n",
      " 18  Title_y               59 non-null     object \n",
      " 19  NumberOfPrompts       59 non-null     float64\n",
      " 20  TokensOfPrompts       59 non-null     float64\n",
      " 21  TokensOfAnswers       59 non-null     float64\n",
      " 22  Model                 59 non-null     object \n",
      " 23  HTMLContent           59 non-null     object \n",
      " 24  URL_chatgptsharing_y  59 non-null     object \n",
      " 25  MentionedURL          59 non-null     object \n",
      " 26  MentionedProperty     59 non-null     object \n",
      " 27  MentionedAuthor       59 non-null     object \n",
      " 28  MentionedText         59 non-null     object \n",
      " 29  MentionedIsAnswer     36 non-null     object \n",
      " 30  MentionedUpvoteCount  36 non-null     float64\n",
      " 31  URL_chatgptsharing    59 non-null     object \n",
      " 32  Prompt                59 non-null     object \n",
      " 33  Answer                59 non-null     object \n",
      " 34  ListOfCode            59 non-null     object \n",
      "dtypes: bool(1), float64(4), int64(4), object(26)\n",
      "memory usage: 16.2+ KB\n"
     ]
    }
   ],
   "source": [
    "filtered_discussion.info()"
   ]
  },
  {
   "cell_type": "code",
   "execution_count": 8,
   "metadata": {},
   "outputs": [],
   "source": [
    "filtered_discussion['Prompt_tokens'] = filtered_discussion['Prompt'].apply(count_tokens)\n",
    "filtered_discussion['Answer_tokens'] = filtered_discussion['Answer'].apply(count_tokens)"
   ]
  },
  {
   "cell_type": "code",
   "execution_count": 9,
   "metadata": {},
   "outputs": [
    {
     "data": {
      "text/html": [
       "<div>\n",
       "<style scoped>\n",
       "    .dataframe tbody tr th:only-of-type {\n",
       "        vertical-align: middle;\n",
       "    }\n",
       "\n",
       "    .dataframe tbody tr th {\n",
       "        vertical-align: top;\n",
       "    }\n",
       "\n",
       "    .dataframe thead th {\n",
       "        text-align: right;\n",
       "    }\n",
       "</style>\n",
       "<table border=\"1\" class=\"dataframe\">\n",
       "  <thead>\n",
       "    <tr style=\"text-align: right;\">\n",
       "      <th></th>\n",
       "      <th>Type</th>\n",
       "      <th>URL_discussion</th>\n",
       "      <th>Author</th>\n",
       "      <th>RepoName</th>\n",
       "      <th>RepoLanguage</th>\n",
       "      <th>Number</th>\n",
       "      <th>Title_x</th>\n",
       "      <th>Body</th>\n",
       "      <th>CreatedAt</th>\n",
       "      <th>ClosedAt</th>\n",
       "      <th>...</th>\n",
       "      <th>MentionedAuthor</th>\n",
       "      <th>MentionedText</th>\n",
       "      <th>MentionedIsAnswer</th>\n",
       "      <th>MentionedUpvoteCount</th>\n",
       "      <th>URL_chatgptsharing</th>\n",
       "      <th>Prompt</th>\n",
       "      <th>Answer</th>\n",
       "      <th>ListOfCode</th>\n",
       "      <th>Prompt_tokens</th>\n",
       "      <th>Answer_tokens</th>\n",
       "    </tr>\n",
       "  </thead>\n",
       "  <tbody>\n",
       "    <tr>\n",
       "      <th>16</th>\n",
       "      <td>discussion</td>\n",
       "      <td>https://github.com/dtch1997/gpt-text-gym/discu...</td>\n",
       "      <td>dtch1997</td>\n",
       "      <td>dtch1997/gpt-text-gym</td>\n",
       "      <td>Python</td>\n",
       "      <td>7</td>\n",
       "      <td>GPT decomposing missions using functions</td>\n",
       "      <td>Message 1: Environment description\\r\\nMessage ...</td>\n",
       "      <td>2023-06-26T19:30:34Z</td>\n",
       "      <td>NaN</td>\n",
       "      <td>...</td>\n",
       "      <td>dtch1997</td>\n",
       "      <td>Message 1: Environment description\\r\\nMessage ...</td>\n",
       "      <td>False</td>\n",
       "      <td>1.0</td>\n",
       "      <td>https://chat.openai.com/share/1ee48447-8296-4a...</td>\n",
       "      <td>You are an agent in a gridworld.\\nThe environm...</td>\n",
       "      <td>Yes, I understand the rules and structure of t...</td>\n",
       "      <td>[]</td>\n",
       "      <td>601</td>\n",
       "      <td>13</td>\n",
       "    </tr>\n",
       "  </tbody>\n",
       "</table>\n",
       "<p>1 rows × 37 columns</p>\n",
       "</div>"
      ],
      "text/plain": [
       "          Type                                     URL_discussion    Author  \\\n",
       "16  discussion  https://github.com/dtch1997/gpt-text-gym/discu...  dtch1997   \n",
       "\n",
       "                 RepoName RepoLanguage  Number  \\\n",
       "16  dtch1997/gpt-text-gym       Python       7   \n",
       "\n",
       "                                     Title_x  \\\n",
       "16  GPT decomposing missions using functions   \n",
       "\n",
       "                                                 Body             CreatedAt  \\\n",
       "16  Message 1: Environment description\\r\\nMessage ...  2023-06-26T19:30:34Z   \n",
       "\n",
       "   ClosedAt  ... MentionedAuthor  \\\n",
       "16      NaN  ...        dtch1997   \n",
       "\n",
       "                                        MentionedText  MentionedIsAnswer  \\\n",
       "16  Message 1: Environment description\\r\\nMessage ...              False   \n",
       "\n",
       "    MentionedUpvoteCount                                 URL_chatgptsharing  \\\n",
       "16                   1.0  https://chat.openai.com/share/1ee48447-8296-4a...   \n",
       "\n",
       "                                               Prompt  \\\n",
       "16  You are an agent in a gridworld.\\nThe environm...   \n",
       "\n",
       "                                               Answer ListOfCode  \\\n",
       "16  Yes, I understand the rules and structure of t...         []   \n",
       "\n",
       "   Prompt_tokens  Answer_tokens  \n",
       "16           601             13  \n",
       "\n",
       "[1 rows x 37 columns]"
      ]
     },
     "execution_count": 9,
     "metadata": {},
     "output_type": "execute_result"
    }
   ],
   "source": [
    "filtered_discussion.head(1)"
   ]
  },
  {
   "cell_type": "code",
   "execution_count": 10,
   "metadata": {},
   "outputs": [
    {
     "name": "stdout",
     "output_type": "stream",
     "text": [
      "filtered discussion data has\n",
      "59 rows\n",
      "8 unique URLs\n"
     ]
    }
   ],
   "source": [
    "print(\"filtered discussion data has\")\n",
    "print(str(len(filtered_discussion)) + \" rows\")\n",
    "print(str(len(filtered_discussion['URL_discussion'].unique())) + \" unique URLs\")"
   ]
  },
  {
   "cell_type": "code",
   "execution_count": 11,
   "metadata": {},
   "outputs": [],
   "source": [
    "aggregate_discussion = filtered_discussion.groupby('URL_discussion').aggregate(list)\n",
    "\n",
    "URL_discussion = []\n",
    "URL_chatsharing_num = []\n",
    "\n",
    "for row in aggregate_discussion.iterrows():\n",
    "    URL_discussion.append(row[0])\n",
    "    URL_chatsharing_num.append(len(row[1]['URL_chatgptsharing']))\n",
    "    \n",
    "interactions = pd.DataFrame({'URL_discussion': URL_discussion, 'URL_chatsharing_num': URL_chatsharing_num})"
   ]
  },
  {
   "cell_type": "code",
   "execution_count": 12,
   "metadata": {},
   "outputs": [
    {
     "data": {
      "text/html": [
       "<div>\n",
       "<style scoped>\n",
       "    .dataframe tbody tr th:only-of-type {\n",
       "        vertical-align: middle;\n",
       "    }\n",
       "\n",
       "    .dataframe tbody tr th {\n",
       "        vertical-align: top;\n",
       "    }\n",
       "\n",
       "    .dataframe thead th {\n",
       "        text-align: right;\n",
       "    }\n",
       "</style>\n",
       "<table border=\"1\" class=\"dataframe\">\n",
       "  <thead>\n",
       "    <tr style=\"text-align: right;\">\n",
       "      <th></th>\n",
       "      <th>URL_discussion</th>\n",
       "      <th>URL_chatsharing_num</th>\n",
       "    </tr>\n",
       "  </thead>\n",
       "  <tbody>\n",
       "    <tr>\n",
       "      <th>0</th>\n",
       "      <td>https://github.com/HaroldMitts/VoAIce/discussi...</td>\n",
       "      <td>1</td>\n",
       "    </tr>\n",
       "    <tr>\n",
       "      <th>1</th>\n",
       "      <td>https://github.com/Significant-Gravitas/Auto-G...</td>\n",
       "      <td>1</td>\n",
       "    </tr>\n",
       "    <tr>\n",
       "      <th>2</th>\n",
       "      <td>https://github.com/dtch1997/gpt-text-gym/discu...</td>\n",
       "      <td>1</td>\n",
       "    </tr>\n",
       "    <tr>\n",
       "      <th>3</th>\n",
       "      <td>https://github.com/dtch1997/gpt-text-gym/discu...</td>\n",
       "      <td>6</td>\n",
       "    </tr>\n",
       "    <tr>\n",
       "      <th>4</th>\n",
       "      <td>https://github.com/dtch1997/gpt-text-gym/discu...</td>\n",
       "      <td>24</td>\n",
       "    </tr>\n",
       "    <tr>\n",
       "      <th>5</th>\n",
       "      <td>https://github.com/jasonacox/Powerwall-Dashboa...</td>\n",
       "      <td>4</td>\n",
       "    </tr>\n",
       "    <tr>\n",
       "      <th>6</th>\n",
       "      <td>https://github.com/sugi-01096/72/discussions/3</td>\n",
       "      <td>4</td>\n",
       "    </tr>\n",
       "    <tr>\n",
       "      <th>7</th>\n",
       "      <td>https://github.com/uuid6/prototypes/discussion...</td>\n",
       "      <td>18</td>\n",
       "    </tr>\n",
       "  </tbody>\n",
       "</table>\n",
       "</div>"
      ],
      "text/plain": [
       "                                      URL_discussion  URL_chatsharing_num\n",
       "0  https://github.com/HaroldMitts/VoAIce/discussi...                    1\n",
       "1  https://github.com/Significant-Gravitas/Auto-G...                    1\n",
       "2  https://github.com/dtch1997/gpt-text-gym/discu...                    1\n",
       "3  https://github.com/dtch1997/gpt-text-gym/discu...                    6\n",
       "4  https://github.com/dtch1997/gpt-text-gym/discu...                   24\n",
       "5  https://github.com/jasonacox/Powerwall-Dashboa...                    4\n",
       "6     https://github.com/sugi-01096/72/discussions/3                    4\n",
       "7  https://github.com/uuid6/prototypes/discussion...                   18"
      ]
     },
     "execution_count": 12,
     "metadata": {},
     "output_type": "execute_result"
    }
   ],
   "source": [
    "interactions"
   ]
  },
  {
   "cell_type": "markdown",
   "metadata": {},
   "source": [
    "### Data analysis and visualization"
   ]
  },
  {
   "cell_type": "markdown",
   "metadata": {},
   "source": [
    "#### Calculating the average interaction time per discussion"
   ]
  },
  {
   "cell_type": "code",
   "execution_count": 13,
   "metadata": {},
   "outputs": [
    {
     "name": "stdout",
     "output_type": "stream",
     "text": [
      "average interactions per issue: 7.375\n"
     ]
    }
   ],
   "source": [
    "avergae_interactions_per_discussion = interactions['URL_chatsharing_num'].mean()\n",
    "\n",
    "print(\"average interactions per issue: \" + str(avergae_interactions_per_discussion))"
   ]
  },
  {
   "cell_type": "code",
   "execution_count": 14,
   "metadata": {},
   "outputs": [
    {
     "data": {
      "text/html": [
       "\n",
       "<style>\n",
       "  #altair-viz-4fa157f75cb241afad64bb99da444067.vega-embed {\n",
       "    width: 100%;\n",
       "    display: flex;\n",
       "  }\n",
       "\n",
       "  #altair-viz-4fa157f75cb241afad64bb99da444067.vega-embed details,\n",
       "  #altair-viz-4fa157f75cb241afad64bb99da444067.vega-embed details summary {\n",
       "    position: relative;\n",
       "  }\n",
       "</style>\n",
       "<div id=\"altair-viz-4fa157f75cb241afad64bb99da444067\"></div>\n",
       "<script type=\"text/javascript\">\n",
       "  var VEGA_DEBUG = (typeof VEGA_DEBUG == \"undefined\") ? {} : VEGA_DEBUG;\n",
       "  (function(spec, embedOpt){\n",
       "    let outputDiv = document.currentScript.previousElementSibling;\n",
       "    if (outputDiv.id !== \"altair-viz-4fa157f75cb241afad64bb99da444067\") {\n",
       "      outputDiv = document.getElementById(\"altair-viz-4fa157f75cb241afad64bb99da444067\");\n",
       "    }\n",
       "    const paths = {\n",
       "      \"vega\": \"https://cdn.jsdelivr.net/npm/vega@5?noext\",\n",
       "      \"vega-lib\": \"https://cdn.jsdelivr.net/npm/vega-lib?noext\",\n",
       "      \"vega-lite\": \"https://cdn.jsdelivr.net/npm/vega-lite@5.17.0?noext\",\n",
       "      \"vega-embed\": \"https://cdn.jsdelivr.net/npm/vega-embed@6?noext\",\n",
       "    };\n",
       "\n",
       "    function maybeLoadScript(lib, version) {\n",
       "      var key = `${lib.replace(\"-\", \"\")}_version`;\n",
       "      return (VEGA_DEBUG[key] == version) ?\n",
       "        Promise.resolve(paths[lib]) :\n",
       "        new Promise(function(resolve, reject) {\n",
       "          var s = document.createElement('script');\n",
       "          document.getElementsByTagName(\"head\")[0].appendChild(s);\n",
       "          s.async = true;\n",
       "          s.onload = () => {\n",
       "            VEGA_DEBUG[key] = version;\n",
       "            return resolve(paths[lib]);\n",
       "          };\n",
       "          s.onerror = () => reject(`Error loading script: ${paths[lib]}`);\n",
       "          s.src = paths[lib];\n",
       "        });\n",
       "    }\n",
       "\n",
       "    function showError(err) {\n",
       "      outputDiv.innerHTML = `<div class=\"error\" style=\"color:red;\">${err}</div>`;\n",
       "      throw err;\n",
       "    }\n",
       "\n",
       "    function displayChart(vegaEmbed) {\n",
       "      vegaEmbed(outputDiv, spec, embedOpt)\n",
       "        .catch(err => showError(`Javascript Error: ${err.message}<br>This usually means there's a typo in your chart specification. See the javascript console for the full traceback.`));\n",
       "    }\n",
       "\n",
       "    if(typeof define === \"function\" && define.amd) {\n",
       "      requirejs.config({paths});\n",
       "      require([\"vega-embed\"], displayChart, err => showError(`Error loading script: ${err.message}`));\n",
       "    } else {\n",
       "      maybeLoadScript(\"vega\", \"5\")\n",
       "        .then(() => maybeLoadScript(\"vega-lite\", \"5.17.0\"))\n",
       "        .then(() => maybeLoadScript(\"vega-embed\", \"6\"))\n",
       "        .catch(showError)\n",
       "        .then(() => displayChart(vegaEmbed));\n",
       "    }\n",
       "  })({\"config\": {\"view\": {\"continuousWidth\": 300, \"continuousHeight\": 300}}, \"data\": {\"name\": \"data-2c9d784cdff1620e1bbfae123104386b\"}, \"mark\": {\"type\": \"bar\"}, \"encoding\": {\"x\": {\"bin\": true, \"field\": \"URL_chatsharing_num\", \"type\": \"quantitative\"}, \"y\": {\"aggregate\": \"count\", \"type\": \"quantitative\"}}, \"$schema\": \"https://vega.github.io/schema/vega-lite/v5.17.0.json\", \"datasets\": {\"data-2c9d784cdff1620e1bbfae123104386b\": [{\"URL_discussion\": \"https://github.com/HaroldMitts/VoAIce/discussions/5\", \"URL_chatsharing_num\": 1}, {\"URL_discussion\": \"https://github.com/Significant-Gravitas/Auto-GPT/discussions/4734\", \"URL_chatsharing_num\": 1}, {\"URL_discussion\": \"https://github.com/dtch1997/gpt-text-gym/discussions/4\", \"URL_chatsharing_num\": 1}, {\"URL_discussion\": \"https://github.com/dtch1997/gpt-text-gym/discussions/6\", \"URL_chatsharing_num\": 6}, {\"URL_discussion\": \"https://github.com/dtch1997/gpt-text-gym/discussions/7\", \"URL_chatsharing_num\": 24}, {\"URL_discussion\": \"https://github.com/jasonacox/Powerwall-Dashboard/discussions/324\", \"URL_chatsharing_num\": 4}, {\"URL_discussion\": \"https://github.com/sugi-01096/72/discussions/3\", \"URL_chatsharing_num\": 4}, {\"URL_discussion\": \"https://github.com/uuid6/prototypes/discussions/46\", \"URL_chatsharing_num\": 18}]}}, {\"mode\": \"vega-lite\"});\n",
       "</script>"
      ],
      "text/plain": [
       "alt.Chart(...)"
      ]
     },
     "execution_count": 14,
     "metadata": {},
     "output_type": "execute_result"
    }
   ],
   "source": [
    "alt.Chart(interactions).mark_bar().encode(\n",
    "    alt.X('URL_chatsharing_num:Q', bin=True),\n",
    "    y='count()',\n",
    ")"
   ]
  },
  {
   "cell_type": "markdown",
   "metadata": {},
   "source": [
    "#### Average Length of Tokens for Prompts and Answers per Issue"
   ]
  },
  {
   "cell_type": "code",
   "execution_count": 15,
   "metadata": {},
   "outputs": [
    {
     "name": "stdout",
     "output_type": "stream",
     "text": [
      "average length of prompt: 1572.25\n",
      "average length of answer: 1199.5\n"
     ]
    }
   ],
   "source": [
    "total_length_prompt_per_issue = pd.DataFrame(filtered_discussion.groupby(['URL_discussion', 'RepoName'])['Prompt_tokens'].sum())\n",
    "total_length_prompt_per_issue.reset_index(inplace=True)\n",
    "total_length_answer_per_issue = pd.DataFrame(filtered_discussion.groupby(['URL_discussion', 'RepoName'])['Answer_tokens'].sum())\n",
    "total_length_answer_per_issue.reset_index(inplace=True)\n",
    "\n",
    "average_length_prompt = total_length_prompt_per_issue['Prompt_tokens'].mean()\n",
    "average_length_answer = total_length_answer_per_issue['Answer_tokens'].mean()\n",
    "\n",
    "print(\"average length of prompt: \" + str(round(average_length_prompt, 2)))\n",
    "print(\"average length of answer: \" + str(round(average_length_answer, 2)))"
   ]
  },
  {
   "cell_type": "code",
   "execution_count": 16,
   "metadata": {},
   "outputs": [
    {
     "data": {
      "text/html": [
       "\n",
       "<style>\n",
       "  #altair-viz-411e038234624f05aee567dd91bf124f.vega-embed {\n",
       "    width: 100%;\n",
       "    display: flex;\n",
       "  }\n",
       "\n",
       "  #altair-viz-411e038234624f05aee567dd91bf124f.vega-embed details,\n",
       "  #altair-viz-411e038234624f05aee567dd91bf124f.vega-embed details summary {\n",
       "    position: relative;\n",
       "  }\n",
       "</style>\n",
       "<div id=\"altair-viz-411e038234624f05aee567dd91bf124f\"></div>\n",
       "<script type=\"text/javascript\">\n",
       "  var VEGA_DEBUG = (typeof VEGA_DEBUG == \"undefined\") ? {} : VEGA_DEBUG;\n",
       "  (function(spec, embedOpt){\n",
       "    let outputDiv = document.currentScript.previousElementSibling;\n",
       "    if (outputDiv.id !== \"altair-viz-411e038234624f05aee567dd91bf124f\") {\n",
       "      outputDiv = document.getElementById(\"altair-viz-411e038234624f05aee567dd91bf124f\");\n",
       "    }\n",
       "    const paths = {\n",
       "      \"vega\": \"https://cdn.jsdelivr.net/npm/vega@5?noext\",\n",
       "      \"vega-lib\": \"https://cdn.jsdelivr.net/npm/vega-lib?noext\",\n",
       "      \"vega-lite\": \"https://cdn.jsdelivr.net/npm/vega-lite@5.17.0?noext\",\n",
       "      \"vega-embed\": \"https://cdn.jsdelivr.net/npm/vega-embed@6?noext\",\n",
       "    };\n",
       "\n",
       "    function maybeLoadScript(lib, version) {\n",
       "      var key = `${lib.replace(\"-\", \"\")}_version`;\n",
       "      return (VEGA_DEBUG[key] == version) ?\n",
       "        Promise.resolve(paths[lib]) :\n",
       "        new Promise(function(resolve, reject) {\n",
       "          var s = document.createElement('script');\n",
       "          document.getElementsByTagName(\"head\")[0].appendChild(s);\n",
       "          s.async = true;\n",
       "          s.onload = () => {\n",
       "            VEGA_DEBUG[key] = version;\n",
       "            return resolve(paths[lib]);\n",
       "          };\n",
       "          s.onerror = () => reject(`Error loading script: ${paths[lib]}`);\n",
       "          s.src = paths[lib];\n",
       "        });\n",
       "    }\n",
       "\n",
       "    function showError(err) {\n",
       "      outputDiv.innerHTML = `<div class=\"error\" style=\"color:red;\">${err}</div>`;\n",
       "      throw err;\n",
       "    }\n",
       "\n",
       "    function displayChart(vegaEmbed) {\n",
       "      vegaEmbed(outputDiv, spec, embedOpt)\n",
       "        .catch(err => showError(`Javascript Error: ${err.message}<br>This usually means there's a typo in your chart specification. See the javascript console for the full traceback.`));\n",
       "    }\n",
       "\n",
       "    if(typeof define === \"function\" && define.amd) {\n",
       "      requirejs.config({paths});\n",
       "      require([\"vega-embed\"], displayChart, err => showError(`Error loading script: ${err.message}`));\n",
       "    } else {\n",
       "      maybeLoadScript(\"vega\", \"5\")\n",
       "        .then(() => maybeLoadScript(\"vega-lite\", \"5.17.0\"))\n",
       "        .then(() => maybeLoadScript(\"vega-embed\", \"6\"))\n",
       "        .catch(showError)\n",
       "        .then(() => displayChart(vegaEmbed));\n",
       "    }\n",
       "  })({\"config\": {\"view\": {\"continuousWidth\": 300, \"continuousHeight\": 300}}, \"vconcat\": [{\"data\": {\"name\": \"data-08d5830ffd3f597e09290c47f05ede4c\"}, \"mark\": {\"type\": \"bar\"}, \"encoding\": {\"color\": {\"field\": \"RepoName\", \"title\": \"Repository\", \"type\": \"nominal\"}, \"x\": {\"field\": \"Prompt_tokens\", \"type\": \"quantitative\"}, \"y\": {\"field\": \"URL_discussion\", \"sort\": \"-x\", \"title\": \"Issue URL\", \"type\": \"nominal\"}}, \"title\": \"Prompt length per issue\"}, {\"data\": {\"name\": \"data-346f805b6db104dbe05e364595f030bc\"}, \"mark\": {\"type\": \"bar\"}, \"encoding\": {\"color\": {\"field\": \"RepoName\", \"title\": \"Repository\", \"type\": \"nominal\"}, \"x\": {\"field\": \"Answer_tokens\", \"type\": \"quantitative\"}, \"y\": {\"field\": \"URL_discussion\", \"sort\": \"-x\", \"title\": \"Issue URL\", \"type\": \"nominal\"}}, \"title\": \"Answer length per issue\"}], \"$schema\": \"https://vega.github.io/schema/vega-lite/v5.17.0.json\", \"datasets\": {\"data-08d5830ffd3f597e09290c47f05ede4c\": [{\"URL_discussion\": \"https://github.com/HaroldMitts/VoAIce/discussions/5\", \"RepoName\": \"HaroldMitts/VoAIce\", \"Prompt_tokens\": 43}, {\"URL_discussion\": \"https://github.com/Significant-Gravitas/Auto-GPT/discussions/4734\", \"RepoName\": \"Significant-Gravitas/Auto-GPT\", \"Prompt_tokens\": 33}, {\"URL_discussion\": \"https://github.com/dtch1997/gpt-text-gym/discussions/4\", \"RepoName\": \"dtch1997/gpt-text-gym\", \"Prompt_tokens\": 637}, {\"URL_discussion\": \"https://github.com/dtch1997/gpt-text-gym/discussions/6\", \"RepoName\": \"dtch1997/gpt-text-gym\", \"Prompt_tokens\": 966}, {\"URL_discussion\": \"https://github.com/dtch1997/gpt-text-gym/discussions/7\", \"RepoName\": \"dtch1997/gpt-text-gym\", \"Prompt_tokens\": 9456}, {\"URL_discussion\": \"https://github.com/jasonacox/Powerwall-Dashboard/discussions/324\", \"RepoName\": \"jasonacox/Powerwall-Dashboard\", \"Prompt_tokens\": 477}, {\"URL_discussion\": \"https://github.com/sugi-01096/72/discussions/3\", \"RepoName\": \"sugi-01096/72\", \"Prompt_tokens\": 776}, {\"URL_discussion\": \"https://github.com/uuid6/prototypes/discussions/46\", \"RepoName\": \"uuid6/prototypes\", \"Prompt_tokens\": 190}], \"data-346f805b6db104dbe05e364595f030bc\": [{\"URL_discussion\": \"https://github.com/HaroldMitts/VoAIce/discussions/5\", \"RepoName\": \"HaroldMitts/VoAIce\", \"Answer_tokens\": 33}, {\"URL_discussion\": \"https://github.com/Significant-Gravitas/Auto-GPT/discussions/4734\", \"RepoName\": \"Significant-Gravitas/Auto-GPT\", \"Answer_tokens\": 152}, {\"URL_discussion\": \"https://github.com/dtch1997/gpt-text-gym/discussions/4\", \"RepoName\": \"dtch1997/gpt-text-gym\", \"Answer_tokens\": 209}, {\"URL_discussion\": \"https://github.com/dtch1997/gpt-text-gym/discussions/6\", \"RepoName\": \"dtch1997/gpt-text-gym\", \"Answer_tokens\": 1267}, {\"URL_discussion\": \"https://github.com/dtch1997/gpt-text-gym/discussions/7\", \"RepoName\": \"dtch1997/gpt-text-gym\", \"Answer_tokens\": 3672}, {\"URL_discussion\": \"https://github.com/jasonacox/Powerwall-Dashboard/discussions/324\", \"RepoName\": \"jasonacox/Powerwall-Dashboard\", \"Answer_tokens\": 634}, {\"URL_discussion\": \"https://github.com/sugi-01096/72/discussions/3\", \"RepoName\": \"sugi-01096/72\", \"Answer_tokens\": 1476}, {\"URL_discussion\": \"https://github.com/uuid6/prototypes/discussions/46\", \"RepoName\": \"uuid6/prototypes\", \"Answer_tokens\": 2153}]}}, {\"mode\": \"vega-lite\"});\n",
       "</script>"
      ],
      "text/plain": [
       "alt.VConcatChart(...)"
      ]
     },
     "execution_count": 16,
     "metadata": {},
     "output_type": "execute_result"
    }
   ],
   "source": [
    "prompt_length_per_issue_chart = alt.Chart(total_length_prompt_per_issue).mark_bar().encode(\n",
    "    alt.X('Prompt_tokens:Q'),\n",
    "    alt.Y('URL_discussion', sort='-x', title='Issue URL'),\n",
    "    alt.Color('RepoName', title='Repository')\n",
    ").properties(\n",
    "    title='Prompt length per issue'\n",
    ")\n",
    "answer_length_per_issue_chart = alt.Chart(total_length_answer_per_issue).mark_bar().encode(\n",
    "    alt.X('Answer_tokens:Q'),\n",
    "    alt.Y('URL_discussion', sort='-x', title='Issue URL'),\n",
    "     alt.Color('RepoName', title='Repository')\n",
    ").properties(\n",
    "    title='Answer length per issue'\n",
    ")\n",
    "\n",
    "prompt_length_per_issue_chart & answer_length_per_issue_chart"
   ]
  },
  {
   "cell_type": "markdown",
   "metadata": {},
   "source": [
    "Average Length of Tokens for Prompts and Answers per Repository"
   ]
  },
  {
   "cell_type": "code",
   "execution_count": 17,
   "metadata": {},
   "outputs": [
    {
     "data": {
      "text/html": [
       "\n",
       "<style>\n",
       "  #altair-viz-2037a9221a5c47d3be34c2b12f6c8e69.vega-embed {\n",
       "    width: 100%;\n",
       "    display: flex;\n",
       "  }\n",
       "\n",
       "  #altair-viz-2037a9221a5c47d3be34c2b12f6c8e69.vega-embed details,\n",
       "  #altair-viz-2037a9221a5c47d3be34c2b12f6c8e69.vega-embed details summary {\n",
       "    position: relative;\n",
       "  }\n",
       "</style>\n",
       "<div id=\"altair-viz-2037a9221a5c47d3be34c2b12f6c8e69\"></div>\n",
       "<script type=\"text/javascript\">\n",
       "  var VEGA_DEBUG = (typeof VEGA_DEBUG == \"undefined\") ? {} : VEGA_DEBUG;\n",
       "  (function(spec, embedOpt){\n",
       "    let outputDiv = document.currentScript.previousElementSibling;\n",
       "    if (outputDiv.id !== \"altair-viz-2037a9221a5c47d3be34c2b12f6c8e69\") {\n",
       "      outputDiv = document.getElementById(\"altair-viz-2037a9221a5c47d3be34c2b12f6c8e69\");\n",
       "    }\n",
       "    const paths = {\n",
       "      \"vega\": \"https://cdn.jsdelivr.net/npm/vega@5?noext\",\n",
       "      \"vega-lib\": \"https://cdn.jsdelivr.net/npm/vega-lib?noext\",\n",
       "      \"vega-lite\": \"https://cdn.jsdelivr.net/npm/vega-lite@5.17.0?noext\",\n",
       "      \"vega-embed\": \"https://cdn.jsdelivr.net/npm/vega-embed@6?noext\",\n",
       "    };\n",
       "\n",
       "    function maybeLoadScript(lib, version) {\n",
       "      var key = `${lib.replace(\"-\", \"\")}_version`;\n",
       "      return (VEGA_DEBUG[key] == version) ?\n",
       "        Promise.resolve(paths[lib]) :\n",
       "        new Promise(function(resolve, reject) {\n",
       "          var s = document.createElement('script');\n",
       "          document.getElementsByTagName(\"head\")[0].appendChild(s);\n",
       "          s.async = true;\n",
       "          s.onload = () => {\n",
       "            VEGA_DEBUG[key] = version;\n",
       "            return resolve(paths[lib]);\n",
       "          };\n",
       "          s.onerror = () => reject(`Error loading script: ${paths[lib]}`);\n",
       "          s.src = paths[lib];\n",
       "        });\n",
       "    }\n",
       "\n",
       "    function showError(err) {\n",
       "      outputDiv.innerHTML = `<div class=\"error\" style=\"color:red;\">${err}</div>`;\n",
       "      throw err;\n",
       "    }\n",
       "\n",
       "    function displayChart(vegaEmbed) {\n",
       "      vegaEmbed(outputDiv, spec, embedOpt)\n",
       "        .catch(err => showError(`Javascript Error: ${err.message}<br>This usually means there's a typo in your chart specification. See the javascript console for the full traceback.`));\n",
       "    }\n",
       "\n",
       "    if(typeof define === \"function\" && define.amd) {\n",
       "      requirejs.config({paths});\n",
       "      require([\"vega-embed\"], displayChart, err => showError(`Error loading script: ${err.message}`));\n",
       "    } else {\n",
       "      maybeLoadScript(\"vega\", \"5\")\n",
       "        .then(() => maybeLoadScript(\"vega-lite\", \"5.17.0\"))\n",
       "        .then(() => maybeLoadScript(\"vega-embed\", \"6\"))\n",
       "        .catch(showError)\n",
       "        .then(() => displayChart(vegaEmbed));\n",
       "    }\n",
       "  })({\"config\": {\"view\": {\"continuousWidth\": 300, \"continuousHeight\": 300}}, \"vconcat\": [{\"data\": {\"name\": \"data-08d5830ffd3f597e09290c47f05ede4c\"}, \"mark\": {\"type\": \"bar\"}, \"encoding\": {\"x\": {\"field\": \"Prompt_tokens\", \"type\": \"quantitative\"}, \"y\": {\"field\": \"RepoName\", \"sort\": \"-x\", \"title\": \"Issue URL\", \"type\": \"nominal\"}}, \"title\": \"Prompt length per issue\"}, {\"data\": {\"name\": \"data-346f805b6db104dbe05e364595f030bc\"}, \"mark\": {\"type\": \"bar\"}, \"encoding\": {\"x\": {\"field\": \"Answer_tokens\", \"type\": \"quantitative\"}, \"y\": {\"field\": \"RepoName\", \"sort\": \"-x\", \"title\": \"Issue URL\", \"type\": \"nominal\"}}, \"title\": \"Answer length per issue\"}], \"$schema\": \"https://vega.github.io/schema/vega-lite/v5.17.0.json\", \"datasets\": {\"data-08d5830ffd3f597e09290c47f05ede4c\": [{\"URL_discussion\": \"https://github.com/HaroldMitts/VoAIce/discussions/5\", \"RepoName\": \"HaroldMitts/VoAIce\", \"Prompt_tokens\": 43}, {\"URL_discussion\": \"https://github.com/Significant-Gravitas/Auto-GPT/discussions/4734\", \"RepoName\": \"Significant-Gravitas/Auto-GPT\", \"Prompt_tokens\": 33}, {\"URL_discussion\": \"https://github.com/dtch1997/gpt-text-gym/discussions/4\", \"RepoName\": \"dtch1997/gpt-text-gym\", \"Prompt_tokens\": 637}, {\"URL_discussion\": \"https://github.com/dtch1997/gpt-text-gym/discussions/6\", \"RepoName\": \"dtch1997/gpt-text-gym\", \"Prompt_tokens\": 966}, {\"URL_discussion\": \"https://github.com/dtch1997/gpt-text-gym/discussions/7\", \"RepoName\": \"dtch1997/gpt-text-gym\", \"Prompt_tokens\": 9456}, {\"URL_discussion\": \"https://github.com/jasonacox/Powerwall-Dashboard/discussions/324\", \"RepoName\": \"jasonacox/Powerwall-Dashboard\", \"Prompt_tokens\": 477}, {\"URL_discussion\": \"https://github.com/sugi-01096/72/discussions/3\", \"RepoName\": \"sugi-01096/72\", \"Prompt_tokens\": 776}, {\"URL_discussion\": \"https://github.com/uuid6/prototypes/discussions/46\", \"RepoName\": \"uuid6/prototypes\", \"Prompt_tokens\": 190}], \"data-346f805b6db104dbe05e364595f030bc\": [{\"URL_discussion\": \"https://github.com/HaroldMitts/VoAIce/discussions/5\", \"RepoName\": \"HaroldMitts/VoAIce\", \"Answer_tokens\": 33}, {\"URL_discussion\": \"https://github.com/Significant-Gravitas/Auto-GPT/discussions/4734\", \"RepoName\": \"Significant-Gravitas/Auto-GPT\", \"Answer_tokens\": 152}, {\"URL_discussion\": \"https://github.com/dtch1997/gpt-text-gym/discussions/4\", \"RepoName\": \"dtch1997/gpt-text-gym\", \"Answer_tokens\": 209}, {\"URL_discussion\": \"https://github.com/dtch1997/gpt-text-gym/discussions/6\", \"RepoName\": \"dtch1997/gpt-text-gym\", \"Answer_tokens\": 1267}, {\"URL_discussion\": \"https://github.com/dtch1997/gpt-text-gym/discussions/7\", \"RepoName\": \"dtch1997/gpt-text-gym\", \"Answer_tokens\": 3672}, {\"URL_discussion\": \"https://github.com/jasonacox/Powerwall-Dashboard/discussions/324\", \"RepoName\": \"jasonacox/Powerwall-Dashboard\", \"Answer_tokens\": 634}, {\"URL_discussion\": \"https://github.com/sugi-01096/72/discussions/3\", \"RepoName\": \"sugi-01096/72\", \"Answer_tokens\": 1476}, {\"URL_discussion\": \"https://github.com/uuid6/prototypes/discussions/46\", \"RepoName\": \"uuid6/prototypes\", \"Answer_tokens\": 2153}]}}, {\"mode\": \"vega-lite\"});\n",
       "</script>"
      ],
      "text/plain": [
       "alt.VConcatChart(...)"
      ]
     },
     "execution_count": 17,
     "metadata": {},
     "output_type": "execute_result"
    }
   ],
   "source": [
    "prompt_length_per_issue_chart = alt.Chart(total_length_prompt_per_issue).mark_bar().encode(\n",
    "    alt.X('Prompt_tokens:Q'),\n",
    "    alt.Y('RepoName', sort='-x', title='Issue URL'),\n",
    ").properties(\n",
    "    title='Prompt length per issue'\n",
    ")\n",
    "answer_length_per_issue_chart = alt.Chart(total_length_answer_per_issue).mark_bar().encode(\n",
    "    alt.X('Answer_tokens:Q'),\n",
    "    alt.Y('RepoName', sort='-x', title='Issue URL'),\n",
    ").properties(\n",
    "    title='Answer length per issue'\n",
    ")\n",
    "\n",
    "prompt_length_per_issue_chart & answer_length_per_issue_chart"
   ]
  }
 ],
 "metadata": {
  "kernelspec": {
   "display_name": "GLOBAL_ENV_3_9",
   "language": "python",
   "name": "python3"
  },
  "language_info": {
   "codemirror_mode": {
    "name": "ipython",
    "version": 3
   },
   "file_extension": ".py",
   "mimetype": "text/x-python",
   "name": "python",
   "nbconvert_exporter": "python",
   "pygments_lexer": "ipython3",
   "version": "3.9.19"
  }
 },
 "nbformat": 4,
 "nbformat_minor": 2
}
