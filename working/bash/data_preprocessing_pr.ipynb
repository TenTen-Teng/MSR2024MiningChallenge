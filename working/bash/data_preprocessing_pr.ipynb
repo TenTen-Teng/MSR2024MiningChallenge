{
 "cells": [
  {
   "cell_type": "markdown",
   "metadata": {},
   "source": [
    "# Pull Request Table - Data Cleaning"
   ]
  },
  {
   "cell_type": "code",
   "execution_count": 1,
   "metadata": {},
   "outputs": [],
   "source": [
    "import pandas as pd\n",
    "import helper\n",
    "import os"
   ]
  },
  {
   "cell_type": "code",
   "execution_count": 3,
   "metadata": {},
   "outputs": [],
   "source": [
    "# Read all json file paths.\n",
    "snapshots = [\n",
    "    \"snapshot_20230727\", \"snapshot_20230803\", \"snapshot_20230810\", \n",
    "    \"snapshot_20230817\", \"snapshot_20230824\", \"snapshot_20230831\"\n",
    "    ]\n",
    "dir_path = \"/Users/teng/UBCO/mds_labs/block4/542/data/DevGPT/\"\n",
    "\n",
    "file_paths = []\n",
    "for snapshot in snapshots:\n",
    "    file_path = os.path.join(dir_path, snapshot)\n",
    "    file_paths += helper.read_filepaths(file_path, \"pr\")"
   ]
  },
  {
   "cell_type": "code",
   "execution_count": 4,
   "metadata": {},
   "outputs": [
    {
     "name": "stdout",
     "output_type": "stream",
     "text": [
      "<class 'pandas.core.frame.DataFrame'>\n",
      "Index: 1008 entries, 0 to 192\n",
      "Data columns (total 21 columns):\n",
      " #   Column             Non-Null Count  Dtype \n",
      "---  ------             --------------  ----- \n",
      " 0   Type               1008 non-null   object\n",
      " 1   URL_pr             1008 non-null   object\n",
      " 2   Author             1008 non-null   object\n",
      " 3   RepoName           1008 non-null   object\n",
      " 4   RepoLanguage       990 non-null    object\n",
      " 5   Number             1008 non-null   int64 \n",
      " 6   Title              1008 non-null   object\n",
      " 7   Body               1008 non-null   object\n",
      " 8   CreatedAt          1008 non-null   object\n",
      " 9   ClosedAt           902 non-null    object\n",
      " 10  MergedAt           765 non-null    object\n",
      " 11  UpdatedAt          1008 non-null   object\n",
      " 12  State              1008 non-null   object\n",
      " 13  Additions          1008 non-null   int64 \n",
      " 14  Deletions          1008 non-null   int64 \n",
      " 15  ChangedFiles       1008 non-null   int64 \n",
      " 16  CommitsTotalCount  1008 non-null   int64 \n",
      " 17  CommitShas         575 non-null    object\n",
      " 18  ChatgptSharing     1008 non-null   object\n",
      " 19  CommitSha          433 non-null    object\n",
      " 20  source_date        1008 non-null   object\n",
      "dtypes: int64(5), object(16)\n",
      "memory usage: 173.2+ KB\n"
     ]
    }
   ],
   "source": [
    "# Load Json files.\n",
    "df = helper.load_dataframes(file_paths)\n",
    "\n",
    "# Rename URL to URL_pr.\n",
    "df.rename(columns={\"URL\": \"URL_pr\"}, inplace=True)\n",
    "df.info()"
   ]
  },
  {
   "cell_type": "markdown",
   "metadata": {},
   "source": [
    "## ChatGPTSharing Table"
   ]
  },
  {
   "cell_type": "code",
   "execution_count": 5,
   "metadata": {},
   "outputs": [
    {
     "name": "stdout",
     "output_type": "stream",
     "text": [
      "<class 'pandas.core.frame.DataFrame'>\n",
      "RangeIndex: 1169 entries, 0 to 1168\n",
      "Data columns (total 14 columns):\n",
      " #   Column              Non-Null Count  Dtype  \n",
      "---  ------              --------------  -----  \n",
      " 0   URL_pr              1169 non-null   object \n",
      " 1   RepoName            1169 non-null   object \n",
      " 2   URL_chatgptsharing  1169 non-null   object \n",
      " 3   Mention             1169 non-null   object \n",
      " 4   Status              1169 non-null   int64  \n",
      " 5   DateOfConversation  1090 non-null   object \n",
      " 6   DateOfAccess        1090 non-null   object \n",
      " 7   Title               1090 non-null   object \n",
      " 8   NumberOfPrompts     1090 non-null   float64\n",
      " 9   TokensOfPrompts     1090 non-null   float64\n",
      " 10  TokensOfAnswers     1090 non-null   float64\n",
      " 11  Model               1090 non-null   object \n",
      " 12  Conversations       1090 non-null   object \n",
      " 13  HTMLContent         1090 non-null   object \n",
      "dtypes: float64(3), int64(1), object(10)\n",
      "memory usage: 128.0+ KB\n"
     ]
    }
   ],
   "source": [
    "# chatgpt_sharing_columns = [\n",
    "#     \"URL\", \"Mention\", \"Status\", \"DateOfConversation\", \"DateOfAccess\", \n",
    "#     \"NumberOfPrompts\", \"TokensOfPrompts\", \"TokensOfAnswers\", \"Model\", \n",
    "#     \"Conversations\", \"HTMLContent\"\n",
    "#     ]\n",
    "\n",
    "# Create ChatGPTSharing table.\n",
    "# chatgpt_sharing_columns += [\"URL_Pr\", \"RepoName\"]\n",
    "records = []\n",
    "\n",
    "for idx, row in df[[\"URL_pr\", \"RepoName\", \"ChatgptSharing\"]].iterrows():\n",
    "    for item in row[\"ChatgptSharing\"]:\n",
    "        obs = {}\n",
    "        obs[\"URL_pr\"] = row[\"URL_pr\"]\n",
    "        obs[\"RepoName\"] = row[\"RepoName\"]\n",
    "        obs.update(item)\n",
    "        records.append(obs)\n",
    "\n",
    "df_chatgpt_sharing = pd.DataFrame(records)\n",
    "\n",
    "# Rename URL to URL_chatgptsharing.\n",
    "df_chatgpt_sharing.rename(columns={\"URL\": \"URL_chatgptsharing\"}, inplace=True)\n",
    "df_chatgpt_sharing.info()\n"
   ]
  },
  {
   "cell_type": "code",
   "execution_count": 6,
   "metadata": {},
   "outputs": [
    {
     "data": {
      "text/plain": [
       "{'MentionedURL': 'https://github.com/labdao/plex/pull/469',\n",
       " 'MentionedProperty': 'body',\n",
       " 'MentionedAuthor': 'AdamGoyer',\n",
       " 'MentionedText': 'The Chatgpt Thread used to create this pull request:\\r\\nhttps://chat.openai.com/share/8bd33825-e8c6-447f-b86e-5827453f3448'}"
      ]
     },
     "execution_count": 6,
     "metadata": {},
     "output_type": "execute_result"
    }
   ],
   "source": [
    "df_chatgpt_sharing[\"Mention\"][0]"
   ]
  },
  {
   "cell_type": "markdown",
   "metadata": {},
   "source": [
    "## Mention table\n",
    "\n",
    "`MentionedURL` is identical with `URL_pr`"
   ]
  },
  {
   "cell_type": "code",
   "execution_count": 9,
   "metadata": {},
   "outputs": [
    {
     "name": "stdout",
     "output_type": "stream",
     "text": [
      "<class 'pandas.core.frame.DataFrame'>\n",
      "RangeIndex: 1169 entries, 0 to 1168\n",
      "Data columns (total 8 columns):\n",
      " #   Column              Non-Null Count  Dtype \n",
      "---  ------              --------------  ----- \n",
      " 0   URL_pr              1169 non-null   object\n",
      " 1   RepoName            1169 non-null   object\n",
      " 2   URL_chatgptsharing  1169 non-null   object\n",
      " 3   MentionedURL        1169 non-null   object\n",
      " 4   MentionedProperty   1169 non-null   object\n",
      " 5   MentionedAuthor     1169 non-null   object\n",
      " 6   MentionedText       1169 non-null   object\n",
      " 7   MentionedPath       380 non-null    object\n",
      "dtypes: object(8)\n",
      "memory usage: 73.2+ KB\n"
     ]
    }
   ],
   "source": [
    "# mention_columns = [\n",
    "#     \"URL_pr\", \"RepoName\", \"URL_chatgptsharing\",\n",
    "#     \"MentionedURL\", \"MentionedProperty\", \"MentionedAuthor\", \"MentionedText\", \n",
    "#     \"MentionedPath\", \"MentionedIsAnswer\", \"MentionedUpvoteCount\"\n",
    "#     ]\n",
    "\n",
    "records = []\n",
    "\n",
    "for idx, row in df_chatgpt_sharing[\n",
    "    [\"URL_pr\", \"RepoName\", \"URL_chatgptsharing\", \"Mention\"]\n",
    "    ].iterrows():\n",
    "\n",
    "    if not isinstance(row[\"Mention\"], dict):\n",
    "        continue\n",
    "\n",
    "    obs = {}\n",
    "    obs[\"URL_pr\"] = row[\"URL_pr\"]\n",
    "    obs[\"RepoName\"] = row[\"RepoName\"]\n",
    "    obs[\"URL_chatgptsharing\"] = row[\"URL_chatgptsharing\"]\n",
    "    obs.update(row[\"Mention\"])\n",
    "    records.append(obs)\n",
    "\n",
    "df_mention = pd.DataFrame(records)\n",
    "df_mention.info()\n"
   ]
  },
  {
   "cell_type": "markdown",
   "metadata": {},
   "source": [
    "## Conversation Table"
   ]
  },
  {
   "cell_type": "code",
   "execution_count": 10,
   "metadata": {},
   "outputs": [
    {
     "name": "stdout",
     "output_type": "stream",
     "text": [
      "<class 'pandas.core.frame.DataFrame'>\n",
      "RangeIndex: 4904 entries, 0 to 4903\n",
      "Data columns (total 6 columns):\n",
      " #   Column              Non-Null Count  Dtype \n",
      "---  ------              --------------  ----- \n",
      " 0   URL_pr              4904 non-null   object\n",
      " 1   RepoName            4904 non-null   object\n",
      " 2   URL_chatgptsharing  4904 non-null   object\n",
      " 3   Prompt              4904 non-null   object\n",
      " 4   Answer              4904 non-null   object\n",
      " 5   ListOfCode          4904 non-null   object\n",
      "dtypes: object(6)\n",
      "memory usage: 230.0+ KB\n"
     ]
    }
   ],
   "source": [
    "# conversation_columns = [\"Prompt\", \"Answer\", \"ListOfCode\"]\n",
    "\n",
    "# Create Mention table.\n",
    "# conversation_columns += [\"URL_pr\", \"RepoName\", \"URL_chatgptsharing\"]\n",
    "records = []\n",
    "\n",
    "for idx, row in df_chatgpt_sharing[\n",
    "    [\"URL_pr\", \"RepoName\", \"URL_chatgptsharing\", \"Conversations\"]\n",
    "    ].iterrows():\n",
    "\n",
    "    if not isinstance(row[\"Conversations\"], list):\n",
    "        continue\n",
    "\n",
    "    for item in row[\"Conversations\"]:\n",
    "        obs = {}\n",
    "        obs[\"URL_pr\"] = row[\"URL_pr\"]\n",
    "        obs[\"RepoName\"] = row[\"RepoName\"]\n",
    "        obs[\"URL_chatgptsharing\"] = row[\"URL_chatgptsharing\"]\n",
    "        obs.update(item)\n",
    "        records.append(obs)\n",
    "\n",
    "df_conversation = pd.DataFrame(records)\n",
    "df_conversation.info()"
   ]
  },
  {
   "cell_type": "markdown",
   "metadata": {},
   "source": [
    "## Clean Up\n",
    "4 tables: `df_pr`, `df_chatgpt_sharing`, `df_mention`, `df_conversation`"
   ]
  },
  {
   "cell_type": "code",
   "execution_count": 11,
   "metadata": {},
   "outputs": [],
   "source": [
    "# Remove redundant columns\n",
    "df = df.drop(columns=\"ChatgptSharing\")\n",
    "df_chatgpt_sharing = df_chatgpt_sharing.drop(columns=[\"Mention\", \"Conversations\"])"
   ]
  },
  {
   "cell_type": "markdown",
   "metadata": {},
   "source": [
    "## Save to file"
   ]
  },
  {
   "cell_type": "code",
   "execution_count": 10,
   "metadata": {},
   "outputs": [],
   "source": [
    "df.to_csv(os.path.join(dir_path, \"cleaned\", \"pr.csv\"))\n",
    "df_chatgpt_sharing.to_csv(os.path.join(dir_path, \"cleaned\", \"pr_chatgpt_sharing.csv\"))\n",
    "df_mention.to_csv(os.path.join(dir_path, \"cleaned\", \"pr_mention.csv\"))\n",
    "df_conversation.to_csv(os.path.join(dir_path, \"cleaned\", \"pr_conversation.csv\"))"
   ]
  },
  {
   "cell_type": "markdown",
   "metadata": {},
   "source": [
    "## Combine to a big dataframe"
   ]
  },
  {
   "cell_type": "code",
   "execution_count": 12,
   "metadata": {},
   "outputs": [],
   "source": [
    "# Merge ChatGptSharing table to PR table.\n",
    "df_total = pd.merge(\n",
    "    df, df_chatgpt_sharing,\n",
    "    left_on=[\"URL_pr\", \"RepoName\"], \n",
    "    right_on=[\"URL_pr\", \"RepoName\"], \n",
    "    how=\"left\"\n",
    ")"
   ]
  },
  {
   "cell_type": "code",
   "execution_count": 13,
   "metadata": {},
   "outputs": [],
   "source": [
    "# Merge Mention table to PR table.\n",
    "df_total = pd.merge(\n",
    "    df_total, df_mention,\n",
    "    left_on=[\"URL_pr\", \"RepoName\"], \n",
    "    right_on=[\"URL_pr\", \"RepoName\"], \n",
    "    how=\"left\"\n",
    ")"
   ]
  },
  {
   "cell_type": "code",
   "execution_count": 14,
   "metadata": {},
   "outputs": [],
   "source": [
    "# Merge Conversation table to PR table.\n",
    "df_total = pd.merge(\n",
    "    df_total, df_conversation,\n",
    "    left_on=[\"URL_pr\", \"RepoName\"], \n",
    "    right_on=[\"URL_pr\", \"RepoName\"], \n",
    "    how=\"left\"\n",
    ")"
   ]
  },
  {
   "cell_type": "code",
   "execution_count": 15,
   "metadata": {},
   "outputs": [
    {
     "data": {
      "text/plain": [
       "Index(['Type', 'URL_pr', 'Author', 'RepoName', 'RepoLanguage', 'Number',\n",
       "       'Title_x', 'Body', 'CreatedAt', 'ClosedAt', 'MergedAt', 'UpdatedAt',\n",
       "       'State', 'Additions', 'Deletions', 'ChangedFiles', 'CommitsTotalCount',\n",
       "       'CommitShas', 'CommitSha', 'source_date', 'URL_chatgptsharing_x',\n",
       "       'Status', 'DateOfConversation', 'DateOfAccess', 'Title_y',\n",
       "       'NumberOfPrompts', 'TokensOfPrompts', 'TokensOfAnswers', 'Model',\n",
       "       'HTMLContent', 'URL_chatgptsharing_y', 'MentionedURL',\n",
       "       'MentionedProperty', 'MentionedAuthor', 'MentionedText',\n",
       "       'MentionedPath', 'URL_chatgptsharing', 'Prompt', 'Answer',\n",
       "       'ListOfCode'],\n",
       "      dtype='object')"
      ]
     },
     "execution_count": 15,
     "metadata": {},
     "output_type": "execute_result"
    }
   ],
   "source": [
    "df_total.columns"
   ]
  },
  {
   "cell_type": "code",
   "execution_count": 16,
   "metadata": {},
   "outputs": [
    {
     "name": "stdout",
     "output_type": "stream",
     "text": [
      "<class 'pandas.core.frame.DataFrame'>\n",
      "RangeIndex: 2229510 entries, 0 to 2229509\n",
      "Data columns (total 40 columns):\n",
      " #   Column                Dtype  \n",
      "---  ------                -----  \n",
      " 0   Type                  object \n",
      " 1   URL_pr                object \n",
      " 2   Author                object \n",
      " 3   RepoName              object \n",
      " 4   RepoLanguage          object \n",
      " 5   Number                int64  \n",
      " 6   Title_x               object \n",
      " 7   Body                  object \n",
      " 8   CreatedAt             object \n",
      " 9   ClosedAt              object \n",
      " 10  MergedAt              object \n",
      " 11  UpdatedAt             object \n",
      " 12  State                 object \n",
      " 13  Additions             int64  \n",
      " 14  Deletions             int64  \n",
      " 15  ChangedFiles          int64  \n",
      " 16  CommitsTotalCount     int64  \n",
      " 17  CommitShas            object \n",
      " 18  CommitSha             object \n",
      " 19  source_date           object \n",
      " 20  URL_chatgptsharing_x  object \n",
      " 21  Status                int64  \n",
      " 22  DateOfConversation    object \n",
      " 23  DateOfAccess          object \n",
      " 24  Title_y               object \n",
      " 25  NumberOfPrompts       float64\n",
      " 26  TokensOfPrompts       float64\n",
      " 27  TokensOfAnswers       float64\n",
      " 28  Model                 object \n",
      " 29  HTMLContent           object \n",
      " 30  URL_chatgptsharing_y  object \n",
      " 31  MentionedURL          object \n",
      " 32  MentionedProperty     object \n",
      " 33  MentionedAuthor       object \n",
      " 34  MentionedText         object \n",
      " 35  MentionedPath         object \n",
      " 36  URL_chatgptsharing    object \n",
      " 37  Prompt                object \n",
      " 38  Answer                object \n",
      " 39  ListOfCode            object \n",
      "dtypes: float64(3), int64(6), object(31)\n",
      "memory usage: 680.4+ MB\n"
     ]
    }
   ],
   "source": [
    "df_total.info()"
   ]
  },
  {
   "cell_type": "code",
   "execution_count": 16,
   "metadata": {},
   "outputs": [],
   "source": [
    "# Save to file.\n",
    "df_total.to_csv(os.path.join(dir_path, \"cleaned\", \"pr_total.csv\"))"
   ]
  }
 ],
 "metadata": {
  "kernelspec": {
   "display_name": "base",
   "language": "python",
   "name": "python3"
  },
  "language_info": {
   "codemirror_mode": {
    "name": "ipython",
    "version": 3
   },
   "file_extension": ".py",
   "mimetype": "text/x-python",
   "name": "python",
   "nbconvert_exporter": "python",
   "pygments_lexer": "ipython3",
   "version": "3.12.2"
  }
 },
 "nbformat": 4,
 "nbformat_minor": 2
}
