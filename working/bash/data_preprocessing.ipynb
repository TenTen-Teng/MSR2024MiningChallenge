{
 "cells": [
  {
   "cell_type": "markdown",
   "metadata": {},
   "source": [
    "# Pull Request Table - Data Cleaning"
   ]
  },
  {
   "cell_type": "code",
   "execution_count": 1,
   "metadata": {},
   "outputs": [],
   "source": [
    "import pandas as pd\n",
    "import helper\n",
    "import os"
   ]
  },
  {
   "cell_type": "code",
   "execution_count": 2,
   "metadata": {},
   "outputs": [],
   "source": [
    "# Read all json file paths.\n",
    "snapshots = [\n",
    "    \"snapshot_20230727\", \"snapshot_20230803\", \"snapshot_20230810\", \n",
    "    \"snapshot_20230817\", \"snapshot_20230824\", \"snapshot_20230831\"\n",
    "    ]\n",
    "dir_path = \"/Users/teng/UBCO/mds_labs/block4/542/data/DevGPT/\"\n",
    "\n",
    "file_paths = []\n",
    "for snapshot in snapshots:\n",
    "    file_path = os.path.join(dir_path, snapshot)\n",
    "    file_paths += helper.read_filepaths(file_path, \"pr\")"
   ]
  },
  {
   "cell_type": "code",
   "execution_count": 3,
   "metadata": {},
   "outputs": [
    {
     "name": "stdout",
     "output_type": "stream",
     "text": [
      "<class 'pandas.core.frame.DataFrame'>\n",
      "Index: 1008 entries, 0 to 192\n",
      "Data columns (total 21 columns):\n",
      " #   Column             Non-Null Count  Dtype \n",
      "---  ------             --------------  ----- \n",
      " 0   Type               1008 non-null   object\n",
      " 1   URL_pr             1008 non-null   object\n",
      " 2   Author             1008 non-null   object\n",
      " 3   RepoName           1008 non-null   object\n",
      " 4   RepoLanguage       990 non-null    object\n",
      " 5   Number             1008 non-null   int64 \n",
      " 6   Title              1008 non-null   object\n",
      " 7   Body               1008 non-null   object\n",
      " 8   CreatedAt          1008 non-null   object\n",
      " 9   ClosedAt           902 non-null    object\n",
      " 10  MergedAt           765 non-null    object\n",
      " 11  UpdatedAt          1008 non-null   object\n",
      " 12  State              1008 non-null   object\n",
      " 13  Additions          1008 non-null   int64 \n",
      " 14  Deletions          1008 non-null   int64 \n",
      " 15  ChangedFiles       1008 non-null   int64 \n",
      " 16  CommitsTotalCount  1008 non-null   int64 \n",
      " 17  CommitShas         575 non-null    object\n",
      " 18  ChatgptSharing     1008 non-null   object\n",
      " 19  CommitSha          433 non-null    object\n",
      " 20  source_date        1008 non-null   object\n",
      "dtypes: int64(5), object(16)\n",
      "memory usage: 173.2+ KB\n"
     ]
    }
   ],
   "source": [
    "# Load Json files.\n",
    "df = helper.load_dataframes(file_paths)\n",
    "\n",
    "# Rename URL to URL_pr.\n",
    "df.rename(columns={\"URL\": \"URL_pr\"}, inplace=True)\n",
    "df.info()"
   ]
  },
  {
   "cell_type": "markdown",
   "metadata": {},
   "source": [
    "## ChatGPTSharing Table"
   ]
  },
  {
   "cell_type": "code",
   "execution_count": 5,
   "metadata": {},
   "outputs": [
    {
     "name": "stdout",
     "output_type": "stream",
     "text": [
      "<class 'pandas.core.frame.DataFrame'>\n",
      "RangeIndex: 1169 entries, 0 to 1168\n",
      "Data columns (total 14 columns):\n",
      " #   Column              Non-Null Count  Dtype  \n",
      "---  ------              --------------  -----  \n",
      " 0   URL_pr              1169 non-null   object \n",
      " 1   RepoName            1169 non-null   object \n",
      " 2   URL_chatgptsharing  1169 non-null   object \n",
      " 3   Mention             1169 non-null   object \n",
      " 4   Status              1169 non-null   int64  \n",
      " 5   DateOfConversation  1090 non-null   object \n",
      " 6   DateOfAccess        1090 non-null   object \n",
      " 7   Title               1090 non-null   object \n",
      " 8   NumberOfPrompts     1090 non-null   float64\n",
      " 9   TokensOfPrompts     1090 non-null   float64\n",
      " 10  TokensOfAnswers     1090 non-null   float64\n",
      " 11  Model               1090 non-null   object \n",
      " 12  Conversations       1090 non-null   object \n",
      " 13  HTMLContent         1090 non-null   object \n",
      "dtypes: float64(3), int64(1), object(10)\n",
      "memory usage: 128.0+ KB\n"
     ]
    }
   ],
   "source": [
    "# chatgpt_sharing_columns = [\n",
    "#     \"URL\", \"Mention\", \"Status\", \"DateOfConversation\", \"DateOfAccess\", \n",
    "#     \"NumberOfPrompts\", \"TokensOfPrompts\", \"TokensOfAnswers\", \"Model\", \n",
    "#     \"Conversations\", \"HTMLContent\"\n",
    "#     ]\n",
    "\n",
    "# Create ChatGPTSharing table.\n",
    "# chatgpt_sharing_columns += [\"URL_Pr\", \"RepoName\"]\n",
    "records = []\n",
    "\n",
    "for idx, row in df[[\"URL_pr\", \"RepoName\", \"ChatgptSharing\"]].iterrows():\n",
    "    for item in row[\"ChatgptSharing\"]:\n",
    "        obs = {}\n",
    "        obs[\"URL_pr\"] = row[\"URL_pr\"]\n",
    "        obs[\"RepoName\"] = row[\"RepoName\"]\n",
    "        obs.update(item)\n",
    "        records.append(obs)\n",
    "\n",
    "df_chatgpt_sharing = pd.DataFrame(records)\n",
    "\n",
    "# Rename URL to URL_chatgptsharing.\n",
    "df_chatgpt_sharing.rename(columns={\"URL\": \"URL_chatgptsharing\"}, inplace=True)\n",
    "df_chatgpt_sharing.info()\n"
   ]
  },
  {
   "cell_type": "code",
   "execution_count": 6,
   "metadata": {},
   "outputs": [
    {
     "data": {
      "text/plain": [
       "{'MentionedURL': 'https://github.com/labdao/plex/pull/469',\n",
       " 'MentionedProperty': 'body',\n",
       " 'MentionedAuthor': 'AdamGoyer',\n",
       " 'MentionedText': 'The Chatgpt Thread used to create this pull request:\\r\\nhttps://chat.openai.com/share/8bd33825-e8c6-447f-b86e-5827453f3448'}"
      ]
     },
     "execution_count": 6,
     "metadata": {},
     "output_type": "execute_result"
    }
   ],
   "source": [
    "df_chatgpt_sharing[\"Mention\"][0]"
   ]
  },
  {
   "cell_type": "markdown",
   "metadata": {},
   "source": [
    "## Mention table\n",
    "\n",
    "`MentionedURL` is identical with `URL_pr`"
   ]
  },
  {
   "cell_type": "code",
   "execution_count": 7,
   "metadata": {},
   "outputs": [
    {
     "data": {
      "text/html": [
       "<div>\n",
       "<style scoped>\n",
       "    .dataframe tbody tr th:only-of-type {\n",
       "        vertical-align: middle;\n",
       "    }\n",
       "\n",
       "    .dataframe tbody tr th {\n",
       "        vertical-align: top;\n",
       "    }\n",
       "\n",
       "    .dataframe thead th {\n",
       "        text-align: right;\n",
       "    }\n",
       "</style>\n",
       "<table border=\"1\" class=\"dataframe\">\n",
       "  <thead>\n",
       "    <tr style=\"text-align: right;\">\n",
       "      <th></th>\n",
       "      <th>URL_pr</th>\n",
       "      <th>RepoName</th>\n",
       "      <th>URL_chatgptsharing</th>\n",
       "      <th>MentionedURL</th>\n",
       "      <th>MentionedProperty</th>\n",
       "      <th>MentionedAuthor</th>\n",
       "      <th>MentionedText</th>\n",
       "      <th>MentionedPath</th>\n",
       "    </tr>\n",
       "  </thead>\n",
       "  <tbody>\n",
       "    <tr>\n",
       "      <th>0</th>\n",
       "      <td>https://github.com/labdao/plex/pull/469</td>\n",
       "      <td>labdao/plex</td>\n",
       "      <td>https://chat.openai.com/share/8bd33825-e8c6-44...</td>\n",
       "      <td>https://github.com/labdao/plex/pull/469</td>\n",
       "      <td>body</td>\n",
       "      <td>AdamGoyer</td>\n",
       "      <td>The Chatgpt Thread used to create this pull re...</td>\n",
       "      <td>NaN</td>\n",
       "    </tr>\n",
       "    <tr>\n",
       "      <th>1</th>\n",
       "      <td>https://github.com/labdao/plex/pull/468</td>\n",
       "      <td>labdao/plex</td>\n",
       "      <td>https://chat.openai.com/share/2c4b0dba-429c-4c...</td>\n",
       "      <td>https://github.com/labdao/plex/pull/468</td>\n",
       "      <td>body</td>\n",
       "      <td>AdamGoyer</td>\n",
       "      <td>Link to the ChatGPT conversation used to creat...</td>\n",
       "      <td>NaN</td>\n",
       "    </tr>\n",
       "    <tr>\n",
       "      <th>2</th>\n",
       "      <td>https://github.com/ActivityWatch/aw-webui/pull...</td>\n",
       "      <td>ActivityWatch/aw-webui</td>\n",
       "      <td>https://chat.openai.com/share/0c7588ee-b13b-41...</td>\n",
       "      <td>https://github.com/ActivityWatch/aw-webui/pull...</td>\n",
       "      <td>body</td>\n",
       "      <td>ErikBjare</td>\n",
       "      <td>Came up with this while thinking about the bug...</td>\n",
       "      <td>NaN</td>\n",
       "    </tr>\n",
       "    <tr>\n",
       "      <th>3</th>\n",
       "      <td>https://github.com/open-learning-exchange/mypl...</td>\n",
       "      <td>open-learning-exchange/myplanet</td>\n",
       "      <td>https://chat.openai.com/share/be516fdf-e0e6-46...</td>\n",
       "      <td>https://github.com/open-learning-exchange/mypl...</td>\n",
       "      <td>body</td>\n",
       "      <td>Okuro3499</td>\n",
       "      <td>this pull request contains french translations...</td>\n",
       "      <td>NaN</td>\n",
       "    </tr>\n",
       "    <tr>\n",
       "      <th>4</th>\n",
       "      <td>https://github.com/open-learning-exchange/mypl...</td>\n",
       "      <td>open-learning-exchange/myplanet</td>\n",
       "      <td>https://chat.openai.com/share/f194daa6-1c52-49...</td>\n",
       "      <td>https://github.com/open-learning-exchange/mypl...</td>\n",
       "      <td>body</td>\n",
       "      <td>Okuro3499</td>\n",
       "      <td>this pull request contains french translations...</td>\n",
       "      <td>NaN</td>\n",
       "    </tr>\n",
       "  </tbody>\n",
       "</table>\n",
       "</div>"
      ],
      "text/plain": [
       "                                              URL_pr  \\\n",
       "0            https://github.com/labdao/plex/pull/469   \n",
       "1            https://github.com/labdao/plex/pull/468   \n",
       "2  https://github.com/ActivityWatch/aw-webui/pull...   \n",
       "3  https://github.com/open-learning-exchange/mypl...   \n",
       "4  https://github.com/open-learning-exchange/mypl...   \n",
       "\n",
       "                          RepoName  \\\n",
       "0                      labdao/plex   \n",
       "1                      labdao/plex   \n",
       "2           ActivityWatch/aw-webui   \n",
       "3  open-learning-exchange/myplanet   \n",
       "4  open-learning-exchange/myplanet   \n",
       "\n",
       "                                  URL_chatgptsharing  \\\n",
       "0  https://chat.openai.com/share/8bd33825-e8c6-44...   \n",
       "1  https://chat.openai.com/share/2c4b0dba-429c-4c...   \n",
       "2  https://chat.openai.com/share/0c7588ee-b13b-41...   \n",
       "3  https://chat.openai.com/share/be516fdf-e0e6-46...   \n",
       "4  https://chat.openai.com/share/f194daa6-1c52-49...   \n",
       "\n",
       "                                        MentionedURL MentionedProperty  \\\n",
       "0            https://github.com/labdao/plex/pull/469              body   \n",
       "1            https://github.com/labdao/plex/pull/468              body   \n",
       "2  https://github.com/ActivityWatch/aw-webui/pull...              body   \n",
       "3  https://github.com/open-learning-exchange/mypl...              body   \n",
       "4  https://github.com/open-learning-exchange/mypl...              body   \n",
       "\n",
       "  MentionedAuthor                                      MentionedText  \\\n",
       "0       AdamGoyer  The Chatgpt Thread used to create this pull re...   \n",
       "1       AdamGoyer  Link to the ChatGPT conversation used to creat...   \n",
       "2       ErikBjare  Came up with this while thinking about the bug...   \n",
       "3       Okuro3499  this pull request contains french translations...   \n",
       "4       Okuro3499  this pull request contains french translations...   \n",
       "\n",
       "  MentionedPath  \n",
       "0           NaN  \n",
       "1           NaN  \n",
       "2           NaN  \n",
       "3           NaN  \n",
       "4           NaN  "
      ]
     },
     "execution_count": 7,
     "metadata": {},
     "output_type": "execute_result"
    }
   ],
   "source": [
    "# mention_columns = [\n",
    "#     \"URL_pr\", \"RepoName\", \"URL_chatgptsharing\",\n",
    "#     \"MentionedURL\", \"MentionedProperty\", \"MentionedAuthor\", \"MentionedText\", \n",
    "#     \"MentionedPath\", \"MentionedIsAnswer\", \"MentionedUpvoteCount\"\n",
    "#     ]\n",
    "\n",
    "records = []\n",
    "\n",
    "for idx, row in df_chatgpt_sharing[\n",
    "    [\"URL_pr\", \"RepoName\", \"URL_chatgptsharing\", \"Mention\"]\n",
    "    ].iterrows():\n",
    "    obs = {}\n",
    "    obs[\"URL_pr\"] = row[\"URL_pr\"]\n",
    "    obs[\"RepoName\"] = row[\"RepoName\"]\n",
    "    obs[\"URL_chatgptsharing\"] = row[\"URL_chatgptsharing\"]\n",
    "    obs.update(row[\"Mention\"])\n",
    "    records.append(obs)\n",
    "\n",
    "df_mention = pd.DataFrame(records)\n",
    "df_mention.head()\n"
   ]
  },
  {
   "cell_type": "markdown",
   "metadata": {},
   "source": [
    "## Conversation Table"
   ]
  },
  {
   "cell_type": "code",
   "execution_count": 8,
   "metadata": {},
   "outputs": [
    {
     "data": {
      "text/html": [
       "<div>\n",
       "<style scoped>\n",
       "    .dataframe tbody tr th:only-of-type {\n",
       "        vertical-align: middle;\n",
       "    }\n",
       "\n",
       "    .dataframe tbody tr th {\n",
       "        vertical-align: top;\n",
       "    }\n",
       "\n",
       "    .dataframe thead th {\n",
       "        text-align: right;\n",
       "    }\n",
       "</style>\n",
       "<table border=\"1\" class=\"dataframe\">\n",
       "  <thead>\n",
       "    <tr style=\"text-align: right;\">\n",
       "      <th></th>\n",
       "      <th>URL_pr</th>\n",
       "      <th>RepoName</th>\n",
       "      <th>URL_chatgptsharing</th>\n",
       "      <th>Prompt</th>\n",
       "      <th>Answer</th>\n",
       "      <th>ListOfCode</th>\n",
       "    </tr>\n",
       "  </thead>\n",
       "  <tbody>\n",
       "    <tr>\n",
       "      <th>0</th>\n",
       "      <td>https://github.com/labdao/plex/pull/469</td>\n",
       "      <td>labdao/plex</td>\n",
       "      <td>https://chat.openai.com/share/8bd33825-e8c6-44...</td>\n",
       "      <td>Good evening Chatgpt,\\nI'd like your help to w...</td>\n",
       "      <td>Thanks for sharing the README file for Open Ba...</td>\n",
       "      <td>[]</td>\n",
       "    </tr>\n",
       "    <tr>\n",
       "      <th>1</th>\n",
       "      <td>https://github.com/labdao/plex/pull/469</td>\n",
       "      <td>labdao/plex</td>\n",
       "      <td>https://chat.openai.com/share/8bd33825-e8c6-44...</td>\n",
       "      <td>Here is the PLEX readme, I think this will ans...</td>\n",
       "      <td>Thanks for sharing the README file for the PLE...</td>\n",
       "      <td>[]</td>\n",
       "    </tr>\n",
       "    <tr>\n",
       "      <th>2</th>\n",
       "      <td>https://github.com/labdao/plex/pull/469</td>\n",
       "      <td>labdao/plex</td>\n",
       "      <td>https://chat.openai.com/share/8bd33825-e8c6-44...</td>\n",
       "      <td>Essencially PLEX loads an openbabel docker con...</td>\n",
       "      <td>Based on the given information, it looks like ...</td>\n",
       "      <td>[{'ReplaceString': '[CODE_BLOCK_0]', 'Type': '...</td>\n",
       "    </tr>\n",
       "    <tr>\n",
       "      <th>3</th>\n",
       "      <td>https://github.com/labdao/plex/pull/469</td>\n",
       "      <td>labdao/plex</td>\n",
       "      <td>https://chat.openai.com/share/8bd33825-e8c6-44...</td>\n",
       "      <td>Excellent work chat, I think we should also ex...</td>\n",
       "      <td>These JSON files are indeed configuration file...</td>\n",
       "      <td>[]</td>\n",
       "    </tr>\n",
       "    <tr>\n",
       "      <th>4</th>\n",
       "      <td>https://github.com/labdao/plex/pull/469</td>\n",
       "      <td>labdao/plex</td>\n",
       "      <td>https://chat.openai.com/share/8bd33825-e8c6-44...</td>\n",
       "      <td>Noted,\\nTake a look at this docker file, and t...</td>\n",
       "      <td>This Dockerfile is used to create a Docker ima...</td>\n",
       "      <td>[]</td>\n",
       "    </tr>\n",
       "  </tbody>\n",
       "</table>\n",
       "</div>"
      ],
      "text/plain": [
       "                                    URL_pr     RepoName  \\\n",
       "0  https://github.com/labdao/plex/pull/469  labdao/plex   \n",
       "1  https://github.com/labdao/plex/pull/469  labdao/plex   \n",
       "2  https://github.com/labdao/plex/pull/469  labdao/plex   \n",
       "3  https://github.com/labdao/plex/pull/469  labdao/plex   \n",
       "4  https://github.com/labdao/plex/pull/469  labdao/plex   \n",
       "\n",
       "                                  URL_chatgptsharing  \\\n",
       "0  https://chat.openai.com/share/8bd33825-e8c6-44...   \n",
       "1  https://chat.openai.com/share/8bd33825-e8c6-44...   \n",
       "2  https://chat.openai.com/share/8bd33825-e8c6-44...   \n",
       "3  https://chat.openai.com/share/8bd33825-e8c6-44...   \n",
       "4  https://chat.openai.com/share/8bd33825-e8c6-44...   \n",
       "\n",
       "                                              Prompt  \\\n",
       "0  Good evening Chatgpt,\\nI'd like your help to w...   \n",
       "1  Here is the PLEX readme, I think this will ans...   \n",
       "2  Essencially PLEX loads an openbabel docker con...   \n",
       "3  Excellent work chat, I think we should also ex...   \n",
       "4  Noted,\\nTake a look at this docker file, and t...   \n",
       "\n",
       "                                              Answer  \\\n",
       "0  Thanks for sharing the README file for Open Ba...   \n",
       "1  Thanks for sharing the README file for the PLE...   \n",
       "2  Based on the given information, it looks like ...   \n",
       "3  These JSON files are indeed configuration file...   \n",
       "4  This Dockerfile is used to create a Docker ima...   \n",
       "\n",
       "                                          ListOfCode  \n",
       "0                                                 []  \n",
       "1                                                 []  \n",
       "2  [{'ReplaceString': '[CODE_BLOCK_0]', 'Type': '...  \n",
       "3                                                 []  \n",
       "4                                                 []  "
      ]
     },
     "execution_count": 8,
     "metadata": {},
     "output_type": "execute_result"
    }
   ],
   "source": [
    "# conversation_columns = [\"Prompt\", \"Answer\", \"ListOfCode\"]\n",
    "\n",
    "# Create Mention table.\n",
    "# conversation_columns += [\"URL_pr\", \"RepoName\", \"URL_chatgptsharing\"]\n",
    "records = []\n",
    "\n",
    "for idx, row in df_chatgpt_sharing[\n",
    "    [\"URL_pr\", \"RepoName\", \"URL_chatgptsharing\", \"Conversations\"]\n",
    "    ].iterrows():\n",
    "    for item in row[\"Conversations\"]:\n",
    "        obs = {}\n",
    "        obs[\"URL_pr\"] = row[\"URL_pr\"]\n",
    "        obs[\"RepoName\"] = row[\"RepoName\"]\n",
    "        obs[\"URL_chatgptsharing\"] = row[\"URL_chatgptsharing\"]\n",
    "        obs.update(item)\n",
    "        records.append(obs)\n",
    "    break\n",
    "\n",
    "df_conversation = pd.DataFrame(records)\n",
    "df_conversation.head()"
   ]
  },
  {
   "cell_type": "markdown",
   "metadata": {},
   "source": [
    "## Clean Up\n",
    "4 tables: `df_pr`, `df_chatgpt_sharing`, `df_mention`, `df_conversation`"
   ]
  },
  {
   "cell_type": "code",
   "execution_count": 9,
   "metadata": {},
   "outputs": [],
   "source": [
    "# Remove redundant columns\n",
    "df = df.drop(columns=\"ChatgptSharing\")\n",
    "df_chatgpt_sharing = df_chatgpt_sharing.drop(columns=[\"Mention\", \"Conversations\"])"
   ]
  },
  {
   "cell_type": "markdown",
   "metadata": {},
   "source": [
    "## Save to file"
   ]
  },
  {
   "cell_type": "code",
   "execution_count": 10,
   "metadata": {},
   "outputs": [],
   "source": [
    "df.to_csv(os.path.join(dir_path, \"cleaned\", \"pr.csv\"))\n",
    "df_chatgpt_sharing.to_csv(os.path.join(dir_path, \"cleaned\", \"pr_chatgpt_sharing.csv\"))\n",
    "df_mention.to_csv(os.path.join(dir_path, \"cleaned\", \"pr_mention.csv\"))\n",
    "df_conversation.to_csv(os.path.join(dir_path, \"cleaned\", \"pr_conversation.csv\"))"
   ]
  },
  {
   "cell_type": "markdown",
   "metadata": {},
   "source": [
    "# Combine to a big dataframe"
   ]
  },
  {
   "cell_type": "code",
   "execution_count": 11,
   "metadata": {},
   "outputs": [],
   "source": [
    "# Merge ChatGptSharing table to PR table.\n",
    "df_total = pd.merge(\n",
    "    df, df_chatgpt_sharing,\n",
    "    left_on=[\"URL_pr\", \"RepoName\"], \n",
    "    right_on=[\"URL_pr\", \"RepoName\"], \n",
    "    how=\"left\"\n",
    ")"
   ]
  },
  {
   "cell_type": "code",
   "execution_count": 12,
   "metadata": {},
   "outputs": [],
   "source": [
    "# Merge Mention table to PR table.\n",
    "df_total = pd.merge(\n",
    "    df_total, df_mention,\n",
    "    left_on=[\"URL_pr\", \"RepoName\"], \n",
    "    right_on=[\"URL_pr\", \"RepoName\"], \n",
    "    how=\"left\"\n",
    ")"
   ]
  },
  {
   "cell_type": "code",
   "execution_count": 13,
   "metadata": {},
   "outputs": [],
   "source": [
    "# Merge Conversation table to PR table.\n",
    "df_total = pd.merge(\n",
    "    df_total, df_conversation,\n",
    "    left_on=[\"URL_pr\", \"RepoName\"], \n",
    "    right_on=[\"URL_pr\", \"RepoName\"], \n",
    "    how=\"left\"\n",
    ")"
   ]
  },
  {
   "cell_type": "code",
   "execution_count": 14,
   "metadata": {},
   "outputs": [
    {
     "data": {
      "text/plain": [
       "Index(['Type', 'URL_pr', 'Author', 'RepoName', 'RepoLanguage', 'Number',\n",
       "       'Title_x', 'Body', 'CreatedAt', 'ClosedAt', 'MergedAt', 'UpdatedAt',\n",
       "       'State', 'Additions', 'Deletions', 'ChangedFiles', 'CommitsTotalCount',\n",
       "       'CommitShas', 'CommitSha', 'source_date', 'URL_chatgptsharing_x',\n",
       "       'Status', 'DateOfConversation', 'DateOfAccess', 'Title_y',\n",
       "       'NumberOfPrompts', 'TokensOfPrompts', 'TokensOfAnswers', 'Model',\n",
       "       'HTMLContent', 'URL_chatgptsharing_y', 'MentionedURL',\n",
       "       'MentionedProperty', 'MentionedAuthor', 'MentionedText',\n",
       "       'MentionedPath', 'URL_chatgptsharing', 'Prompt', 'Answer',\n",
       "       'ListOfCode'],\n",
       "      dtype='object')"
      ]
     },
     "execution_count": 14,
     "metadata": {},
     "output_type": "execute_result"
    }
   ],
   "source": [
    "df_total.columns"
   ]
  },
  {
   "cell_type": "code",
   "execution_count": 15,
   "metadata": {},
   "outputs": [
    {
     "name": "stdout",
     "output_type": "stream",
     "text": [
      "<class 'pandas.core.frame.DataFrame'>\n",
      "RangeIndex: 53415 entries, 0 to 53414\n",
      "Data columns (total 40 columns):\n",
      " #   Column                Non-Null Count  Dtype  \n",
      "---  ------                --------------  -----  \n",
      " 0   Type                  53415 non-null  object \n",
      " 1   URL_pr                53415 non-null  object \n",
      " 2   Author                53415 non-null  object \n",
      " 3   RepoName              53415 non-null  object \n",
      " 4   RepoLanguage          52767 non-null  object \n",
      " 5   Number                53415 non-null  int64  \n",
      " 6   Title_x               53415 non-null  object \n",
      " 7   Body                  53415 non-null  object \n",
      " 8   CreatedAt             53415 non-null  object \n",
      " 9   ClosedAt              49042 non-null  object \n",
      " 10  MergedAt              41371 non-null  object \n",
      " 11  UpdatedAt             53415 non-null  object \n",
      " 12  State                 53415 non-null  object \n",
      " 13  Additions             53415 non-null  int64  \n",
      " 14  Deletions             53415 non-null  int64  \n",
      " 15  ChangedFiles          53415 non-null  int64  \n",
      " 16  CommitsTotalCount     53415 non-null  int64  \n",
      " 17  CommitShas            34151 non-null  object \n",
      " 18  CommitSha             19264 non-null  object \n",
      " 19  source_date           53415 non-null  object \n",
      " 20  URL_chatgptsharing_x  53415 non-null  object \n",
      " 21  Status                53415 non-null  int64  \n",
      " 22  DateOfConversation    49849 non-null  object \n",
      " 23  DateOfAccess          49849 non-null  object \n",
      " 24  Title_y               49849 non-null  object \n",
      " 25  NumberOfPrompts       49849 non-null  float64\n",
      " 26  TokensOfPrompts       49849 non-null  float64\n",
      " 27  TokensOfAnswers       49849 non-null  float64\n",
      " 28  Model                 49849 non-null  object \n",
      " 29  HTMLContent           49849 non-null  object \n",
      " 30  URL_chatgptsharing_y  53415 non-null  object \n",
      " 31  MentionedURL          53415 non-null  object \n",
      " 32  MentionedProperty     53415 non-null  object \n",
      " 33  MentionedAuthor       53415 non-null  object \n",
      " 34  MentionedText         53415 non-null  object \n",
      " 35  MentionedPath         15075 non-null  object \n",
      " 36  URL_chatgptsharing    1296 non-null   object \n",
      " 37  Prompt                1296 non-null   object \n",
      " 38  Answer                1296 non-null   object \n",
      " 39  ListOfCode            1296 non-null   object \n",
      "dtypes: float64(3), int64(6), object(31)\n",
      "memory usage: 16.3+ MB\n"
     ]
    }
   ],
   "source": [
    "df_total.info()"
   ]
  },
  {
   "cell_type": "code",
   "execution_count": 16,
   "metadata": {},
   "outputs": [],
   "source": [
    "# Save to file.\n",
    "df_total.to_csv(os.path.join(dir_path, \"cleaned\", \"pr_total.csv\"))"
   ]
  }
 ],
 "metadata": {
  "kernelspec": {
   "display_name": "base",
   "language": "python",
   "name": "python3"
  },
  "language_info": {
   "codemirror_mode": {
    "name": "ipython",
    "version": 3
   },
   "file_extension": ".py",
   "mimetype": "text/x-python",
   "name": "python",
   "nbconvert_exporter": "python",
   "pygments_lexer": "ipython3",
   "version": "3.12.2"
  }
 },
 "nbformat": 4,
 "nbformat_minor": 2
}
