{
 "cells": [
  {
   "cell_type": "markdown",
   "metadata": {},
   "source": [
    "# Data Cleaning"
   ]
  },
  {
   "cell_type": "code",
   "execution_count": 1,
   "metadata": {},
   "outputs": [],
   "source": [
    "import pandas as pd\n",
    "import helper\n",
    "import os"
   ]
  },
  {
   "cell_type": "code",
   "execution_count": 2,
   "metadata": {},
   "outputs": [],
   "source": [
    "# Set up file paths and target tables.\n",
    "\n",
    "snapshots = [\n",
    "    \"snapshot_20230727\", \"snapshot_20230831\"\n",
    "    ]\n",
    "dir_path = \"~/DevGPT/\"\n",
    "target = \"pr\"\n",
    "URL_rename = \"URL_pr\""
   ]
  },
  {
   "cell_type": "code",
   "execution_count": 3,
   "metadata": {},
   "outputs": [],
   "source": [
    "# Read all json file paths.\n",
    "file_paths = []\n",
    "for snapshot in snapshots:\n",
    "    file_path = os.path.join(dir_path, snapshot)\n",
    "    file_paths += helper.read_filepaths(file_path, target)"
   ]
  },
  {
   "cell_type": "code",
   "execution_count": 4,
   "metadata": {},
   "outputs": [
    {
     "name": "stdout",
     "output_type": "stream",
     "text": [
      "<class 'pandas.core.frame.DataFrame'>\n",
      "Index: 340 entries, 0 to 192\n",
      "Data columns (total 21 columns):\n",
      " #   Column             Non-Null Count  Dtype \n",
      "---  ------             --------------  ----- \n",
      " 0   Type               340 non-null    object\n",
      " 1   URL_pr             340 non-null    object\n",
      " 2   Author             340 non-null    object\n",
      " 3   RepoName           340 non-null    object\n",
      " 4   RepoLanguage       334 non-null    object\n",
      " 5   Number             340 non-null    int64 \n",
      " 6   Title              340 non-null    object\n",
      " 7   Body               340 non-null    object\n",
      " 8   CreatedAt          340 non-null    object\n",
      " 9   ClosedAt           300 non-null    object\n",
      " 10  MergedAt           254 non-null    object\n",
      " 11  UpdatedAt          340 non-null    object\n",
      " 12  State              340 non-null    object\n",
      " 13  Additions          340 non-null    int64 \n",
      " 14  Deletions          340 non-null    int64 \n",
      " 15  ChangedFiles       340 non-null    int64 \n",
      " 16  CommitsTotalCount  340 non-null    int64 \n",
      " 17  CommitShas         192 non-null    object\n",
      " 18  ChatgptSharing     340 non-null    object\n",
      " 19  CommitSha          148 non-null    object\n",
      " 20  source_date        340 non-null    object\n",
      "dtypes: int64(5), object(16)\n",
      "memory usage: 58.4+ KB\n"
     ]
    }
   ],
   "source": [
    "# Load Json files.\n",
    "df = helper.load_dataframes(file_paths)\n",
    "\n",
    "# Rename URL to URL_pr.\n",
    "df.rename(columns={\"URL\": URL_rename}, inplace=True)\n",
    "df.info()"
   ]
  },
  {
   "cell_type": "markdown",
   "metadata": {},
   "source": [
    "## ChatGPTSharing Table"
   ]
  },
  {
   "cell_type": "code",
   "execution_count": 5,
   "metadata": {},
   "outputs": [
    {
     "name": "stdout",
     "output_type": "stream",
     "text": [
      "<class 'pandas.core.frame.DataFrame'>\n",
      "RangeIndex: 394 entries, 0 to 393\n",
      "Data columns (total 14 columns):\n",
      " #   Column              Non-Null Count  Dtype  \n",
      "---  ------              --------------  -----  \n",
      " 0   URL_pr              394 non-null    object \n",
      " 1   RepoName            394 non-null    object \n",
      " 2   URL_chatgptsharing  394 non-null    object \n",
      " 3   Mention             394 non-null    object \n",
      " 4   Status              394 non-null    int64  \n",
      " 5   DateOfConversation  368 non-null    object \n",
      " 6   DateOfAccess        368 non-null    object \n",
      " 7   Title               368 non-null    object \n",
      " 8   NumberOfPrompts     368 non-null    float64\n",
      " 9   TokensOfPrompts     368 non-null    float64\n",
      " 10  TokensOfAnswers     368 non-null    float64\n",
      " 11  Model               368 non-null    object \n",
      " 12  Conversations       368 non-null    object \n",
      " 13  HTMLContent         368 non-null    object \n",
      "dtypes: float64(3), int64(1), object(10)\n",
      "memory usage: 43.2+ KB\n"
     ]
    }
   ],
   "source": [
    "records = []\n",
    "\n",
    "for idx, row in df[[URL_rename, \"RepoName\", \"ChatgptSharing\"]].iterrows():\n",
    "    for item in row[\"ChatgptSharing\"]:\n",
    "        obs = {}\n",
    "        obs[URL_rename] = row[URL_rename]\n",
    "        obs[\"RepoName\"] = row[\"RepoName\"]\n",
    "        obs.update(item)\n",
    "        records.append(obs)\n",
    "\n",
    "df_chatgpt_sharing = pd.DataFrame(records)\n",
    "\n",
    "# Rename URL to URL_chatgptsharing.\n",
    "df_chatgpt_sharing.rename(columns={\"URL\": \"URL_chatgptsharing\"}, inplace=True)\n",
    "df_chatgpt_sharing.info()\n"
   ]
  },
  {
   "cell_type": "markdown",
   "metadata": {},
   "source": [
    "## Mention table\n",
    "\n",
    "`MentionedURL` is identical with `URL_[target]`"
   ]
  },
  {
   "cell_type": "code",
   "execution_count": 7,
   "metadata": {},
   "outputs": [
    {
     "name": "stdout",
     "output_type": "stream",
     "text": [
      "<class 'pandas.core.frame.DataFrame'>\n",
      "RangeIndex: 394 entries, 0 to 393\n",
      "Data columns (total 8 columns):\n",
      " #   Column              Non-Null Count  Dtype \n",
      "---  ------              --------------  ----- \n",
      " 0   URL_pr              394 non-null    object\n",
      " 1   RepoName            394 non-null    object\n",
      " 2   URL_chatgptsharing  394 non-null    object\n",
      " 3   MentionedURL        394 non-null    object\n",
      " 4   MentionedProperty   394 non-null    object\n",
      " 5   MentionedAuthor     394 non-null    object\n",
      " 6   MentionedText       394 non-null    object\n",
      " 7   MentionedPath       128 non-null    object\n",
      "dtypes: object(8)\n",
      "memory usage: 24.8+ KB\n"
     ]
    }
   ],
   "source": [
    "records = []\n",
    "\n",
    "for idx, row in df_chatgpt_sharing[\n",
    "    [URL_rename, \"RepoName\", \"URL_chatgptsharing\", \"Mention\"]\n",
    "    ].iterrows():\n",
    "\n",
    "    if not isinstance(row[\"Mention\"], dict):\n",
    "        continue\n",
    "\n",
    "    obs = {}\n",
    "    obs[URL_rename] = row[URL_rename]\n",
    "    obs[\"RepoName\"] = row[\"RepoName\"]\n",
    "    obs[\"URL_chatgptsharing\"] = row[\"URL_chatgptsharing\"]\n",
    "    obs.update(row[\"Mention\"])\n",
    "    records.append(obs)\n",
    "\n",
    "df_mention = pd.DataFrame(records)\n",
    "df_mention.info()"
   ]
  },
  {
   "cell_type": "markdown",
   "metadata": {},
   "source": [
    "## Conversation Table"
   ]
  },
  {
   "cell_type": "code",
   "execution_count": 8,
   "metadata": {},
   "outputs": [
    {
     "name": "stdout",
     "output_type": "stream",
     "text": [
      "<class 'pandas.core.frame.DataFrame'>\n",
      "RangeIndex: 1667 entries, 0 to 1666\n",
      "Data columns (total 6 columns):\n",
      " #   Column              Non-Null Count  Dtype \n",
      "---  ------              --------------  ----- \n",
      " 0   URL_pr              1667 non-null   object\n",
      " 1   RepoName            1667 non-null   object\n",
      " 2   URL_chatgptsharing  1667 non-null   object\n",
      " 3   Prompt              1667 non-null   object\n",
      " 4   Answer              1667 non-null   object\n",
      " 5   ListOfCode          1667 non-null   object\n",
      "dtypes: object(6)\n",
      "memory usage: 78.3+ KB\n"
     ]
    }
   ],
   "source": [
    "records = []\n",
    "\n",
    "for idx, row in df_chatgpt_sharing[\n",
    "    [URL_rename, \"RepoName\", \"URL_chatgptsharing\", \"Conversations\"]\n",
    "    ].iterrows():\n",
    "\n",
    "    if not isinstance(row[\"Conversations\"], list):\n",
    "        continue\n",
    "\n",
    "    for item in row[\"Conversations\"]:\n",
    "        obs = {}\n",
    "        obs[URL_rename] = row[URL_rename]\n",
    "        obs[\"RepoName\"] = row[\"RepoName\"]\n",
    "        obs[\"URL_chatgptsharing\"] = row[\"URL_chatgptsharing\"]\n",
    "        obs.update(item)\n",
    "        records.append(obs)\n",
    "\n",
    "df_conversation = pd.DataFrame(records)\n",
    "df_conversation.info()"
   ]
  },
  {
   "cell_type": "markdown",
   "metadata": {},
   "source": [
    "## Clean Up\n",
    "4 tables: `df_[target]`, `df_chatgpt_sharing`, `df_mention`, `df_conversation`"
   ]
  },
  {
   "cell_type": "code",
   "execution_count": 9,
   "metadata": {},
   "outputs": [],
   "source": [
    "# Remove redundant columns\n",
    "df = df.drop(columns=\"ChatgptSharing\")\n",
    "df_chatgpt_sharing = df_chatgpt_sharing.drop(columns=[\"Mention\", \"Conversations\"])"
   ]
  },
  {
   "cell_type": "markdown",
   "metadata": {},
   "source": [
    "## Save to file"
   ]
  },
  {
   "cell_type": "code",
   "execution_count": 10,
   "metadata": {},
   "outputs": [],
   "source": [
    "# df dataframe contains the initial dataset\n",
    "df.to_csv(\n",
    "    os.path.join(dir_path, \"cleaned\", target + \".csv\")\n",
    "    )\n",
    "\n",
    "# df_chatgpt_sharing dataframe contains chatgptsharing content in target table.\n",
    "# It can combine with other tables using URL_'target' and RepoName.\n",
    "df_chatgpt_sharing.to_csv(\n",
    "    os.path.join(dir_path, \"cleaned\", target + \"_chatgpt_sharing.csv\")\n",
    "    )\n",
    "\n",
    "# df_mention dataframe contains mention content in target table.\n",
    "# It can combine with other tables using URL_'target' and RepoName.\n",
    "df_mention.to_csv(\n",
    "    os.path.join(dir_path, \"cleaned\", target + \"_mention.csv\")\n",
    "    )\n",
    "\n",
    "# df_conversation dataframe contains conversation content in target table.\n",
    "# It can combine with other tables using URL_'target' and RepoName.\n",
    "df_conversation.to_csv(\n",
    "    os.path.join(dir_path, \"cleaned\", target + \"_conversation.csv\")\n",
    "    )"
   ]
  },
  {
   "cell_type": "markdown",
   "metadata": {},
   "source": [
    "## Combine to a big dataframe\n",
    "\n",
    "`df_total` is the dataframe that contains all the information of the target table.\n",
    "Combining `chatgptsharing`, `mention`, and `conversation`"
   ]
  },
  {
   "cell_type": "code",
   "execution_count": 11,
   "metadata": {},
   "outputs": [],
   "source": [
    "# Merge ChatGptSharing table to target table.\n",
    "df_total = pd.merge(\n",
    "    df, df_chatgpt_sharing,\n",
    "    left_on=[URL_rename, \"RepoName\"], \n",
    "    right_on=[URL_rename, \"RepoName\"], \n",
    "    how=\"left\"\n",
    ")"
   ]
  },
  {
   "cell_type": "code",
   "execution_count": 12,
   "metadata": {},
   "outputs": [],
   "source": [
    "# Merge Mention table to target table.\n",
    "df_total = pd.merge(\n",
    "    df_total, df_mention,\n",
    "    left_on=[URL_rename, \"RepoName\"], \n",
    "    right_on=[URL_rename, \"RepoName\"], \n",
    "    how=\"left\"\n",
    ")"
   ]
  },
  {
   "cell_type": "code",
   "execution_count": 13,
   "metadata": {},
   "outputs": [],
   "source": [
    "# Merge Conversation table to target table.\n",
    "df_total = pd.merge(\n",
    "    df_total, df_conversation,\n",
    "    left_on=[URL_rename, \"RepoName\"], \n",
    "    right_on=[URL_rename, \"RepoName\"], \n",
    "    how=\"left\"\n",
    ")"
   ]
  },
  {
   "cell_type": "code",
   "execution_count": 14,
   "metadata": {},
   "outputs": [
    {
     "data": {
      "text/plain": [
       "Index(['Type', 'URL_pr', 'Author', 'RepoName', 'RepoLanguage', 'Number',\n",
       "       'Title_x', 'Body', 'CreatedAt', 'ClosedAt', 'MergedAt', 'UpdatedAt',\n",
       "       'State', 'Additions', 'Deletions', 'ChangedFiles', 'CommitsTotalCount',\n",
       "       'CommitShas', 'CommitSha', 'source_date', 'URL_chatgptsharing_x',\n",
       "       'Status', 'DateOfConversation', 'DateOfAccess', 'Title_y',\n",
       "       'NumberOfPrompts', 'TokensOfPrompts', 'TokensOfAnswers', 'Model',\n",
       "       'HTMLContent', 'URL_chatgptsharing_y', 'MentionedURL',\n",
       "       'MentionedProperty', 'MentionedAuthor', 'MentionedText',\n",
       "       'MentionedPath', 'URL_chatgptsharing', 'Prompt', 'Answer',\n",
       "       'ListOfCode'],\n",
       "      dtype='object')"
      ]
     },
     "execution_count": 14,
     "metadata": {},
     "output_type": "execute_result"
    }
   ],
   "source": [
    "df_total.columns"
   ]
  },
  {
   "cell_type": "code",
   "execution_count": 15,
   "metadata": {},
   "outputs": [
    {
     "name": "stdout",
     "output_type": "stream",
     "text": [
      "<class 'pandas.core.frame.DataFrame'>\n",
      "RangeIndex: 28348 entries, 0 to 28347\n",
      "Data columns (total 40 columns):\n",
      " #   Column                Non-Null Count  Dtype  \n",
      "---  ------                --------------  -----  \n",
      " 0   Type                  28348 non-null  object \n",
      " 1   URL_pr                28348 non-null  object \n",
      " 2   Author                28348 non-null  object \n",
      " 3   RepoName              28348 non-null  object \n",
      " 4   RepoLanguage          28252 non-null  object \n",
      " 5   Number                28348 non-null  int64  \n",
      " 6   Title_x               28348 non-null  object \n",
      " 7   Body                  28348 non-null  object \n",
      " 8   CreatedAt             28348 non-null  object \n",
      " 9   ClosedAt              27642 non-null  object \n",
      " 10  MergedAt              23310 non-null  object \n",
      " 11  UpdatedAt             28348 non-null  object \n",
      " 12  State                 28348 non-null  object \n",
      " 13  Additions             28348 non-null  int64  \n",
      " 14  Deletions             28348 non-null  int64  \n",
      " 15  ChangedFiles          28348 non-null  int64  \n",
      " 16  CommitsTotalCount     28348 non-null  int64  \n",
      " 17  CommitShas            20528 non-null  object \n",
      " 18  CommitSha             7820 non-null   object \n",
      " 19  source_date           28348 non-null  object \n",
      " 20  URL_chatgptsharing_x  28348 non-null  object \n",
      " 21  Status                28348 non-null  int64  \n",
      " 22  DateOfConversation    28210 non-null  object \n",
      " 23  DateOfAccess          28210 non-null  object \n",
      " 24  Title_y               28210 non-null  object \n",
      " 25  NumberOfPrompts       28210 non-null  float64\n",
      " 26  TokensOfPrompts       28210 non-null  float64\n",
      " 27  TokensOfAnswers       28210 non-null  float64\n",
      " 28  Model                 28210 non-null  object \n",
      " 29  HTMLContent           28210 non-null  object \n",
      " 30  URL_chatgptsharing_y  28348 non-null  object \n",
      " 31  MentionedURL          28348 non-null  object \n",
      " 32  MentionedProperty     28348 non-null  object \n",
      " 33  MentionedAuthor       28348 non-null  object \n",
      " 34  MentionedText         28348 non-null  object \n",
      " 35  MentionedPath         3697 non-null   object \n",
      " 36  URL_chatgptsharing    28242 non-null  object \n",
      " 37  Prompt                28242 non-null  object \n",
      " 38  Answer                28242 non-null  object \n",
      " 39  ListOfCode            28242 non-null  object \n",
      "dtypes: float64(3), int64(6), object(31)\n",
      "memory usage: 8.7+ MB\n"
     ]
    }
   ],
   "source": [
    "df_total.info()"
   ]
  },
  {
   "cell_type": "code",
   "execution_count": 16,
   "metadata": {},
   "outputs": [],
   "source": [
    "# Save to file.\n",
    "\n",
    "df_total.to_csv(os.path.join(dir_path, \"cleaned\", target + \"_total.csv\"))"
   ]
  }
 ],
 "metadata": {
  "kernelspec": {
   "display_name": "base",
   "language": "python",
   "name": "python3"
  },
  "language_info": {
   "codemirror_mode": {
    "name": "ipython",
    "version": 3
   },
   "file_extension": ".py",
   "mimetype": "text/x-python",
   "name": "python",
   "nbconvert_exporter": "python",
   "pygments_lexer": "ipython3",
   "version": "3.12.2"
  }
 },
 "nbformat": 4,
 "nbformat_minor": 2
}
