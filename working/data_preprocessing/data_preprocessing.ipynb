{
 "cells": [
  {
   "cell_type": "markdown",
   "metadata": {},
   "source": [
    "# Data Cleaning"
   ]
  },
  {
   "cell_type": "code",
   "execution_count": 76,
   "metadata": {},
   "outputs": [],
   "source": [
    "import pandas as pd\n",
    "import helper\n",
    "import os"
   ]
  },
  {
   "cell_type": "code",
   "execution_count": 77,
   "metadata": {},
   "outputs": [],
   "source": [
    "# Set up file paths and target tables.\n",
    "\n",
    "snapshots = [\"snapshot_20230727\", \"snapshot_20230831\"]\n",
    "dir_path = \"~/DevGPT/\"\n",
    "\n",
    "# Options are \"hn\", \"pr\", \"issue\", \"discussion\", \"commit\", \"file\"\n",
    "target = \"file\"\n",
    "URL_rename = \"URL_\" + target\n",
    "\n",
    "if target == \"hn\":\n",
    "    pk = [URL_rename]\n",
    "else:\n",
    "    pk = [URL_rename, \"RepoName\"]"
   ]
  },
  {
   "cell_type": "code",
   "execution_count": 78,
   "metadata": {},
   "outputs": [],
   "source": [
    "# Read all json file paths.\n",
    "file_paths = []\n",
    "for snapshot in snapshots:\n",
    "    file_path = os.path.join(dir_path, snapshot)\n",
    "    file_paths += helper.read_filepaths(file_path, target)"
   ]
  },
  {
   "cell_type": "code",
   "execution_count": 79,
   "metadata": {},
   "outputs": [
    {
     "name": "stdout",
     "output_type": "stream",
     "text": [
      "<class 'pandas.core.frame.DataFrame'>\n",
      "Index: 1717 entries, 0 to 969\n",
      "Data columns (total 15 columns):\n",
      " #   Column          Non-Null Count  Dtype \n",
      "---  ------          --------------  ----- \n",
      " 0   Type            1717 non-null   object\n",
      " 1   URL_file        1717 non-null   object\n",
      " 2   ObjectSha       1717 non-null   object\n",
      " 3   FileName        1717 non-null   object\n",
      " 4   FilePath        1717 non-null   object\n",
      " 5   Author          1717 non-null   object\n",
      " 6   Content         1717 non-null   object\n",
      " 7   RepoName        1717 non-null   object\n",
      " 8   RepoLanguage    1387 non-null   object\n",
      " 9   CommitSha       1717 non-null   object\n",
      " 10  CommitMessage   1717 non-null   object\n",
      " 11  AuthorAt        1717 non-null   object\n",
      " 12  CommitAt        1717 non-null   object\n",
      " 13  ChatgptSharing  1717 non-null   object\n",
      " 14  source_date     1717 non-null   object\n",
      "dtypes: object(15)\n",
      "memory usage: 214.6+ KB\n"
     ]
    }
   ],
   "source": [
    "# Load Json files.\n",
    "df = helper.load_dataframes(file_paths)\n",
    "\n",
    "# Rename URL to URL_[target].\n",
    "df.rename(columns={\"URL\": URL_rename}, inplace=True)\n",
    "df.info()"
   ]
  },
  {
   "cell_type": "markdown",
   "metadata": {},
   "source": [
    "## ChatGPTSharing Table"
   ]
  },
  {
   "cell_type": "code",
   "execution_count": 80,
   "metadata": {},
   "outputs": [
    {
     "name": "stdout",
     "output_type": "stream",
     "text": [
      "<class 'pandas.core.frame.DataFrame'>\n",
      "RangeIndex: 2436 entries, 0 to 2435\n",
      "Data columns (total 14 columns):\n",
      " #   Column              Non-Null Count  Dtype  \n",
      "---  ------              --------------  -----  \n",
      " 0   URL_file            2436 non-null   object \n",
      " 1   RepoName            2436 non-null   object \n",
      " 2   URL_chatgptsharing  2436 non-null   object \n",
      " 3   Mention             2436 non-null   object \n",
      " 4   Status              2436 non-null   int64  \n",
      " 5   DateOfConversation  2263 non-null   object \n",
      " 6   DateOfAccess        2263 non-null   object \n",
      " 7   Title               2263 non-null   object \n",
      " 8   NumberOfPrompts     2263 non-null   float64\n",
      " 9   TokensOfPrompts     2263 non-null   float64\n",
      " 10  TokensOfAnswers     2263 non-null   float64\n",
      " 11  Model               2263 non-null   object \n",
      " 12  Conversations       2263 non-null   object \n",
      " 13  HTMLContent         2263 non-null   object \n",
      "dtypes: float64(3), int64(1), object(10)\n",
      "memory usage: 266.6+ KB\n"
     ]
    }
   ],
   "source": [
    "records = []\n",
    "\n",
    "pk += [\"ChatgptSharing\"]\n",
    "\n",
    "for idx, row in df[pk].iterrows():\n",
    "    for item in row[\"ChatgptSharing\"]:\n",
    "        obs = {}\n",
    "        obs[URL_rename] = row[URL_rename]\n",
    "\n",
    "        if target != \"hn\":\n",
    "            obs[\"RepoName\"] = row[\"RepoName\"]\n",
    "            \n",
    "        obs.update(item)\n",
    "        records.append(obs)\n",
    "\n",
    "df_chatgpt_sharing = pd.DataFrame(records)\n",
    "\n",
    "# Rename URL to URL_chatgptsharing.\n",
    "df_chatgpt_sharing.rename(columns={\"URL\": \"URL_chatgptsharing\"}, inplace=True)\n",
    "df_chatgpt_sharing.info()\n"
   ]
  },
  {
   "cell_type": "markdown",
   "metadata": {},
   "source": [
    "## Mention table\n",
    "\n",
    "`MentionedURL` is identical with `URL_[target]`"
   ]
  },
  {
   "cell_type": "code",
   "execution_count": 81,
   "metadata": {},
   "outputs": [
    {
     "name": "stdout",
     "output_type": "stream",
     "text": [
      "<class 'pandas.core.frame.DataFrame'>\n",
      "RangeIndex: 2436 entries, 0 to 2435\n",
      "Data columns (total 7 columns):\n",
      " #   Column              Non-Null Count  Dtype \n",
      "---  ------              --------------  ----- \n",
      " 0   URL_file            2436 non-null   object\n",
      " 1   RepoName            2436 non-null   object\n",
      " 2   URL_chatgptsharing  2436 non-null   object\n",
      " 3   MentionedURL        2436 non-null   object\n",
      " 4   MentionedProperty   2436 non-null   object\n",
      " 5   MentionedAuthor     2436 non-null   object\n",
      " 6   MentionedText       2436 non-null   object\n",
      "dtypes: object(7)\n",
      "memory usage: 133.3+ KB\n"
     ]
    }
   ],
   "source": [
    "records = []\n",
    "\n",
    "pk.pop() \n",
    "pk += [\"URL_chatgptsharing\", \"Mention\"]\n",
    "\n",
    "for idx, row in df_chatgpt_sharing[pk].iterrows():\n",
    "\n",
    "    if not isinstance(row[\"Mention\"], dict):\n",
    "        continue\n",
    "\n",
    "    obs = {}\n",
    "    obs[URL_rename] = row[URL_rename]\n",
    "\n",
    "    if target != \"hn\":\n",
    "        obs[\"RepoName\"] = row[\"RepoName\"]\n",
    "        \n",
    "    obs[\"URL_chatgptsharing\"] = row[\"URL_chatgptsharing\"]\n",
    "    obs.update(row[\"Mention\"])\n",
    "    records.append(obs)\n",
    "\n",
    "df_mention = pd.DataFrame(records)\n",
    "df_mention.info()"
   ]
  },
  {
   "cell_type": "markdown",
   "metadata": {},
   "source": [
    "## Conversation Table"
   ]
  },
  {
   "cell_type": "code",
   "execution_count": 82,
   "metadata": {},
   "outputs": [
    {
     "name": "stdout",
     "output_type": "stream",
     "text": [
      "<class 'pandas.core.frame.DataFrame'>\n",
      "RangeIndex: 19267 entries, 0 to 19266\n",
      "Data columns (total 6 columns):\n",
      " #   Column              Non-Null Count  Dtype \n",
      "---  ------              --------------  ----- \n",
      " 0   URL_file            19267 non-null  object\n",
      " 1   RepoName            19267 non-null  object\n",
      " 2   URL_chatgptsharing  19267 non-null  object\n",
      " 3   Prompt              19267 non-null  object\n",
      " 4   Answer              19267 non-null  object\n",
      " 5   ListOfCode          19267 non-null  object\n",
      "dtypes: object(6)\n",
      "memory usage: 903.3+ KB\n"
     ]
    }
   ],
   "source": [
    "records = []\n",
    "\n",
    "pk += [\"Conversations\"]\n",
    "for idx, row in df_chatgpt_sharing[pk].iterrows():\n",
    "\n",
    "    if not isinstance(row[\"Conversations\"], list):\n",
    "        continue\n",
    "\n",
    "    for item in row[\"Conversations\"]:\n",
    "        obs = {}\n",
    "        obs[URL_rename] = row[URL_rename]\n",
    "\n",
    "        if target != \"hn\":\n",
    "            obs[\"RepoName\"] = row[\"RepoName\"]\n",
    "            \n",
    "        obs[\"URL_chatgptsharing\"] = row[\"URL_chatgptsharing\"]\n",
    "        obs.update(item)\n",
    "        records.append(obs)\n",
    "\n",
    "df_conversation = pd.DataFrame(records)\n",
    "df_conversation.info()"
   ]
  },
  {
   "cell_type": "markdown",
   "metadata": {},
   "source": [
    "## Clean Up\n",
    "4 tables: `df_[target]`, `df_chatgpt_sharing`, `df_mention`, `df_conversation`"
   ]
  },
  {
   "cell_type": "code",
   "execution_count": 83,
   "metadata": {},
   "outputs": [],
   "source": [
    "# Remove redundant columns\n",
    "df = df.drop(columns=\"ChatgptSharing\")\n",
    "df_chatgpt_sharing = df_chatgpt_sharing.drop(columns=[\"Mention\", \"Conversations\"])"
   ]
  },
  {
   "cell_type": "markdown",
   "metadata": {},
   "source": [
    "## Save to file"
   ]
  },
  {
   "cell_type": "code",
   "execution_count": 84,
   "metadata": {},
   "outputs": [],
   "source": [
    "# df dataframe contains the initial dataset\n",
    "df.to_csv(\n",
    "    os.path.join(dir_path, \"cleaned\", target + \".csv\")\n",
    "    )\n",
    "\n",
    "# df_chatgpt_sharing dataframe contains chatgptsharing content in target table.\n",
    "# It can combine with other tables using URL_'target' and RepoName.\n",
    "df_chatgpt_sharing.to_csv(\n",
    "    os.path.join(dir_path, \"cleaned\", target + \"_chatgpt_sharing.csv\")\n",
    "    )\n",
    "\n",
    "# df_mention dataframe contains mention content in target table.\n",
    "# It can combine with other tables using URL_'target' and RepoName.\n",
    "df_mention.to_csv(\n",
    "    os.path.join(dir_path, \"cleaned\", target + \"_mention.csv\")\n",
    "    )\n",
    "\n",
    "# df_conversation dataframe contains conversation content in target table.\n",
    "# It can combine with other tables using URL_'target' and RepoName.\n",
    "df_conversation.to_csv(\n",
    "    os.path.join(dir_path, \"cleaned\", target + \"_conversation.csv\")\n",
    "    )"
   ]
  },
  {
   "cell_type": "markdown",
   "metadata": {},
   "source": [
    "## Combine to a big dataframe\n",
    "\n",
    "`df_total` is the dataframe that contains all the information of the target table.\n",
    "Combining `chatgptsharing`, `mention`, and `conversation`"
   ]
  },
  {
   "cell_type": "code",
   "execution_count": 85,
   "metadata": {},
   "outputs": [],
   "source": [
    "# Merge ChatGptSharing table to target table.\n",
    "if target != \"hn\":\n",
    "    merge_on = [URL_rename, \"RepoName\"]\n",
    "else:\n",
    "    merge_on = [URL_rename]\n",
    "\n",
    "df_total = pd.merge(\n",
    "    df, df_chatgpt_sharing,\n",
    "    left_on=merge_on, \n",
    "    right_on=merge_on, \n",
    "    how=\"left\"\n",
    ")"
   ]
  },
  {
   "cell_type": "code",
   "execution_count": 86,
   "metadata": {},
   "outputs": [],
   "source": [
    "# Merge Mention table to target table.\n",
    "df_total = pd.merge(\n",
    "    df_total, df_mention,\n",
    "    left_on=merge_on, \n",
    "    right_on=merge_on, \n",
    "    how=\"left\"\n",
    ")"
   ]
  },
  {
   "cell_type": "code",
   "execution_count": 87,
   "metadata": {},
   "outputs": [],
   "source": [
    "# Merge Conversation table to target table.\n",
    "df_total = pd.merge(\n",
    "    df_total, df_conversation,\n",
    "    left_on=merge_on, \n",
    "    right_on=merge_on, \n",
    "    how=\"left\"\n",
    ")"
   ]
  },
  {
   "cell_type": "code",
   "execution_count": 88,
   "metadata": {},
   "outputs": [
    {
     "data": {
      "text/plain": [
       "Index(['Type', 'URL_file', 'ObjectSha', 'FileName', 'FilePath', 'Author',\n",
       "       'Content', 'RepoName', 'RepoLanguage', 'CommitSha', 'CommitMessage',\n",
       "       'AuthorAt', 'CommitAt', 'source_date', 'URL_chatgptsharing_x', 'Status',\n",
       "       'DateOfConversation', 'DateOfAccess', 'Title', 'NumberOfPrompts',\n",
       "       'TokensOfPrompts', 'TokensOfAnswers', 'Model', 'HTMLContent',\n",
       "       'URL_chatgptsharing_y', 'MentionedURL', 'MentionedProperty',\n",
       "       'MentionedAuthor', 'MentionedText', 'URL_chatgptsharing', 'Prompt',\n",
       "       'Answer', 'ListOfCode'],\n",
       "      dtype='object')"
      ]
     },
     "execution_count": 88,
     "metadata": {},
     "output_type": "execute_result"
    }
   ],
   "source": [
    "df_total.columns"
   ]
  },
  {
   "cell_type": "code",
   "execution_count": 89,
   "metadata": {},
   "outputs": [
    {
     "name": "stdout",
     "output_type": "stream",
     "text": [
      "<class 'pandas.core.frame.DataFrame'>\n",
      "RangeIndex: 935541 entries, 0 to 935540\n",
      "Data columns (total 33 columns):\n",
      " #   Column                Non-Null Count   Dtype  \n",
      "---  ------                --------------   -----  \n",
      " 0   Type                  935541 non-null  object \n",
      " 1   URL_file              935541 non-null  object \n",
      " 2   ObjectSha             935541 non-null  object \n",
      " 3   FileName              935541 non-null  object \n",
      " 4   FilePath              935541 non-null  object \n",
      " 5   Author                935541 non-null  object \n",
      " 6   Content               935541 non-null  object \n",
      " 7   RepoName              935541 non-null  object \n",
      " 8   RepoLanguage          810495 non-null  object \n",
      " 9   CommitSha             935541 non-null  object \n",
      " 10  CommitMessage         935541 non-null  object \n",
      " 11  AuthorAt              935541 non-null  object \n",
      " 12  CommitAt              935541 non-null  object \n",
      " 13  source_date           935541 non-null  object \n",
      " 14  URL_chatgptsharing_x  935541 non-null  object \n",
      " 15  Status                935541 non-null  int64  \n",
      " 16  DateOfConversation    934493 non-null  object \n",
      " 17  DateOfAccess          934493 non-null  object \n",
      " 18  Title                 934493 non-null  object \n",
      " 19  NumberOfPrompts       934493 non-null  float64\n",
      " 20  TokensOfPrompts       934493 non-null  float64\n",
      " 21  TokensOfAnswers       934493 non-null  float64\n",
      " 22  Model                 934493 non-null  object \n",
      " 23  HTMLContent           934493 non-null  object \n",
      " 24  URL_chatgptsharing_y  935541 non-null  object \n",
      " 25  MentionedURL          935541 non-null  object \n",
      " 26  MentionedProperty     935541 non-null  object \n",
      " 27  MentionedAuthor       935541 non-null  object \n",
      " 28  MentionedText         935541 non-null  object \n",
      " 29  URL_chatgptsharing    934963 non-null  object \n",
      " 30  Prompt                934963 non-null  object \n",
      " 31  Answer                934963 non-null  object \n",
      " 32  ListOfCode            934963 non-null  object \n",
      "dtypes: float64(3), int64(1), object(29)\n",
      "memory usage: 235.5+ MB\n"
     ]
    }
   ],
   "source": [
    "df_total.info()"
   ]
  },
  {
   "cell_type": "code",
   "execution_count": 90,
   "metadata": {},
   "outputs": [],
   "source": [
    "# Save to file.\n",
    "\n",
    "# df_total.to_csv(os.path.join(dir_path, \"cleaned\", target + \"_total.csv\"))"
   ]
  }
 ],
 "metadata": {
  "kernelspec": {
   "display_name": "base",
   "language": "python",
   "name": "python3"
  },
  "language_info": {
   "codemirror_mode": {
    "name": "ipython",
    "version": 3
   },
   "file_extension": ".py",
   "mimetype": "text/x-python",
   "name": "python",
   "nbconvert_exporter": "python",
   "pygments_lexer": "ipython3",
   "version": "3.12.2"
  }
 },
 "nbformat": 4,
 "nbformat_minor": 2
}
