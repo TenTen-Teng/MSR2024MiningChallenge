{
 "cells": [
  {
   "cell_type": "markdown",
   "metadata": {},
   "source": [
    "# Data Analysis - General\n",
    "\n",
    "This notebook aims to analyze the merged dataset.\n",
    "\n",
    "1. Determine the number of interactions with ChatGPT across issues, discussions, and pull requests.\n",
    "2. Calculate the average length of prompts (measured in tokens) for issues, discussions, and pull requests.\n",
    "3. Calculate the average length of answers (measured in tokens) for issues, discussions, and pull requests.request.\n",
    "\n",
    "> NOTE\n",
    ">\n",
    "> All file paths to CSV files are replaced with relative paths.\n",
    "\n",
    "Table of Content\n",
    "- [Read the Merged Dataset](#read-the-merged-dataset)\n",
    "- [Interactions](#interactions)\n",
    "- [Average Length of Prompt](#average-length-of-prompt)\n",
    "- [Average Length of Answer](#average-length-of-answer)"
   ]
  },
  {
   "cell_type": "code",
   "execution_count": 5,
   "metadata": {},
   "outputs": [
    {
     "data": {
      "text/plain": [
       "RendererRegistry.enable('jupyterlab')"
      ]
     },
     "execution_count": 5,
     "metadata": {},
     "output_type": "execute_result"
    }
   ],
   "source": [
    "# Import libraries.\n",
    "\n",
    "import pandas as pd\n",
    "import numpy as np\n",
    "import altair as alt\n",
    "import spacy\n",
    "from multiprocessing.dummy import Pool\n",
    "from tqdm import tqdm\n",
    "\n",
    "alt.renderers.enable(\"jupyterlab\")"
   ]
  },
  {
   "cell_type": "markdown",
   "metadata": {},
   "source": [
    "## Read the Merged Dataset"
   ]
  },
  {
   "cell_type": "code",
   "execution_count": null,
   "metadata": {},
   "outputs": [
    {
     "name": "stdout",
     "output_type": "stream",
     "text": [
      "<class 'pandas.core.frame.DataFrame'>\n",
      "RangeIndex: 1321 entries, 0 to 1320\n",
      "Data columns (total 5 columns):\n",
      " #   Column              Non-Null Count  Dtype \n",
      "---  ------              --------------  ----- \n",
      " 0   Unnamed: 0          1321 non-null   int64 \n",
      " 1   RepoName            1321 non-null   object\n",
      " 2   URL_chatgptsharing  1321 non-null   object\n",
      " 3   Prompt              1321 non-null   object\n",
      " 4   Answer              1321 non-null   object\n",
      "dtypes: int64(1), object(4)\n",
      "memory usage: 51.7+ KB\n"
     ]
    }
   ],
   "source": [
    "df = pd.read_csv(\"~/data/DevGPT/cleaned/combine.csv\")\n",
    "df.info()"
   ]
  },
  {
   "cell_type": "code",
   "execution_count": 7,
   "metadata": {},
   "outputs": [
    {
     "data": {
      "text/html": [
       "<div>\n",
       "<style scoped>\n",
       "    .dataframe tbody tr th:only-of-type {\n",
       "        vertical-align: middle;\n",
       "    }\n",
       "\n",
       "    .dataframe tbody tr th {\n",
       "        vertical-align: top;\n",
       "    }\n",
       "\n",
       "    .dataframe thead th {\n",
       "        text-align: right;\n",
       "    }\n",
       "</style>\n",
       "<table border=\"1\" class=\"dataframe\">\n",
       "  <thead>\n",
       "    <tr style=\"text-align: right;\">\n",
       "      <th></th>\n",
       "      <th>Unnamed: 0</th>\n",
       "      <th>RepoName</th>\n",
       "      <th>URL_chatgptsharing</th>\n",
       "      <th>Prompt</th>\n",
       "      <th>Answer</th>\n",
       "    </tr>\n",
       "  </thead>\n",
       "  <tbody>\n",
       "    <tr>\n",
       "      <th>0</th>\n",
       "      <td>7870</td>\n",
       "      <td>paul-gauthier/aider</td>\n",
       "      <td>https://chat.openai.com/share/4555f0ea-1e7b-49...</td>\n",
       "      <td>How can I setup a github action to automatical...</td>\n",
       "      <td>Sure, I can certainly help you with that. Here...</td>\n",
       "    </tr>\n",
       "    <tr>\n",
       "      <th>1</th>\n",
       "      <td>7898</td>\n",
       "      <td>chitalian/gptask</td>\n",
       "      <td>https://chat.openai.com/share/902cd378-3ebc-4e...</td>\n",
       "      <td>Give me some test commands for this\\n\\nimport ...</td>\n",
       "      <td>This Python script is a command-line tool that...</td>\n",
       "    </tr>\n",
       "    <tr>\n",
       "      <th>2</th>\n",
       "      <td>7906</td>\n",
       "      <td>bbelderbos/htmx-demo</td>\n",
       "      <td>https://chat.openai.com/share/c8c101fa-aaae-49...</td>\n",
       "      <td>how to get the first 20 rows from a django model?</td>\n",
       "      <td>To get the first 20 rows from a Django model, ...</td>\n",
       "    </tr>\n",
       "    <tr>\n",
       "      <th>3</th>\n",
       "      <td>7907</td>\n",
       "      <td>bbelderbos/htmx-demo</td>\n",
       "      <td>https://chat.openai.com/share/c8c101fa-aaae-49...</td>\n",
       "      <td>I have this view for infinite scroll, would be...</td>\n",
       "      <td>Certainly! You can refactor the code to use Dj...</td>\n",
       "    </tr>\n",
       "    <tr>\n",
       "      <th>4</th>\n",
       "      <td>7908</td>\n",
       "      <td>bbelderbos/htmx-demo</td>\n",
       "      <td>https://chat.openai.com/share/c8c101fa-aaae-49...</td>\n",
       "      <td>for page 49 this gives:\\n\\nInternal Server Err...</td>\n",
       "      <td>Certainly! To handle the ValueError when conve...</td>\n",
       "    </tr>\n",
       "  </tbody>\n",
       "</table>\n",
       "</div>"
      ],
      "text/plain": [
       "   Unnamed: 0              RepoName  \\\n",
       "0        7870   paul-gauthier/aider   \n",
       "1        7898      chitalian/gptask   \n",
       "2        7906  bbelderbos/htmx-demo   \n",
       "3        7907  bbelderbos/htmx-demo   \n",
       "4        7908  bbelderbos/htmx-demo   \n",
       "\n",
       "                                  URL_chatgptsharing  \\\n",
       "0  https://chat.openai.com/share/4555f0ea-1e7b-49...   \n",
       "1  https://chat.openai.com/share/902cd378-3ebc-4e...   \n",
       "2  https://chat.openai.com/share/c8c101fa-aaae-49...   \n",
       "3  https://chat.openai.com/share/c8c101fa-aaae-49...   \n",
       "4  https://chat.openai.com/share/c8c101fa-aaae-49...   \n",
       "\n",
       "                                              Prompt  \\\n",
       "0  How can I setup a github action to automatical...   \n",
       "1  Give me some test commands for this\\n\\nimport ...   \n",
       "2  how to get the first 20 rows from a django model?   \n",
       "3  I have this view for infinite scroll, would be...   \n",
       "4  for page 49 this gives:\\n\\nInternal Server Err...   \n",
       "\n",
       "                                              Answer  \n",
       "0  Sure, I can certainly help you with that. Here...  \n",
       "1  This Python script is a command-line tool that...  \n",
       "2  To get the first 20 rows from a Django model, ...  \n",
       "3  Certainly! You can refactor the code to use Dj...  \n",
       "4  Certainly! To handle the ValueError when conve...  "
      ]
     },
     "execution_count": 7,
     "metadata": {},
     "output_type": "execute_result"
    }
   ],
   "source": [
    "df.head()"
   ]
  },
  {
   "cell_type": "markdown",
   "metadata": {},
   "source": [
    "## Interactions\n",
    "\n",
    "Determine the number of interactions with ChatGPT across issues, discussions, and pull requests.\n",
    "\n",
    "Method:\n",
    "1. Group data by `RepoName` and aggregate the `URL_chatgptsharing` into a list.\n",
    "2. Calculate the number of interactions with ChatGPT by averaging the number of `URL_chatgptsharing`.\n",
    "3. Visualize the distribution of interactions with ChatGPT."
   ]
  },
  {
   "cell_type": "code",
   "execution_count": 8,
   "metadata": {},
   "outputs": [
    {
     "data": {
      "text/html": [
       "<div>\n",
       "<style scoped>\n",
       "    .dataframe tbody tr th:only-of-type {\n",
       "        vertical-align: middle;\n",
       "    }\n",
       "\n",
       "    .dataframe tbody tr th {\n",
       "        vertical-align: top;\n",
       "    }\n",
       "\n",
       "    .dataframe thead th {\n",
       "        text-align: right;\n",
       "    }\n",
       "</style>\n",
       "<table border=\"1\" class=\"dataframe\">\n",
       "  <thead>\n",
       "    <tr style=\"text-align: right;\">\n",
       "      <th></th>\n",
       "      <th>Unnamed: 0</th>\n",
       "      <th>RepoName</th>\n",
       "      <th>URL_chatgptsharing</th>\n",
       "      <th>Prompt</th>\n",
       "      <th>Answer</th>\n",
       "    </tr>\n",
       "  </thead>\n",
       "  <tbody>\n",
       "    <tr>\n",
       "      <th>0</th>\n",
       "      <td>7870</td>\n",
       "      <td>paul-gauthier/aider</td>\n",
       "      <td>https://chat.openai.com/share/4555f0ea-1e7b-49...</td>\n",
       "      <td>How can I setup a github action to automatical...</td>\n",
       "      <td>Sure, I can certainly help you with that. Here...</td>\n",
       "    </tr>\n",
       "    <tr>\n",
       "      <th>1</th>\n",
       "      <td>7898</td>\n",
       "      <td>chitalian/gptask</td>\n",
       "      <td>https://chat.openai.com/share/902cd378-3ebc-4e...</td>\n",
       "      <td>Give me some test commands for this\\n\\nimport ...</td>\n",
       "      <td>This Python script is a command-line tool that...</td>\n",
       "    </tr>\n",
       "    <tr>\n",
       "      <th>2</th>\n",
       "      <td>7906</td>\n",
       "      <td>bbelderbos/htmx-demo</td>\n",
       "      <td>https://chat.openai.com/share/c8c101fa-aaae-49...</td>\n",
       "      <td>how to get the first 20 rows from a django model?</td>\n",
       "      <td>To get the first 20 rows from a Django model, ...</td>\n",
       "    </tr>\n",
       "    <tr>\n",
       "      <th>3</th>\n",
       "      <td>7907</td>\n",
       "      <td>bbelderbos/htmx-demo</td>\n",
       "      <td>https://chat.openai.com/share/c8c101fa-aaae-49...</td>\n",
       "      <td>I have this view for infinite scroll, would be...</td>\n",
       "      <td>Certainly! You can refactor the code to use Dj...</td>\n",
       "    </tr>\n",
       "    <tr>\n",
       "      <th>4</th>\n",
       "      <td>7908</td>\n",
       "      <td>bbelderbos/htmx-demo</td>\n",
       "      <td>https://chat.openai.com/share/c8c101fa-aaae-49...</td>\n",
       "      <td>for page 49 this gives:\\n\\nInternal Server Err...</td>\n",
       "      <td>Certainly! To handle the ValueError when conve...</td>\n",
       "    </tr>\n",
       "    <tr>\n",
       "      <th>...</th>\n",
       "      <td>...</td>\n",
       "      <td>...</td>\n",
       "      <td>...</td>\n",
       "      <td>...</td>\n",
       "      <td>...</td>\n",
       "    </tr>\n",
       "    <tr>\n",
       "      <th>1250</th>\n",
       "      <td>227</td>\n",
       "      <td>HaroldMitts/VoAIce</td>\n",
       "      <td>https://chat.openai.com/share/262e8d7d-657b-4a...</td>\n",
       "      <td>output audio of the following sentence;\\n\\n\"Do...</td>\n",
       "      <td>Sure, here is the audio version of your text:C...</td>\n",
       "    </tr>\n",
       "    <tr>\n",
       "      <th>1286</th>\n",
       "      <td>111</td>\n",
       "      <td>sugi-01096/72</td>\n",
       "      <td>https://chat.openai.com/share/e2c50f86-6c14-4f...</td>\n",
       "      <td>import streamlit as st\\nimport json\\n\\n\\ndef s...</td>\n",
       "      <td>The code you provided seems to be a simple bul...</td>\n",
       "    </tr>\n",
       "    <tr>\n",
       "      <th>1287</th>\n",
       "      <td>131</td>\n",
       "      <td>sugi-01096/72</td>\n",
       "      <td>https://chat.openai.com/share/4cd4bb4a-56f9-4a...</td>\n",
       "      <td>import streamlit as st\\nimport json\\n\\n\\ndef s...</td>\n",
       "      <td>The code you provided seems to be a simple bul...</td>\n",
       "    </tr>\n",
       "    <tr>\n",
       "      <th>1288</th>\n",
       "      <td>186</td>\n",
       "      <td>Significant-Gravitas/Auto-GPT</td>\n",
       "      <td>https://chat.openai.com/share/aec2922e-dbcc-47...</td>\n",
       "      <td>I am using venv(python module env) on the mac ...</td>\n",
       "      <td>To upgrade the Python version within a virtual...</td>\n",
       "    </tr>\n",
       "    <tr>\n",
       "      <th>1289</th>\n",
       "      <td>227</td>\n",
       "      <td>HaroldMitts/VoAIce</td>\n",
       "      <td>https://chat.openai.com/share/262e8d7d-657b-4a...</td>\n",
       "      <td>output audio of the following sentence;\\n\\n\"Do...</td>\n",
       "      <td>Sure, here is the audio version of your text:C...</td>\n",
       "    </tr>\n",
       "  </tbody>\n",
       "</table>\n",
       "<p>276 rows × 5 columns</p>\n",
       "</div>"
      ],
      "text/plain": [
       "      Unnamed: 0                       RepoName  \\\n",
       "0           7870            paul-gauthier/aider   \n",
       "1           7898               chitalian/gptask   \n",
       "2           7906           bbelderbos/htmx-demo   \n",
       "3           7907           bbelderbos/htmx-demo   \n",
       "4           7908           bbelderbos/htmx-demo   \n",
       "...          ...                            ...   \n",
       "1250         227             HaroldMitts/VoAIce   \n",
       "1286         111                  sugi-01096/72   \n",
       "1287         131                  sugi-01096/72   \n",
       "1288         186  Significant-Gravitas/Auto-GPT   \n",
       "1289         227             HaroldMitts/VoAIce   \n",
       "\n",
       "                                     URL_chatgptsharing  \\\n",
       "0     https://chat.openai.com/share/4555f0ea-1e7b-49...   \n",
       "1     https://chat.openai.com/share/902cd378-3ebc-4e...   \n",
       "2     https://chat.openai.com/share/c8c101fa-aaae-49...   \n",
       "3     https://chat.openai.com/share/c8c101fa-aaae-49...   \n",
       "4     https://chat.openai.com/share/c8c101fa-aaae-49...   \n",
       "...                                                 ...   \n",
       "1250  https://chat.openai.com/share/262e8d7d-657b-4a...   \n",
       "1286  https://chat.openai.com/share/e2c50f86-6c14-4f...   \n",
       "1287  https://chat.openai.com/share/4cd4bb4a-56f9-4a...   \n",
       "1288  https://chat.openai.com/share/aec2922e-dbcc-47...   \n",
       "1289  https://chat.openai.com/share/262e8d7d-657b-4a...   \n",
       "\n",
       "                                                 Prompt  \\\n",
       "0     How can I setup a github action to automatical...   \n",
       "1     Give me some test commands for this\\n\\nimport ...   \n",
       "2     how to get the first 20 rows from a django model?   \n",
       "3     I have this view for infinite scroll, would be...   \n",
       "4     for page 49 this gives:\\n\\nInternal Server Err...   \n",
       "...                                                 ...   \n",
       "1250  output audio of the following sentence;\\n\\n\"Do...   \n",
       "1286  import streamlit as st\\nimport json\\n\\n\\ndef s...   \n",
       "1287  import streamlit as st\\nimport json\\n\\n\\ndef s...   \n",
       "1288  I am using venv(python module env) on the mac ...   \n",
       "1289  output audio of the following sentence;\\n\\n\"Do...   \n",
       "\n",
       "                                                 Answer  \n",
       "0     Sure, I can certainly help you with that. Here...  \n",
       "1     This Python script is a command-line tool that...  \n",
       "2     To get the first 20 rows from a Django model, ...  \n",
       "3     Certainly! You can refactor the code to use Dj...  \n",
       "4     Certainly! To handle the ValueError when conve...  \n",
       "...                                                 ...  \n",
       "1250  Sure, here is the audio version of your text:C...  \n",
       "1286  The code you provided seems to be a simple bul...  \n",
       "1287  The code you provided seems to be a simple bul...  \n",
       "1288  To upgrade the Python version within a virtual...  \n",
       "1289  Sure, here is the audio version of your text:C...  \n",
       "\n",
       "[276 rows x 5 columns]"
      ]
     },
     "execution_count": 8,
     "metadata": {},
     "output_type": "execute_result"
    }
   ],
   "source": [
    "# Group by RepoName\n",
    "df_repo = df.groupby(by=[\"RepoName\"])\n",
    "df_repo.head()"
   ]
  },
  {
   "cell_type": "code",
   "execution_count": 9,
   "metadata": {},
   "outputs": [
    {
     "data": {
      "text/plain": [
       "66"
      ]
     },
     "execution_count": 9,
     "metadata": {},
     "output_type": "execute_result"
    }
   ],
   "source": [
    "# In our merged dataset, there are 66 unique repos.\n",
    "len(df_repo[\"RepoName\"].unique())"
   ]
  },
  {
   "cell_type": "code",
   "execution_count": 10,
   "metadata": {},
   "outputs": [
    {
     "name": "stdout",
     "output_type": "stream",
     "text": [
      "Average interactions per pr: 20.02\n",
      "Maximum number of interactions: 501\n",
      "Minimum number of interactions: 3\n"
     ]
    }
   ],
   "source": [
    "# Show the distribution of interactions\n",
    "\n",
    "df_repo_count = df_repo[\"URL_chatgptsharing\"].aggregate(len).reset_index()\n",
    "\n",
    "idx_max = np.argmax(df_repo_count[\"URL_chatgptsharing\"])\n",
    "idx_min = np.argmin(df_repo_count[\"URL_chatgptsharing\"])\n",
    "print(\n",
    "    f\"Average interactions per pr: {np.mean(df_repo_count[\"URL_chatgptsharing\"]):.2f}\\n\"\n",
    "    f\"Maximum number of interactions: {df_repo_count.iloc[idx_max][\"URL_chatgptsharing\"]}\\n\"\n",
    "    f\"Minimum number of interactions: {df_repo_count.iloc[idx_min][\"URL_chatgptsharing\"]}\"\n",
    ")"
   ]
  },
  {
   "cell_type": "code",
   "execution_count": 11,
   "metadata": {},
   "outputs": [
    {
     "data": {
      "application/vnd.vegalite.v5+json": {
       "$schema": "https://vega.github.io/schema/vega-lite/v5.20.1.json",
       "config": {
        "view": {
         "continuousHeight": 300,
         "continuousWidth": 300
        }
       },
       "data": {
        "name": "data-fc59c76eb04d6aaab4f4b585e3b3712d"
       },
       "datasets": {
        "data-fc59c76eb04d6aaab4f4b585e3b3712d": [
         {
          "RepoName": "ActivityWatch/aw-server",
          "URL_chatgptsharing": 3
         },
         {
          "RepoName": "AndyGrant/OpenBench",
          "URL_chatgptsharing": 3
         },
         {
          "RepoName": "AntonOsika/gpt-engineer",
          "URL_chatgptsharing": 54
         },
         {
          "RepoName": "D3Zyre/Copy-All-Files-From-Folder",
          "URL_chatgptsharing": 6
         },
         {
          "RepoName": "Delgan/loguru",
          "URL_chatgptsharing": 9
         },
         {
          "RepoName": "Elucidation/mapf-multiagent-robot-planning",
          "URL_chatgptsharing": 18
         },
         {
          "RepoName": "Email-Generation/email_generation",
          "URL_chatgptsharing": 501
         },
         {
          "RepoName": "GreyDGL/PentestGPT",
          "URL_chatgptsharing": 6
         },
         {
          "RepoName": "HaroldMitts/VoAIce",
          "URL_chatgptsharing": 3
         },
         {
          "RepoName": "Hochfrequenz/kohlrahbi",
          "URL_chatgptsharing": 3
         },
         {
          "RepoName": "MauriceLe/PIMS",
          "URL_chatgptsharing": 3
         },
         {
          "RepoName": "NA-MIC/ProjectWeek",
          "URL_chatgptsharing": 3
         },
         {
          "RepoName": "OpenAdaptAI/OpenAdapt",
          "URL_chatgptsharing": 38
         },
         {
          "RepoName": "PromtEngineer/localGPT",
          "URL_chatgptsharing": 39
         },
         {
          "RepoName": "RND247/Pype-Synthetic-Data-for-Testing",
          "URL_chatgptsharing": 6
         },
         {
          "RepoName": "SafEight/wdm-project",
          "URL_chatgptsharing": 6
         },
         {
          "RepoName": "Shreya-R-Dixit-Memorial-Foundation/EyeDaV2",
          "URL_chatgptsharing": 3
         },
         {
          "RepoName": "Significant-Gravitas/Auto-GPT",
          "URL_chatgptsharing": 3
         },
         {
          "RepoName": "SuffolkLITLab/docassemble-ALToolbox",
          "URL_chatgptsharing": 9
         },
         {
          "RepoName": "aahnik/temple-web",
          "URL_chatgptsharing": 3
         },
         {
          "RepoName": "aiplanethub/genai-stack",
          "URL_chatgptsharing": 3
         },
         {
          "RepoName": "app-sre/qontract-reconcile",
          "URL_chatgptsharing": 15
         },
         {
          "RepoName": "bancaditalia/black-it",
          "URL_chatgptsharing": 3
         },
         {
          "RepoName": "bbelderbos/htmx-demo",
          "URL_chatgptsharing": 9
         },
         {
          "RepoName": "chitalian/gptask",
          "URL_chatgptsharing": 3
         },
         {
          "RepoName": "comfyanonymous/ComfyUI",
          "URL_chatgptsharing": 3
         },
         {
          "RepoName": "davidusb-geek/emhass",
          "URL_chatgptsharing": 9
         },
         {
          "RepoName": "dobbelina/repository.dobbelina",
          "URL_chatgptsharing": 6
         },
         {
          "RepoName": "dtch1997/gpt-text-gym",
          "URL_chatgptsharing": 33
         },
         {
          "RepoName": "embedchain/embedchain",
          "URL_chatgptsharing": 3
         },
         {
          "RepoName": "gorillamania/AICodeBot",
          "URL_chatgptsharing": 30
         },
         {
          "RepoName": "icecube/pisa",
          "URL_chatgptsharing": 3
         },
         {
          "RepoName": "internetarchive/openlibrary",
          "URL_chatgptsharing": 9
         },
         {
          "RepoName": "jasonacox/Powerwall-Dashboard",
          "URL_chatgptsharing": 18
         },
         {
          "RepoName": "jefftriplett/frontmatter-cli",
          "URL_chatgptsharing": 18
         },
         {
          "RepoName": "karpathy/ng-video-lecture",
          "URL_chatgptsharing": 6
         },
         {
          "RepoName": "kroitor/asciichart",
          "URL_chatgptsharing": 3
         },
         {
          "RepoName": "kukulich/home-assistant-jablotron100",
          "URL_chatgptsharing": 3
         },
         {
          "RepoName": "langchain-ai/langchain",
          "URL_chatgptsharing": 21
         },
         {
          "RepoName": "livingbio/gpt-fn",
          "URL_chatgptsharing": 6
         },
         {
          "RepoName": "meltyyyyy/ICR-2023",
          "URL_chatgptsharing": 18
         },
         {
          "RepoName": "mesonbuild/meson",
          "URL_chatgptsharing": 3
         },
         {
          "RepoName": "metaphorsystems/metaphor-python",
          "URL_chatgptsharing": 6
         },
         {
          "RepoName": "microsoft/visionmetrics",
          "URL_chatgptsharing": 3
         },
         {
          "RepoName": "monarch-initiative/oai-monarch-plugin",
          "URL_chatgptsharing": 3
         },
         {
          "RepoName": "mpoon/gpt-repository-loader",
          "URL_chatgptsharing": 3
         },
         {
          "RepoName": "mprib/pyxy3d",
          "URL_chatgptsharing": 18
         },
         {
          "RepoName": "nuhmanpk/Webtrench",
          "URL_chatgptsharing": 12
         },
         {
          "RepoName": "omegaui/linux-voice-control",
          "URL_chatgptsharing": 33
         },
         {
          "RepoName": "paul-gauthier/aider",
          "URL_chatgptsharing": 3
         },
         {
          "RepoName": "related-sciences/nxontology-ml",
          "URL_chatgptsharing": 3
         },
         {
          "RepoName": "roslinmahmud/easy-hire-backend",
          "URL_chatgptsharing": 3
         },
         {
          "RepoName": "simonw/asgi-proxy-lib",
          "URL_chatgptsharing": 30
         },
         {
          "RepoName": "simonw/datasette-render-markdown",
          "URL_chatgptsharing": 27
         },
         {
          "RepoName": "simonw/llm-replicate",
          "URL_chatgptsharing": 6
         },
         {
          "RepoName": "simonw/sqlite-utils",
          "URL_chatgptsharing": 18
         },
         {
          "RepoName": "simonw/symbex",
          "URL_chatgptsharing": 30
         },
         {
          "RepoName": "simonw/ttok",
          "URL_chatgptsharing": 3
         },
         {
          "RepoName": "sugi-01096/72",
          "URL_chatgptsharing": 5
         },
         {
          "RepoName": "teremterem/botmerger",
          "URL_chatgptsharing": 9
         },
         {
          "RepoName": "theonlysam/blackjack",
          "URL_chatgptsharing": 3
         },
         {
          "RepoName": "tinygrad/tinygrad",
          "URL_chatgptsharing": 15
         },
         {
          "RepoName": "udayhello/handwritten1",
          "URL_chatgptsharing": 72
         },
         {
          "RepoName": "uuid6/prototypes",
          "URL_chatgptsharing": 60
         },
         {
          "RepoName": "wafflestudio/wacruit-server",
          "URL_chatgptsharing": 3
         },
         {
          "RepoName": "welfare-state-analytics/riksdagen-corpus",
          "URL_chatgptsharing": 9
         }
        ]
       },
       "layer": [
        {
         "encoding": {
          "x": {
           "field": "URL_chatgptsharing",
           "title": "Number of Interactions with ChatGPT",
           "type": "nominal"
          },
          "y": {
           "aggregate": "count",
           "title": "Count",
           "type": "quantitative"
          }
         },
         "mark": {
          "size": 5,
          "type": "bar"
         },
         "title": {
          "subtitle": "Merged dataset: issues, discussions, and pull requests",
          "text": "Distribution of the number of interactions with ChatGPT"
         }
        },
        {
         "encoding": {
          "size": {
           "value": 2
          },
          "x": {
           "aggregate": "mean",
           "axis": {
            "format": "2d"
           },
           "field": "URL_chatgptsharing",
           "type": "nominal"
          }
         },
         "mark": {
          "type": "rule"
         }
        }
       ]
      },
      "text/plain": [
       "<VegaLite 5 object>\n",
       "\n",
       "If you see this message, it means the renderer has not been properly enabled\n",
       "for the frontend that you are using. For more information, see\n",
       "https://altair-viz.github.io/user_guide/display_frontends.html#troubleshooting\n"
      ]
     },
     "execution_count": 11,
     "metadata": {},
     "output_type": "execute_result"
    }
   ],
   "source": [
    "# Checking histogarm\n",
    "\n",
    "inter_bar = alt.Chart(df_repo_count).mark_bar(size=5).encode(\n",
    "    x=alt.X(\n",
    "        \"URL_chatgptsharing:N\",\n",
    "        title=\"Number of Interactions with ChatGPT\",\n",
    "    ),\n",
    "    y=alt.Y(\"count()\", title=\"Count\"),\n",
    ").properties(\n",
    "    title={\n",
    "        \"text\": \"Distribution of the number of interactions with ChatGPT\",\n",
    "        \"subtitle\": \"Merged dataset: issues, discussions, and pull requests\"\n",
    "    }\n",
    ")\n",
    "\n",
    "rule = alt.Chart(df_repo_count).mark_rule().encode(\n",
    "    x=alt.X(\n",
    "        'URL_chatgptsharing:N',\n",
    "        aggregate=\"mean\",\n",
    "        type='nominal',\n",
    "        axis=alt.Axis(format=\"2d\")\n",
    "    ),\n",
    "    size=alt.value(2),\n",
    ")\n",
    "\n",
    "alt.layer(inter_bar, rule)"
   ]
  },
  {
   "cell_type": "markdown",
   "metadata": {},
   "source": [
    "## Average Length of Prompt\n",
    "\n",
    "Calculate the average length of prompts (measured in tokens) for issues, discussions, and pull requests.\n",
    "\n",
    "Method:\n",
    "1. Tokenzlize prompt in merged dataset.\n",
    "2. Remove punctuation.\n",
    "3. Calculate the average length of prompts."
   ]
  },
  {
   "cell_type": "code",
   "execution_count": 12,
   "metadata": {},
   "outputs": [],
   "source": [
    "# Load NLP model.\n",
    "\n",
    "nlp = spacy.load(\"en_core_web_sm\")"
   ]
  },
  {
   "cell_type": "code",
   "execution_count": 13,
   "metadata": {},
   "outputs": [],
   "source": [
    "# Get all prompts.\n",
    "\n",
    "prompts = df[\"Prompt\"].drop_duplicates().to_list()"
   ]
  },
  {
   "cell_type": "code",
   "execution_count": 14,
   "metadata": {},
   "outputs": [
    {
     "name": "stderr",
     "output_type": "stream",
     "text": [
      "100%|██████████| 426/426 [00:00<00:00, 65690.20it/s]\n"
     ]
    }
   ],
   "source": [
    "# Remove punctuation\n",
    "with Pool() as pool:\n",
    "    doc = pool.map(nlp, tqdm(prompts, total=len(prompts)))\n",
    "    "
   ]
  },
  {
   "cell_type": "code",
   "execution_count": 15,
   "metadata": {},
   "outputs": [
    {
     "name": "stderr",
     "output_type": "stream",
     "text": [
      "100%|██████████| 426/426 [00:00<00:00, 79443.93it/s]\n"
     ]
    }
   ],
   "source": [
    "tokens = []\n",
    "for d in tqdm(doc):\n",
    "    token_without_punc = [token for token in d if not token.is_punct]\n",
    "    tokens.append(token_without_punc)"
   ]
  },
  {
   "cell_type": "code",
   "execution_count": 16,
   "metadata": {
    "scrolled": true
   },
   "outputs": [
    {
     "name": "stdout",
     "output_type": "stream",
     "text": [
      "Average length of prompt per pr: 67.92\n",
      "---------------------------\n",
      "Maximum length of prompt: ---------------------------------------------------------------------------\n",
      "InvalidArgumentError                      Traceback (most recent call last)\n",
      "<ipython-input-33-22ef21b7d160> in <cell line: 10>()\n",
      "      8 \n",
      "      9 # Now, you can use the model for prediction\n",
      "---> 10 prediction = model.predict(img_expanded)\n",
      "     11 print(f\"This digit is probably a {np.argmax(prediction)}\")\n",
      "     12 \n",
      "\n",
      "1 frames\n",
      "/usr/local/lib/python3.10/dist-packages/tensorflow/python/eager/execute.py in quick_execute(op_name, num_outputs, inputs, attrs, ctx, name)\n",
      "     50   try:\n",
      "     51     ctx.ensure_initialized()\n",
      "---> 52     tensors = pywrap_tfe.TFE_Py_Execute(ctx._handle, device_name, op_name,\n",
      "     53                                         inputs, attrs, num_outputs)\n",
      "     54   except core._NotOkStatusException as e:\n",
      "\n",
      "InvalidArgumentError: Graph execution error:\n",
      "\n",
      "Detected at node 'sequential/conv2d/BiasAdd' defined at (most recent call last):\n",
      "    File \"/usr/lib/python3.10/runpy.py\", line 196, in _run_module_as_main\n",
      "      return _run_code(code, main_globals, None,\n",
      "    File \"/usr/lib/python3.10/runpy.py\", line 86, in _run_code\n",
      "      exec(code, run_globals)\n",
      "    File \"/usr/local/lib/python3.10/dist-packages/ipykernel_launcher.py\", line 16, in <module>\n",
      "      app.launch_new_instance()\n",
      "    File \"/usr/local/lib/python3.10/dist-packages/traitlets/config/application.py\", line 992, in launch_instance\n",
      "      app.start()\n",
      "    File \"/usr/local/lib/python3.10/dist-packages/ipykernel/kernelapp.py\", line 619, in start\n",
      "      self.io_loop.start()\n",
      "    File \"/usr/local/lib/python3.10/dist-packages/tornado/platform/asyncio.py\", line 195, in start\n",
      "      self.asyncio_loop.run_forever()\n",
      "    File \"/usr/lib/python3.10/asyncio/base_events.py\", line 600, in run_forever\n",
      "      self._run_once()\n",
      "    File \"/usr/lib/python3.10/asyncio/base_events.py\", line 1896, in _run_once\n",
      "      handle._run()\n",
      "    File \"/usr/lib/python3.10/asyncio/events.py\", line 80, in _run\n",
      "      self._context.run(self._callback, *self._args)\n",
      "    File \"/usr/local/lib/python3.10/dist-packages/tornado/ioloop.py\", line 685, in <lambda>\n",
      "      lambda f: self._run_callback(functools.partial(callback, future))\n",
      "    File \"/usr/local/lib/python3.10/dist-packages/tornado/ioloop.py\", line 738, in _run_callback\n",
      "      ret = callback()\n",
      "    File \"/usr/local/lib/python3.10/dist-packages/tornado/gen.py\", line 825, in inner\n",
      "      self.ctx_run(self.run)\n",
      "    File \"/usr/local/lib/python3.10/dist-packages/tornado/gen.py\", line 786, in run\n",
      "      yielded = self.gen.send(value)\n",
      "    File \"/usr/local/lib/python3.10/dist-packages/ipykernel/kernelbase.py\", line 361, in process_one\n",
      "      yield gen.maybe_future(dispatch(*args))\n",
      "    File \"/usr/local/lib/python3.10/dist-packages/tornado/gen.py\", line 234, in wrapper\n",
      "      yielded = ctx_run(next, result)\n",
      "    File \"/usr/local/lib/python3.10/dist-packages/ipykernel/kernelbase.py\", line 261, in dispatch_shell\n",
      "      yield gen.maybe_future(handler(stream, idents, msg))\n",
      "    File \"/usr/local/lib/python3.10/dist-packages/tornado/gen.py\", line 234, in wrapper\n",
      "      yielded = ctx_run(next, result)\n",
      "    File \"/usr/local/lib/python3.10/dist-packages/ipykernel/kernelbase.py\", line 539, in execute_request\n",
      "      self.do_execute(\n",
      "    File \"/usr/local/lib/python3.10/dist-packages/tornado/gen.py\", line 234, in wrapper\n",
      "      yielded = ctx_run(next, result)\n",
      "    File \"/usr/local/lib/python3.10/dist-packages/ipykernel/ipkernel.py\", line 302, in do_execute\n",
      "      res = shell.run_cell(code, store_history=store_history, silent=silent)\n",
      "    File \"/usr/local/lib/python3.10/dist-packages/ipykernel/zmqshell.py\", line 539, in run_cell\n",
      "      return super(ZMQInteractiveShell, self).run_cell(*args, **kwargs)\n",
      "    File \"/usr/local/lib/python3.10/dist-packages/IPython/core/interactiveshell.py\", line 2975, in run_cell\n",
      "      result = self._run_cell(\n",
      "    File \"/usr/local/lib/python3.10/dist-packages/IPython/core/interactiveshell.py\", line 3030, in _run_cell\n",
      "      return runner(coro)\n",
      "    File \"/usr/local/lib/python3.10/dist-packages/IPython/core/async_helpers.py\", line 78, in _pseudo_sync_runner\n",
      "      coro.send(None)\n",
      "    File \"/usr/local/lib/python3.10/dist-packages/IPython/core/interactiveshell.py\", line 3257, in run_cell_async\n",
      "      has_raised = await self.run_ast_nodes(code_ast.body, cell_name,\n",
      "    File \"/usr/local/lib/python3.10/dist-packages/IPython/core/interactiveshell.py\", line 3473, in run_ast_nodes\n",
      "      if (await self.run_code(code, result,  async_=asy)):\n",
      "    File \"/usr/local/lib/python3.10/dist-packages/IPython/core/interactiveshell.py\", line 3553, in run_code\n",
      "      exec(code_obj, self.user_global_ns, self.user_ns)\n",
      "    File \"<ipython-input-31-d9e8d8257638>\", line 3, in <cell line: 3>\n",
      "      prediction = model.predict(img)\n",
      "    File \"/usr/local/lib/python3.10/dist-packages/keras/utils/traceback_utils.py\", line 65, in error_handler\n",
      "      return fn(*args, **kwargs)\n",
      "    File \"/usr/local/lib/python3.10/dist-packages/keras/engine/training.py\", line 2382, in predict\n",
      "      tmp_batch_outputs = self.predict_function(iterator)\n",
      "    File \"/usr/local/lib/python3.10/dist-packages/keras/engine/training.py\", line 2169, in predict_function\n",
      "      return step_function(self, iterator)\n",
      "    File \"/usr/local/lib/python3.10/dist-packages/keras/engine/training.py\", line 2155, in step_function\n",
      "      outputs = model.distribute_strategy.run(run_step, args=(data,))\n",
      "    File \"/usr/local/lib/python3.10/dist-packages/keras/engine/training.py\", line 2143, in run_step\n",
      "      outputs = model.predict_step(data)\n",
      "    File \"/usr/local/lib/python3.10/dist-packages/keras/engine/training.py\", line 2111, in predict_step\n",
      "      return self(x, training=False)\n",
      "    File \"/usr/local/lib/python3.10/dist-packages/keras/utils/traceback_utils.py\", line 65, in error_handler\n",
      "      return fn(*args, **kwargs)\n",
      "    File \"/usr/local/lib/python3.10/dist-packages/keras/engine/training.py\", line 558, in __call__\n",
      "      return super().__call__(*args, **kwargs)\n",
      "    File \"/usr/local/lib/python3.10/dist-packages/keras/utils/traceback_utils.py\", line 65, in error_handler\n",
      "      return fn(*args, **kwargs)\n",
      "    File \"/usr/local/lib/python3.10/dist-packages/keras/engine/base_layer.py\", line 1145, in __call__\n",
      "      outputs = call_fn(inputs, *args, **kwargs)\n",
      "    File \"/usr/local/lib/python3.10/dist-packages/keras/utils/traceback_utils.py\", line 96, in error_handler\n",
      "      return fn(*args, **kwargs)\n",
      "    File \"/usr/local/lib/python3.10/dist-packages/keras/engine/sequential.py\", line 412, in call\n",
      "      return super().call(inputs, training=training, mask=mask)\n",
      "    File \"/usr/local/lib/python3.10/dist-packages/keras/engine/functional.py\", line 512, in call\n",
      "      return self._run_internal_graph(inputs, training=training, mask=mask)\n",
      "    File \"/usr/local/lib/python3.10/dist-packages/keras/engine/functional.py\", line 669, in _run_internal_graph\n",
      "      outputs = node.layer(*args, **kwargs)\n",
      "    File \"/usr/local/lib/python3.10/dist-packages/keras/utils/traceback_utils.py\", line 65, in error_handler\n",
      "      return fn(*args, **kwargs)\n",
      "    File \"/usr/local/lib/python3.10/dist-packages/keras/engine/base_layer.py\", line 1145, in __call__\n",
      "      outputs = call_fn(inputs, *args, **kwargs)\n",
      "    File \"/usr/local/lib/python3.10/dist-packages/keras/utils/traceback_utils.py\", line 96, in error_handler\n",
      "      return fn(*args, **kwargs)\n",
      "    File \"/usr/local/lib/python3.10/dist-packages/keras/layers/convolutional/base_conv.py\", line 311, in call\n",
      "      outputs = tf.nn.bias_add(\n",
      "Node: 'sequential/conv2d/BiasAdd'\n",
      "convolution input must be 4-dimensional: [1,28,28]\n",
      "\t [[{{node sequential/conv2d/BiasAdd}}]] [Op:__inference_predict_function_27969]\n",
      "---------------------------\n",
      "Minimum length of prompt: hey\n"
     ]
    }
   ],
   "source": [
    "# Calculate average length of prompt\n",
    "ls_len_promot = [len(token) for token in tokens]\n",
    "idx_max = np.argmax(ls_len_promot)\n",
    "idx_min = np.argmin(ls_len_promot)\n",
    "print(\n",
    "    f\"Average length of prompt per pr: {np.mean(ls_len_promot):.2f}\\n\"\n",
    "    f\"---------------------------\\n\"\n",
    "    f\"Maximum length of prompt: {prompts[idx_max]}\\n\"\n",
    "    f\"---------------------------\\n\"\n",
    "    f\"Minimum length of prompt: {prompts[idx_min]}\"\n",
    ")"
   ]
  },
  {
   "cell_type": "code",
   "execution_count": 17,
   "metadata": {},
   "outputs": [
    {
     "data": {
      "text/html": [
       "<div>\n",
       "<style scoped>\n",
       "    .dataframe tbody tr th:only-of-type {\n",
       "        vertical-align: middle;\n",
       "    }\n",
       "\n",
       "    .dataframe tbody tr th {\n",
       "        vertical-align: top;\n",
       "    }\n",
       "\n",
       "    .dataframe thead th {\n",
       "        text-align: right;\n",
       "    }\n",
       "</style>\n",
       "<table border=\"1\" class=\"dataframe\">\n",
       "  <thead>\n",
       "    <tr style=\"text-align: right;\">\n",
       "      <th></th>\n",
       "      <th>length_prompt</th>\n",
       "    </tr>\n",
       "  </thead>\n",
       "  <tbody>\n",
       "    <tr>\n",
       "      <th>0</th>\n",
       "      <td>29</td>\n",
       "    </tr>\n",
       "    <tr>\n",
       "      <th>1</th>\n",
       "      <td>505</td>\n",
       "    </tr>\n",
       "    <tr>\n",
       "      <th>2</th>\n",
       "      <td>11</td>\n",
       "    </tr>\n",
       "    <tr>\n",
       "      <th>3</th>\n",
       "      <td>48</td>\n",
       "    </tr>\n",
       "    <tr>\n",
       "      <th>4</th>\n",
       "      <td>108</td>\n",
       "    </tr>\n",
       "  </tbody>\n",
       "</table>\n",
       "</div>"
      ],
      "text/plain": [
       "   length_prompt\n",
       "0             29\n",
       "1            505\n",
       "2             11\n",
       "3             48\n",
       "4            108"
      ]
     },
     "execution_count": 17,
     "metadata": {},
     "output_type": "execute_result"
    }
   ],
   "source": [
    "# Create a dataframe for histogram\n",
    "\n",
    "df_prompt_count = pd.DataFrame(ls_len_promot, columns=[\"length_prompt\"])\n",
    "df_prompt_count.head()"
   ]
  },
  {
   "cell_type": "code",
   "execution_count": 18,
   "metadata": {},
   "outputs": [
    {
     "data": {
      "application/vnd.vegalite.v5+json": {
       "$schema": "https://vega.github.io/schema/vega-lite/v5.20.1.json",
       "config": {
        "view": {
         "continuousHeight": 300,
         "continuousWidth": 300
        }
       },
       "data": {
        "name": "data-676301a0b02fdfba884181d605af32e1"
       },
       "datasets": {
        "data-676301a0b02fdfba884181d605af32e1": [
         {
          "length_prompt": 29
         },
         {
          "length_prompt": 505
         },
         {
          "length_prompt": 11
         },
         {
          "length_prompt": 48
         },
         {
          "length_prompt": 108
         },
         {
          "length_prompt": 35
         },
         {
          "length_prompt": 17
         },
         {
          "length_prompt": 26
         },
         {
          "length_prompt": 11
         },
         {
          "length_prompt": 5
         },
         {
          "length_prompt": 40
         },
         {
          "length_prompt": 19
         },
         {
          "length_prompt": 16
         },
         {
          "length_prompt": 22
         },
         {
          "length_prompt": 16
         },
         {
          "length_prompt": 13
         },
         {
          "length_prompt": 16
         },
         {
          "length_prompt": 155
         },
         {
          "length_prompt": 65
         },
         {
          "length_prompt": 17
         },
         {
          "length_prompt": 21
         },
         {
          "length_prompt": 22
         },
         {
          "length_prompt": 7
         },
         {
          "length_prompt": 609
         },
         {
          "length_prompt": 419
         },
         {
          "length_prompt": 16
         },
         {
          "length_prompt": 8
         },
         {
          "length_prompt": 14
         },
         {
          "length_prompt": 844
         },
         {
          "length_prompt": 10
         },
         {
          "length_prompt": 8
         },
         {
          "length_prompt": 8
         },
         {
          "length_prompt": 77
         },
         {
          "length_prompt": 9
         },
         {
          "length_prompt": 7
         },
         {
          "length_prompt": 15
         },
         {
          "length_prompt": 13
         },
         {
          "length_prompt": 16
         },
         {
          "length_prompt": 5
         },
         {
          "length_prompt": 23
         },
         {
          "length_prompt": 4
         },
         {
          "length_prompt": 5
         },
         {
          "length_prompt": 8
         },
         {
          "length_prompt": 7
         },
         {
          "length_prompt": 6
         },
         {
          "length_prompt": 40
         },
         {
          "length_prompt": 5
         },
         {
          "length_prompt": 7
         },
         {
          "length_prompt": 285
         },
         {
          "length_prompt": 143
         },
         {
          "length_prompt": 424
         },
         {
          "length_prompt": 512
         },
         {
          "length_prompt": 381
         },
         {
          "length_prompt": 6
         },
         {
          "length_prompt": 72
         },
         {
          "length_prompt": 86
         },
         {
          "length_prompt": 7
         },
         {
          "length_prompt": 352
         },
         {
          "length_prompt": 10
         },
         {
          "length_prompt": 3
         },
         {
          "length_prompt": 74
         },
         {
          "length_prompt": 180
         },
         {
          "length_prompt": 461
         },
         {
          "length_prompt": 410
         },
         {
          "length_prompt": 97
         },
         {
          "length_prompt": 10
         },
         {
          "length_prompt": 32
         },
         {
          "length_prompt": 607
         },
         {
          "length_prompt": 1
         },
         {
          "length_prompt": 85
         },
         {
          "length_prompt": 6
         },
         {
          "length_prompt": 11
         },
         {
          "length_prompt": 4
         },
         {
          "length_prompt": 9
         },
         {
          "length_prompt": 5
         },
         {
          "length_prompt": 7
         },
         {
          "length_prompt": 9
         },
         {
          "length_prompt": 15
         },
         {
          "length_prompt": 160
         },
         {
          "length_prompt": 14
         },
         {
          "length_prompt": 6
         },
         {
          "length_prompt": 9
         },
         {
          "length_prompt": 7
         },
         {
          "length_prompt": 48
         },
         {
          "length_prompt": 243
         },
         {
          "length_prompt": 133
         },
         {
          "length_prompt": 81
         },
         {
          "length_prompt": 88
         },
         {
          "length_prompt": 9
         },
         {
          "length_prompt": 6
         },
         {
          "length_prompt": 7
         },
         {
          "length_prompt": 17
         },
         {
          "length_prompt": 4
         },
         {
          "length_prompt": 19
         },
         {
          "length_prompt": 20
         },
         {
          "length_prompt": 25
         },
         {
          "length_prompt": 424
         },
         {
          "length_prompt": 72
         },
         {
          "length_prompt": 7
         },
         {
          "length_prompt": 11
         },
         {
          "length_prompt": 9
         },
         {
          "length_prompt": 7
         },
         {
          "length_prompt": 26
         },
         {
          "length_prompt": 30
         },
         {
          "length_prompt": 6
         },
         {
          "length_prompt": 4
         },
         {
          "length_prompt": 7
         },
         {
          "length_prompt": 24
         },
         {
          "length_prompt": 118
         },
         {
          "length_prompt": 11
         },
         {
          "length_prompt": 6
         },
         {
          "length_prompt": 6
         },
         {
          "length_prompt": 114
         },
         {
          "length_prompt": 34
         },
         {
          "length_prompt": 5
         },
         {
          "length_prompt": 8
         },
         {
          "length_prompt": 10
         },
         {
          "length_prompt": 6
         },
         {
          "length_prompt": 3
         },
         {
          "length_prompt": 3
         },
         {
          "length_prompt": 5
         },
         {
          "length_prompt": 11
         },
         {
          "length_prompt": 118
         },
         {
          "length_prompt": 15
         },
         {
          "length_prompt": 5
         },
         {
          "length_prompt": 34
         },
         {
          "length_prompt": 14
         },
         {
          "length_prompt": 10
         },
         {
          "length_prompt": 13
         },
         {
          "length_prompt": 13
         },
         {
          "length_prompt": 166
         },
         {
          "length_prompt": 8
         },
         {
          "length_prompt": 12
         },
         {
          "length_prompt": 8
         },
         {
          "length_prompt": 24
         },
         {
          "length_prompt": 27
         },
         {
          "length_prompt": 13
         },
         {
          "length_prompt": 34
         },
         {
          "length_prompt": 161
         },
         {
          "length_prompt": 5
         },
         {
          "length_prompt": 8
         },
         {
          "length_prompt": 9
         },
         {
          "length_prompt": 4
         },
         {
          "length_prompt": 16
         },
         {
          "length_prompt": 6
         },
         {
          "length_prompt": 6
         },
         {
          "length_prompt": 6
         },
         {
          "length_prompt": 17
         },
         {
          "length_prompt": 66
         },
         {
          "length_prompt": 129
         },
         {
          "length_prompt": 18
         },
         {
          "length_prompt": 8
         },
         {
          "length_prompt": 5
         },
         {
          "length_prompt": 31
         },
         {
          "length_prompt": 4
         },
         {
          "length_prompt": 12
         },
         {
          "length_prompt": 11
         },
         {
          "length_prompt": 8
         },
         {
          "length_prompt": 9
         },
         {
          "length_prompt": 365
         },
         {
          "length_prompt": 8
         },
         {
          "length_prompt": 376
         },
         {
          "length_prompt": 9
         },
         {
          "length_prompt": 12
         },
         {
          "length_prompt": 6
         },
         {
          "length_prompt": 120
         },
         {
          "length_prompt": 153
         },
         {
          "length_prompt": 12
         },
         {
          "length_prompt": 23
         },
         {
          "length_prompt": 14
         },
         {
          "length_prompt": 8
         },
         {
          "length_prompt": 9
         },
         {
          "length_prompt": 82
         },
         {
          "length_prompt": 13
         },
         {
          "length_prompt": 7
         },
         {
          "length_prompt": 110
         },
         {
          "length_prompt": 7
         },
         {
          "length_prompt": 12
         },
         {
          "length_prompt": 58
         },
         {
          "length_prompt": 66
         },
         {
          "length_prompt": 6
         },
         {
          "length_prompt": 5
         },
         {
          "length_prompt": 12
         },
         {
          "length_prompt": 13
         },
         {
          "length_prompt": 22
         },
         {
          "length_prompt": 18
         },
         {
          "length_prompt": 70
         },
         {
          "length_prompt": 5
         },
         {
          "length_prompt": 13
         },
         {
          "length_prompt": 19
         },
         {
          "length_prompt": 10
         },
         {
          "length_prompt": 31
         },
         {
          "length_prompt": 97
         },
         {
          "length_prompt": 8
         },
         {
          "length_prompt": 100
         },
         {
          "length_prompt": 7
         },
         {
          "length_prompt": 156
         },
         {
          "length_prompt": 17
         },
         {
          "length_prompt": 43
         },
         {
          "length_prompt": 193
         },
         {
          "length_prompt": 19
         },
         {
          "length_prompt": 243
         },
         {
          "length_prompt": 993
         },
         {
          "length_prompt": 144
         },
         {
          "length_prompt": 50
         },
         {
          "length_prompt": 37
         },
         {
          "length_prompt": 7
         },
         {
          "length_prompt": 3
         },
         {
          "length_prompt": 7
         },
         {
          "length_prompt": 104
         },
         {
          "length_prompt": 238
         },
         {
          "length_prompt": 119
         },
         {
          "length_prompt": 7
         },
         {
          "length_prompt": 10
         },
         {
          "length_prompt": 11
         },
         {
          "length_prompt": 6
         },
         {
          "length_prompt": 26
         },
         {
          "length_prompt": 63
         },
         {
          "length_prompt": 109
         },
         {
          "length_prompt": 6
         },
         {
          "length_prompt": 6
         },
         {
          "length_prompt": 5
         },
         {
          "length_prompt": 10
         },
         {
          "length_prompt": 92
         },
         {
          "length_prompt": 67
         },
         {
          "length_prompt": 23
         },
         {
          "length_prompt": 33
         },
         {
          "length_prompt": 29
         },
         {
          "length_prompt": 14
         },
         {
          "length_prompt": 50
         },
         {
          "length_prompt": 11
         },
         {
          "length_prompt": 14
         },
         {
          "length_prompt": 9
         },
         {
          "length_prompt": 103
         },
         {
          "length_prompt": 109
         },
         {
          "length_prompt": 188
         },
         {
          "length_prompt": 75
         },
         {
          "length_prompt": 404
         },
         {
          "length_prompt": 12
         },
         {
          "length_prompt": 408
         },
         {
          "length_prompt": 684
         },
         {
          "length_prompt": 10
         },
         {
          "length_prompt": 23
         },
         {
          "length_prompt": 141
         },
         {
          "length_prompt": 51
         },
         {
          "length_prompt": 24
         },
         {
          "length_prompt": 10
         },
         {
          "length_prompt": 13
         },
         {
          "length_prompt": 11
         },
         {
          "length_prompt": 83
         },
         {
          "length_prompt": 25
         },
         {
          "length_prompt": 82
         },
         {
          "length_prompt": 11
         },
         {
          "length_prompt": 15
         },
         {
          "length_prompt": 49
         },
         {
          "length_prompt": 35
         },
         {
          "length_prompt": 19
         },
         {
          "length_prompt": 25
         },
         {
          "length_prompt": 7
         },
         {
          "length_prompt": 13
         },
         {
          "length_prompt": 26
         },
         {
          "length_prompt": 26
         },
         {
          "length_prompt": 5
         },
         {
          "length_prompt": 47
         },
         {
          "length_prompt": 43
         },
         {
          "length_prompt": 10
         },
         {
          "length_prompt": 10
         },
         {
          "length_prompt": 8
         },
         {
          "length_prompt": 19
         },
         {
          "length_prompt": 6
         },
         {
          "length_prompt": 128
         },
         {
          "length_prompt": 34
         },
         {
          "length_prompt": 8
         },
         {
          "length_prompt": 6
         },
         {
          "length_prompt": 12
         },
         {
          "length_prompt": 6
         },
         {
          "length_prompt": 13
         },
         {
          "length_prompt": 12
         },
         {
          "length_prompt": 70
         },
         {
          "length_prompt": 9
         },
         {
          "length_prompt": 65
         },
         {
          "length_prompt": 5
         },
         {
          "length_prompt": 5
         },
         {
          "length_prompt": 92
         },
         {
          "length_prompt": 10
         },
         {
          "length_prompt": 25
         },
         {
          "length_prompt": 302
         },
         {
          "length_prompt": 1
         },
         {
          "length_prompt": 5
         },
         {
          "length_prompt": 5
         },
         {
          "length_prompt": 12
         },
         {
          "length_prompt": 39
         },
         {
          "length_prompt": 50
         },
         {
          "length_prompt": 28
         },
         {
          "length_prompt": 106
         },
         {
          "length_prompt": 326
         },
         {
          "length_prompt": 7
         },
         {
          "length_prompt": 15
         },
         {
          "length_prompt": 20
         },
         {
          "length_prompt": 7
         },
         {
          "length_prompt": 9
         },
         {
          "length_prompt": 10
         },
         {
          "length_prompt": 47
         },
         {
          "length_prompt": 7
         },
         {
          "length_prompt": 38
         },
         {
          "length_prompt": 37
         },
         {
          "length_prompt": 45
         },
         {
          "length_prompt": 59
         },
         {
          "length_prompt": 54
         },
         {
          "length_prompt": 32
         },
         {
          "length_prompt": 1
         },
         {
          "length_prompt": 238
         },
         {
          "length_prompt": 22
         },
         {
          "length_prompt": 18
         },
         {
          "length_prompt": 17
         },
         {
          "length_prompt": 266
         },
         {
          "length_prompt": 15
         },
         {
          "length_prompt": 58
         },
         {
          "length_prompt": 71
         },
         {
          "length_prompt": 230
         },
         {
          "length_prompt": 12
         },
         {
          "length_prompt": 27
         },
         {
          "length_prompt": 20
         },
         {
          "length_prompt": 22
         },
         {
          "length_prompt": 28
         },
         {
          "length_prompt": 3
         },
         {
          "length_prompt": 6
         },
         {
          "length_prompt": 348
         },
         {
          "length_prompt": 612
         },
         {
          "length_prompt": 400
         },
         {
          "length_prompt": 488
         },
         {
          "length_prompt": 11
         },
         {
          "length_prompt": 11
         },
         {
          "length_prompt": 203
         },
         {
          "length_prompt": 65
         },
         {
          "length_prompt": 5
         },
         {
          "length_prompt": 46
         },
         {
          "length_prompt": 14
         },
         {
          "length_prompt": 126
         },
         {
          "length_prompt": 19
         },
         {
          "length_prompt": 24
         },
         {
          "length_prompt": 60
         },
         {
          "length_prompt": 30
         },
         {
          "length_prompt": 34
         },
         {
          "length_prompt": 4
         },
         {
          "length_prompt": 6
         },
         {
          "length_prompt": 29
         },
         {
          "length_prompt": 244
         },
         {
          "length_prompt": 36
         },
         {
          "length_prompt": 5
         },
         {
          "length_prompt": 37
         },
         {
          "length_prompt": 7
         },
         {
          "length_prompt": 20
         },
         {
          "length_prompt": 22
         },
         {
          "length_prompt": 17
         },
         {
          "length_prompt": 24
         },
         {
          "length_prompt": 18
         },
         {
          "length_prompt": 27
         },
         {
          "length_prompt": 12
         },
         {
          "length_prompt": 40
         },
         {
          "length_prompt": 21
         },
         {
          "length_prompt": 10
         },
         {
          "length_prompt": 26
         },
         {
          "length_prompt": 6
         },
         {
          "length_prompt": 111
         },
         {
          "length_prompt": 9
         },
         {
          "length_prompt": 50
         },
         {
          "length_prompt": 14
         },
         {
          "length_prompt": 16
         },
         {
          "length_prompt": 13
         },
         {
          "length_prompt": 51
         },
         {
          "length_prompt": 119
         },
         {
          "length_prompt": 27
         },
         {
          "length_prompt": 2
         },
         {
          "length_prompt": 23
         },
         {
          "length_prompt": 42
         },
         {
          "length_prompt": 37
         },
         {
          "length_prompt": 7
         },
         {
          "length_prompt": 82
         },
         {
          "length_prompt": 23
         },
         {
          "length_prompt": 36
         },
         {
          "length_prompt": 17
         },
         {
          "length_prompt": 10
         },
         {
          "length_prompt": 390
         },
         {
          "length_prompt": 92
         },
         {
          "length_prompt": 11
         },
         {
          "length_prompt": 779
         },
         {
          "length_prompt": 9
         },
         {
          "length_prompt": 89
         },
         {
          "length_prompt": 417
         },
         {
          "length_prompt": 351
         },
         {
          "length_prompt": 64
         },
         {
          "length_prompt": 456
         },
         {
          "length_prompt": 111
         },
         {
          "length_prompt": 30
         },
         {
          "length_prompt": 37
         },
         {
          "length_prompt": 415
         },
         {
          "length_prompt": 24
         },
         {
          "length_prompt": 111
         },
         {
          "length_prompt": 105
         },
         {
          "length_prompt": 8
         },
         {
          "length_prompt": 5
         },
         {
          "length_prompt": 3
         },
         {
          "length_prompt": 33
         },
         {
          "length_prompt": 269
         },
         {
          "length_prompt": 10
         },
         {
          "length_prompt": 8
         },
         {
          "length_prompt": 11
         },
         {
          "length_prompt": 8
         },
         {
          "length_prompt": 3
         },
         {
          "length_prompt": 8
         },
         {
          "length_prompt": 9
         },
         {
          "length_prompt": 4
         },
         {
          "length_prompt": 6
         },
         {
          "length_prompt": 31
         },
         {
          "length_prompt": 10
         },
         {
          "length_prompt": 18
         },
         {
          "length_prompt": 10
         },
         {
          "length_prompt": 16
         },
         {
          "length_prompt": 5
         },
         {
          "length_prompt": 11
         },
         {
          "length_prompt": 2
         },
         {
          "length_prompt": 1
         },
         {
          "length_prompt": 4
         },
         {
          "length_prompt": 2
         },
         {
          "length_prompt": 1
         }
        ]
       },
       "layer": [
        {
         "encoding": {
          "x": {
           "field": "length_prompt",
           "title": "Length of Prompts (tokens)",
           "type": "nominal"
          },
          "y": {
           "aggregate": "count",
           "title": "Count",
           "type": "quantitative"
          }
         },
         "mark": {
          "size": 5,
          "type": "bar"
         },
         "title": {
          "subtitle": "Merged dataset: issues, discussions, and pull requests",
          "text": "Distribution of the length of prompt with ChatGPT"
         }
        },
        {
         "encoding": {
          "x": {
           "aggregate": "mean",
           "axis": {
            "format": "2d"
           },
           "field": "length_prompt",
           "type": "nominal"
          }
         },
         "mark": {
          "type": "rule"
         }
        }
       ]
      },
      "text/plain": [
       "<VegaLite 5 object>\n",
       "\n",
       "If you see this message, it means the renderer has not been properly enabled\n",
       "for the frontend that you are using. For more information, see\n",
       "https://altair-viz.github.io/user_guide/display_frontends.html#troubleshooting\n"
      ]
     },
     "execution_count": 18,
     "metadata": {},
     "output_type": "execute_result"
    }
   ],
   "source": [
    "# Checking histogarm\n",
    "inter_bar = alt.Chart(df_prompt_count).mark_bar(size=5).encode(\n",
    "    x=alt.X(\n",
    "        \"length_prompt:N\",\n",
    "        title=\"Length of Prompts (tokens)\",\n",
    "    ),\n",
    "    y=alt.Y(\"count()\", title=\"Count\"),\n",
    ").properties(\n",
    "    title={\n",
    "        \"text\": \"Distribution of the length of prompt with ChatGPT\",\n",
    "        \"subtitle\": \"Merged dataset: issues, discussions, and pull requests\"\n",
    "    }\n",
    ")\n",
    "\n",
    "rule = alt.Chart(df_prompt_count).mark_rule().encode(\n",
    "    x=alt.X(\n",
    "        'length_prompt:N',\n",
    "        aggregate=\"mean\",\n",
    "        type='nominal',\n",
    "        axis=alt.Axis(format=\"2d\")\n",
    "    ),\n",
    ")\n",
    "\n",
    "alt.layer(inter_bar, rule)"
   ]
  },
  {
   "cell_type": "markdown",
   "metadata": {},
   "source": [
    "## Average Length of Answer\n",
    "\n",
    "Calculate the average length of answers (measured in tokens) for issues, discussions, and pull requests.request.\n",
    "\n",
    "Method:\n",
    "\n",
    "1. Tokenzlize prompt in merged dataset.\n",
    "2. Remove punctuation.\n",
    "3. Calculate the average length of answer."
   ]
  },
  {
   "cell_type": "code",
   "execution_count": 19,
   "metadata": {},
   "outputs": [],
   "source": [
    "# Get all answer.\n",
    "\n",
    "answers = df[\"Answer\"].drop_duplicates().to_list()"
   ]
  },
  {
   "cell_type": "code",
   "execution_count": 20,
   "metadata": {},
   "outputs": [
    {
     "name": "stderr",
     "output_type": "stream",
     "text": [
      "100%|██████████| 433/433 [00:00<00:00, 842362.54it/s]\n"
     ]
    }
   ],
   "source": [
    "# Remove punctuation\n",
    "with Pool() as pool:\n",
    "    doc = pool.map(nlp, tqdm(answers, total=len(answers)))"
   ]
  },
  {
   "cell_type": "code",
   "execution_count": 21,
   "metadata": {},
   "outputs": [
    {
     "name": "stderr",
     "output_type": "stream",
     "text": [
      "100%|██████████| 433/433 [00:00<00:00, 3318.97it/s]\n"
     ]
    }
   ],
   "source": [
    "tokens = []\n",
    "for d in tqdm(doc):\n",
    "    token_without_punc = [token for token in d if not token.is_punct]\n",
    "    tokens.append(token_without_punc)"
   ]
  },
  {
   "cell_type": "code",
   "execution_count": 22,
   "metadata": {
    "scrolled": true
   },
   "outputs": [
    {
     "name": "stdout",
     "output_type": "stream",
     "text": [
      "Average length of answer per pr: 179.38\n",
      "---------------------------\n",
      "Maximum length of answer: Certainly! Here's an elaboration on the actions mentioned in the Windows response, providing more details about each mouse click and key press:Navigating the GUI:Left-clicking:Single left-click: Pressing the left mouse button once to select or activate an element, such as buttons, checkboxes, links, or menu items.Right-clicking:Single right-click: Pressing the right mouse button once to open a context menu, displaying additional options specific to the clicked item.Double-clicking:Double left-click: Rapidly pressing the left mouse button twice, with a short interval between clicks, to open files, launch applications, or perform actions associated with the clicked item.Middle-clicking:Single middle-click: Pressing the middle mouse button (usually the scroll wheel) once, typically used to open links in new tabs in web browsers or close tabs.Hovering:Moving the mouse cursor over an element without clicking to trigger hover effects, display tooltips, or preview information associated with the element.Basic interactions:Opening/closing windows:Launching applications:Clicking the Start button in the bottom-left corner of the screen to open the Start menu.Navigating through the Start menu to locate and select the desired application icon.Left-clicking on the application icon to launch the application, which opens a new window.Closing windows:Left-clicking on the \"X\" button located in the top-right corner of the window using the mouse cursor to close the active window.Alternatively, pressing the Alt key and while holding it, pressing the F4 key on the keyboard to close the active window.Minimizing/maximizing/restoring windows:Minimizing: Left-clicking on the \"-\" button located in the top-left corner of the window to minimize the active window.Maximizing/Restoring: Left-clicking on the green \"+\" button located in the top-left corner of the window to toggle between maximizing and restoring the window's size.Switching between open windows:Pressing and holding the Alt key on the keyboard and then pressing the Tab key to cycle through the open windows.Releasing the Alt key when the desired window is highlighted to switch to that window.Managing files:Creating files/folders:Opening a file explorer window, such as Windows Explorer or File Explorer, by double-clicking its icon on the desktop or selecting it from the Start menu.Navigating to the desired location where the file or folder should be created.Right-clicking in the file explorer window and selecting \"New\" from the context menu.Choosing the desired file type or folder option from the submenu to create the respective item.Providing a name for the file or folder by typing it using the keyboard and pressing Enter to confirm.Opening files/folders:Opening a file explorer window, such as Windows Explorer or File Explorer, by double-clicking its icon on the desktop or selecting it from the Start menu.Navigating to the location where the file or folder is located.Left-clicking on the file or folder icon in the file explorer window to open it.Saving files:Using an application that allows saving files, such as a text editor or image editor.Clicking the \"File\" menu located in the application's menu bar at the top of the screen.Selecting the \"Save\" or \"Save As\" option from the dropdown menu.If \"Save As\" is chosen, specifying the desired location and providing a file name in the file explorer window that appears.Clicking the \"Save\" button in the file explorer window or pressing Enter to save the file.Deleting files/folders:Opening a file explorer window, such as Windows Explorer or File Explorer, by double-clicking its icon on the desktop or selecting it from the Start menu.Navigating to the location where the file or folder is located.Selecting the file(s) or folder(s) to be deleted by left-clicking on them in the file explorer window.Right-clicking on the selected file(s) or folder(s) to open the context menu.Choosing the \"Delete\" option from the context menu to move the selected item(s) to the Recycle Bin.Copying/cutting/pasting:Copying:Selecting the item(s) to be copied by left-clicking and dragging the mouse cursor over them to create a selection area or by holding the Shift key and left-clicking on individual items to select them.Right-clicking on the selected item(s) to open the context menu.Choosing the \"Copy\" option from the context menu to copy the selected item(s) to the clipboard.Cutting:Selecting the item(s) to be cut by left-clicking and dragging the mouse cursor over them to create a selection area or by holding the Shift key and left-clicking on individual items to select them.Right-clicking on the selected item(s) to open the context menu.Choosing the \"Cut\" option from the context menu to cut the selected item(s), which moves them to the clipboard.Pasting:Navigating to the desired location where the copied or cut item(s) should be pasted.Right-clicking in the destination location to open the context menu.Choosing the \"Paste\" option from the context menu to paste the item(s) from the clipboard to the selected location.Application-specific tasks:Operating specific software:Editing images:Launching an image editing software like Adobe Photoshop or Paint.Opening the desired image file using the software's \"Open\" option from the \"File\" menu or toolbar.Using various tools and options available in the software, such as selecting regions, applying filters, adjusting colors, or adding text, by clicking on the corresponding buttons or menu items.Saving the edited image using the software's \"Save\" or \"Save As\" option from the \"File\" menu or toolbar.Writing code:Launching an integrated development environment (IDE) like Microsoft Visual Studio or JetBrains IntelliJ IDEA.Creating a new project or opening an existing project using the IDE's menus or toolbar.Opening the code editor within the IDE by selecting the desired file or creating a new file.Typing or modifying code using the keyboard.Using keyboard shortcuts or menu options to compile, run, or debug the code.Composing emails:Launching an email client like Microsoft Outlook or Mozilla Thunderbird.Clicking the \"New Email\" button in the toolbar or selecting the \"New Email\" option from the \"File\" menu.Entering the recipient(s), subject, and message in the designated fields.Clicking the \"Send\" button in the toolbar or selecting the \"Send\" option from the \"File\" menu to send the email.Please note that this list provides a general description of common actions, and the exact steps may vary slightly depending on the specific applications and their versions.\n",
      "---------------------------\n",
      "Minimum length of answer: id|precision\n",
      "MONDO:0014498|high\n",
      "EFO:0009011|medium\n",
      "MONDO:0024239|low\n"
     ]
    }
   ],
   "source": [
    "# Calculate average length of prompt\n",
    "ls_len_answer = [len(token) for token in tokens]\n",
    "idx_max = np.argmax(ls_len_answer)\n",
    "idx_min = np.argmin(ls_len_answer)\n",
    "print(\n",
    "    f\"Average length of answer per pr: {np.mean(ls_len_answer):.2f}\\n\"\n",
    "    f\"---------------------------\\n\"\n",
    "    f\"Maximum length of answer: {answers[idx_max]}\\n\"\n",
    "    f\"---------------------------\\n\"\n",
    "    f\"Minimum length of answer: {answers[idx_min]}\"\n",
    ")"
   ]
  },
  {
   "cell_type": "code",
   "execution_count": 23,
   "metadata": {
    "scrolled": true
   },
   "outputs": [
    {
     "data": {
      "text/html": [
       "<div>\n",
       "<style scoped>\n",
       "    .dataframe tbody tr th:only-of-type {\n",
       "        vertical-align: middle;\n",
       "    }\n",
       "\n",
       "    .dataframe tbody tr th {\n",
       "        vertical-align: top;\n",
       "    }\n",
       "\n",
       "    .dataframe thead th {\n",
       "        text-align: right;\n",
       "    }\n",
       "</style>\n",
       "<table border=\"1\" class=\"dataframe\">\n",
       "  <thead>\n",
       "    <tr style=\"text-align: right;\">\n",
       "      <th></th>\n",
       "      <th>length_answer</th>\n",
       "    </tr>\n",
       "  </thead>\n",
       "  <tbody>\n",
       "    <tr>\n",
       "      <th>0</th>\n",
       "      <td>29</td>\n",
       "    </tr>\n",
       "    <tr>\n",
       "      <th>1</th>\n",
       "      <td>505</td>\n",
       "    </tr>\n",
       "    <tr>\n",
       "      <th>2</th>\n",
       "      <td>11</td>\n",
       "    </tr>\n",
       "    <tr>\n",
       "      <th>3</th>\n",
       "      <td>48</td>\n",
       "    </tr>\n",
       "    <tr>\n",
       "      <th>4</th>\n",
       "      <td>108</td>\n",
       "    </tr>\n",
       "  </tbody>\n",
       "</table>\n",
       "</div>"
      ],
      "text/plain": [
       "   length_answer\n",
       "0             29\n",
       "1            505\n",
       "2             11\n",
       "3             48\n",
       "4            108"
      ]
     },
     "execution_count": 23,
     "metadata": {},
     "output_type": "execute_result"
    }
   ],
   "source": [
    "# Create a dataframe for histogram\n",
    "\n",
    "df_answer_count = pd.DataFrame(ls_len_promot, columns=[\"length_answer\"])\n",
    "df_answer_count.head()"
   ]
  },
  {
   "cell_type": "code",
   "execution_count": 24,
   "metadata": {},
   "outputs": [
    {
     "data": {
      "application/vnd.vegalite.v5+json": {
       "$schema": "https://vega.github.io/schema/vega-lite/v5.20.1.json",
       "config": {
        "view": {
         "continuousHeight": 300,
         "continuousWidth": 300
        }
       },
       "data": {
        "name": "data-77dc675d5462e9d94786cb0458b4e4e5"
       },
       "datasets": {
        "data-77dc675d5462e9d94786cb0458b4e4e5": [
         {
          "length_answer": 29
         },
         {
          "length_answer": 505
         },
         {
          "length_answer": 11
         },
         {
          "length_answer": 48
         },
         {
          "length_answer": 108
         },
         {
          "length_answer": 35
         },
         {
          "length_answer": 17
         },
         {
          "length_answer": 26
         },
         {
          "length_answer": 11
         },
         {
          "length_answer": 5
         },
         {
          "length_answer": 40
         },
         {
          "length_answer": 19
         },
         {
          "length_answer": 16
         },
         {
          "length_answer": 22
         },
         {
          "length_answer": 16
         },
         {
          "length_answer": 13
         },
         {
          "length_answer": 16
         },
         {
          "length_answer": 155
         },
         {
          "length_answer": 65
         },
         {
          "length_answer": 17
         },
         {
          "length_answer": 21
         },
         {
          "length_answer": 22
         },
         {
          "length_answer": 7
         },
         {
          "length_answer": 609
         },
         {
          "length_answer": 419
         },
         {
          "length_answer": 16
         },
         {
          "length_answer": 8
         },
         {
          "length_answer": 14
         },
         {
          "length_answer": 844
         },
         {
          "length_answer": 10
         },
         {
          "length_answer": 8
         },
         {
          "length_answer": 8
         },
         {
          "length_answer": 77
         },
         {
          "length_answer": 9
         },
         {
          "length_answer": 7
         },
         {
          "length_answer": 15
         },
         {
          "length_answer": 13
         },
         {
          "length_answer": 16
         },
         {
          "length_answer": 5
         },
         {
          "length_answer": 23
         },
         {
          "length_answer": 4
         },
         {
          "length_answer": 5
         },
         {
          "length_answer": 8
         },
         {
          "length_answer": 7
         },
         {
          "length_answer": 6
         },
         {
          "length_answer": 40
         },
         {
          "length_answer": 5
         },
         {
          "length_answer": 7
         },
         {
          "length_answer": 285
         },
         {
          "length_answer": 143
         },
         {
          "length_answer": 424
         },
         {
          "length_answer": 512
         },
         {
          "length_answer": 381
         },
         {
          "length_answer": 6
         },
         {
          "length_answer": 72
         },
         {
          "length_answer": 86
         },
         {
          "length_answer": 7
         },
         {
          "length_answer": 352
         },
         {
          "length_answer": 10
         },
         {
          "length_answer": 3
         },
         {
          "length_answer": 74
         },
         {
          "length_answer": 180
         },
         {
          "length_answer": 461
         },
         {
          "length_answer": 410
         },
         {
          "length_answer": 97
         },
         {
          "length_answer": 10
         },
         {
          "length_answer": 32
         },
         {
          "length_answer": 607
         },
         {
          "length_answer": 1
         },
         {
          "length_answer": 85
         },
         {
          "length_answer": 6
         },
         {
          "length_answer": 11
         },
         {
          "length_answer": 4
         },
         {
          "length_answer": 9
         },
         {
          "length_answer": 5
         },
         {
          "length_answer": 7
         },
         {
          "length_answer": 9
         },
         {
          "length_answer": 15
         },
         {
          "length_answer": 160
         },
         {
          "length_answer": 14
         },
         {
          "length_answer": 6
         },
         {
          "length_answer": 9
         },
         {
          "length_answer": 7
         },
         {
          "length_answer": 48
         },
         {
          "length_answer": 243
         },
         {
          "length_answer": 133
         },
         {
          "length_answer": 81
         },
         {
          "length_answer": 88
         },
         {
          "length_answer": 9
         },
         {
          "length_answer": 6
         },
         {
          "length_answer": 7
         },
         {
          "length_answer": 17
         },
         {
          "length_answer": 4
         },
         {
          "length_answer": 19
         },
         {
          "length_answer": 20
         },
         {
          "length_answer": 25
         },
         {
          "length_answer": 424
         },
         {
          "length_answer": 72
         },
         {
          "length_answer": 7
         },
         {
          "length_answer": 11
         },
         {
          "length_answer": 9
         },
         {
          "length_answer": 7
         },
         {
          "length_answer": 26
         },
         {
          "length_answer": 30
         },
         {
          "length_answer": 6
         },
         {
          "length_answer": 4
         },
         {
          "length_answer": 7
         },
         {
          "length_answer": 24
         },
         {
          "length_answer": 118
         },
         {
          "length_answer": 11
         },
         {
          "length_answer": 6
         },
         {
          "length_answer": 6
         },
         {
          "length_answer": 114
         },
         {
          "length_answer": 34
         },
         {
          "length_answer": 5
         },
         {
          "length_answer": 8
         },
         {
          "length_answer": 10
         },
         {
          "length_answer": 6
         },
         {
          "length_answer": 3
         },
         {
          "length_answer": 3
         },
         {
          "length_answer": 5
         },
         {
          "length_answer": 11
         },
         {
          "length_answer": 118
         },
         {
          "length_answer": 15
         },
         {
          "length_answer": 5
         },
         {
          "length_answer": 34
         },
         {
          "length_answer": 14
         },
         {
          "length_answer": 10
         },
         {
          "length_answer": 13
         },
         {
          "length_answer": 13
         },
         {
          "length_answer": 166
         },
         {
          "length_answer": 8
         },
         {
          "length_answer": 12
         },
         {
          "length_answer": 8
         },
         {
          "length_answer": 24
         },
         {
          "length_answer": 27
         },
         {
          "length_answer": 13
         },
         {
          "length_answer": 34
         },
         {
          "length_answer": 161
         },
         {
          "length_answer": 5
         },
         {
          "length_answer": 8
         },
         {
          "length_answer": 9
         },
         {
          "length_answer": 4
         },
         {
          "length_answer": 16
         },
         {
          "length_answer": 6
         },
         {
          "length_answer": 6
         },
         {
          "length_answer": 6
         },
         {
          "length_answer": 17
         },
         {
          "length_answer": 66
         },
         {
          "length_answer": 129
         },
         {
          "length_answer": 18
         },
         {
          "length_answer": 8
         },
         {
          "length_answer": 5
         },
         {
          "length_answer": 31
         },
         {
          "length_answer": 4
         },
         {
          "length_answer": 12
         },
         {
          "length_answer": 11
         },
         {
          "length_answer": 8
         },
         {
          "length_answer": 9
         },
         {
          "length_answer": 365
         },
         {
          "length_answer": 8
         },
         {
          "length_answer": 376
         },
         {
          "length_answer": 9
         },
         {
          "length_answer": 12
         },
         {
          "length_answer": 6
         },
         {
          "length_answer": 120
         },
         {
          "length_answer": 153
         },
         {
          "length_answer": 12
         },
         {
          "length_answer": 23
         },
         {
          "length_answer": 14
         },
         {
          "length_answer": 8
         },
         {
          "length_answer": 9
         },
         {
          "length_answer": 82
         },
         {
          "length_answer": 13
         },
         {
          "length_answer": 7
         },
         {
          "length_answer": 110
         },
         {
          "length_answer": 7
         },
         {
          "length_answer": 12
         },
         {
          "length_answer": 58
         },
         {
          "length_answer": 66
         },
         {
          "length_answer": 6
         },
         {
          "length_answer": 5
         },
         {
          "length_answer": 12
         },
         {
          "length_answer": 13
         },
         {
          "length_answer": 22
         },
         {
          "length_answer": 18
         },
         {
          "length_answer": 70
         },
         {
          "length_answer": 5
         },
         {
          "length_answer": 13
         },
         {
          "length_answer": 19
         },
         {
          "length_answer": 10
         },
         {
          "length_answer": 31
         },
         {
          "length_answer": 97
         },
         {
          "length_answer": 8
         },
         {
          "length_answer": 100
         },
         {
          "length_answer": 7
         },
         {
          "length_answer": 156
         },
         {
          "length_answer": 17
         },
         {
          "length_answer": 43
         },
         {
          "length_answer": 193
         },
         {
          "length_answer": 19
         },
         {
          "length_answer": 243
         },
         {
          "length_answer": 993
         },
         {
          "length_answer": 144
         },
         {
          "length_answer": 50
         },
         {
          "length_answer": 37
         },
         {
          "length_answer": 7
         },
         {
          "length_answer": 3
         },
         {
          "length_answer": 7
         },
         {
          "length_answer": 104
         },
         {
          "length_answer": 238
         },
         {
          "length_answer": 119
         },
         {
          "length_answer": 7
         },
         {
          "length_answer": 10
         },
         {
          "length_answer": 11
         },
         {
          "length_answer": 6
         },
         {
          "length_answer": 26
         },
         {
          "length_answer": 63
         },
         {
          "length_answer": 109
         },
         {
          "length_answer": 6
         },
         {
          "length_answer": 6
         },
         {
          "length_answer": 5
         },
         {
          "length_answer": 10
         },
         {
          "length_answer": 92
         },
         {
          "length_answer": 67
         },
         {
          "length_answer": 23
         },
         {
          "length_answer": 33
         },
         {
          "length_answer": 29
         },
         {
          "length_answer": 14
         },
         {
          "length_answer": 50
         },
         {
          "length_answer": 11
         },
         {
          "length_answer": 14
         },
         {
          "length_answer": 9
         },
         {
          "length_answer": 103
         },
         {
          "length_answer": 109
         },
         {
          "length_answer": 188
         },
         {
          "length_answer": 75
         },
         {
          "length_answer": 404
         },
         {
          "length_answer": 12
         },
         {
          "length_answer": 408
         },
         {
          "length_answer": 684
         },
         {
          "length_answer": 10
         },
         {
          "length_answer": 23
         },
         {
          "length_answer": 141
         },
         {
          "length_answer": 51
         },
         {
          "length_answer": 24
         },
         {
          "length_answer": 10
         },
         {
          "length_answer": 13
         },
         {
          "length_answer": 11
         },
         {
          "length_answer": 83
         },
         {
          "length_answer": 25
         },
         {
          "length_answer": 82
         },
         {
          "length_answer": 11
         },
         {
          "length_answer": 15
         },
         {
          "length_answer": 49
         },
         {
          "length_answer": 35
         },
         {
          "length_answer": 19
         },
         {
          "length_answer": 25
         },
         {
          "length_answer": 7
         },
         {
          "length_answer": 13
         },
         {
          "length_answer": 26
         },
         {
          "length_answer": 26
         },
         {
          "length_answer": 5
         },
         {
          "length_answer": 47
         },
         {
          "length_answer": 43
         },
         {
          "length_answer": 10
         },
         {
          "length_answer": 10
         },
         {
          "length_answer": 8
         },
         {
          "length_answer": 19
         },
         {
          "length_answer": 6
         },
         {
          "length_answer": 128
         },
         {
          "length_answer": 34
         },
         {
          "length_answer": 8
         },
         {
          "length_answer": 6
         },
         {
          "length_answer": 12
         },
         {
          "length_answer": 6
         },
         {
          "length_answer": 13
         },
         {
          "length_answer": 12
         },
         {
          "length_answer": 70
         },
         {
          "length_answer": 9
         },
         {
          "length_answer": 65
         },
         {
          "length_answer": 5
         },
         {
          "length_answer": 5
         },
         {
          "length_answer": 92
         },
         {
          "length_answer": 10
         },
         {
          "length_answer": 25
         },
         {
          "length_answer": 302
         },
         {
          "length_answer": 1
         },
         {
          "length_answer": 5
         },
         {
          "length_answer": 5
         },
         {
          "length_answer": 12
         },
         {
          "length_answer": 39
         },
         {
          "length_answer": 50
         },
         {
          "length_answer": 28
         },
         {
          "length_answer": 106
         },
         {
          "length_answer": 326
         },
         {
          "length_answer": 7
         },
         {
          "length_answer": 15
         },
         {
          "length_answer": 20
         },
         {
          "length_answer": 7
         },
         {
          "length_answer": 9
         },
         {
          "length_answer": 10
         },
         {
          "length_answer": 47
         },
         {
          "length_answer": 7
         },
         {
          "length_answer": 38
         },
         {
          "length_answer": 37
         },
         {
          "length_answer": 45
         },
         {
          "length_answer": 59
         },
         {
          "length_answer": 54
         },
         {
          "length_answer": 32
         },
         {
          "length_answer": 1
         },
         {
          "length_answer": 238
         },
         {
          "length_answer": 22
         },
         {
          "length_answer": 18
         },
         {
          "length_answer": 17
         },
         {
          "length_answer": 266
         },
         {
          "length_answer": 15
         },
         {
          "length_answer": 58
         },
         {
          "length_answer": 71
         },
         {
          "length_answer": 230
         },
         {
          "length_answer": 12
         },
         {
          "length_answer": 27
         },
         {
          "length_answer": 20
         },
         {
          "length_answer": 22
         },
         {
          "length_answer": 28
         },
         {
          "length_answer": 3
         },
         {
          "length_answer": 6
         },
         {
          "length_answer": 348
         },
         {
          "length_answer": 612
         },
         {
          "length_answer": 400
         },
         {
          "length_answer": 488
         },
         {
          "length_answer": 11
         },
         {
          "length_answer": 11
         },
         {
          "length_answer": 203
         },
         {
          "length_answer": 65
         },
         {
          "length_answer": 5
         },
         {
          "length_answer": 46
         },
         {
          "length_answer": 14
         },
         {
          "length_answer": 126
         },
         {
          "length_answer": 19
         },
         {
          "length_answer": 24
         },
         {
          "length_answer": 60
         },
         {
          "length_answer": 30
         },
         {
          "length_answer": 34
         },
         {
          "length_answer": 4
         },
         {
          "length_answer": 6
         },
         {
          "length_answer": 29
         },
         {
          "length_answer": 244
         },
         {
          "length_answer": 36
         },
         {
          "length_answer": 5
         },
         {
          "length_answer": 37
         },
         {
          "length_answer": 7
         },
         {
          "length_answer": 20
         },
         {
          "length_answer": 22
         },
         {
          "length_answer": 17
         },
         {
          "length_answer": 24
         },
         {
          "length_answer": 18
         },
         {
          "length_answer": 27
         },
         {
          "length_answer": 12
         },
         {
          "length_answer": 40
         },
         {
          "length_answer": 21
         },
         {
          "length_answer": 10
         },
         {
          "length_answer": 26
         },
         {
          "length_answer": 6
         },
         {
          "length_answer": 111
         },
         {
          "length_answer": 9
         },
         {
          "length_answer": 50
         },
         {
          "length_answer": 14
         },
         {
          "length_answer": 16
         },
         {
          "length_answer": 13
         },
         {
          "length_answer": 51
         },
         {
          "length_answer": 119
         },
         {
          "length_answer": 27
         },
         {
          "length_answer": 2
         },
         {
          "length_answer": 23
         },
         {
          "length_answer": 42
         },
         {
          "length_answer": 37
         },
         {
          "length_answer": 7
         },
         {
          "length_answer": 82
         },
         {
          "length_answer": 23
         },
         {
          "length_answer": 36
         },
         {
          "length_answer": 17
         },
         {
          "length_answer": 10
         },
         {
          "length_answer": 390
         },
         {
          "length_answer": 92
         },
         {
          "length_answer": 11
         },
         {
          "length_answer": 779
         },
         {
          "length_answer": 9
         },
         {
          "length_answer": 89
         },
         {
          "length_answer": 417
         },
         {
          "length_answer": 351
         },
         {
          "length_answer": 64
         },
         {
          "length_answer": 456
         },
         {
          "length_answer": 111
         },
         {
          "length_answer": 30
         },
         {
          "length_answer": 37
         },
         {
          "length_answer": 415
         },
         {
          "length_answer": 24
         },
         {
          "length_answer": 111
         },
         {
          "length_answer": 105
         },
         {
          "length_answer": 8
         },
         {
          "length_answer": 5
         },
         {
          "length_answer": 3
         },
         {
          "length_answer": 33
         },
         {
          "length_answer": 269
         },
         {
          "length_answer": 10
         },
         {
          "length_answer": 8
         },
         {
          "length_answer": 11
         },
         {
          "length_answer": 8
         },
         {
          "length_answer": 3
         },
         {
          "length_answer": 8
         },
         {
          "length_answer": 9
         },
         {
          "length_answer": 4
         },
         {
          "length_answer": 6
         },
         {
          "length_answer": 31
         },
         {
          "length_answer": 10
         },
         {
          "length_answer": 18
         },
         {
          "length_answer": 10
         },
         {
          "length_answer": 16
         },
         {
          "length_answer": 5
         },
         {
          "length_answer": 11
         },
         {
          "length_answer": 2
         },
         {
          "length_answer": 1
         },
         {
          "length_answer": 4
         },
         {
          "length_answer": 2
         },
         {
          "length_answer": 1
         }
        ]
       },
       "layer": [
        {
         "encoding": {
          "x": {
           "field": "length_answer",
           "title": "Length of Answer (tokens)",
           "type": "nominal"
          },
          "y": {
           "aggregate": "count",
           "title": "Count",
           "type": "quantitative"
          }
         },
         "mark": {
          "size": 5,
          "type": "bar"
         },
         "title": {
          "subtitle": "Merged dataset: issues, discussions, and pull requests",
          "text": "Distribution of the length of answer with ChatGPT"
         }
        },
        {
         "encoding": {
          "x": {
           "aggregate": "mean",
           "axis": {
            "format": "2d"
           },
           "field": "length_answer",
           "type": "nominal"
          }
         },
         "mark": {
          "type": "rule"
         }
        }
       ]
      },
      "text/plain": [
       "<VegaLite 5 object>\n",
       "\n",
       "If you see this message, it means the renderer has not been properly enabled\n",
       "for the frontend that you are using. For more information, see\n",
       "https://altair-viz.github.io/user_guide/display_frontends.html#troubleshooting\n"
      ]
     },
     "execution_count": 24,
     "metadata": {},
     "output_type": "execute_result"
    }
   ],
   "source": [
    "# Checking histogarm\n",
    "inter_bar = alt.Chart(df_answer_count).mark_bar(size=5).encode(\n",
    "    x=alt.X(\n",
    "        \"length_answer:N\",\n",
    "        title=\"Length of Answer (tokens)\",\n",
    "    ),\n",
    "    y=alt.Y(\"count()\", title=\"Count\"),\n",
    ").properties(\n",
    "    title={\n",
    "        \"text\": \"Distribution of the length of answer with ChatGPT\",\n",
    "        \"subtitle\": \"Merged dataset: issues, discussions, and pull requests\"\n",
    "    }\n",
    ")\n",
    "\n",
    "rule = alt.Chart(df_answer_count).mark_rule().encode(\n",
    "    x=alt.X(\n",
    "        'length_answer:N',\n",
    "        aggregate=\"mean\",\n",
    "        type='nominal',\n",
    "        axis=alt.Axis(format=\"2d\")\n",
    "    ),\n",
    ")\n",
    "\n",
    "alt.layer(inter_bar, rule)"
   ]
  }
 ],
 "metadata": {
  "kernelspec": {
   "display_name": "Python 3 (ipykernel)",
   "language": "python",
   "name": "python3"
  },
  "language_info": {
   "codemirror_mode": {
    "name": "ipython",
    "version": 3
   },
   "file_extension": ".py",
   "mimetype": "text/x-python",
   "name": "python",
   "nbconvert_exporter": "python",
   "pygments_lexer": "ipython3",
   "version": "3.12.2"
  }
 },
 "nbformat": 4,
 "nbformat_minor": 4
}
