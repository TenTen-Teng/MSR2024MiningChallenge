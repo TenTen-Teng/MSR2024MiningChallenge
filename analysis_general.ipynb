{
 "cells": [
  {
   "cell_type": "markdown",
   "metadata": {},
   "source": [
    "# Data Analysis - General\n",
    "\n",
    "This notebook aims to analyze the merged dataset.\n",
    "\n",
    "1. Determine the number of interactions with ChatGPT across issues, discussions, and pull requests.\n",
    "2. Calculate the average length of prompts (measured in tokens) for issues, discussions, and pull requests.\n",
    "3. Calculate the average length of answers (measured in tokens) for issues, discussions, and pull requests.request.\n",
    "\n",
    "> NOTE\n",
    ">\n",
    "> All file paths to CSV files are replaced with relative paths.\n",
    "\n",
    "Table of Content\n",
    "- [Read the Merged Dataset](#read-the-merged-dataset)\n",
    "- [Interactions](#interactions)\n",
    "- [Average Length of Prompt](#average-length-of-prompt)\n",
    "- [Average Length of Answer](#average-length-of-answer)"
   ]
  },
  {
   "cell_type": "code",
   "execution_count": 1,
   "metadata": {},
   "outputs": [
    {
     "data": {
      "text/plain": [
       "RendererRegistry.enable('jupyterlab')"
      ]
     },
     "execution_count": 1,
     "metadata": {},
     "output_type": "execute_result"
    }
   ],
   "source": [
    "# Import libraries.\n",
    "\n",
    "import pandas as pd\n",
    "import numpy as np\n",
    "import altair as alt\n",
    "\n",
    "alt.renderers.enable(\"jupyterlab\", offline=True)"
   ]
  },
  {
   "cell_type": "markdown",
   "metadata": {},
   "source": [
    "## Read the Merged Dataset"
   ]
  },
  {
   "cell_type": "code",
   "execution_count": 2,
   "metadata": {},
   "outputs": [
    {
     "name": "stdout",
     "output_type": "stream",
     "text": [
      "<class 'pandas.core.frame.DataFrame'>\n",
      "Index: 1348 entries, 7870 to 313\n",
      "Data columns (total 7 columns):\n",
      " #   Column              Non-Null Count  Dtype  \n",
      "---  ------              --------------  -----  \n",
      " 0   RepoName            1348 non-null   object \n",
      " 1   Type                1348 non-null   object \n",
      " 2   URL_chatgptsharing  1348 non-null   object \n",
      " 3   Prompt              1348 non-null   object \n",
      " 4   Answer              1348 non-null   object \n",
      " 5   TokensOfPrompts     1348 non-null   float64\n",
      " 6   TokensOfAnswers     1348 non-null   float64\n",
      "dtypes: float64(2), object(5)\n",
      "memory usage: 84.2+ KB\n"
     ]
    }
   ],
   "source": [
    "# df = pd.read_csv(\"~/data/DevGPT/cleaned/combine.csv\", index_col=0)\n",
    "df = pd.read_csv(\"/Users/teng/UBCO/mds_labs/block4/542/data/DevGPT/cleaned/combine.csv\", index_col=0)\n",
    "\n",
    "df.info()"
   ]
  },
  {
   "cell_type": "markdown",
   "metadata": {},
   "source": [
    "## Interactions\n",
    "\n",
    "Determine the number of interactions with ChatGPT across issues, discussions, and pull requests.\n",
    "\n",
    "Method:\n",
    "1. Group data by `RepoName` and aggregate the `URL_chatgptsharing` into a list.\n",
    "2. Calculate the number of interactions with ChatGPT by averaging the number of `URL_chatgptsharing`.\n",
    "3. Visualize the distribution of interactions with ChatGPT."
   ]
  },
  {
   "cell_type": "code",
   "execution_count": 3,
   "metadata": {},
   "outputs": [],
   "source": [
    "# Group by RepoName\n",
    "df_repo = df.groupby(by=[\"RepoName\"])"
   ]
  },
  {
   "cell_type": "code",
   "execution_count": 4,
   "metadata": {},
   "outputs": [
    {
     "data": {
      "text/plain": [
       "66"
      ]
     },
     "execution_count": 4,
     "metadata": {},
     "output_type": "execute_result"
    }
   ],
   "source": [
    "# In our merged dataset, there are 66 unique repos.\n",
    "len(df_repo[\"RepoName\"].unique())"
   ]
  },
  {
   "cell_type": "code",
   "execution_count": 5,
   "metadata": {},
   "outputs": [
    {
     "name": "stdout",
     "output_type": "stream",
     "text": [
      "The repo with maximum number of interactions: Email-Generation/email_generation \n",
      "The repo with minimum number of interactions: ActivityWatch/aw-server\n",
      "Average interactions per repo: 20.42\n",
      "Maximum number of interactions: 501\n",
      "Minimum number of interactions: 3\n"
     ]
    }
   ],
   "source": [
    "# Show the distribution of interactions\n",
    "\n",
    "df_repo_count = df_repo[\"URL_chatgptsharing\"].aggregate(\"count\").reset_index()\n",
    "\n",
    "idx_max = np.argmax(df_repo_count[\"URL_chatgptsharing\"])\n",
    "idx_min = np.argmin(df_repo_count[\"URL_chatgptsharing\"])\n",
    "print(\n",
    "    f\"The repo with maximum number of interactions: \"\n",
    "    f\"{df_repo_count.iloc[idx_max][\"RepoName\"]} \\n\"\n",
    "    f\"The repo with minimum number of interactions: \"\n",
    "    f\"{df_repo_count.iloc[idx_min][\"RepoName\"]}\"\n",
    "    )\n",
    "\n",
    "print(\n",
    "    f\"Average interactions per repo: {np.mean(df_repo_count[\"URL_chatgptsharing\"]):.2f}\\n\"\n",
    "    f\"Maximum number of interactions: {df_repo_count.iloc[idx_max][\"URL_chatgptsharing\"]}\\n\"\n",
    "    f\"Minimum number of interactions: {df_repo_count.iloc[idx_min][\"URL_chatgptsharing\"]}\"\n",
    ")"
   ]
  },
  {
   "cell_type": "code",
   "execution_count": 6,
   "metadata": {},
   "outputs": [
    {
     "data": {
      "text/html": [
       "<div>\n",
       "<style scoped>\n",
       "    .dataframe tbody tr th:only-of-type {\n",
       "        vertical-align: middle;\n",
       "    }\n",
       "\n",
       "    .dataframe tbody tr th {\n",
       "        vertical-align: top;\n",
       "    }\n",
       "\n",
       "    .dataframe thead th {\n",
       "        text-align: right;\n",
       "    }\n",
       "</style>\n",
       "<table border=\"1\" class=\"dataframe\">\n",
       "  <thead>\n",
       "    <tr style=\"text-align: right;\">\n",
       "      <th></th>\n",
       "      <th>RepoName</th>\n",
       "      <th>URL_chatgptsharing</th>\n",
       "      <th>Prompt</th>\n",
       "      <th>Answer</th>\n",
       "      <th>TokensOfPrompts</th>\n",
       "      <th>TokensOfAnswers</th>\n",
       "    </tr>\n",
       "    <tr>\n",
       "      <th>Type</th>\n",
       "      <th></th>\n",
       "      <th></th>\n",
       "      <th></th>\n",
       "      <th></th>\n",
       "      <th></th>\n",
       "      <th></th>\n",
       "    </tr>\n",
       "  </thead>\n",
       "  <tbody>\n",
       "    <tr>\n",
       "      <th>pull request</th>\n",
       "      <td>501</td>\n",
       "      <td>501</td>\n",
       "      <td>501</td>\n",
       "      <td>501</td>\n",
       "      <td>501</td>\n",
       "      <td>501</td>\n",
       "    </tr>\n",
       "  </tbody>\n",
       "</table>\n",
       "</div>"
      ],
      "text/plain": [
       "              RepoName  URL_chatgptsharing  Prompt  Answer  TokensOfPrompts  \\\n",
       "Type                                                                          \n",
       "pull request       501                 501     501     501              501   \n",
       "\n",
       "              TokensOfAnswers  \n",
       "Type                           \n",
       "pull request              501  "
      ]
     },
     "execution_count": 6,
     "metadata": {},
     "output_type": "execute_result"
    }
   ],
   "source": [
    "df[df[\"RepoName\"] == \"Email-Generation/email_generation\"].groupby(\"Type\").aggregate(\"count\")"
   ]
  },
  {
   "cell_type": "code",
   "execution_count": 7,
   "metadata": {},
   "outputs": [
    {
     "data": {
      "application/vnd.vegalite.v5+json": {
       "$schema": "https://vega.github.io/schema/vega-lite/v5.20.1.json",
       "config": {
        "view": {
         "continuousHeight": 300,
         "continuousWidth": 300
        }
       },
       "data": {
        "name": "data-43c88068f7ba6322683b44a817f9f22d"
       },
       "datasets": {
        "data-43c88068f7ba6322683b44a817f9f22d": [
         {
          "RepoName": "ActivityWatch/aw-server",
          "URL_chatgptsharing": 3
         },
         {
          "RepoName": "AndyGrant/OpenBench",
          "URL_chatgptsharing": 3
         },
         {
          "RepoName": "AntonOsika/gpt-engineer",
          "URL_chatgptsharing": 54
         },
         {
          "RepoName": "D3Zyre/Copy-All-Files-From-Folder",
          "URL_chatgptsharing": 6
         },
         {
          "RepoName": "Delgan/loguru",
          "URL_chatgptsharing": 9
         },
         {
          "RepoName": "Elucidation/mapf-multiagent-robot-planning",
          "URL_chatgptsharing": 18
         },
         {
          "RepoName": "Email-Generation/email_generation",
          "URL_chatgptsharing": 501
         },
         {
          "RepoName": "GreyDGL/PentestGPT",
          "URL_chatgptsharing": 6
         },
         {
          "RepoName": "HaroldMitts/VoAIce",
          "URL_chatgptsharing": 3
         },
         {
          "RepoName": "Hochfrequenz/kohlrahbi",
          "URL_chatgptsharing": 3
         },
         {
          "RepoName": "MauriceLe/PIMS",
          "URL_chatgptsharing": 3
         },
         {
          "RepoName": "NA-MIC/ProjectWeek",
          "URL_chatgptsharing": 3
         },
         {
          "RepoName": "OpenAdaptAI/OpenAdapt",
          "URL_chatgptsharing": 59
         },
         {
          "RepoName": "PromtEngineer/localGPT",
          "URL_chatgptsharing": 39
         },
         {
          "RepoName": "RND247/Pype-Synthetic-Data-for-Testing",
          "URL_chatgptsharing": 6
         },
         {
          "RepoName": "SafEight/wdm-project",
          "URL_chatgptsharing": 6
         },
         {
          "RepoName": "Shreya-R-Dixit-Memorial-Foundation/EyeDaV2",
          "URL_chatgptsharing": 3
         },
         {
          "RepoName": "Significant-Gravitas/Auto-GPT",
          "URL_chatgptsharing": 3
         },
         {
          "RepoName": "SuffolkLITLab/docassemble-ALToolbox",
          "URL_chatgptsharing": 9
         },
         {
          "RepoName": "aahnik/temple-web",
          "URL_chatgptsharing": 3
         },
         {
          "RepoName": "aiplanethub/genai-stack",
          "URL_chatgptsharing": 3
         },
         {
          "RepoName": "app-sre/qontract-reconcile",
          "URL_chatgptsharing": 15
         },
         {
          "RepoName": "bancaditalia/black-it",
          "URL_chatgptsharing": 3
         },
         {
          "RepoName": "bbelderbos/htmx-demo",
          "URL_chatgptsharing": 9
         },
         {
          "RepoName": "chitalian/gptask",
          "URL_chatgptsharing": 3
         },
         {
          "RepoName": "comfyanonymous/ComfyUI",
          "URL_chatgptsharing": 3
         },
         {
          "RepoName": "davidusb-geek/emhass",
          "URL_chatgptsharing": 9
         },
         {
          "RepoName": "dobbelina/repository.dobbelina",
          "URL_chatgptsharing": 6
         },
         {
          "RepoName": "dtch1997/gpt-text-gym",
          "URL_chatgptsharing": 33
         },
         {
          "RepoName": "embedchain/embedchain",
          "URL_chatgptsharing": 3
         },
         {
          "RepoName": "gorillamania/AICodeBot",
          "URL_chatgptsharing": 30
         },
         {
          "RepoName": "icecube/pisa",
          "URL_chatgptsharing": 3
         },
         {
          "RepoName": "internetarchive/openlibrary",
          "URL_chatgptsharing": 9
         },
         {
          "RepoName": "jasonacox/Powerwall-Dashboard",
          "URL_chatgptsharing": 18
         },
         {
          "RepoName": "jefftriplett/frontmatter-cli",
          "URL_chatgptsharing": 18
         },
         {
          "RepoName": "karpathy/ng-video-lecture",
          "URL_chatgptsharing": 6
         },
         {
          "RepoName": "kroitor/asciichart",
          "URL_chatgptsharing": 3
         },
         {
          "RepoName": "kukulich/home-assistant-jablotron100",
          "URL_chatgptsharing": 3
         },
         {
          "RepoName": "langchain-ai/langchain",
          "URL_chatgptsharing": 21
         },
         {
          "RepoName": "livingbio/gpt-fn",
          "URL_chatgptsharing": 6
         },
         {
          "RepoName": "meltyyyyy/ICR-2023",
          "URL_chatgptsharing": 18
         },
         {
          "RepoName": "mesonbuild/meson",
          "URL_chatgptsharing": 3
         },
         {
          "RepoName": "metaphorsystems/metaphor-python",
          "URL_chatgptsharing": 6
         },
         {
          "RepoName": "microsoft/visionmetrics",
          "URL_chatgptsharing": 3
         },
         {
          "RepoName": "monarch-initiative/oai-monarch-plugin",
          "URL_chatgptsharing": 3
         },
         {
          "RepoName": "mpoon/gpt-repository-loader",
          "URL_chatgptsharing": 3
         },
         {
          "RepoName": "mprib/pyxy3d",
          "URL_chatgptsharing": 18
         },
         {
          "RepoName": "nuhmanpk/Webtrench",
          "URL_chatgptsharing": 12
         },
         {
          "RepoName": "omegaui/linux-voice-control",
          "URL_chatgptsharing": 33
         },
         {
          "RepoName": "paul-gauthier/aider",
          "URL_chatgptsharing": 6
         },
         {
          "RepoName": "related-sciences/nxontology-ml",
          "URL_chatgptsharing": 3
         },
         {
          "RepoName": "roslinmahmud/easy-hire-backend",
          "URL_chatgptsharing": 3
         },
         {
          "RepoName": "simonw/asgi-proxy-lib",
          "URL_chatgptsharing": 30
         },
         {
          "RepoName": "simonw/datasette-render-markdown",
          "URL_chatgptsharing": 27
         },
         {
          "RepoName": "simonw/llm-replicate",
          "URL_chatgptsharing": 6
         },
         {
          "RepoName": "simonw/sqlite-utils",
          "URL_chatgptsharing": 18
         },
         {
          "RepoName": "simonw/symbex",
          "URL_chatgptsharing": 30
         },
         {
          "RepoName": "simonw/ttok",
          "URL_chatgptsharing": 3
         },
         {
          "RepoName": "sugi-01096/72",
          "URL_chatgptsharing": 8
         },
         {
          "RepoName": "teremterem/botmerger",
          "URL_chatgptsharing": 9
         },
         {
          "RepoName": "theonlysam/blackjack",
          "URL_chatgptsharing": 3
         },
         {
          "RepoName": "tinygrad/tinygrad",
          "URL_chatgptsharing": 15
         },
         {
          "RepoName": "udayhello/handwritten1",
          "URL_chatgptsharing": 72
         },
         {
          "RepoName": "uuid6/prototypes",
          "URL_chatgptsharing": 60
         },
         {
          "RepoName": "wafflestudio/wacruit-server",
          "URL_chatgptsharing": 3
         },
         {
          "RepoName": "welfare-state-analytics/riksdagen-corpus",
          "URL_chatgptsharing": 9
         }
        ]
       },
       "layer": [
        {
         "encoding": {
          "x": {
           "field": "URL_chatgptsharing",
           "title": "Number of Interactions with ChatGPT",
           "type": "nominal"
          },
          "y": {
           "aggregate": "count",
           "title": "Count",
           "type": "quantitative"
          }
         },
         "mark": {
          "size": 5,
          "type": "bar"
         },
         "title": {
          "subtitle": "Merged dataset: issues, discussions, and pull requests",
          "text": "Distribution of the number of interactions with ChatGPT"
         }
        },
        {
         "encoding": {
          "size": {
           "value": 2
          },
          "x": {
           "aggregate": "mean",
           "axis": {
            "format": "2d"
           },
           "field": "URL_chatgptsharing",
           "type": "nominal"
          }
         },
         "mark": {
          "type": "rule"
         }
        }
       ]
      },
      "text/plain": [
       "<VegaLite 5 object>\n",
       "\n",
       "If you see this message, it means the renderer has not been properly enabled\n",
       "for the frontend that you are using. For more information, see\n",
       "https://altair-viz.github.io/user_guide/display_frontends.html#troubleshooting\n"
      ]
     },
     "execution_count": 7,
     "metadata": {
      "application/vnd.vegalite.v5+json": {
       "offline": true
      }
     },
     "output_type": "execute_result"
    }
   ],
   "source": [
    "# Checking histogarm\n",
    "\n",
    "inter_bar = alt.Chart(df_repo_count).mark_bar(size=5).encode(\n",
    "    x=alt.X(\n",
    "        \"URL_chatgptsharing:N\",\n",
    "        title=\"Number of Interactions with ChatGPT\",\n",
    "    ),\n",
    "    y=alt.Y(\"count()\", title=\"Count\"),\n",
    ").properties(\n",
    "    title={\n",
    "        \"text\": \"Distribution of the number of interactions with ChatGPT\",\n",
    "        \"subtitle\": \"Merged dataset: issues, discussions, and pull requests\"\n",
    "    }\n",
    ")\n",
    "\n",
    "rule = alt.Chart(df_repo_count).mark_rule().encode(\n",
    "    x=alt.X(\n",
    "        'URL_chatgptsharing:N',\n",
    "        aggregate=\"mean\",\n",
    "        type='nominal',\n",
    "        axis=alt.Axis(format=\"2d\")\n",
    "    ),\n",
    "    size=alt.value(2),\n",
    ")\n",
    "\n",
    "alt.layer(inter_bar, rule)"
   ]
  },
  {
   "cell_type": "markdown",
   "metadata": {},
   "source": [
    "## Average Length of Prompt\n",
    "\n",
    "Calculate the average length of prompts (measured in tokens).\n",
    "\n",
    "Method:\n",
    "1. Leverage the grouped dataset.\n",
    "2. Calculate the average length of prompts using column `TokensOfPrompts`\n",
    "3. Check distribution of length of prompts with ChatGPT using bar chart."
   ]
  },
  {
   "cell_type": "code",
   "execution_count": 8,
   "metadata": {},
   "outputs": [
    {
     "data": {
      "text/html": [
       "<div>\n",
       "<style scoped>\n",
       "    .dataframe tbody tr th:only-of-type {\n",
       "        vertical-align: middle;\n",
       "    }\n",
       "\n",
       "    .dataframe tbody tr th {\n",
       "        vertical-align: top;\n",
       "    }\n",
       "\n",
       "    .dataframe thead th {\n",
       "        text-align: right;\n",
       "    }\n",
       "</style>\n",
       "<table border=\"1\" class=\"dataframe\">\n",
       "  <thead>\n",
       "    <tr style=\"text-align: right;\">\n",
       "      <th></th>\n",
       "      <th>RepoName</th>\n",
       "      <th>mean</th>\n",
       "      <th>count</th>\n",
       "    </tr>\n",
       "  </thead>\n",
       "  <tbody>\n",
       "    <tr>\n",
       "      <th>0</th>\n",
       "      <td>ActivityWatch/aw-server</td>\n",
       "      <td>116.000000</td>\n",
       "      <td>3</td>\n",
       "    </tr>\n",
       "    <tr>\n",
       "      <th>1</th>\n",
       "      <td>AndyGrant/OpenBench</td>\n",
       "      <td>31.000000</td>\n",
       "      <td>3</td>\n",
       "    </tr>\n",
       "    <tr>\n",
       "      <th>2</th>\n",
       "      <td>AntonOsika/gpt-engineer</td>\n",
       "      <td>1102.333333</td>\n",
       "      <td>54</td>\n",
       "    </tr>\n",
       "    <tr>\n",
       "      <th>3</th>\n",
       "      <td>D3Zyre/Copy-All-Files-From-Folder</td>\n",
       "      <td>113.000000</td>\n",
       "      <td>6</td>\n",
       "    </tr>\n",
       "    <tr>\n",
       "      <th>4</th>\n",
       "      <td>Delgan/loguru</td>\n",
       "      <td>269.000000</td>\n",
       "      <td>9</td>\n",
       "    </tr>\n",
       "  </tbody>\n",
       "</table>\n",
       "</div>"
      ],
      "text/plain": [
       "                            RepoName         mean  count\n",
       "0            ActivityWatch/aw-server   116.000000      3\n",
       "1                AndyGrant/OpenBench    31.000000      3\n",
       "2            AntonOsika/gpt-engineer  1102.333333     54\n",
       "3  D3Zyre/Copy-All-Files-From-Folder   113.000000      6\n",
       "4                      Delgan/loguru   269.000000      9"
      ]
     },
     "execution_count": 8,
     "metadata": {},
     "output_type": "execute_result"
    }
   ],
   "source": [
    "df_url_prompt = df_repo[\"TokensOfPrompts\"].aggregate([\"mean\", \"count\"]).reset_index()\n",
    "df_url_prompt.head()"
   ]
  },
  {
   "cell_type": "code",
   "execution_count": 9,
   "metadata": {},
   "outputs": [
    {
     "name": "stdout",
     "output_type": "stream",
     "text": [
      "Average length of prompt per repo: 1219.85\n",
      "Maximum number of prompt: 23410.0 from repo: MauriceLe/PIMS\n",
      "Minimum number of prompt: 10.0 from repo: Shreya-R-Dixit-Memorial-Foundation/EyeDaV2\n"
     ]
    }
   ],
   "source": [
    "idx_max = np.argmax(df_url_prompt[\"mean\"])\n",
    "idx_min = np.argmin(df_url_prompt[\"mean\"])\n",
    "\n",
    "print(\n",
    "    f\"Average length of prompt per repo: {np.mean(df_url_prompt[\"mean\"]):.2f}\\n\"\n",
    "    f\"Maximum number of prompt: {df_url_prompt[\"mean\"].iloc[idx_max]} from \"\n",
    "    f\"repo: {df_url_prompt[\"RepoName\"].iloc[idx_max]}\\n\"\n",
    "    f\"Minimum number of prompt: {df_url_prompt[\"mean\"].iloc[idx_min]} from \"\n",
    "    f\"repo: {df_url_prompt[\"RepoName\"].iloc[idx_min]}\"\n",
    ")"
   ]
  },
  {
   "cell_type": "code",
   "execution_count": 10,
   "metadata": {},
   "outputs": [
    {
     "data": {
      "application/vnd.vegalite.v5+json": {
       "$schema": "https://vega.github.io/schema/vega-lite/v5.20.1.json",
       "config": {
        "view": {
         "continuousHeight": 300,
         "continuousWidth": 300
        }
       },
       "data": {
        "name": "data-d739b2b9c7962576ec0114fe5661046d"
       },
       "datasets": {
        "data-d739b2b9c7962576ec0114fe5661046d": [
         {
          "RepoName": "ActivityWatch/aw-server",
          "count": 3,
          "mean": 116
         },
         {
          "RepoName": "AndyGrant/OpenBench",
          "count": 3,
          "mean": 31
         },
         {
          "RepoName": "AntonOsika/gpt-engineer",
          "count": 54,
          "mean": 1102.3333333333333
         },
         {
          "RepoName": "D3Zyre/Copy-All-Files-From-Folder",
          "count": 6,
          "mean": 113
         },
         {
          "RepoName": "Delgan/loguru",
          "count": 9,
          "mean": 269
         },
         {
          "RepoName": "Elucidation/mapf-multiagent-robot-planning",
          "count": 18,
          "mean": 283
         },
         {
          "RepoName": "Email-Generation/email_generation",
          "count": 501,
          "mean": 21133
         },
         {
          "RepoName": "GreyDGL/PentestGPT",
          "count": 6,
          "mean": 4751
         },
         {
          "RepoName": "HaroldMitts/VoAIce",
          "count": 3,
          "mean": 41
         },
         {
          "RepoName": "Hochfrequenz/kohlrahbi",
          "count": 3,
          "mean": 17
         },
         {
          "RepoName": "MauriceLe/PIMS",
          "count": 3,
          "mean": 23410
         },
         {
          "RepoName": "NA-MIC/ProjectWeek",
          "count": 3,
          "mean": 25
         },
         {
          "RepoName": "OpenAdaptAI/OpenAdapt",
          "count": 59,
          "mean": 85.03389830508475
         },
         {
          "RepoName": "PromtEngineer/localGPT",
          "count": 39,
          "mean": 4393
         },
         {
          "RepoName": "RND247/Pype-Synthetic-Data-for-Testing",
          "count": 6,
          "mean": 33
         },
         {
          "RepoName": "SafEight/wdm-project",
          "count": 6,
          "mean": 84
         },
         {
          "RepoName": "Shreya-R-Dixit-Memorial-Foundation/EyeDaV2",
          "count": 3,
          "mean": 10
         },
         {
          "RepoName": "Significant-Gravitas/Auto-GPT",
          "count": 3,
          "mean": 44
         },
         {
          "RepoName": "SuffolkLITLab/docassemble-ALToolbox",
          "count": 9,
          "mean": 49
         },
         {
          "RepoName": "aahnik/temple-web",
          "count": 3,
          "mean": 121
         },
         {
          "RepoName": "aiplanethub/genai-stack",
          "count": 3,
          "mean": 11
         },
         {
          "RepoName": "app-sre/qontract-reconcile",
          "count": 15,
          "mean": 109
         },
         {
          "RepoName": "bancaditalia/black-it",
          "count": 3,
          "mean": 341
         },
         {
          "RepoName": "bbelderbos/htmx-demo",
          "count": 9,
          "mean": 340
         },
         {
          "RepoName": "chitalian/gptask",
          "count": 3,
          "mean": 980
         },
         {
          "RepoName": "comfyanonymous/ComfyUI",
          "count": 3,
          "mean": 28
         },
         {
          "RepoName": "davidusb-geek/emhass",
          "count": 9,
          "mean": 363
         },
         {
          "RepoName": "dobbelina/repository.dobbelina",
          "count": 6,
          "mean": 875
         },
         {
          "RepoName": "dtch1997/gpt-text-gym",
          "count": 33,
          "mean": 1002.3636363636364
         },
         {
          "RepoName": "embedchain/embedchain",
          "count": 3,
          "mean": 15
         },
         {
          "RepoName": "gorillamania/AICodeBot",
          "count": 30,
          "mean": 321
         },
         {
          "RepoName": "icecube/pisa",
          "count": 3,
          "mean": 55
         },
         {
          "RepoName": "internetarchive/openlibrary",
          "count": 9,
          "mean": 855
         },
         {
          "RepoName": "jasonacox/Powerwall-Dashboard",
          "count": 18,
          "mean": 482.6666666666667
         },
         {
          "RepoName": "jefftriplett/frontmatter-cli",
          "count": 18,
          "mean": 485
         },
         {
          "RepoName": "karpathy/ng-video-lecture",
          "count": 6,
          "mean": 295
         },
         {
          "RepoName": "kroitor/asciichart",
          "count": 3,
          "mean": 1344
         },
         {
          "RepoName": "kukulich/home-assistant-jablotron100",
          "count": 3,
          "mean": 64
         },
         {
          "RepoName": "langchain-ai/langchain",
          "count": 21,
          "mean": 300
         },
         {
          "RepoName": "livingbio/gpt-fn",
          "count": 6,
          "mean": 75
         },
         {
          "RepoName": "meltyyyyy/ICR-2023",
          "count": 18,
          "mean": 432
         },
         {
          "RepoName": "mesonbuild/meson",
          "count": 3,
          "mean": 14
         },
         {
          "RepoName": "metaphorsystems/metaphor-python",
          "count": 6,
          "mean": 1655
         },
         {
          "RepoName": "microsoft/visionmetrics",
          "count": 3,
          "mean": 10
         },
         {
          "RepoName": "monarch-initiative/oai-monarch-plugin",
          "count": 3,
          "mean": 27
         },
         {
          "RepoName": "mpoon/gpt-repository-loader",
          "count": 3,
          "mean": 782
         },
         {
          "RepoName": "mprib/pyxy3d",
          "count": 18,
          "mean": 284
         },
         {
          "RepoName": "nuhmanpk/Webtrench",
          "count": 12,
          "mean": 59
         },
         {
          "RepoName": "omegaui/linux-voice-control",
          "count": 33,
          "mean": 1801
         },
         {
          "RepoName": "paul-gauthier/aider",
          "count": 6,
          "mean": 15.5
         },
         {
          "RepoName": "related-sciences/nxontology-ml",
          "count": 3,
          "mean": 1071
         },
         {
          "RepoName": "roslinmahmud/easy-hire-backend",
          "count": 3,
          "mean": 26
         },
         {
          "RepoName": "simonw/asgi-proxy-lib",
          "count": 30,
          "mean": 367
         },
         {
          "RepoName": "simonw/datasette-render-markdown",
          "count": 27,
          "mean": 264
         },
         {
          "RepoName": "simonw/llm-replicate",
          "count": 6,
          "mean": 120
         },
         {
          "RepoName": "simonw/sqlite-utils",
          "count": 18,
          "mean": 106
         },
         {
          "RepoName": "simonw/symbex",
          "count": 30,
          "mean": 267.2
         },
         {
          "RepoName": "simonw/ttok",
          "count": 3,
          "mean": 440
         },
         {
          "RepoName": "sugi-01096/72",
          "count": 8,
          "mean": 797
         },
         {
          "RepoName": "teremterem/botmerger",
          "count": 9,
          "mean": 136
         },
         {
          "RepoName": "theonlysam/blackjack",
          "count": 3,
          "mean": 15
         },
         {
          "RepoName": "tinygrad/tinygrad",
          "count": 15,
          "mean": 2039
         },
         {
          "RepoName": "udayhello/handwritten1",
          "count": 72,
          "mean": 4994
         },
         {
          "RepoName": "uuid6/prototypes",
          "count": 60,
          "mean": 206
         },
         {
          "RepoName": "wafflestudio/wacruit-server",
          "count": 3,
          "mean": 27
         },
         {
          "RepoName": "welfare-state-analytics/riksdagen-corpus",
          "count": 9,
          "mean": 104
         }
        ]
       },
       "layer": [
        {
         "encoding": {
          "x": {
           "field": "mean",
           "title": "Length of Prompts (tokens)",
           "type": "nominal"
          },
          "y": {
           "field": "count",
           "title": "Count",
           "type": "quantitative"
          }
         },
         "mark": {
          "size": 5,
          "type": "bar"
         },
         "title": {
          "subtitle": "Merged dataset: issues, discussions, and pull requests",
          "text": "Distribution of the length of prompt with ChatGPT"
         }
        },
        {
         "encoding": {
          "x": {
           "aggregate": "mean",
           "axis": {
            "format": "2d"
           },
           "field": "mean",
           "type": "nominal"
          }
         },
         "mark": {
          "type": "rule"
         }
        }
       ]
      },
      "text/plain": [
       "<VegaLite 5 object>\n",
       "\n",
       "If you see this message, it means the renderer has not been properly enabled\n",
       "for the frontend that you are using. For more information, see\n",
       "https://altair-viz.github.io/user_guide/display_frontends.html#troubleshooting\n"
      ]
     },
     "execution_count": 10,
     "metadata": {
      "application/vnd.vegalite.v5+json": {
       "offline": true
      }
     },
     "output_type": "execute_result"
    }
   ],
   "source": [
    "# Checking histogarm\n",
    "inter_bar = alt.Chart(df_url_prompt).mark_bar(size=5).encode(\n",
    "    x=alt.X(\n",
    "        \"mean:N\",\n",
    "        title=\"Length of Prompts (tokens)\",\n",
    "    ),\n",
    "    y=alt.Y(\"count\", title=\"Count\"),\n",
    ").properties(\n",
    "    title={\n",
    "        \"text\": \"Distribution of the length of prompt with ChatGPT\",\n",
    "        \"subtitle\": \"Merged dataset: issues, discussions, and pull requests\"\n",
    "    }\n",
    ")\n",
    "\n",
    "rule = alt.Chart(df_url_prompt).mark_rule().encode(\n",
    "    x=alt.X(\n",
    "        'mean:N',\n",
    "        aggregate=\"mean\",\n",
    "        type='nominal',\n",
    "        axis=alt.Axis(format=\"2d\")\n",
    "    ),\n",
    ")\n",
    "\n",
    "alt.layer(inter_bar, rule)"
   ]
  },
  {
   "cell_type": "code",
   "execution_count": 11,
   "metadata": {},
   "outputs": [
    {
     "name": "stdout",
     "output_type": "stream",
     "text": [
      "Average length of prompt per repo after removing extreme data point: 913.49\n"
     ]
    },
    {
     "data": {
      "application/vnd.vegalite.v5+json": {
       "$schema": "https://vega.github.io/schema/vega-lite/v5.20.1.json",
       "config": {
        "view": {
         "continuousHeight": 300,
         "continuousWidth": 300
        }
       },
       "data": {
        "name": "data-26039639684ec03905969218f964977d"
       },
       "datasets": {
        "data-26039639684ec03905969218f964977d": [
         {
          "RepoName": "ActivityWatch/aw-server",
          "count": 3,
          "mean": 116
         },
         {
          "RepoName": "AndyGrant/OpenBench",
          "count": 3,
          "mean": 31
         },
         {
          "RepoName": "AntonOsika/gpt-engineer",
          "count": 54,
          "mean": 1102.3333333333333
         },
         {
          "RepoName": "D3Zyre/Copy-All-Files-From-Folder",
          "count": 6,
          "mean": 113
         },
         {
          "RepoName": "Delgan/loguru",
          "count": 9,
          "mean": 269
         },
         {
          "RepoName": "Elucidation/mapf-multiagent-robot-planning",
          "count": 18,
          "mean": 283
         },
         {
          "RepoName": "GreyDGL/PentestGPT",
          "count": 6,
          "mean": 4751
         },
         {
          "RepoName": "HaroldMitts/VoAIce",
          "count": 3,
          "mean": 41
         },
         {
          "RepoName": "Hochfrequenz/kohlrahbi",
          "count": 3,
          "mean": 17
         },
         {
          "RepoName": "MauriceLe/PIMS",
          "count": 3,
          "mean": 23410
         },
         {
          "RepoName": "NA-MIC/ProjectWeek",
          "count": 3,
          "mean": 25
         },
         {
          "RepoName": "OpenAdaptAI/OpenAdapt",
          "count": 59,
          "mean": 85.03389830508475
         },
         {
          "RepoName": "PromtEngineer/localGPT",
          "count": 39,
          "mean": 4393
         },
         {
          "RepoName": "RND247/Pype-Synthetic-Data-for-Testing",
          "count": 6,
          "mean": 33
         },
         {
          "RepoName": "SafEight/wdm-project",
          "count": 6,
          "mean": 84
         },
         {
          "RepoName": "Shreya-R-Dixit-Memorial-Foundation/EyeDaV2",
          "count": 3,
          "mean": 10
         },
         {
          "RepoName": "Significant-Gravitas/Auto-GPT",
          "count": 3,
          "mean": 44
         },
         {
          "RepoName": "SuffolkLITLab/docassemble-ALToolbox",
          "count": 9,
          "mean": 49
         },
         {
          "RepoName": "aahnik/temple-web",
          "count": 3,
          "mean": 121
         },
         {
          "RepoName": "aiplanethub/genai-stack",
          "count": 3,
          "mean": 11
         },
         {
          "RepoName": "app-sre/qontract-reconcile",
          "count": 15,
          "mean": 109
         },
         {
          "RepoName": "bancaditalia/black-it",
          "count": 3,
          "mean": 341
         },
         {
          "RepoName": "bbelderbos/htmx-demo",
          "count": 9,
          "mean": 340
         },
         {
          "RepoName": "chitalian/gptask",
          "count": 3,
          "mean": 980
         },
         {
          "RepoName": "comfyanonymous/ComfyUI",
          "count": 3,
          "mean": 28
         },
         {
          "RepoName": "davidusb-geek/emhass",
          "count": 9,
          "mean": 363
         },
         {
          "RepoName": "dobbelina/repository.dobbelina",
          "count": 6,
          "mean": 875
         },
         {
          "RepoName": "dtch1997/gpt-text-gym",
          "count": 33,
          "mean": 1002.3636363636364
         },
         {
          "RepoName": "embedchain/embedchain",
          "count": 3,
          "mean": 15
         },
         {
          "RepoName": "gorillamania/AICodeBot",
          "count": 30,
          "mean": 321
         },
         {
          "RepoName": "icecube/pisa",
          "count": 3,
          "mean": 55
         },
         {
          "RepoName": "internetarchive/openlibrary",
          "count": 9,
          "mean": 855
         },
         {
          "RepoName": "jasonacox/Powerwall-Dashboard",
          "count": 18,
          "mean": 482.6666666666667
         },
         {
          "RepoName": "jefftriplett/frontmatter-cli",
          "count": 18,
          "mean": 485
         },
         {
          "RepoName": "karpathy/ng-video-lecture",
          "count": 6,
          "mean": 295
         },
         {
          "RepoName": "kroitor/asciichart",
          "count": 3,
          "mean": 1344
         },
         {
          "RepoName": "kukulich/home-assistant-jablotron100",
          "count": 3,
          "mean": 64
         },
         {
          "RepoName": "langchain-ai/langchain",
          "count": 21,
          "mean": 300
         },
         {
          "RepoName": "livingbio/gpt-fn",
          "count": 6,
          "mean": 75
         },
         {
          "RepoName": "meltyyyyy/ICR-2023",
          "count": 18,
          "mean": 432
         },
         {
          "RepoName": "mesonbuild/meson",
          "count": 3,
          "mean": 14
         },
         {
          "RepoName": "metaphorsystems/metaphor-python",
          "count": 6,
          "mean": 1655
         },
         {
          "RepoName": "microsoft/visionmetrics",
          "count": 3,
          "mean": 10
         },
         {
          "RepoName": "monarch-initiative/oai-monarch-plugin",
          "count": 3,
          "mean": 27
         },
         {
          "RepoName": "mpoon/gpt-repository-loader",
          "count": 3,
          "mean": 782
         },
         {
          "RepoName": "mprib/pyxy3d",
          "count": 18,
          "mean": 284
         },
         {
          "RepoName": "nuhmanpk/Webtrench",
          "count": 12,
          "mean": 59
         },
         {
          "RepoName": "omegaui/linux-voice-control",
          "count": 33,
          "mean": 1801
         },
         {
          "RepoName": "paul-gauthier/aider",
          "count": 6,
          "mean": 15.5
         },
         {
          "RepoName": "related-sciences/nxontology-ml",
          "count": 3,
          "mean": 1071
         },
         {
          "RepoName": "roslinmahmud/easy-hire-backend",
          "count": 3,
          "mean": 26
         },
         {
          "RepoName": "simonw/asgi-proxy-lib",
          "count": 30,
          "mean": 367
         },
         {
          "RepoName": "simonw/datasette-render-markdown",
          "count": 27,
          "mean": 264
         },
         {
          "RepoName": "simonw/llm-replicate",
          "count": 6,
          "mean": 120
         },
         {
          "RepoName": "simonw/sqlite-utils",
          "count": 18,
          "mean": 106
         },
         {
          "RepoName": "simonw/symbex",
          "count": 30,
          "mean": 267.2
         },
         {
          "RepoName": "simonw/ttok",
          "count": 3,
          "mean": 440
         },
         {
          "RepoName": "sugi-01096/72",
          "count": 8,
          "mean": 797
         },
         {
          "RepoName": "teremterem/botmerger",
          "count": 9,
          "mean": 136
         },
         {
          "RepoName": "theonlysam/blackjack",
          "count": 3,
          "mean": 15
         },
         {
          "RepoName": "tinygrad/tinygrad",
          "count": 15,
          "mean": 2039
         },
         {
          "RepoName": "udayhello/handwritten1",
          "count": 72,
          "mean": 4994
         },
         {
          "RepoName": "uuid6/prototypes",
          "count": 60,
          "mean": 206
         },
         {
          "RepoName": "wafflestudio/wacruit-server",
          "count": 3,
          "mean": 27
         },
         {
          "RepoName": "welfare-state-analytics/riksdagen-corpus",
          "count": 9,
          "mean": 104
         }
        ]
       },
       "layer": [
        {
         "encoding": {
          "x": {
           "field": "mean",
           "title": "Length of Prompts (tokens)",
           "type": "nominal"
          },
          "y": {
           "field": "count",
           "title": "Count",
           "type": "quantitative"
          }
         },
         "mark": {
          "size": 5,
          "type": "bar"
         },
         "title": {
          "subtitle": "Merged dataset: issues, discussions, and pull requests",
          "text": "Distribution of the length of prompts with ChatGPT"
         }
        },
        {
         "encoding": {
          "x": {
           "aggregate": "mean",
           "axis": {
            "format": "2d"
           },
           "field": "mean",
           "type": "nominal"
          }
         },
         "mark": {
          "type": "rule"
         }
        }
       ]
      },
      "text/plain": [
       "<VegaLite 5 object>\n",
       "\n",
       "If you see this message, it means the renderer has not been properly enabled\n",
       "for the frontend that you are using. For more information, see\n",
       "https://altair-viz.github.io/user_guide/display_frontends.html#troubleshooting\n"
      ]
     },
     "execution_count": 11,
     "metadata": {
      "application/vnd.vegalite.v5+json": {
       "offline": true
      }
     },
     "output_type": "execute_result"
    }
   ],
   "source": [
    "# Checking histogarm -- remove extreme data point.\n",
    "bad = np.argmax(df_url_prompt[\"count\"])\n",
    "df_clean = df_url_prompt.loc[~df_url_prompt.index.isin([bad])]\n",
    "print(\n",
    "    f\"Average length of prompt per repo after removing extreme data point: \"\n",
    "    f\"{np.mean(df_clean[\"mean\"]):.2f}\"\n",
    "    )\n",
    "inter_bar = alt.Chart(df_clean).mark_bar(size=5).encode(\n",
    "    x=alt.X(\n",
    "        \"mean:N\",\n",
    "        title=\"Length of Prompts (tokens)\",\n",
    "    ),\n",
    "    y=alt.Y(\"count\", title=\"Count\"),\n",
    ").properties(\n",
    "    title={\n",
    "        \"text\": \"Distribution of the length of prompts with ChatGPT\",\n",
    "        \"subtitle\": \"Merged dataset: issues, discussions, and pull requests\"\n",
    "    }\n",
    ")\n",
    "\n",
    "rule = alt.Chart(df_clean).mark_rule().encode(\n",
    "    x=alt.X(\n",
    "        'mean:N',\n",
    "        aggregate=\"mean\",\n",
    "        type='nominal',\n",
    "        axis=alt.Axis(format=\"2d\")\n",
    "    ),\n",
    ")\n",
    "\n",
    "alt.layer(inter_bar, rule)"
   ]
  },
  {
   "cell_type": "markdown",
   "metadata": {},
   "source": [
    "## Average Length of Answer\n",
    "\n",
    "Calculate the average length of answers (measured in tokens).\n",
    "\n",
    "Method:\n",
    "1. Leverage the grouped dataset.\n",
    "2. Calculate the average length of prompts using column `TokensOfAnswers`\n",
    "3. Check distribution of length of answers with ChatGPT using bar chart."
   ]
  },
  {
   "cell_type": "code",
   "execution_count": 12,
   "metadata": {},
   "outputs": [
    {
     "data": {
      "text/html": [
       "<div>\n",
       "<style scoped>\n",
       "    .dataframe tbody tr th:only-of-type {\n",
       "        vertical-align: middle;\n",
       "    }\n",
       "\n",
       "    .dataframe tbody tr th {\n",
       "        vertical-align: top;\n",
       "    }\n",
       "\n",
       "    .dataframe thead th {\n",
       "        text-align: right;\n",
       "    }\n",
       "</style>\n",
       "<table border=\"1\" class=\"dataframe\">\n",
       "  <thead>\n",
       "    <tr style=\"text-align: right;\">\n",
       "      <th></th>\n",
       "      <th>RepoName</th>\n",
       "      <th>mean</th>\n",
       "      <th>count</th>\n",
       "    </tr>\n",
       "  </thead>\n",
       "  <tbody>\n",
       "    <tr>\n",
       "      <th>0</th>\n",
       "      <td>ActivityWatch/aw-server</td>\n",
       "      <td>572.000000</td>\n",
       "      <td>3</td>\n",
       "    </tr>\n",
       "    <tr>\n",
       "      <th>1</th>\n",
       "      <td>AndyGrant/OpenBench</td>\n",
       "      <td>416.000000</td>\n",
       "      <td>3</td>\n",
       "    </tr>\n",
       "    <tr>\n",
       "      <th>2</th>\n",
       "      <td>AntonOsika/gpt-engineer</td>\n",
       "      <td>5111.666667</td>\n",
       "      <td>54</td>\n",
       "    </tr>\n",
       "    <tr>\n",
       "      <th>3</th>\n",
       "      <td>D3Zyre/Copy-All-Files-From-Folder</td>\n",
       "      <td>1104.000000</td>\n",
       "      <td>6</td>\n",
       "    </tr>\n",
       "    <tr>\n",
       "      <th>4</th>\n",
       "      <td>Delgan/loguru</td>\n",
       "      <td>1533.000000</td>\n",
       "      <td>9</td>\n",
       "    </tr>\n",
       "  </tbody>\n",
       "</table>\n",
       "</div>"
      ],
      "text/plain": [
       "                            RepoName         mean  count\n",
       "0            ActivityWatch/aw-server   572.000000      3\n",
       "1                AndyGrant/OpenBench   416.000000      3\n",
       "2            AntonOsika/gpt-engineer  5111.666667     54\n",
       "3  D3Zyre/Copy-All-Files-From-Folder  1104.000000      6\n",
       "4                      Delgan/loguru  1533.000000      9"
      ]
     },
     "execution_count": 12,
     "metadata": {},
     "output_type": "execute_result"
    }
   ],
   "source": [
    "df_url_ans = df_repo[\"TokensOfAnswers\"].aggregate([\"mean\", \"count\"]).reset_index()\n",
    "df_url_ans.head()"
   ]
  },
  {
   "cell_type": "code",
   "execution_count": 13,
   "metadata": {},
   "outputs": [
    {
     "name": "stdout",
     "output_type": "stream",
     "text": [
      "Average length of answers per repo: 2491.19\n",
      "Maximum number of answers: 49053.0 from repo: Email-Generation/email_generation\n",
      "Minimum number of answers: 30.0 from repo: related-sciences/nxontology-ml\n"
     ]
    }
   ],
   "source": [
    "idx_max = np.argmax(df_url_ans[\"mean\"])\n",
    "idx_min = np.argmin(df_url_ans[\"mean\"])\n",
    "\n",
    "print(\n",
    "    f\"Average length of answers per repo: {np.mean(df_url_ans[\"mean\"]):.2f}\\n\"\n",
    "    f\"Maximum number of answers: {df_url_ans[\"mean\"].iloc[idx_max]} from \"\n",
    "    f\"repo: {df_url_ans[\"RepoName\"].iloc[idx_max]}\\n\"\n",
    "    f\"Minimum number of answers: {df_url_ans[\"mean\"].iloc[idx_min]} from \"\n",
    "    f\"repo: {df_url_ans[\"RepoName\"].iloc[idx_min]}\"\n",
    ")"
   ]
  },
  {
   "cell_type": "code",
   "execution_count": 14,
   "metadata": {},
   "outputs": [
    {
     "data": {
      "application/vnd.vegalite.v5+json": {
       "$schema": "https://vega.github.io/schema/vega-lite/v5.20.1.json",
       "config": {
        "view": {
         "continuousHeight": 300,
         "continuousWidth": 300
        }
       },
       "data": {
        "name": "data-5156680fabf01e9e84c2133293f45895"
       },
       "datasets": {
        "data-5156680fabf01e9e84c2133293f45895": [
         {
          "RepoName": "ActivityWatch/aw-server",
          "count": 3,
          "mean": 572
         },
         {
          "RepoName": "AndyGrant/OpenBench",
          "count": 3,
          "mean": 416
         },
         {
          "RepoName": "AntonOsika/gpt-engineer",
          "count": 54,
          "mean": 5111.666666666667
         },
         {
          "RepoName": "D3Zyre/Copy-All-Files-From-Folder",
          "count": 6,
          "mean": 1104
         },
         {
          "RepoName": "Delgan/loguru",
          "count": 9,
          "mean": 1533
         },
         {
          "RepoName": "Elucidation/mapf-multiagent-robot-planning",
          "count": 18,
          "mean": 2139
         },
         {
          "RepoName": "Email-Generation/email_generation",
          "count": 501,
          "mean": 49053
         },
         {
          "RepoName": "GreyDGL/PentestGPT",
          "count": 6,
          "mean": 4611
         },
         {
          "RepoName": "HaroldMitts/VoAIce",
          "count": 3,
          "mean": 32
         },
         {
          "RepoName": "Hochfrequenz/kohlrahbi",
          "count": 3,
          "mean": 267
         },
         {
          "RepoName": "MauriceLe/PIMS",
          "count": 3,
          "mean": 23953
         },
         {
          "RepoName": "NA-MIC/ProjectWeek",
          "count": 3,
          "mean": 458
         },
         {
          "RepoName": "OpenAdaptAI/OpenAdapt",
          "count": 59,
          "mean": 2171.9491525423728
         },
         {
          "RepoName": "PromtEngineer/localGPT",
          "count": 39,
          "mean": 3689
         },
         {
          "RepoName": "RND247/Pype-Synthetic-Data-for-Testing",
          "count": 6,
          "mean": 761
         },
         {
          "RepoName": "SafEight/wdm-project",
          "count": 6,
          "mean": 1051
         },
         {
          "RepoName": "Shreya-R-Dixit-Memorial-Foundation/EyeDaV2",
          "count": 3,
          "mean": 285
         },
         {
          "RepoName": "Significant-Gravitas/Auto-GPT",
          "count": 3,
          "mean": 201
         },
         {
          "RepoName": "SuffolkLITLab/docassemble-ALToolbox",
          "count": 9,
          "mean": 1538
         },
         {
          "RepoName": "aahnik/temple-web",
          "count": 3,
          "mean": 432
         },
         {
          "RepoName": "aiplanethub/genai-stack",
          "count": 3,
          "mean": 410
         },
         {
          "RepoName": "app-sre/qontract-reconcile",
          "count": 15,
          "mean": 1660
         },
         {
          "RepoName": "bancaditalia/black-it",
          "count": 3,
          "mean": 522
         },
         {
          "RepoName": "bbelderbos/htmx-demo",
          "count": 9,
          "mean": 941
         },
         {
          "RepoName": "chitalian/gptask",
          "count": 3,
          "mean": 301
         },
         {
          "RepoName": "comfyanonymous/ComfyUI",
          "count": 3,
          "mean": 488
         },
         {
          "RepoName": "davidusb-geek/emhass",
          "count": 9,
          "mean": 545
         },
         {
          "RepoName": "dobbelina/repository.dobbelina",
          "count": 6,
          "mean": 1610
         },
         {
          "RepoName": "dtch1997/gpt-text-gym",
          "count": 33,
          "mean": 1452.6363636363637
         },
         {
          "RepoName": "embedchain/embedchain",
          "count": 3,
          "mean": 134
         },
         {
          "RepoName": "gorillamania/AICodeBot",
          "count": 30,
          "mean": 3827
         },
         {
          "RepoName": "icecube/pisa",
          "count": 3,
          "mean": 572
         },
         {
          "RepoName": "internetarchive/openlibrary",
          "count": 9,
          "mean": 1276
         },
         {
          "RepoName": "jasonacox/Powerwall-Dashboard",
          "count": 18,
          "mean": 1833.6666666666667
         },
         {
          "RepoName": "jefftriplett/frontmatter-cli",
          "count": 18,
          "mean": 1564
         },
         {
          "RepoName": "karpathy/ng-video-lecture",
          "count": 6,
          "mean": 786
         },
         {
          "RepoName": "kroitor/asciichart",
          "count": 3,
          "mean": 1370
         },
         {
          "RepoName": "kukulich/home-assistant-jablotron100",
          "count": 3,
          "mean": 436
         },
         {
          "RepoName": "langchain-ai/langchain",
          "count": 21,
          "mean": 1700
         },
         {
          "RepoName": "livingbio/gpt-fn",
          "count": 6,
          "mean": 1091
         },
         {
          "RepoName": "meltyyyyy/ICR-2023",
          "count": 18,
          "mean": 2205
         },
         {
          "RepoName": "mesonbuild/meson",
          "count": 3,
          "mean": 117
         },
         {
          "RepoName": "metaphorsystems/metaphor-python",
          "count": 6,
          "mean": 328
         },
         {
          "RepoName": "microsoft/visionmetrics",
          "count": 3,
          "mean": 460
         },
         {
          "RepoName": "monarch-initiative/oai-monarch-plugin",
          "count": 3,
          "mean": 100
         },
         {
          "RepoName": "mpoon/gpt-repository-loader",
          "count": 3,
          "mean": 351
         },
         {
          "RepoName": "mprib/pyxy3d",
          "count": 18,
          "mean": 720
         },
         {
          "RepoName": "nuhmanpk/Webtrench",
          "count": 12,
          "mean": 1307
         },
         {
          "RepoName": "omegaui/linux-voice-control",
          "count": 33,
          "mean": 2754
         },
         {
          "RepoName": "paul-gauthier/aider",
          "count": 6,
          "mean": 237
         },
         {
          "RepoName": "related-sciences/nxontology-ml",
          "count": 3,
          "mean": 30
         },
         {
          "RepoName": "roslinmahmud/easy-hire-backend",
          "count": 3,
          "mean": 399
         },
         {
          "RepoName": "simonw/asgi-proxy-lib",
          "count": 30,
          "mean": 4133
         },
         {
          "RepoName": "simonw/datasette-render-markdown",
          "count": 27,
          "mean": 2761
         },
         {
          "RepoName": "simonw/llm-replicate",
          "count": 6,
          "mean": 774
         },
         {
          "RepoName": "simonw/sqlite-utils",
          "count": 18,
          "mean": 1148
         },
         {
          "RepoName": "simonw/symbex",
          "count": 30,
          "mean": 729.2
         },
         {
          "RepoName": "simonw/ttok",
          "count": 3,
          "mean": 446
         },
         {
          "RepoName": "sugi-01096/72",
          "count": 8,
          "mean": 5251.5
         },
         {
          "RepoName": "teremterem/botmerger",
          "count": 9,
          "mean": 1340
         },
         {
          "RepoName": "theonlysam/blackjack",
          "count": 3,
          "mean": 609
         },
         {
          "RepoName": "tinygrad/tinygrad",
          "count": 15,
          "mean": 2677
         },
         {
          "RepoName": "udayhello/handwritten1",
          "count": 72,
          "mean": 9623
         },
         {
          "RepoName": "uuid6/prototypes",
          "count": 60,
          "mean": 2636
         },
         {
          "RepoName": "wafflestudio/wacruit-server",
          "count": 3,
          "mean": 236
         },
         {
          "RepoName": "welfare-state-analytics/riksdagen-corpus",
          "count": 9,
          "mean": 1149
         }
        ]
       },
       "layer": [
        {
         "encoding": {
          "x": {
           "field": "mean",
           "title": "Length of Answers (tokens)",
           "type": "nominal"
          },
          "y": {
           "field": "count",
           "title": "Count",
           "type": "quantitative"
          }
         },
         "mark": {
          "size": 5,
          "type": "bar"
         },
         "title": {
          "subtitle": "Merged dataset: issues, discussions, and pull requests",
          "text": "Distribution of the length of answers with ChatGPT"
         }
        },
        {
         "encoding": {
          "x": {
           "aggregate": "mean",
           "axis": {
            "format": "2d"
           },
           "field": "mean",
           "type": "nominal"
          }
         },
         "mark": {
          "type": "rule"
         }
        }
       ]
      },
      "text/plain": [
       "<VegaLite 5 object>\n",
       "\n",
       "If you see this message, it means the renderer has not been properly enabled\n",
       "for the frontend that you are using. For more information, see\n",
       "https://altair-viz.github.io/user_guide/display_frontends.html#troubleshooting\n"
      ]
     },
     "execution_count": 14,
     "metadata": {
      "application/vnd.vegalite.v5+json": {
       "offline": true
      }
     },
     "output_type": "execute_result"
    }
   ],
   "source": [
    "# Checking histogarm\n",
    "inter_bar = alt.Chart(df_url_ans).mark_bar(size=5).encode(\n",
    "    x=alt.X(\n",
    "        \"mean:N\",\n",
    "        title=\"Length of Answers (tokens)\",\n",
    "    ),\n",
    "    y=alt.Y(\"count\", title=\"Count\"),\n",
    ").properties(\n",
    "    title={\n",
    "        \"text\": \"Distribution of the length of answers with ChatGPT\",\n",
    "        \"subtitle\": \"Merged dataset: issues, discussions, and pull requests\"\n",
    "    }\n",
    ")\n",
    "\n",
    "rule = alt.Chart(df_url_ans).mark_rule().encode(\n",
    "    x=alt.X(\n",
    "        'mean:N',\n",
    "        aggregate=\"mean\",\n",
    "        type='nominal',\n",
    "        axis=alt.Axis(format=\"2d\")\n",
    "    ),\n",
    ")\n",
    "\n",
    "alt.layer(inter_bar, rule)"
   ]
  },
  {
   "cell_type": "code",
   "execution_count": 15,
   "metadata": {},
   "outputs": [
    {
     "name": "stdout",
     "output_type": "stream",
     "text": [
      "Average length of answers per repo after removing extreme data point: 1774.86\n"
     ]
    },
    {
     "data": {
      "application/vnd.vegalite.v5+json": {
       "$schema": "https://vega.github.io/schema/vega-lite/v5.20.1.json",
       "config": {
        "view": {
         "continuousHeight": 300,
         "continuousWidth": 300
        }
       },
       "data": {
        "name": "data-84db7dcc8fce80ec0da988eca311fbe5"
       },
       "datasets": {
        "data-84db7dcc8fce80ec0da988eca311fbe5": [
         {
          "RepoName": "ActivityWatch/aw-server",
          "count": 3,
          "mean": 572
         },
         {
          "RepoName": "AndyGrant/OpenBench",
          "count": 3,
          "mean": 416
         },
         {
          "RepoName": "AntonOsika/gpt-engineer",
          "count": 54,
          "mean": 5111.666666666667
         },
         {
          "RepoName": "D3Zyre/Copy-All-Files-From-Folder",
          "count": 6,
          "mean": 1104
         },
         {
          "RepoName": "Delgan/loguru",
          "count": 9,
          "mean": 1533
         },
         {
          "RepoName": "Elucidation/mapf-multiagent-robot-planning",
          "count": 18,
          "mean": 2139
         },
         {
          "RepoName": "GreyDGL/PentestGPT",
          "count": 6,
          "mean": 4611
         },
         {
          "RepoName": "HaroldMitts/VoAIce",
          "count": 3,
          "mean": 32
         },
         {
          "RepoName": "Hochfrequenz/kohlrahbi",
          "count": 3,
          "mean": 267
         },
         {
          "RepoName": "MauriceLe/PIMS",
          "count": 3,
          "mean": 23953
         },
         {
          "RepoName": "NA-MIC/ProjectWeek",
          "count": 3,
          "mean": 458
         },
         {
          "RepoName": "OpenAdaptAI/OpenAdapt",
          "count": 59,
          "mean": 2171.9491525423728
         },
         {
          "RepoName": "PromtEngineer/localGPT",
          "count": 39,
          "mean": 3689
         },
         {
          "RepoName": "RND247/Pype-Synthetic-Data-for-Testing",
          "count": 6,
          "mean": 761
         },
         {
          "RepoName": "SafEight/wdm-project",
          "count": 6,
          "mean": 1051
         },
         {
          "RepoName": "Shreya-R-Dixit-Memorial-Foundation/EyeDaV2",
          "count": 3,
          "mean": 285
         },
         {
          "RepoName": "Significant-Gravitas/Auto-GPT",
          "count": 3,
          "mean": 201
         },
         {
          "RepoName": "SuffolkLITLab/docassemble-ALToolbox",
          "count": 9,
          "mean": 1538
         },
         {
          "RepoName": "aahnik/temple-web",
          "count": 3,
          "mean": 432
         },
         {
          "RepoName": "aiplanethub/genai-stack",
          "count": 3,
          "mean": 410
         },
         {
          "RepoName": "app-sre/qontract-reconcile",
          "count": 15,
          "mean": 1660
         },
         {
          "RepoName": "bancaditalia/black-it",
          "count": 3,
          "mean": 522
         },
         {
          "RepoName": "bbelderbos/htmx-demo",
          "count": 9,
          "mean": 941
         },
         {
          "RepoName": "chitalian/gptask",
          "count": 3,
          "mean": 301
         },
         {
          "RepoName": "comfyanonymous/ComfyUI",
          "count": 3,
          "mean": 488
         },
         {
          "RepoName": "davidusb-geek/emhass",
          "count": 9,
          "mean": 545
         },
         {
          "RepoName": "dobbelina/repository.dobbelina",
          "count": 6,
          "mean": 1610
         },
         {
          "RepoName": "dtch1997/gpt-text-gym",
          "count": 33,
          "mean": 1452.6363636363637
         },
         {
          "RepoName": "embedchain/embedchain",
          "count": 3,
          "mean": 134
         },
         {
          "RepoName": "gorillamania/AICodeBot",
          "count": 30,
          "mean": 3827
         },
         {
          "RepoName": "icecube/pisa",
          "count": 3,
          "mean": 572
         },
         {
          "RepoName": "internetarchive/openlibrary",
          "count": 9,
          "mean": 1276
         },
         {
          "RepoName": "jasonacox/Powerwall-Dashboard",
          "count": 18,
          "mean": 1833.6666666666667
         },
         {
          "RepoName": "jefftriplett/frontmatter-cli",
          "count": 18,
          "mean": 1564
         },
         {
          "RepoName": "karpathy/ng-video-lecture",
          "count": 6,
          "mean": 786
         },
         {
          "RepoName": "kroitor/asciichart",
          "count": 3,
          "mean": 1370
         },
         {
          "RepoName": "kukulich/home-assistant-jablotron100",
          "count": 3,
          "mean": 436
         },
         {
          "RepoName": "langchain-ai/langchain",
          "count": 21,
          "mean": 1700
         },
         {
          "RepoName": "livingbio/gpt-fn",
          "count": 6,
          "mean": 1091
         },
         {
          "RepoName": "meltyyyyy/ICR-2023",
          "count": 18,
          "mean": 2205
         },
         {
          "RepoName": "mesonbuild/meson",
          "count": 3,
          "mean": 117
         },
         {
          "RepoName": "metaphorsystems/metaphor-python",
          "count": 6,
          "mean": 328
         },
         {
          "RepoName": "microsoft/visionmetrics",
          "count": 3,
          "mean": 460
         },
         {
          "RepoName": "monarch-initiative/oai-monarch-plugin",
          "count": 3,
          "mean": 100
         },
         {
          "RepoName": "mpoon/gpt-repository-loader",
          "count": 3,
          "mean": 351
         },
         {
          "RepoName": "mprib/pyxy3d",
          "count": 18,
          "mean": 720
         },
         {
          "RepoName": "nuhmanpk/Webtrench",
          "count": 12,
          "mean": 1307
         },
         {
          "RepoName": "omegaui/linux-voice-control",
          "count": 33,
          "mean": 2754
         },
         {
          "RepoName": "paul-gauthier/aider",
          "count": 6,
          "mean": 237
         },
         {
          "RepoName": "related-sciences/nxontology-ml",
          "count": 3,
          "mean": 30
         },
         {
          "RepoName": "roslinmahmud/easy-hire-backend",
          "count": 3,
          "mean": 399
         },
         {
          "RepoName": "simonw/asgi-proxy-lib",
          "count": 30,
          "mean": 4133
         },
         {
          "RepoName": "simonw/datasette-render-markdown",
          "count": 27,
          "mean": 2761
         },
         {
          "RepoName": "simonw/llm-replicate",
          "count": 6,
          "mean": 774
         },
         {
          "RepoName": "simonw/sqlite-utils",
          "count": 18,
          "mean": 1148
         },
         {
          "RepoName": "simonw/symbex",
          "count": 30,
          "mean": 729.2
         },
         {
          "RepoName": "simonw/ttok",
          "count": 3,
          "mean": 446
         },
         {
          "RepoName": "sugi-01096/72",
          "count": 8,
          "mean": 5251.5
         },
         {
          "RepoName": "teremterem/botmerger",
          "count": 9,
          "mean": 1340
         },
         {
          "RepoName": "theonlysam/blackjack",
          "count": 3,
          "mean": 609
         },
         {
          "RepoName": "tinygrad/tinygrad",
          "count": 15,
          "mean": 2677
         },
         {
          "RepoName": "udayhello/handwritten1",
          "count": 72,
          "mean": 9623
         },
         {
          "RepoName": "uuid6/prototypes",
          "count": 60,
          "mean": 2636
         },
         {
          "RepoName": "wafflestudio/wacruit-server",
          "count": 3,
          "mean": 236
         },
         {
          "RepoName": "welfare-state-analytics/riksdagen-corpus",
          "count": 9,
          "mean": 1149
         }
        ]
       },
       "layer": [
        {
         "encoding": {
          "x": {
           "field": "mean",
           "title": "Length of Answers (tokens)",
           "type": "nominal"
          },
          "y": {
           "field": "count",
           "title": "Count",
           "type": "quantitative"
          }
         },
         "mark": {
          "size": 5,
          "type": "bar"
         },
         "title": {
          "subtitle": "Merged dataset: issues, discussions, and pull requests",
          "text": "Distribution of the length of answers with ChatGPT"
         }
        },
        {
         "encoding": {
          "x": {
           "aggregate": "mean",
           "axis": {
            "format": "2d"
           },
           "field": "mean",
           "type": "nominal"
          }
         },
         "mark": {
          "type": "rule"
         }
        }
       ]
      },
      "text/plain": [
       "<VegaLite 5 object>\n",
       "\n",
       "If you see this message, it means the renderer has not been properly enabled\n",
       "for the frontend that you are using. For more information, see\n",
       "https://altair-viz.github.io/user_guide/display_frontends.html#troubleshooting\n"
      ]
     },
     "execution_count": 15,
     "metadata": {
      "application/vnd.vegalite.v5+json": {
       "offline": true
      }
     },
     "output_type": "execute_result"
    }
   ],
   "source": [
    "# Checking histogarm -- remove extreme data point.\n",
    "bad = np.argmax(df_url_ans[\"count\"])\n",
    "df_clean = df_url_ans.loc[~df_url_ans.index.isin([bad])]\n",
    "print(\n",
    "    f\"Average length of answers per repo after removing extreme data point: \"\n",
    "    f\"{np.mean(df_clean[\"mean\"]):.2f}\"\n",
    "    )\n",
    "inter_bar = alt.Chart(df_clean).mark_bar(size=5).encode(\n",
    "    x=alt.X(\n",
    "        \"mean:N\",\n",
    "        title=\"Length of Answers (tokens)\",\n",
    "    ),\n",
    "    y=alt.Y(\"count\", title=\"Count\"),\n",
    ").properties(\n",
    "    title={\n",
    "        \"text\": \"Distribution of the length of answers with ChatGPT\",\n",
    "        \"subtitle\": \"Merged dataset: issues, discussions, and pull requests\"\n",
    "    }\n",
    ")\n",
    "\n",
    "rule = alt.Chart(df_clean).mark_rule().encode(\n",
    "    x=alt.X(\n",
    "        'mean:N',\n",
    "        aggregate=\"mean\",\n",
    "        type='nominal',\n",
    "        axis=alt.Axis(format=\"2d\")\n",
    "    ),\n",
    ")\n",
    "\n",
    "alt.layer(inter_bar, rule)"
   ]
  }
 ],
 "metadata": {
  "kernelspec": {
   "display_name": "base",
   "language": "python",
   "name": "python3"
  },
  "language_info": {
   "codemirror_mode": {
    "name": "ipython",
    "version": 3
   },
   "file_extension": ".py",
   "mimetype": "text/x-python",
   "name": "python",
   "nbconvert_exporter": "python",
   "pygments_lexer": "ipython3",
   "version": "3.12.2"
  }
 },
 "nbformat": 4,
 "nbformat_minor": 4
}
