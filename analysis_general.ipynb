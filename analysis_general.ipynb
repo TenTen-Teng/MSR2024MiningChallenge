{
 "cells": [
  {
   "cell_type": "markdown",
   "metadata": {},
   "source": [
    "# Data Analysis - General\n",
    "\n",
    "This notebook aims to analyze the merged dataset.\n",
    "\n",
    "1. Determine the number of interactions with ChatGPT across issues, discussions, and pull requests.\n",
    "2. Calculate the average length of prompts (measured in tokens) for issues, discussions, and pull requests.\n",
    "3. Calculate the average length of answers (measured in tokens) for issues, discussions, and pull requests.request.\n",
    "\n",
    "> NOTE\n",
    ">\n",
    "> All file paths to CSV files are replaced with relative paths.\n",
    "\n",
    "Table of Content\n",
    "- [Read the Merged Dataset](#read-the-merged-dataset)\n",
    "- [Interactions](#interactions)\n",
    "- [Average Length of Prompt](#average-length-of-prompt)\n",
    "- [Average Length of Answer](#average-length-of-answer)"
   ]
  },
  {
   "cell_type": "code",
   "execution_count": 3,
   "metadata": {},
   "outputs": [],
   "source": [
    "# Import libraries.\n",
    "\n",
    "import pandas as pd\n",
    "import numpy as np\n",
    "import altair as alt\n",
    "\n",
    "# alt.renderers.enable(\"jupyterlab\")"
   ]
  },
  {
   "cell_type": "markdown",
   "metadata": {},
   "source": [
    "## Read the Merged Dataset"
   ]
  },
  {
   "cell_type": "code",
   "execution_count": null,
   "metadata": {},
   "outputs": [
    {
     "name": "stdout",
     "output_type": "stream",
     "text": [
      "<class 'pandas.core.frame.DataFrame'>\n",
      "Index: 1348 entries, 7870 to 313\n",
      "Data columns (total 6 columns):\n",
      " #   Column              Non-Null Count  Dtype  \n",
      "---  ------              --------------  -----  \n",
      " 0   RepoName            1348 non-null   object \n",
      " 1   URL_chatgptsharing  1348 non-null   object \n",
      " 2   Prompt              1348 non-null   object \n",
      " 3   Answer              1348 non-null   object \n",
      " 4   TokensOfPrompts     1348 non-null   float64\n",
      " 5   TokensOfAnswers     1348 non-null   float64\n",
      "dtypes: float64(2), object(4)\n",
      "memory usage: 73.7+ KB\n"
     ]
    }
   ],
   "source": [
    "df = pd.read_csv(\"~/data/DevGPT/cleaned/combine.csv\", index_col=0)\n",
    "df.info()"
   ]
  },
  {
   "cell_type": "markdown",
   "metadata": {},
   "source": [
    "## Interactions\n",
    "\n",
    "Determine the number of interactions with ChatGPT across issues, discussions, and pull requests.\n",
    "\n",
    "Method:\n",
    "1. Group data by `RepoName` and aggregate the `URL_chatgptsharing` into a list.\n",
    "2. Calculate the number of interactions with ChatGPT by averaging the number of `URL_chatgptsharing`.\n",
    "3. Visualize the distribution of interactions with ChatGPT."
   ]
  },
  {
   "cell_type": "code",
   "execution_count": 5,
   "metadata": {},
   "outputs": [],
   "source": [
    "# Group by RepoName\n",
    "df_repo = df.groupby(by=[\"RepoName\"])"
   ]
  },
  {
   "cell_type": "code",
   "execution_count": 6,
   "metadata": {},
   "outputs": [
    {
     "data": {
      "text/plain": [
       "66"
      ]
     },
     "execution_count": 6,
     "metadata": {},
     "output_type": "execute_result"
    }
   ],
   "source": [
    "# In our merged dataset, there are 66 unique repos.\n",
    "len(df_repo[\"RepoName\"].unique())"
   ]
  },
  {
   "cell_type": "code",
   "execution_count": 7,
   "metadata": {},
   "outputs": [
    {
     "name": "stdout",
     "output_type": "stream",
     "text": [
      "Average interactions per pr: 20.42\n",
      "Maximum number of interactions: 501\n",
      "Minimum number of interactions: 3\n"
     ]
    }
   ],
   "source": [
    "# Show the distribution of interactions\n",
    "\n",
    "df_repo_count = df_repo[\"URL_chatgptsharing\"].aggregate(len).reset_index()\n",
    "\n",
    "idx_max = np.argmax(df_repo_count[\"URL_chatgptsharing\"])\n",
    "idx_min = np.argmin(df_repo_count[\"URL_chatgptsharing\"])\n",
    "print(\n",
    "    f\"Average interactions per pr: {np.mean(df_repo_count[\"URL_chatgptsharing\"]):.2f}\\n\"\n",
    "    f\"Maximum number of interactions: {df_repo_count.iloc[idx_max][\"URL_chatgptsharing\"]}\\n\"\n",
    "    f\"Minimum number of interactions: {df_repo_count.iloc[idx_min][\"URL_chatgptsharing\"]}\"\n",
    ")"
   ]
  },
  {
   "cell_type": "code",
   "execution_count": 8,
   "metadata": {},
   "outputs": [
    {
     "data": {
      "text/html": [
       "\n",
       "<style>\n",
       "  #altair-viz-ed606e048ca5420dab04f6aff70b3312.vega-embed {\n",
       "    width: 100%;\n",
       "    display: flex;\n",
       "  }\n",
       "\n",
       "  #altair-viz-ed606e048ca5420dab04f6aff70b3312.vega-embed details,\n",
       "  #altair-viz-ed606e048ca5420dab04f6aff70b3312.vega-embed details summary {\n",
       "    position: relative;\n",
       "  }\n",
       "</style>\n",
       "<div id=\"altair-viz-ed606e048ca5420dab04f6aff70b3312\"></div>\n",
       "<script type=\"text/javascript\">\n",
       "  var VEGA_DEBUG = (typeof VEGA_DEBUG == \"undefined\") ? {} : VEGA_DEBUG;\n",
       "  (function(spec, embedOpt){\n",
       "    let outputDiv = document.currentScript.previousElementSibling;\n",
       "    if (outputDiv.id !== \"altair-viz-ed606e048ca5420dab04f6aff70b3312\") {\n",
       "      outputDiv = document.getElementById(\"altair-viz-ed606e048ca5420dab04f6aff70b3312\");\n",
       "    }\n",
       "\n",
       "    const paths = {\n",
       "      \"vega\": \"https://cdn.jsdelivr.net/npm/vega@5?noext\",\n",
       "      \"vega-lib\": \"https://cdn.jsdelivr.net/npm/vega-lib?noext\",\n",
       "      \"vega-lite\": \"https://cdn.jsdelivr.net/npm/vega-lite@5.20.1?noext\",\n",
       "      \"vega-embed\": \"https://cdn.jsdelivr.net/npm/vega-embed@6?noext\",\n",
       "    };\n",
       "\n",
       "    function maybeLoadScript(lib, version) {\n",
       "      var key = `${lib.replace(\"-\", \"\")}_version`;\n",
       "      return (VEGA_DEBUG[key] == version) ?\n",
       "        Promise.resolve(paths[lib]) :\n",
       "        new Promise(function(resolve, reject) {\n",
       "          var s = document.createElement('script');\n",
       "          document.getElementsByTagName(\"head\")[0].appendChild(s);\n",
       "          s.async = true;\n",
       "          s.onload = () => {\n",
       "            VEGA_DEBUG[key] = version;\n",
       "            return resolve(paths[lib]);\n",
       "          };\n",
       "          s.onerror = () => reject(`Error loading script: ${paths[lib]}`);\n",
       "          s.src = paths[lib];\n",
       "        });\n",
       "    }\n",
       "\n",
       "    function showError(err) {\n",
       "      outputDiv.innerHTML = `<div class=\"error\" style=\"color:red;\">${err}</div>`;\n",
       "      throw err;\n",
       "    }\n",
       "\n",
       "    function displayChart(vegaEmbed) {\n",
       "      vegaEmbed(outputDiv, spec, embedOpt)\n",
       "        .catch(err => showError(`Javascript Error: ${err.message}<br>This usually means there's a typo in your chart specification. See the javascript console for the full traceback.`));\n",
       "    }\n",
       "\n",
       "    if(typeof define === \"function\" && define.amd) {\n",
       "      requirejs.config({paths});\n",
       "      let deps = [\"vega-embed\"];\n",
       "      require(deps, displayChart, err => showError(`Error loading script: ${err.message}`));\n",
       "    } else {\n",
       "      maybeLoadScript(\"vega\", \"5\")\n",
       "        .then(() => maybeLoadScript(\"vega-lite\", \"5.20.1\"))\n",
       "        .then(() => maybeLoadScript(\"vega-embed\", \"6\"))\n",
       "        .catch(showError)\n",
       "        .then(() => displayChart(vegaEmbed));\n",
       "    }\n",
       "  })({\"config\": {\"view\": {\"continuousWidth\": 300, \"continuousHeight\": 300}}, \"layer\": [{\"mark\": {\"type\": \"bar\", \"size\": 5}, \"encoding\": {\"x\": {\"field\": \"URL_chatgptsharing\", \"title\": \"Number of Interactions with ChatGPT\", \"type\": \"nominal\"}, \"y\": {\"aggregate\": \"count\", \"title\": \"Count\", \"type\": \"quantitative\"}}, \"title\": {\"text\": \"Distribution of the number of interactions with ChatGPT\", \"subtitle\": \"Merged dataset: issues, discussions, and pull requests\"}}, {\"mark\": {\"type\": \"rule\"}, \"encoding\": {\"size\": {\"value\": 2}, \"x\": {\"aggregate\": \"mean\", \"axis\": {\"format\": \"2d\"}, \"field\": \"URL_chatgptsharing\", \"type\": \"nominal\"}}}], \"data\": {\"name\": \"data-43c88068f7ba6322683b44a817f9f22d\"}, \"$schema\": \"https://vega.github.io/schema/vega-lite/v5.20.1.json\", \"datasets\": {\"data-43c88068f7ba6322683b44a817f9f22d\": [{\"RepoName\": \"ActivityWatch/aw-server\", \"URL_chatgptsharing\": 3}, {\"RepoName\": \"AndyGrant/OpenBench\", \"URL_chatgptsharing\": 3}, {\"RepoName\": \"AntonOsika/gpt-engineer\", \"URL_chatgptsharing\": 54}, {\"RepoName\": \"D3Zyre/Copy-All-Files-From-Folder\", \"URL_chatgptsharing\": 6}, {\"RepoName\": \"Delgan/loguru\", \"URL_chatgptsharing\": 9}, {\"RepoName\": \"Elucidation/mapf-multiagent-robot-planning\", \"URL_chatgptsharing\": 18}, {\"RepoName\": \"Email-Generation/email_generation\", \"URL_chatgptsharing\": 501}, {\"RepoName\": \"GreyDGL/PentestGPT\", \"URL_chatgptsharing\": 6}, {\"RepoName\": \"HaroldMitts/VoAIce\", \"URL_chatgptsharing\": 3}, {\"RepoName\": \"Hochfrequenz/kohlrahbi\", \"URL_chatgptsharing\": 3}, {\"RepoName\": \"MauriceLe/PIMS\", \"URL_chatgptsharing\": 3}, {\"RepoName\": \"NA-MIC/ProjectWeek\", \"URL_chatgptsharing\": 3}, {\"RepoName\": \"OpenAdaptAI/OpenAdapt\", \"URL_chatgptsharing\": 59}, {\"RepoName\": \"PromtEngineer/localGPT\", \"URL_chatgptsharing\": 39}, {\"RepoName\": \"RND247/Pype-Synthetic-Data-for-Testing\", \"URL_chatgptsharing\": 6}, {\"RepoName\": \"SafEight/wdm-project\", \"URL_chatgptsharing\": 6}, {\"RepoName\": \"Shreya-R-Dixit-Memorial-Foundation/EyeDaV2\", \"URL_chatgptsharing\": 3}, {\"RepoName\": \"Significant-Gravitas/Auto-GPT\", \"URL_chatgptsharing\": 3}, {\"RepoName\": \"SuffolkLITLab/docassemble-ALToolbox\", \"URL_chatgptsharing\": 9}, {\"RepoName\": \"aahnik/temple-web\", \"URL_chatgptsharing\": 3}, {\"RepoName\": \"aiplanethub/genai-stack\", \"URL_chatgptsharing\": 3}, {\"RepoName\": \"app-sre/qontract-reconcile\", \"URL_chatgptsharing\": 15}, {\"RepoName\": \"bancaditalia/black-it\", \"URL_chatgptsharing\": 3}, {\"RepoName\": \"bbelderbos/htmx-demo\", \"URL_chatgptsharing\": 9}, {\"RepoName\": \"chitalian/gptask\", \"URL_chatgptsharing\": 3}, {\"RepoName\": \"comfyanonymous/ComfyUI\", \"URL_chatgptsharing\": 3}, {\"RepoName\": \"davidusb-geek/emhass\", \"URL_chatgptsharing\": 9}, {\"RepoName\": \"dobbelina/repository.dobbelina\", \"URL_chatgptsharing\": 6}, {\"RepoName\": \"dtch1997/gpt-text-gym\", \"URL_chatgptsharing\": 33}, {\"RepoName\": \"embedchain/embedchain\", \"URL_chatgptsharing\": 3}, {\"RepoName\": \"gorillamania/AICodeBot\", \"URL_chatgptsharing\": 30}, {\"RepoName\": \"icecube/pisa\", \"URL_chatgptsharing\": 3}, {\"RepoName\": \"internetarchive/openlibrary\", \"URL_chatgptsharing\": 9}, {\"RepoName\": \"jasonacox/Powerwall-Dashboard\", \"URL_chatgptsharing\": 18}, {\"RepoName\": \"jefftriplett/frontmatter-cli\", \"URL_chatgptsharing\": 18}, {\"RepoName\": \"karpathy/ng-video-lecture\", \"URL_chatgptsharing\": 6}, {\"RepoName\": \"kroitor/asciichart\", \"URL_chatgptsharing\": 3}, {\"RepoName\": \"kukulich/home-assistant-jablotron100\", \"URL_chatgptsharing\": 3}, {\"RepoName\": \"langchain-ai/langchain\", \"URL_chatgptsharing\": 21}, {\"RepoName\": \"livingbio/gpt-fn\", \"URL_chatgptsharing\": 6}, {\"RepoName\": \"meltyyyyy/ICR-2023\", \"URL_chatgptsharing\": 18}, {\"RepoName\": \"mesonbuild/meson\", \"URL_chatgptsharing\": 3}, {\"RepoName\": \"metaphorsystems/metaphor-python\", \"URL_chatgptsharing\": 6}, {\"RepoName\": \"microsoft/visionmetrics\", \"URL_chatgptsharing\": 3}, {\"RepoName\": \"monarch-initiative/oai-monarch-plugin\", \"URL_chatgptsharing\": 3}, {\"RepoName\": \"mpoon/gpt-repository-loader\", \"URL_chatgptsharing\": 3}, {\"RepoName\": \"mprib/pyxy3d\", \"URL_chatgptsharing\": 18}, {\"RepoName\": \"nuhmanpk/Webtrench\", \"URL_chatgptsharing\": 12}, {\"RepoName\": \"omegaui/linux-voice-control\", \"URL_chatgptsharing\": 33}, {\"RepoName\": \"paul-gauthier/aider\", \"URL_chatgptsharing\": 6}, {\"RepoName\": \"related-sciences/nxontology-ml\", \"URL_chatgptsharing\": 3}, {\"RepoName\": \"roslinmahmud/easy-hire-backend\", \"URL_chatgptsharing\": 3}, {\"RepoName\": \"simonw/asgi-proxy-lib\", \"URL_chatgptsharing\": 30}, {\"RepoName\": \"simonw/datasette-render-markdown\", \"URL_chatgptsharing\": 27}, {\"RepoName\": \"simonw/llm-replicate\", \"URL_chatgptsharing\": 6}, {\"RepoName\": \"simonw/sqlite-utils\", \"URL_chatgptsharing\": 18}, {\"RepoName\": \"simonw/symbex\", \"URL_chatgptsharing\": 30}, {\"RepoName\": \"simonw/ttok\", \"URL_chatgptsharing\": 3}, {\"RepoName\": \"sugi-01096/72\", \"URL_chatgptsharing\": 8}, {\"RepoName\": \"teremterem/botmerger\", \"URL_chatgptsharing\": 9}, {\"RepoName\": \"theonlysam/blackjack\", \"URL_chatgptsharing\": 3}, {\"RepoName\": \"tinygrad/tinygrad\", \"URL_chatgptsharing\": 15}, {\"RepoName\": \"udayhello/handwritten1\", \"URL_chatgptsharing\": 72}, {\"RepoName\": \"uuid6/prototypes\", \"URL_chatgptsharing\": 60}, {\"RepoName\": \"wafflestudio/wacruit-server\", \"URL_chatgptsharing\": 3}, {\"RepoName\": \"welfare-state-analytics/riksdagen-corpus\", \"URL_chatgptsharing\": 9}]}}, {\"mode\": \"vega-lite\"});\n",
       "</script>"
      ],
      "text/plain": [
       "alt.LayerChart(...)"
      ]
     },
     "execution_count": 8,
     "metadata": {},
     "output_type": "execute_result"
    }
   ],
   "source": [
    "# Checking histogarm\n",
    "\n",
    "inter_bar = alt.Chart(df_repo_count).mark_bar(size=5).encode(\n",
    "    x=alt.X(\n",
    "        \"URL_chatgptsharing:N\",\n",
    "        title=\"Number of Interactions with ChatGPT\",\n",
    "    ),\n",
    "    y=alt.Y(\"count()\", title=\"Count\"),\n",
    ").properties(\n",
    "    title={\n",
    "        \"text\": \"Distribution of the number of interactions with ChatGPT\",\n",
    "        \"subtitle\": \"Merged dataset: issues, discussions, and pull requests\"\n",
    "    }\n",
    ")\n",
    "\n",
    "rule = alt.Chart(df_repo_count).mark_rule().encode(\n",
    "    x=alt.X(\n",
    "        'URL_chatgptsharing:N',\n",
    "        aggregate=\"mean\",\n",
    "        type='nominal',\n",
    "        axis=alt.Axis(format=\"2d\")\n",
    "    ),\n",
    "    size=alt.value(2),\n",
    ")\n",
    "\n",
    "alt.layer(inter_bar, rule)"
   ]
  },
  {
   "cell_type": "markdown",
   "metadata": {},
   "source": [
    "![](./graphs/interaction-general-hist.png)"
   ]
  },
  {
   "cell_type": "markdown",
   "metadata": {},
   "source": [
    "## Average Length of Prompt\n",
    "\n",
    "Calculate the average length of prompts (measured in tokens).\n",
    "\n",
    "Method:\n",
    "1. Leverage the grouped dataset.\n",
    "2. Calculate the average length of prompts using column `TokensOfPrompts`\n",
    "3. Check distribution of length of prompts with ChatGPT using bar chart."
   ]
  },
  {
   "cell_type": "code",
   "execution_count": 9,
   "metadata": {},
   "outputs": [
    {
     "data": {
      "text/html": [
       "<div>\n",
       "<style scoped>\n",
       "    .dataframe tbody tr th:only-of-type {\n",
       "        vertical-align: middle;\n",
       "    }\n",
       "\n",
       "    .dataframe tbody tr th {\n",
       "        vertical-align: top;\n",
       "    }\n",
       "\n",
       "    .dataframe thead th {\n",
       "        text-align: right;\n",
       "    }\n",
       "</style>\n",
       "<table border=\"1\" class=\"dataframe\">\n",
       "  <thead>\n",
       "    <tr style=\"text-align: right;\">\n",
       "      <th></th>\n",
       "      <th>RepoName</th>\n",
       "      <th>mean</th>\n",
       "      <th>count</th>\n",
       "    </tr>\n",
       "  </thead>\n",
       "  <tbody>\n",
       "    <tr>\n",
       "      <th>0</th>\n",
       "      <td>ActivityWatch/aw-server</td>\n",
       "      <td>116.000000</td>\n",
       "      <td>3</td>\n",
       "    </tr>\n",
       "    <tr>\n",
       "      <th>1</th>\n",
       "      <td>AndyGrant/OpenBench</td>\n",
       "      <td>31.000000</td>\n",
       "      <td>3</td>\n",
       "    </tr>\n",
       "    <tr>\n",
       "      <th>2</th>\n",
       "      <td>AntonOsika/gpt-engineer</td>\n",
       "      <td>1102.333333</td>\n",
       "      <td>54</td>\n",
       "    </tr>\n",
       "    <tr>\n",
       "      <th>3</th>\n",
       "      <td>D3Zyre/Copy-All-Files-From-Folder</td>\n",
       "      <td>113.000000</td>\n",
       "      <td>6</td>\n",
       "    </tr>\n",
       "    <tr>\n",
       "      <th>4</th>\n",
       "      <td>Delgan/loguru</td>\n",
       "      <td>269.000000</td>\n",
       "      <td>9</td>\n",
       "    </tr>\n",
       "  </tbody>\n",
       "</table>\n",
       "</div>"
      ],
      "text/plain": [
       "                            RepoName         mean  count\n",
       "0            ActivityWatch/aw-server   116.000000      3\n",
       "1                AndyGrant/OpenBench    31.000000      3\n",
       "2            AntonOsika/gpt-engineer  1102.333333     54\n",
       "3  D3Zyre/Copy-All-Files-From-Folder   113.000000      6\n",
       "4                      Delgan/loguru   269.000000      9"
      ]
     },
     "execution_count": 9,
     "metadata": {},
     "output_type": "execute_result"
    }
   ],
   "source": [
    "df_url_prompt = df_repo[\"TokensOfPrompts\"].aggregate([\"mean\", \"count\"]).reset_index()\n",
    "df_url_prompt.head()"
   ]
  },
  {
   "cell_type": "code",
   "execution_count": 10,
   "metadata": {},
   "outputs": [
    {
     "name": "stdout",
     "output_type": "stream",
     "text": [
      "Average length of prompt per pr: 1219.85\n",
      "Maximum number of prompt: 23410.0 from repo: MauriceLe/PIMS\n",
      "Minimum number of prompt: 10.0 from repo: Shreya-R-Dixit-Memorial-Foundation/EyeDaV2\n"
     ]
    }
   ],
   "source": [
    "idx_max = np.argmax(df_url_prompt[\"mean\"])\n",
    "idx_min = np.argmin(df_url_prompt[\"mean\"])\n",
    "\n",
    "print(\n",
    "    f\"Average length of prompt per pr: {np.mean(df_url_prompt[\"mean\"]):.2f}\\n\"\n",
    "    f\"Maximum number of prompt: {df_url_prompt[\"mean\"].iloc[idx_max]} from \"\n",
    "    f\"repo: {df_url_prompt[\"RepoName\"].iloc[idx_max]}\\n\"\n",
    "    f\"Minimum number of prompt: {df_url_prompt[\"mean\"].iloc[idx_min]} from \"\n",
    "    f\"repo: {df_url_prompt[\"RepoName\"].iloc[idx_min]}\"\n",
    ")"
   ]
  },
  {
   "cell_type": "code",
   "execution_count": 11,
   "metadata": {},
   "outputs": [
    {
     "data": {
      "text/html": [
       "\n",
       "<style>\n",
       "  #altair-viz-460fe56b552e44fb899f703add374cf9.vega-embed {\n",
       "    width: 100%;\n",
       "    display: flex;\n",
       "  }\n",
       "\n",
       "  #altair-viz-460fe56b552e44fb899f703add374cf9.vega-embed details,\n",
       "  #altair-viz-460fe56b552e44fb899f703add374cf9.vega-embed details summary {\n",
       "    position: relative;\n",
       "  }\n",
       "</style>\n",
       "<div id=\"altair-viz-460fe56b552e44fb899f703add374cf9\"></div>\n",
       "<script type=\"text/javascript\">\n",
       "  var VEGA_DEBUG = (typeof VEGA_DEBUG == \"undefined\") ? {} : VEGA_DEBUG;\n",
       "  (function(spec, embedOpt){\n",
       "    let outputDiv = document.currentScript.previousElementSibling;\n",
       "    if (outputDiv.id !== \"altair-viz-460fe56b552e44fb899f703add374cf9\") {\n",
       "      outputDiv = document.getElementById(\"altair-viz-460fe56b552e44fb899f703add374cf9\");\n",
       "    }\n",
       "\n",
       "    const paths = {\n",
       "      \"vega\": \"https://cdn.jsdelivr.net/npm/vega@5?noext\",\n",
       "      \"vega-lib\": \"https://cdn.jsdelivr.net/npm/vega-lib?noext\",\n",
       "      \"vega-lite\": \"https://cdn.jsdelivr.net/npm/vega-lite@5.20.1?noext\",\n",
       "      \"vega-embed\": \"https://cdn.jsdelivr.net/npm/vega-embed@6?noext\",\n",
       "    };\n",
       "\n",
       "    function maybeLoadScript(lib, version) {\n",
       "      var key = `${lib.replace(\"-\", \"\")}_version`;\n",
       "      return (VEGA_DEBUG[key] == version) ?\n",
       "        Promise.resolve(paths[lib]) :\n",
       "        new Promise(function(resolve, reject) {\n",
       "          var s = document.createElement('script');\n",
       "          document.getElementsByTagName(\"head\")[0].appendChild(s);\n",
       "          s.async = true;\n",
       "          s.onload = () => {\n",
       "            VEGA_DEBUG[key] = version;\n",
       "            return resolve(paths[lib]);\n",
       "          };\n",
       "          s.onerror = () => reject(`Error loading script: ${paths[lib]}`);\n",
       "          s.src = paths[lib];\n",
       "        });\n",
       "    }\n",
       "\n",
       "    function showError(err) {\n",
       "      outputDiv.innerHTML = `<div class=\"error\" style=\"color:red;\">${err}</div>`;\n",
       "      throw err;\n",
       "    }\n",
       "\n",
       "    function displayChart(vegaEmbed) {\n",
       "      vegaEmbed(outputDiv, spec, embedOpt)\n",
       "        .catch(err => showError(`Javascript Error: ${err.message}<br>This usually means there's a typo in your chart specification. See the javascript console for the full traceback.`));\n",
       "    }\n",
       "\n",
       "    if(typeof define === \"function\" && define.amd) {\n",
       "      requirejs.config({paths});\n",
       "      let deps = [\"vega-embed\"];\n",
       "      require(deps, displayChart, err => showError(`Error loading script: ${err.message}`));\n",
       "    } else {\n",
       "      maybeLoadScript(\"vega\", \"5\")\n",
       "        .then(() => maybeLoadScript(\"vega-lite\", \"5.20.1\"))\n",
       "        .then(() => maybeLoadScript(\"vega-embed\", \"6\"))\n",
       "        .catch(showError)\n",
       "        .then(() => displayChart(vegaEmbed));\n",
       "    }\n",
       "  })({\"config\": {\"view\": {\"continuousWidth\": 300, \"continuousHeight\": 300}}, \"layer\": [{\"mark\": {\"type\": \"bar\", \"size\": 5}, \"encoding\": {\"x\": {\"field\": \"mean\", \"title\": \"Length of Prompts (tokens)\", \"type\": \"nominal\"}, \"y\": {\"field\": \"count\", \"title\": \"Count\", \"type\": \"quantitative\"}}, \"title\": {\"text\": \"Distribution of the length of prompt with ChatGPT\", \"subtitle\": \"Pull Request\"}}, {\"mark\": {\"type\": \"rule\"}, \"encoding\": {\"x\": {\"aggregate\": \"mean\", \"axis\": {\"format\": \"2d\"}, \"field\": \"mean\", \"type\": \"nominal\"}}}], \"data\": {\"name\": \"data-d739b2b9c7962576ec0114fe5661046d\"}, \"$schema\": \"https://vega.github.io/schema/vega-lite/v5.20.1.json\", \"datasets\": {\"data-d739b2b9c7962576ec0114fe5661046d\": [{\"RepoName\": \"ActivityWatch/aw-server\", \"mean\": 116.0, \"count\": 3}, {\"RepoName\": \"AndyGrant/OpenBench\", \"mean\": 31.0, \"count\": 3}, {\"RepoName\": \"AntonOsika/gpt-engineer\", \"mean\": 1102.3333333333333, \"count\": 54}, {\"RepoName\": \"D3Zyre/Copy-All-Files-From-Folder\", \"mean\": 113.0, \"count\": 6}, {\"RepoName\": \"Delgan/loguru\", \"mean\": 269.0, \"count\": 9}, {\"RepoName\": \"Elucidation/mapf-multiagent-robot-planning\", \"mean\": 283.0, \"count\": 18}, {\"RepoName\": \"Email-Generation/email_generation\", \"mean\": 21133.0, \"count\": 501}, {\"RepoName\": \"GreyDGL/PentestGPT\", \"mean\": 4751.0, \"count\": 6}, {\"RepoName\": \"HaroldMitts/VoAIce\", \"mean\": 41.0, \"count\": 3}, {\"RepoName\": \"Hochfrequenz/kohlrahbi\", \"mean\": 17.0, \"count\": 3}, {\"RepoName\": \"MauriceLe/PIMS\", \"mean\": 23410.0, \"count\": 3}, {\"RepoName\": \"NA-MIC/ProjectWeek\", \"mean\": 25.0, \"count\": 3}, {\"RepoName\": \"OpenAdaptAI/OpenAdapt\", \"mean\": 85.03389830508475, \"count\": 59}, {\"RepoName\": \"PromtEngineer/localGPT\", \"mean\": 4393.0, \"count\": 39}, {\"RepoName\": \"RND247/Pype-Synthetic-Data-for-Testing\", \"mean\": 33.0, \"count\": 6}, {\"RepoName\": \"SafEight/wdm-project\", \"mean\": 84.0, \"count\": 6}, {\"RepoName\": \"Shreya-R-Dixit-Memorial-Foundation/EyeDaV2\", \"mean\": 10.0, \"count\": 3}, {\"RepoName\": \"Significant-Gravitas/Auto-GPT\", \"mean\": 44.0, \"count\": 3}, {\"RepoName\": \"SuffolkLITLab/docassemble-ALToolbox\", \"mean\": 49.0, \"count\": 9}, {\"RepoName\": \"aahnik/temple-web\", \"mean\": 121.0, \"count\": 3}, {\"RepoName\": \"aiplanethub/genai-stack\", \"mean\": 11.0, \"count\": 3}, {\"RepoName\": \"app-sre/qontract-reconcile\", \"mean\": 109.0, \"count\": 15}, {\"RepoName\": \"bancaditalia/black-it\", \"mean\": 341.0, \"count\": 3}, {\"RepoName\": \"bbelderbos/htmx-demo\", \"mean\": 340.0, \"count\": 9}, {\"RepoName\": \"chitalian/gptask\", \"mean\": 980.0, \"count\": 3}, {\"RepoName\": \"comfyanonymous/ComfyUI\", \"mean\": 28.0, \"count\": 3}, {\"RepoName\": \"davidusb-geek/emhass\", \"mean\": 363.0, \"count\": 9}, {\"RepoName\": \"dobbelina/repository.dobbelina\", \"mean\": 875.0, \"count\": 6}, {\"RepoName\": \"dtch1997/gpt-text-gym\", \"mean\": 1002.3636363636364, \"count\": 33}, {\"RepoName\": \"embedchain/embedchain\", \"mean\": 15.0, \"count\": 3}, {\"RepoName\": \"gorillamania/AICodeBot\", \"mean\": 321.0, \"count\": 30}, {\"RepoName\": \"icecube/pisa\", \"mean\": 55.0, \"count\": 3}, {\"RepoName\": \"internetarchive/openlibrary\", \"mean\": 855.0, \"count\": 9}, {\"RepoName\": \"jasonacox/Powerwall-Dashboard\", \"mean\": 482.6666666666667, \"count\": 18}, {\"RepoName\": \"jefftriplett/frontmatter-cli\", \"mean\": 485.0, \"count\": 18}, {\"RepoName\": \"karpathy/ng-video-lecture\", \"mean\": 295.0, \"count\": 6}, {\"RepoName\": \"kroitor/asciichart\", \"mean\": 1344.0, \"count\": 3}, {\"RepoName\": \"kukulich/home-assistant-jablotron100\", \"mean\": 64.0, \"count\": 3}, {\"RepoName\": \"langchain-ai/langchain\", \"mean\": 300.0, \"count\": 21}, {\"RepoName\": \"livingbio/gpt-fn\", \"mean\": 75.0, \"count\": 6}, {\"RepoName\": \"meltyyyyy/ICR-2023\", \"mean\": 432.0, \"count\": 18}, {\"RepoName\": \"mesonbuild/meson\", \"mean\": 14.0, \"count\": 3}, {\"RepoName\": \"metaphorsystems/metaphor-python\", \"mean\": 1655.0, \"count\": 6}, {\"RepoName\": \"microsoft/visionmetrics\", \"mean\": 10.0, \"count\": 3}, {\"RepoName\": \"monarch-initiative/oai-monarch-plugin\", \"mean\": 27.0, \"count\": 3}, {\"RepoName\": \"mpoon/gpt-repository-loader\", \"mean\": 782.0, \"count\": 3}, {\"RepoName\": \"mprib/pyxy3d\", \"mean\": 284.0, \"count\": 18}, {\"RepoName\": \"nuhmanpk/Webtrench\", \"mean\": 59.0, \"count\": 12}, {\"RepoName\": \"omegaui/linux-voice-control\", \"mean\": 1801.0, \"count\": 33}, {\"RepoName\": \"paul-gauthier/aider\", \"mean\": 15.5, \"count\": 6}, {\"RepoName\": \"related-sciences/nxontology-ml\", \"mean\": 1071.0, \"count\": 3}, {\"RepoName\": \"roslinmahmud/easy-hire-backend\", \"mean\": 26.0, \"count\": 3}, {\"RepoName\": \"simonw/asgi-proxy-lib\", \"mean\": 367.0, \"count\": 30}, {\"RepoName\": \"simonw/datasette-render-markdown\", \"mean\": 264.0, \"count\": 27}, {\"RepoName\": \"simonw/llm-replicate\", \"mean\": 120.0, \"count\": 6}, {\"RepoName\": \"simonw/sqlite-utils\", \"mean\": 106.0, \"count\": 18}, {\"RepoName\": \"simonw/symbex\", \"mean\": 267.2, \"count\": 30}, {\"RepoName\": \"simonw/ttok\", \"mean\": 440.0, \"count\": 3}, {\"RepoName\": \"sugi-01096/72\", \"mean\": 797.0, \"count\": 8}, {\"RepoName\": \"teremterem/botmerger\", \"mean\": 136.0, \"count\": 9}, {\"RepoName\": \"theonlysam/blackjack\", \"mean\": 15.0, \"count\": 3}, {\"RepoName\": \"tinygrad/tinygrad\", \"mean\": 2039.0, \"count\": 15}, {\"RepoName\": \"udayhello/handwritten1\", \"mean\": 4994.0, \"count\": 72}, {\"RepoName\": \"uuid6/prototypes\", \"mean\": 206.0, \"count\": 60}, {\"RepoName\": \"wafflestudio/wacruit-server\", \"mean\": 27.0, \"count\": 3}, {\"RepoName\": \"welfare-state-analytics/riksdagen-corpus\", \"mean\": 104.0, \"count\": 9}]}}, {\"mode\": \"vega-lite\"});\n",
       "</script>"
      ],
      "text/plain": [
       "alt.LayerChart(...)"
      ]
     },
     "execution_count": 11,
     "metadata": {},
     "output_type": "execute_result"
    }
   ],
   "source": [
    "# Checking histogarm\n",
    "inter_bar = alt.Chart(df_url_prompt).mark_bar(size=5).encode(\n",
    "    x=alt.X(\n",
    "        \"mean:N\",\n",
    "        title=\"Length of Prompts (tokens)\",\n",
    "    ),\n",
    "    y=alt.Y(\"count\", title=\"Count\"),\n",
    ").properties(\n",
    "    title={\n",
    "        \"text\": \"Distribution of the length of prompt with ChatGPT\",\n",
    "        \"subtitle\": \"Pull Request\"\n",
    "    }\n",
    ")\n",
    "\n",
    "rule = alt.Chart(df_url_prompt).mark_rule().encode(\n",
    "    x=alt.X(\n",
    "        'mean:N',\n",
    "        aggregate=\"mean\",\n",
    "        type='nominal',\n",
    "        axis=alt.Axis(format=\"2d\")\n",
    "    ),\n",
    ")\n",
    "\n",
    "alt.layer(inter_bar, rule)"
   ]
  },
  {
   "cell_type": "markdown",
   "metadata": {},
   "source": [
    "![](./graphs/prompt-general-hist.png)"
   ]
  },
  {
   "cell_type": "code",
   "execution_count": 12,
   "metadata": {},
   "outputs": [
    {
     "name": "stdout",
     "output_type": "stream",
     "text": [
      "Average length of prompt per pr after removing extreme data point: 913.49\n"
     ]
    },
    {
     "data": {
      "text/html": [
       "\n",
       "<style>\n",
       "  #altair-viz-5ae052f223eb43e5865a0935603b18c2.vega-embed {\n",
       "    width: 100%;\n",
       "    display: flex;\n",
       "  }\n",
       "\n",
       "  #altair-viz-5ae052f223eb43e5865a0935603b18c2.vega-embed details,\n",
       "  #altair-viz-5ae052f223eb43e5865a0935603b18c2.vega-embed details summary {\n",
       "    position: relative;\n",
       "  }\n",
       "</style>\n",
       "<div id=\"altair-viz-5ae052f223eb43e5865a0935603b18c2\"></div>\n",
       "<script type=\"text/javascript\">\n",
       "  var VEGA_DEBUG = (typeof VEGA_DEBUG == \"undefined\") ? {} : VEGA_DEBUG;\n",
       "  (function(spec, embedOpt){\n",
       "    let outputDiv = document.currentScript.previousElementSibling;\n",
       "    if (outputDiv.id !== \"altair-viz-5ae052f223eb43e5865a0935603b18c2\") {\n",
       "      outputDiv = document.getElementById(\"altair-viz-5ae052f223eb43e5865a0935603b18c2\");\n",
       "    }\n",
       "\n",
       "    const paths = {\n",
       "      \"vega\": \"https://cdn.jsdelivr.net/npm/vega@5?noext\",\n",
       "      \"vega-lib\": \"https://cdn.jsdelivr.net/npm/vega-lib?noext\",\n",
       "      \"vega-lite\": \"https://cdn.jsdelivr.net/npm/vega-lite@5.20.1?noext\",\n",
       "      \"vega-embed\": \"https://cdn.jsdelivr.net/npm/vega-embed@6?noext\",\n",
       "    };\n",
       "\n",
       "    function maybeLoadScript(lib, version) {\n",
       "      var key = `${lib.replace(\"-\", \"\")}_version`;\n",
       "      return (VEGA_DEBUG[key] == version) ?\n",
       "        Promise.resolve(paths[lib]) :\n",
       "        new Promise(function(resolve, reject) {\n",
       "          var s = document.createElement('script');\n",
       "          document.getElementsByTagName(\"head\")[0].appendChild(s);\n",
       "          s.async = true;\n",
       "          s.onload = () => {\n",
       "            VEGA_DEBUG[key] = version;\n",
       "            return resolve(paths[lib]);\n",
       "          };\n",
       "          s.onerror = () => reject(`Error loading script: ${paths[lib]}`);\n",
       "          s.src = paths[lib];\n",
       "        });\n",
       "    }\n",
       "\n",
       "    function showError(err) {\n",
       "      outputDiv.innerHTML = `<div class=\"error\" style=\"color:red;\">${err}</div>`;\n",
       "      throw err;\n",
       "    }\n",
       "\n",
       "    function displayChart(vegaEmbed) {\n",
       "      vegaEmbed(outputDiv, spec, embedOpt)\n",
       "        .catch(err => showError(`Javascript Error: ${err.message}<br>This usually means there's a typo in your chart specification. See the javascript console for the full traceback.`));\n",
       "    }\n",
       "\n",
       "    if(typeof define === \"function\" && define.amd) {\n",
       "      requirejs.config({paths});\n",
       "      let deps = [\"vega-embed\"];\n",
       "      require(deps, displayChart, err => showError(`Error loading script: ${err.message}`));\n",
       "    } else {\n",
       "      maybeLoadScript(\"vega\", \"5\")\n",
       "        .then(() => maybeLoadScript(\"vega-lite\", \"5.20.1\"))\n",
       "        .then(() => maybeLoadScript(\"vega-embed\", \"6\"))\n",
       "        .catch(showError)\n",
       "        .then(() => displayChart(vegaEmbed));\n",
       "    }\n",
       "  })({\"config\": {\"view\": {\"continuousWidth\": 300, \"continuousHeight\": 300}}, \"layer\": [{\"mark\": {\"type\": \"bar\", \"size\": 5}, \"encoding\": {\"x\": {\"field\": \"mean\", \"title\": \"Length of Prompts (tokens)\", \"type\": \"nominal\"}, \"y\": {\"field\": \"count\", \"title\": \"Count\", \"type\": \"quantitative\"}}, \"title\": {\"text\": \"Distribution of the length of prompts with ChatGPT\", \"subtitle\": \"Pull Request\"}}, {\"mark\": {\"type\": \"rule\"}, \"encoding\": {\"x\": {\"aggregate\": \"mean\", \"axis\": {\"format\": \"2d\"}, \"field\": \"mean\", \"type\": \"nominal\"}}}], \"data\": {\"name\": \"data-26039639684ec03905969218f964977d\"}, \"$schema\": \"https://vega.github.io/schema/vega-lite/v5.20.1.json\", \"datasets\": {\"data-26039639684ec03905969218f964977d\": [{\"RepoName\": \"ActivityWatch/aw-server\", \"mean\": 116.0, \"count\": 3}, {\"RepoName\": \"AndyGrant/OpenBench\", \"mean\": 31.0, \"count\": 3}, {\"RepoName\": \"AntonOsika/gpt-engineer\", \"mean\": 1102.3333333333333, \"count\": 54}, {\"RepoName\": \"D3Zyre/Copy-All-Files-From-Folder\", \"mean\": 113.0, \"count\": 6}, {\"RepoName\": \"Delgan/loguru\", \"mean\": 269.0, \"count\": 9}, {\"RepoName\": \"Elucidation/mapf-multiagent-robot-planning\", \"mean\": 283.0, \"count\": 18}, {\"RepoName\": \"GreyDGL/PentestGPT\", \"mean\": 4751.0, \"count\": 6}, {\"RepoName\": \"HaroldMitts/VoAIce\", \"mean\": 41.0, \"count\": 3}, {\"RepoName\": \"Hochfrequenz/kohlrahbi\", \"mean\": 17.0, \"count\": 3}, {\"RepoName\": \"MauriceLe/PIMS\", \"mean\": 23410.0, \"count\": 3}, {\"RepoName\": \"NA-MIC/ProjectWeek\", \"mean\": 25.0, \"count\": 3}, {\"RepoName\": \"OpenAdaptAI/OpenAdapt\", \"mean\": 85.03389830508475, \"count\": 59}, {\"RepoName\": \"PromtEngineer/localGPT\", \"mean\": 4393.0, \"count\": 39}, {\"RepoName\": \"RND247/Pype-Synthetic-Data-for-Testing\", \"mean\": 33.0, \"count\": 6}, {\"RepoName\": \"SafEight/wdm-project\", \"mean\": 84.0, \"count\": 6}, {\"RepoName\": \"Shreya-R-Dixit-Memorial-Foundation/EyeDaV2\", \"mean\": 10.0, \"count\": 3}, {\"RepoName\": \"Significant-Gravitas/Auto-GPT\", \"mean\": 44.0, \"count\": 3}, {\"RepoName\": \"SuffolkLITLab/docassemble-ALToolbox\", \"mean\": 49.0, \"count\": 9}, {\"RepoName\": \"aahnik/temple-web\", \"mean\": 121.0, \"count\": 3}, {\"RepoName\": \"aiplanethub/genai-stack\", \"mean\": 11.0, \"count\": 3}, {\"RepoName\": \"app-sre/qontract-reconcile\", \"mean\": 109.0, \"count\": 15}, {\"RepoName\": \"bancaditalia/black-it\", \"mean\": 341.0, \"count\": 3}, {\"RepoName\": \"bbelderbos/htmx-demo\", \"mean\": 340.0, \"count\": 9}, {\"RepoName\": \"chitalian/gptask\", \"mean\": 980.0, \"count\": 3}, {\"RepoName\": \"comfyanonymous/ComfyUI\", \"mean\": 28.0, \"count\": 3}, {\"RepoName\": \"davidusb-geek/emhass\", \"mean\": 363.0, \"count\": 9}, {\"RepoName\": \"dobbelina/repository.dobbelina\", \"mean\": 875.0, \"count\": 6}, {\"RepoName\": \"dtch1997/gpt-text-gym\", \"mean\": 1002.3636363636364, \"count\": 33}, {\"RepoName\": \"embedchain/embedchain\", \"mean\": 15.0, \"count\": 3}, {\"RepoName\": \"gorillamania/AICodeBot\", \"mean\": 321.0, \"count\": 30}, {\"RepoName\": \"icecube/pisa\", \"mean\": 55.0, \"count\": 3}, {\"RepoName\": \"internetarchive/openlibrary\", \"mean\": 855.0, \"count\": 9}, {\"RepoName\": \"jasonacox/Powerwall-Dashboard\", \"mean\": 482.6666666666667, \"count\": 18}, {\"RepoName\": \"jefftriplett/frontmatter-cli\", \"mean\": 485.0, \"count\": 18}, {\"RepoName\": \"karpathy/ng-video-lecture\", \"mean\": 295.0, \"count\": 6}, {\"RepoName\": \"kroitor/asciichart\", \"mean\": 1344.0, \"count\": 3}, {\"RepoName\": \"kukulich/home-assistant-jablotron100\", \"mean\": 64.0, \"count\": 3}, {\"RepoName\": \"langchain-ai/langchain\", \"mean\": 300.0, \"count\": 21}, {\"RepoName\": \"livingbio/gpt-fn\", \"mean\": 75.0, \"count\": 6}, {\"RepoName\": \"meltyyyyy/ICR-2023\", \"mean\": 432.0, \"count\": 18}, {\"RepoName\": \"mesonbuild/meson\", \"mean\": 14.0, \"count\": 3}, {\"RepoName\": \"metaphorsystems/metaphor-python\", \"mean\": 1655.0, \"count\": 6}, {\"RepoName\": \"microsoft/visionmetrics\", \"mean\": 10.0, \"count\": 3}, {\"RepoName\": \"monarch-initiative/oai-monarch-plugin\", \"mean\": 27.0, \"count\": 3}, {\"RepoName\": \"mpoon/gpt-repository-loader\", \"mean\": 782.0, \"count\": 3}, {\"RepoName\": \"mprib/pyxy3d\", \"mean\": 284.0, \"count\": 18}, {\"RepoName\": \"nuhmanpk/Webtrench\", \"mean\": 59.0, \"count\": 12}, {\"RepoName\": \"omegaui/linux-voice-control\", \"mean\": 1801.0, \"count\": 33}, {\"RepoName\": \"paul-gauthier/aider\", \"mean\": 15.5, \"count\": 6}, {\"RepoName\": \"related-sciences/nxontology-ml\", \"mean\": 1071.0, \"count\": 3}, {\"RepoName\": \"roslinmahmud/easy-hire-backend\", \"mean\": 26.0, \"count\": 3}, {\"RepoName\": \"simonw/asgi-proxy-lib\", \"mean\": 367.0, \"count\": 30}, {\"RepoName\": \"simonw/datasette-render-markdown\", \"mean\": 264.0, \"count\": 27}, {\"RepoName\": \"simonw/llm-replicate\", \"mean\": 120.0, \"count\": 6}, {\"RepoName\": \"simonw/sqlite-utils\", \"mean\": 106.0, \"count\": 18}, {\"RepoName\": \"simonw/symbex\", \"mean\": 267.2, \"count\": 30}, {\"RepoName\": \"simonw/ttok\", \"mean\": 440.0, \"count\": 3}, {\"RepoName\": \"sugi-01096/72\", \"mean\": 797.0, \"count\": 8}, {\"RepoName\": \"teremterem/botmerger\", \"mean\": 136.0, \"count\": 9}, {\"RepoName\": \"theonlysam/blackjack\", \"mean\": 15.0, \"count\": 3}, {\"RepoName\": \"tinygrad/tinygrad\", \"mean\": 2039.0, \"count\": 15}, {\"RepoName\": \"udayhello/handwritten1\", \"mean\": 4994.0, \"count\": 72}, {\"RepoName\": \"uuid6/prototypes\", \"mean\": 206.0, \"count\": 60}, {\"RepoName\": \"wafflestudio/wacruit-server\", \"mean\": 27.0, \"count\": 3}, {\"RepoName\": \"welfare-state-analytics/riksdagen-corpus\", \"mean\": 104.0, \"count\": 9}]}}, {\"mode\": \"vega-lite\"});\n",
       "</script>"
      ],
      "text/plain": [
       "alt.LayerChart(...)"
      ]
     },
     "execution_count": 12,
     "metadata": {},
     "output_type": "execute_result"
    }
   ],
   "source": [
    "# Checking histogarm -- remove extreme data point.\n",
    "bad = np.argmax(df_url_prompt[\"count\"])\n",
    "df_clean = df_url_prompt.loc[~df_url_prompt.index.isin([bad])]\n",
    "print(\n",
    "    f\"Average length of prompt per pr after removing extreme data point: \"\n",
    "    f\"{np.mean(df_clean[\"mean\"]):.2f}\"\n",
    "    )\n",
    "inter_bar = alt.Chart(df_clean).mark_bar(size=5).encode(\n",
    "    x=alt.X(\n",
    "        \"mean:N\",\n",
    "        title=\"Length of Prompts (tokens)\",\n",
    "    ),\n",
    "    y=alt.Y(\"count\", title=\"Count\"),\n",
    ").properties(\n",
    "    title={\n",
    "        \"text\": \"Distribution of the length of prompts with ChatGPT\",\n",
    "        \"subtitle\": \"Pull Request\"\n",
    "    }\n",
    ")\n",
    "\n",
    "rule = alt.Chart(df_clean).mark_rule().encode(\n",
    "    x=alt.X(\n",
    "        'mean:N',\n",
    "        aggregate=\"mean\",\n",
    "        type='nominal',\n",
    "        axis=alt.Axis(format=\"2d\")\n",
    "    ),\n",
    ")\n",
    "\n",
    "alt.layer(inter_bar, rule)"
   ]
  },
  {
   "cell_type": "markdown",
   "metadata": {},
   "source": [
    "![](./graphs/prompt-general-hist-remove.png)"
   ]
  },
  {
   "cell_type": "markdown",
   "metadata": {},
   "source": [
    "## Average Length of Answer\n",
    "\n",
    "Calculate the average length of answers (measured in tokens).\n",
    "\n",
    "Method:\n",
    "1. Leverage the grouped dataset.\n",
    "2. Calculate the average length of prompts using column `TokensOfAnswers`\n",
    "3. Check distribution of length of answers with ChatGPT using bar chart."
   ]
  },
  {
   "cell_type": "code",
   "execution_count": 13,
   "metadata": {},
   "outputs": [
    {
     "data": {
      "text/html": [
       "<div>\n",
       "<style scoped>\n",
       "    .dataframe tbody tr th:only-of-type {\n",
       "        vertical-align: middle;\n",
       "    }\n",
       "\n",
       "    .dataframe tbody tr th {\n",
       "        vertical-align: top;\n",
       "    }\n",
       "\n",
       "    .dataframe thead th {\n",
       "        text-align: right;\n",
       "    }\n",
       "</style>\n",
       "<table border=\"1\" class=\"dataframe\">\n",
       "  <thead>\n",
       "    <tr style=\"text-align: right;\">\n",
       "      <th></th>\n",
       "      <th>RepoName</th>\n",
       "      <th>mean</th>\n",
       "      <th>count</th>\n",
       "    </tr>\n",
       "  </thead>\n",
       "  <tbody>\n",
       "    <tr>\n",
       "      <th>0</th>\n",
       "      <td>ActivityWatch/aw-server</td>\n",
       "      <td>572.000000</td>\n",
       "      <td>3</td>\n",
       "    </tr>\n",
       "    <tr>\n",
       "      <th>1</th>\n",
       "      <td>AndyGrant/OpenBench</td>\n",
       "      <td>416.000000</td>\n",
       "      <td>3</td>\n",
       "    </tr>\n",
       "    <tr>\n",
       "      <th>2</th>\n",
       "      <td>AntonOsika/gpt-engineer</td>\n",
       "      <td>5111.666667</td>\n",
       "      <td>54</td>\n",
       "    </tr>\n",
       "    <tr>\n",
       "      <th>3</th>\n",
       "      <td>D3Zyre/Copy-All-Files-From-Folder</td>\n",
       "      <td>1104.000000</td>\n",
       "      <td>6</td>\n",
       "    </tr>\n",
       "    <tr>\n",
       "      <th>4</th>\n",
       "      <td>Delgan/loguru</td>\n",
       "      <td>1533.000000</td>\n",
       "      <td>9</td>\n",
       "    </tr>\n",
       "  </tbody>\n",
       "</table>\n",
       "</div>"
      ],
      "text/plain": [
       "                            RepoName         mean  count\n",
       "0            ActivityWatch/aw-server   572.000000      3\n",
       "1                AndyGrant/OpenBench   416.000000      3\n",
       "2            AntonOsika/gpt-engineer  5111.666667     54\n",
       "3  D3Zyre/Copy-All-Files-From-Folder  1104.000000      6\n",
       "4                      Delgan/loguru  1533.000000      9"
      ]
     },
     "execution_count": 13,
     "metadata": {},
     "output_type": "execute_result"
    }
   ],
   "source": [
    "df_url_ans = df_repo[\"TokensOfAnswers\"].aggregate([\"mean\", \"count\"]).reset_index()\n",
    "df_url_ans.head()"
   ]
  },
  {
   "cell_type": "code",
   "execution_count": 14,
   "metadata": {},
   "outputs": [
    {
     "name": "stdout",
     "output_type": "stream",
     "text": [
      "Average length of answers per pr: 2491.19\n",
      "Maximum number of answers: 49053.0 from repo: Email-Generation/email_generation\n",
      "Minimum number of answers: 30.0 from repo: related-sciences/nxontology-ml\n"
     ]
    }
   ],
   "source": [
    "idx_max = np.argmax(df_url_ans[\"mean\"])\n",
    "idx_min = np.argmin(df_url_ans[\"mean\"])\n",
    "\n",
    "print(\n",
    "    f\"Average length of answers per pr: {np.mean(df_url_ans[\"mean\"]):.2f}\\n\"\n",
    "    f\"Maximum number of answers: {df_url_ans[\"mean\"].iloc[idx_max]} from \"\n",
    "    f\"repo: {df_url_ans[\"RepoName\"].iloc[idx_max]}\\n\"\n",
    "    f\"Minimum number of answers: {df_url_ans[\"mean\"].iloc[idx_min]} from \"\n",
    "    f\"repo: {df_url_ans[\"RepoName\"].iloc[idx_min]}\"\n",
    ")"
   ]
  },
  {
   "cell_type": "code",
   "execution_count": 15,
   "metadata": {},
   "outputs": [
    {
     "data": {
      "text/html": [
       "\n",
       "<style>\n",
       "  #altair-viz-afed81817dab4fd9b01dc718946e4a3f.vega-embed {\n",
       "    width: 100%;\n",
       "    display: flex;\n",
       "  }\n",
       "\n",
       "  #altair-viz-afed81817dab4fd9b01dc718946e4a3f.vega-embed details,\n",
       "  #altair-viz-afed81817dab4fd9b01dc718946e4a3f.vega-embed details summary {\n",
       "    position: relative;\n",
       "  }\n",
       "</style>\n",
       "<div id=\"altair-viz-afed81817dab4fd9b01dc718946e4a3f\"></div>\n",
       "<script type=\"text/javascript\">\n",
       "  var VEGA_DEBUG = (typeof VEGA_DEBUG == \"undefined\") ? {} : VEGA_DEBUG;\n",
       "  (function(spec, embedOpt){\n",
       "    let outputDiv = document.currentScript.previousElementSibling;\n",
       "    if (outputDiv.id !== \"altair-viz-afed81817dab4fd9b01dc718946e4a3f\") {\n",
       "      outputDiv = document.getElementById(\"altair-viz-afed81817dab4fd9b01dc718946e4a3f\");\n",
       "    }\n",
       "\n",
       "    const paths = {\n",
       "      \"vega\": \"https://cdn.jsdelivr.net/npm/vega@5?noext\",\n",
       "      \"vega-lib\": \"https://cdn.jsdelivr.net/npm/vega-lib?noext\",\n",
       "      \"vega-lite\": \"https://cdn.jsdelivr.net/npm/vega-lite@5.20.1?noext\",\n",
       "      \"vega-embed\": \"https://cdn.jsdelivr.net/npm/vega-embed@6?noext\",\n",
       "    };\n",
       "\n",
       "    function maybeLoadScript(lib, version) {\n",
       "      var key = `${lib.replace(\"-\", \"\")}_version`;\n",
       "      return (VEGA_DEBUG[key] == version) ?\n",
       "        Promise.resolve(paths[lib]) :\n",
       "        new Promise(function(resolve, reject) {\n",
       "          var s = document.createElement('script');\n",
       "          document.getElementsByTagName(\"head\")[0].appendChild(s);\n",
       "          s.async = true;\n",
       "          s.onload = () => {\n",
       "            VEGA_DEBUG[key] = version;\n",
       "            return resolve(paths[lib]);\n",
       "          };\n",
       "          s.onerror = () => reject(`Error loading script: ${paths[lib]}`);\n",
       "          s.src = paths[lib];\n",
       "        });\n",
       "    }\n",
       "\n",
       "    function showError(err) {\n",
       "      outputDiv.innerHTML = `<div class=\"error\" style=\"color:red;\">${err}</div>`;\n",
       "      throw err;\n",
       "    }\n",
       "\n",
       "    function displayChart(vegaEmbed) {\n",
       "      vegaEmbed(outputDiv, spec, embedOpt)\n",
       "        .catch(err => showError(`Javascript Error: ${err.message}<br>This usually means there's a typo in your chart specification. See the javascript console for the full traceback.`));\n",
       "    }\n",
       "\n",
       "    if(typeof define === \"function\" && define.amd) {\n",
       "      requirejs.config({paths});\n",
       "      let deps = [\"vega-embed\"];\n",
       "      require(deps, displayChart, err => showError(`Error loading script: ${err.message}`));\n",
       "    } else {\n",
       "      maybeLoadScript(\"vega\", \"5\")\n",
       "        .then(() => maybeLoadScript(\"vega-lite\", \"5.20.1\"))\n",
       "        .then(() => maybeLoadScript(\"vega-embed\", \"6\"))\n",
       "        .catch(showError)\n",
       "        .then(() => displayChart(vegaEmbed));\n",
       "    }\n",
       "  })({\"config\": {\"view\": {\"continuousWidth\": 300, \"continuousHeight\": 300}}, \"layer\": [{\"mark\": {\"type\": \"bar\", \"size\": 5}, \"encoding\": {\"x\": {\"field\": \"mean\", \"title\": \"Length of Answers (tokens)\", \"type\": \"nominal\"}, \"y\": {\"field\": \"count\", \"title\": \"Count\", \"type\": \"quantitative\"}}, \"title\": {\"text\": \"Distribution of the length of answers with ChatGPT\", \"subtitle\": \"Pull Request\"}}, {\"mark\": {\"type\": \"rule\"}, \"encoding\": {\"x\": {\"aggregate\": \"mean\", \"axis\": {\"format\": \"2d\"}, \"field\": \"mean\", \"type\": \"nominal\"}}}], \"data\": {\"name\": \"data-5156680fabf01e9e84c2133293f45895\"}, \"$schema\": \"https://vega.github.io/schema/vega-lite/v5.20.1.json\", \"datasets\": {\"data-5156680fabf01e9e84c2133293f45895\": [{\"RepoName\": \"ActivityWatch/aw-server\", \"mean\": 572.0, \"count\": 3}, {\"RepoName\": \"AndyGrant/OpenBench\", \"mean\": 416.0, \"count\": 3}, {\"RepoName\": \"AntonOsika/gpt-engineer\", \"mean\": 5111.666666666667, \"count\": 54}, {\"RepoName\": \"D3Zyre/Copy-All-Files-From-Folder\", \"mean\": 1104.0, \"count\": 6}, {\"RepoName\": \"Delgan/loguru\", \"mean\": 1533.0, \"count\": 9}, {\"RepoName\": \"Elucidation/mapf-multiagent-robot-planning\", \"mean\": 2139.0, \"count\": 18}, {\"RepoName\": \"Email-Generation/email_generation\", \"mean\": 49053.0, \"count\": 501}, {\"RepoName\": \"GreyDGL/PentestGPT\", \"mean\": 4611.0, \"count\": 6}, {\"RepoName\": \"HaroldMitts/VoAIce\", \"mean\": 32.0, \"count\": 3}, {\"RepoName\": \"Hochfrequenz/kohlrahbi\", \"mean\": 267.0, \"count\": 3}, {\"RepoName\": \"MauriceLe/PIMS\", \"mean\": 23953.0, \"count\": 3}, {\"RepoName\": \"NA-MIC/ProjectWeek\", \"mean\": 458.0, \"count\": 3}, {\"RepoName\": \"OpenAdaptAI/OpenAdapt\", \"mean\": 2171.9491525423728, \"count\": 59}, {\"RepoName\": \"PromtEngineer/localGPT\", \"mean\": 3689.0, \"count\": 39}, {\"RepoName\": \"RND247/Pype-Synthetic-Data-for-Testing\", \"mean\": 761.0, \"count\": 6}, {\"RepoName\": \"SafEight/wdm-project\", \"mean\": 1051.0, \"count\": 6}, {\"RepoName\": \"Shreya-R-Dixit-Memorial-Foundation/EyeDaV2\", \"mean\": 285.0, \"count\": 3}, {\"RepoName\": \"Significant-Gravitas/Auto-GPT\", \"mean\": 201.0, \"count\": 3}, {\"RepoName\": \"SuffolkLITLab/docassemble-ALToolbox\", \"mean\": 1538.0, \"count\": 9}, {\"RepoName\": \"aahnik/temple-web\", \"mean\": 432.0, \"count\": 3}, {\"RepoName\": \"aiplanethub/genai-stack\", \"mean\": 410.0, \"count\": 3}, {\"RepoName\": \"app-sre/qontract-reconcile\", \"mean\": 1660.0, \"count\": 15}, {\"RepoName\": \"bancaditalia/black-it\", \"mean\": 522.0, \"count\": 3}, {\"RepoName\": \"bbelderbos/htmx-demo\", \"mean\": 941.0, \"count\": 9}, {\"RepoName\": \"chitalian/gptask\", \"mean\": 301.0, \"count\": 3}, {\"RepoName\": \"comfyanonymous/ComfyUI\", \"mean\": 488.0, \"count\": 3}, {\"RepoName\": \"davidusb-geek/emhass\", \"mean\": 545.0, \"count\": 9}, {\"RepoName\": \"dobbelina/repository.dobbelina\", \"mean\": 1610.0, \"count\": 6}, {\"RepoName\": \"dtch1997/gpt-text-gym\", \"mean\": 1452.6363636363637, \"count\": 33}, {\"RepoName\": \"embedchain/embedchain\", \"mean\": 134.0, \"count\": 3}, {\"RepoName\": \"gorillamania/AICodeBot\", \"mean\": 3827.0, \"count\": 30}, {\"RepoName\": \"icecube/pisa\", \"mean\": 572.0, \"count\": 3}, {\"RepoName\": \"internetarchive/openlibrary\", \"mean\": 1276.0, \"count\": 9}, {\"RepoName\": \"jasonacox/Powerwall-Dashboard\", \"mean\": 1833.6666666666667, \"count\": 18}, {\"RepoName\": \"jefftriplett/frontmatter-cli\", \"mean\": 1564.0, \"count\": 18}, {\"RepoName\": \"karpathy/ng-video-lecture\", \"mean\": 786.0, \"count\": 6}, {\"RepoName\": \"kroitor/asciichart\", \"mean\": 1370.0, \"count\": 3}, {\"RepoName\": \"kukulich/home-assistant-jablotron100\", \"mean\": 436.0, \"count\": 3}, {\"RepoName\": \"langchain-ai/langchain\", \"mean\": 1700.0, \"count\": 21}, {\"RepoName\": \"livingbio/gpt-fn\", \"mean\": 1091.0, \"count\": 6}, {\"RepoName\": \"meltyyyyy/ICR-2023\", \"mean\": 2205.0, \"count\": 18}, {\"RepoName\": \"mesonbuild/meson\", \"mean\": 117.0, \"count\": 3}, {\"RepoName\": \"metaphorsystems/metaphor-python\", \"mean\": 328.0, \"count\": 6}, {\"RepoName\": \"microsoft/visionmetrics\", \"mean\": 460.0, \"count\": 3}, {\"RepoName\": \"monarch-initiative/oai-monarch-plugin\", \"mean\": 100.0, \"count\": 3}, {\"RepoName\": \"mpoon/gpt-repository-loader\", \"mean\": 351.0, \"count\": 3}, {\"RepoName\": \"mprib/pyxy3d\", \"mean\": 720.0, \"count\": 18}, {\"RepoName\": \"nuhmanpk/Webtrench\", \"mean\": 1307.0, \"count\": 12}, {\"RepoName\": \"omegaui/linux-voice-control\", \"mean\": 2754.0, \"count\": 33}, {\"RepoName\": \"paul-gauthier/aider\", \"mean\": 237.0, \"count\": 6}, {\"RepoName\": \"related-sciences/nxontology-ml\", \"mean\": 30.0, \"count\": 3}, {\"RepoName\": \"roslinmahmud/easy-hire-backend\", \"mean\": 399.0, \"count\": 3}, {\"RepoName\": \"simonw/asgi-proxy-lib\", \"mean\": 4133.0, \"count\": 30}, {\"RepoName\": \"simonw/datasette-render-markdown\", \"mean\": 2761.0, \"count\": 27}, {\"RepoName\": \"simonw/llm-replicate\", \"mean\": 774.0, \"count\": 6}, {\"RepoName\": \"simonw/sqlite-utils\", \"mean\": 1148.0, \"count\": 18}, {\"RepoName\": \"simonw/symbex\", \"mean\": 729.2, \"count\": 30}, {\"RepoName\": \"simonw/ttok\", \"mean\": 446.0, \"count\": 3}, {\"RepoName\": \"sugi-01096/72\", \"mean\": 5251.5, \"count\": 8}, {\"RepoName\": \"teremterem/botmerger\", \"mean\": 1340.0, \"count\": 9}, {\"RepoName\": \"theonlysam/blackjack\", \"mean\": 609.0, \"count\": 3}, {\"RepoName\": \"tinygrad/tinygrad\", \"mean\": 2677.0, \"count\": 15}, {\"RepoName\": \"udayhello/handwritten1\", \"mean\": 9623.0, \"count\": 72}, {\"RepoName\": \"uuid6/prototypes\", \"mean\": 2636.0, \"count\": 60}, {\"RepoName\": \"wafflestudio/wacruit-server\", \"mean\": 236.0, \"count\": 3}, {\"RepoName\": \"welfare-state-analytics/riksdagen-corpus\", \"mean\": 1149.0, \"count\": 9}]}}, {\"mode\": \"vega-lite\"});\n",
       "</script>"
      ],
      "text/plain": [
       "alt.LayerChart(...)"
      ]
     },
     "execution_count": 15,
     "metadata": {},
     "output_type": "execute_result"
    }
   ],
   "source": [
    "# Checking histogarm\n",
    "inter_bar = alt.Chart(df_url_ans).mark_bar(size=5).encode(\n",
    "    x=alt.X(\n",
    "        \"mean:N\",\n",
    "        title=\"Length of Answers (tokens)\",\n",
    "    ),\n",
    "    y=alt.Y(\"count\", title=\"Count\"),\n",
    ").properties(\n",
    "    title={\n",
    "        \"text\": \"Distribution of the length of answers with ChatGPT\",\n",
    "        \"subtitle\": \"Pull Request\"\n",
    "    }\n",
    ")\n",
    "\n",
    "rule = alt.Chart(df_url_ans).mark_rule().encode(\n",
    "    x=alt.X(\n",
    "        'mean:N',\n",
    "        aggregate=\"mean\",\n",
    "        type='nominal',\n",
    "        axis=alt.Axis(format=\"2d\")\n",
    "    ),\n",
    ")\n",
    "\n",
    "alt.layer(inter_bar, rule)"
   ]
  },
  {
   "cell_type": "markdown",
   "metadata": {},
   "source": [
    "![](./graphs/answer-general-hist.png)"
   ]
  },
  {
   "cell_type": "code",
   "execution_count": 16,
   "metadata": {},
   "outputs": [
    {
     "name": "stdout",
     "output_type": "stream",
     "text": [
      "Average length of answers per pr after removing extreme data point: 1774.86\n"
     ]
    },
    {
     "data": {
      "text/html": [
       "\n",
       "<style>\n",
       "  #altair-viz-e7b82ec03270401fa66da58d612211f2.vega-embed {\n",
       "    width: 100%;\n",
       "    display: flex;\n",
       "  }\n",
       "\n",
       "  #altair-viz-e7b82ec03270401fa66da58d612211f2.vega-embed details,\n",
       "  #altair-viz-e7b82ec03270401fa66da58d612211f2.vega-embed details summary {\n",
       "    position: relative;\n",
       "  }\n",
       "</style>\n",
       "<div id=\"altair-viz-e7b82ec03270401fa66da58d612211f2\"></div>\n",
       "<script type=\"text/javascript\">\n",
       "  var VEGA_DEBUG = (typeof VEGA_DEBUG == \"undefined\") ? {} : VEGA_DEBUG;\n",
       "  (function(spec, embedOpt){\n",
       "    let outputDiv = document.currentScript.previousElementSibling;\n",
       "    if (outputDiv.id !== \"altair-viz-e7b82ec03270401fa66da58d612211f2\") {\n",
       "      outputDiv = document.getElementById(\"altair-viz-e7b82ec03270401fa66da58d612211f2\");\n",
       "    }\n",
       "\n",
       "    const paths = {\n",
       "      \"vega\": \"https://cdn.jsdelivr.net/npm/vega@5?noext\",\n",
       "      \"vega-lib\": \"https://cdn.jsdelivr.net/npm/vega-lib?noext\",\n",
       "      \"vega-lite\": \"https://cdn.jsdelivr.net/npm/vega-lite@5.20.1?noext\",\n",
       "      \"vega-embed\": \"https://cdn.jsdelivr.net/npm/vega-embed@6?noext\",\n",
       "    };\n",
       "\n",
       "    function maybeLoadScript(lib, version) {\n",
       "      var key = `${lib.replace(\"-\", \"\")}_version`;\n",
       "      return (VEGA_DEBUG[key] == version) ?\n",
       "        Promise.resolve(paths[lib]) :\n",
       "        new Promise(function(resolve, reject) {\n",
       "          var s = document.createElement('script');\n",
       "          document.getElementsByTagName(\"head\")[0].appendChild(s);\n",
       "          s.async = true;\n",
       "          s.onload = () => {\n",
       "            VEGA_DEBUG[key] = version;\n",
       "            return resolve(paths[lib]);\n",
       "          };\n",
       "          s.onerror = () => reject(`Error loading script: ${paths[lib]}`);\n",
       "          s.src = paths[lib];\n",
       "        });\n",
       "    }\n",
       "\n",
       "    function showError(err) {\n",
       "      outputDiv.innerHTML = `<div class=\"error\" style=\"color:red;\">${err}</div>`;\n",
       "      throw err;\n",
       "    }\n",
       "\n",
       "    function displayChart(vegaEmbed) {\n",
       "      vegaEmbed(outputDiv, spec, embedOpt)\n",
       "        .catch(err => showError(`Javascript Error: ${err.message}<br>This usually means there's a typo in your chart specification. See the javascript console for the full traceback.`));\n",
       "    }\n",
       "\n",
       "    if(typeof define === \"function\" && define.amd) {\n",
       "      requirejs.config({paths});\n",
       "      let deps = [\"vega-embed\"];\n",
       "      require(deps, displayChart, err => showError(`Error loading script: ${err.message}`));\n",
       "    } else {\n",
       "      maybeLoadScript(\"vega\", \"5\")\n",
       "        .then(() => maybeLoadScript(\"vega-lite\", \"5.20.1\"))\n",
       "        .then(() => maybeLoadScript(\"vega-embed\", \"6\"))\n",
       "        .catch(showError)\n",
       "        .then(() => displayChart(vegaEmbed));\n",
       "    }\n",
       "  })({\"config\": {\"view\": {\"continuousWidth\": 300, \"continuousHeight\": 300}}, \"layer\": [{\"mark\": {\"type\": \"bar\", \"size\": 5}, \"encoding\": {\"x\": {\"field\": \"mean\", \"title\": \"Length of Answers (tokens)\", \"type\": \"nominal\"}, \"y\": {\"field\": \"count\", \"title\": \"Count\", \"type\": \"quantitative\"}}, \"title\": {\"text\": \"Distribution of the length of answers with ChatGPT\", \"subtitle\": \"Pull Request\"}}, {\"mark\": {\"type\": \"rule\"}, \"encoding\": {\"x\": {\"aggregate\": \"mean\", \"axis\": {\"format\": \"2d\"}, \"field\": \"mean\", \"type\": \"nominal\"}}}], \"data\": {\"name\": \"data-84db7dcc8fce80ec0da988eca311fbe5\"}, \"$schema\": \"https://vega.github.io/schema/vega-lite/v5.20.1.json\", \"datasets\": {\"data-84db7dcc8fce80ec0da988eca311fbe5\": [{\"RepoName\": \"ActivityWatch/aw-server\", \"mean\": 572.0, \"count\": 3}, {\"RepoName\": \"AndyGrant/OpenBench\", \"mean\": 416.0, \"count\": 3}, {\"RepoName\": \"AntonOsika/gpt-engineer\", \"mean\": 5111.666666666667, \"count\": 54}, {\"RepoName\": \"D3Zyre/Copy-All-Files-From-Folder\", \"mean\": 1104.0, \"count\": 6}, {\"RepoName\": \"Delgan/loguru\", \"mean\": 1533.0, \"count\": 9}, {\"RepoName\": \"Elucidation/mapf-multiagent-robot-planning\", \"mean\": 2139.0, \"count\": 18}, {\"RepoName\": \"GreyDGL/PentestGPT\", \"mean\": 4611.0, \"count\": 6}, {\"RepoName\": \"HaroldMitts/VoAIce\", \"mean\": 32.0, \"count\": 3}, {\"RepoName\": \"Hochfrequenz/kohlrahbi\", \"mean\": 267.0, \"count\": 3}, {\"RepoName\": \"MauriceLe/PIMS\", \"mean\": 23953.0, \"count\": 3}, {\"RepoName\": \"NA-MIC/ProjectWeek\", \"mean\": 458.0, \"count\": 3}, {\"RepoName\": \"OpenAdaptAI/OpenAdapt\", \"mean\": 2171.9491525423728, \"count\": 59}, {\"RepoName\": \"PromtEngineer/localGPT\", \"mean\": 3689.0, \"count\": 39}, {\"RepoName\": \"RND247/Pype-Synthetic-Data-for-Testing\", \"mean\": 761.0, \"count\": 6}, {\"RepoName\": \"SafEight/wdm-project\", \"mean\": 1051.0, \"count\": 6}, {\"RepoName\": \"Shreya-R-Dixit-Memorial-Foundation/EyeDaV2\", \"mean\": 285.0, \"count\": 3}, {\"RepoName\": \"Significant-Gravitas/Auto-GPT\", \"mean\": 201.0, \"count\": 3}, {\"RepoName\": \"SuffolkLITLab/docassemble-ALToolbox\", \"mean\": 1538.0, \"count\": 9}, {\"RepoName\": \"aahnik/temple-web\", \"mean\": 432.0, \"count\": 3}, {\"RepoName\": \"aiplanethub/genai-stack\", \"mean\": 410.0, \"count\": 3}, {\"RepoName\": \"app-sre/qontract-reconcile\", \"mean\": 1660.0, \"count\": 15}, {\"RepoName\": \"bancaditalia/black-it\", \"mean\": 522.0, \"count\": 3}, {\"RepoName\": \"bbelderbos/htmx-demo\", \"mean\": 941.0, \"count\": 9}, {\"RepoName\": \"chitalian/gptask\", \"mean\": 301.0, \"count\": 3}, {\"RepoName\": \"comfyanonymous/ComfyUI\", \"mean\": 488.0, \"count\": 3}, {\"RepoName\": \"davidusb-geek/emhass\", \"mean\": 545.0, \"count\": 9}, {\"RepoName\": \"dobbelina/repository.dobbelina\", \"mean\": 1610.0, \"count\": 6}, {\"RepoName\": \"dtch1997/gpt-text-gym\", \"mean\": 1452.6363636363637, \"count\": 33}, {\"RepoName\": \"embedchain/embedchain\", \"mean\": 134.0, \"count\": 3}, {\"RepoName\": \"gorillamania/AICodeBot\", \"mean\": 3827.0, \"count\": 30}, {\"RepoName\": \"icecube/pisa\", \"mean\": 572.0, \"count\": 3}, {\"RepoName\": \"internetarchive/openlibrary\", \"mean\": 1276.0, \"count\": 9}, {\"RepoName\": \"jasonacox/Powerwall-Dashboard\", \"mean\": 1833.6666666666667, \"count\": 18}, {\"RepoName\": \"jefftriplett/frontmatter-cli\", \"mean\": 1564.0, \"count\": 18}, {\"RepoName\": \"karpathy/ng-video-lecture\", \"mean\": 786.0, \"count\": 6}, {\"RepoName\": \"kroitor/asciichart\", \"mean\": 1370.0, \"count\": 3}, {\"RepoName\": \"kukulich/home-assistant-jablotron100\", \"mean\": 436.0, \"count\": 3}, {\"RepoName\": \"langchain-ai/langchain\", \"mean\": 1700.0, \"count\": 21}, {\"RepoName\": \"livingbio/gpt-fn\", \"mean\": 1091.0, \"count\": 6}, {\"RepoName\": \"meltyyyyy/ICR-2023\", \"mean\": 2205.0, \"count\": 18}, {\"RepoName\": \"mesonbuild/meson\", \"mean\": 117.0, \"count\": 3}, {\"RepoName\": \"metaphorsystems/metaphor-python\", \"mean\": 328.0, \"count\": 6}, {\"RepoName\": \"microsoft/visionmetrics\", \"mean\": 460.0, \"count\": 3}, {\"RepoName\": \"monarch-initiative/oai-monarch-plugin\", \"mean\": 100.0, \"count\": 3}, {\"RepoName\": \"mpoon/gpt-repository-loader\", \"mean\": 351.0, \"count\": 3}, {\"RepoName\": \"mprib/pyxy3d\", \"mean\": 720.0, \"count\": 18}, {\"RepoName\": \"nuhmanpk/Webtrench\", \"mean\": 1307.0, \"count\": 12}, {\"RepoName\": \"omegaui/linux-voice-control\", \"mean\": 2754.0, \"count\": 33}, {\"RepoName\": \"paul-gauthier/aider\", \"mean\": 237.0, \"count\": 6}, {\"RepoName\": \"related-sciences/nxontology-ml\", \"mean\": 30.0, \"count\": 3}, {\"RepoName\": \"roslinmahmud/easy-hire-backend\", \"mean\": 399.0, \"count\": 3}, {\"RepoName\": \"simonw/asgi-proxy-lib\", \"mean\": 4133.0, \"count\": 30}, {\"RepoName\": \"simonw/datasette-render-markdown\", \"mean\": 2761.0, \"count\": 27}, {\"RepoName\": \"simonw/llm-replicate\", \"mean\": 774.0, \"count\": 6}, {\"RepoName\": \"simonw/sqlite-utils\", \"mean\": 1148.0, \"count\": 18}, {\"RepoName\": \"simonw/symbex\", \"mean\": 729.2, \"count\": 30}, {\"RepoName\": \"simonw/ttok\", \"mean\": 446.0, \"count\": 3}, {\"RepoName\": \"sugi-01096/72\", \"mean\": 5251.5, \"count\": 8}, {\"RepoName\": \"teremterem/botmerger\", \"mean\": 1340.0, \"count\": 9}, {\"RepoName\": \"theonlysam/blackjack\", \"mean\": 609.0, \"count\": 3}, {\"RepoName\": \"tinygrad/tinygrad\", \"mean\": 2677.0, \"count\": 15}, {\"RepoName\": \"udayhello/handwritten1\", \"mean\": 9623.0, \"count\": 72}, {\"RepoName\": \"uuid6/prototypes\", \"mean\": 2636.0, \"count\": 60}, {\"RepoName\": \"wafflestudio/wacruit-server\", \"mean\": 236.0, \"count\": 3}, {\"RepoName\": \"welfare-state-analytics/riksdagen-corpus\", \"mean\": 1149.0, \"count\": 9}]}}, {\"mode\": \"vega-lite\"});\n",
       "</script>"
      ],
      "text/plain": [
       "alt.LayerChart(...)"
      ]
     },
     "execution_count": 16,
     "metadata": {},
     "output_type": "execute_result"
    }
   ],
   "source": [
    "# Checking histogarm -- remove extreme data point.\n",
    "bad = np.argmax(df_url_ans[\"count\"])\n",
    "df_clean = df_url_ans.loc[~df_url_ans.index.isin([bad])]\n",
    "print(\n",
    "    f\"Average length of answers per pr after removing extreme data point: \"\n",
    "    f\"{np.mean(df_clean[\"mean\"]):.2f}\"\n",
    "    )\n",
    "inter_bar = alt.Chart(df_clean).mark_bar(size=5).encode(\n",
    "    x=alt.X(\n",
    "        \"mean:N\",\n",
    "        title=\"Length of Answers (tokens)\",\n",
    "    ),\n",
    "    y=alt.Y(\"count\", title=\"Count\"),\n",
    ").properties(\n",
    "    title={\n",
    "        \"text\": \"Distribution of the length of answers with ChatGPT\",\n",
    "        \"subtitle\": \"Pull Request\"\n",
    "    }\n",
    ")\n",
    "\n",
    "rule = alt.Chart(df_clean).mark_rule().encode(\n",
    "    x=alt.X(\n",
    "        'mean:N',\n",
    "        aggregate=\"mean\",\n",
    "        type='nominal',\n",
    "        axis=alt.Axis(format=\"2d\")\n",
    "    ),\n",
    ")\n",
    "\n",
    "alt.layer(inter_bar, rule)"
   ]
  },
  {
   "cell_type": "markdown",
   "metadata": {},
   "source": [
    "![](./graphs/answer-general-hist-remove.png)"
   ]
  }
 ],
 "metadata": {
  "kernelspec": {
   "display_name": "Python 3 (ipykernel)",
   "language": "python",
   "name": "python3"
  },
  "language_info": {
   "codemirror_mode": {
    "name": "ipython",
    "version": 3
   },
   "file_extension": ".py",
   "mimetype": "text/x-python",
   "name": "python",
   "nbconvert_exporter": "python",
   "pygments_lexer": "ipython3",
   "version": "3.12.2"
  }
 },
 "nbformat": 4,
 "nbformat_minor": 4
}
