{
 "cells": [
  {
   "cell_type": "markdown",
   "metadata": {},
   "source": [
    "# Data Analysis - Issues data (Python + English + snapshot_20230727)"
   ]
  },
  {
   "cell_type": "markdown",
   "metadata": {},
   "source": [
    "## Table of Contents\n",
    "- [1. Data Profiling](#1.Data-Profiling)\n",
    "- [2: Data Preparation](#2.Data-Preparation)\n",
    "- [3. Data Analysis](#3.Data-Analysis)"
   ]
  },
  {
   "cell_type": "markdown",
   "metadata": {},
   "source": [
    "## 1.Data-Profiling"
   ]
  },
  {
   "cell_type": "markdown",
   "metadata": {},
   "source": [
    "### Load data"
   ]
  },
  {
   "cell_type": "code",
   "execution_count": 1,
   "metadata": {},
   "outputs": [],
   "source": [
    "import pandas as pd\n",
    "import os\n",
    "import altair as alt # For visualization\n",
    "from langdetect import detect, DetectorFactory # For Natural Language detection"
   ]
  },
  {
   "cell_type": "code",
   "execution_count": 2,
   "metadata": {},
   "outputs": [
    {
     "name": "stdout",
     "output_type": "stream",
     "text": [
      "<class 'pandas.core.frame.DataFrame'>\n",
      "Index: 2906 entries, 0 to 2905\n",
      "Data columns (total 32 columns):\n",
      " #   Column                Non-Null Count  Dtype  \n",
      "---  ------                --------------  -----  \n",
      " 0   Type                  2906 non-null   object \n",
      " 1   URL_issue             2906 non-null   object \n",
      " 2   Author                2906 non-null   object \n",
      " 3   RepoName              2906 non-null   object \n",
      " 4   RepoLanguage          1703 non-null   object \n",
      " 5   Number                2906 non-null   int64  \n",
      " 6   Title_x               2906 non-null   object \n",
      " 7   Body                  2886 non-null   object \n",
      " 8   CreatedAt             2906 non-null   object \n",
      " 9   ClosedAt              1531 non-null   object \n",
      " 10  UpdatedAt             2906 non-null   object \n",
      " 11  State                 2906 non-null   object \n",
      " 12  source_date           2906 non-null   int64  \n",
      " 13  URL_chatgptsharing_x  2906 non-null   object \n",
      " 14  Status                2906 non-null   int64  \n",
      " 15  DateOfConversation    2580 non-null   object \n",
      " 16  DateOfAccess          2580 non-null   object \n",
      " 17  Title_y               2570 non-null   object \n",
      " 18  NumberOfPrompts       2580 non-null   float64\n",
      " 19  TokensOfPrompts       2580 non-null   float64\n",
      " 20  TokensOfAnswers       2580 non-null   float64\n",
      " 21  Model                 2580 non-null   object \n",
      " 22  HTMLContent           2580 non-null   object \n",
      " 23  URL_chatgptsharing_y  2906 non-null   object \n",
      " 24  MentionedURL          2906 non-null   object \n",
      " 25  MentionedProperty     2906 non-null   object \n",
      " 26  MentionedAuthor       2906 non-null   object \n",
      " 27  MentionedText         2906 non-null   object \n",
      " 28  URL_chatgptsharing    2878 non-null   object \n",
      " 29  Prompt                2876 non-null   object \n",
      " 30  Answer                2878 non-null   object \n",
      " 31  ListOfCode            2878 non-null   object \n",
      "dtypes: float64(3), int64(3), object(26)\n",
      "memory usage: 749.2+ KB\n"
     ]
    }
   ],
   "source": [
    "# Read csv file\n",
    "dir_path = \"C:/Users/amali/Winter Term 2/DATA_542_Data Wrangling/Project/Data/DevGPT/cleaned/\"\n",
    "\n",
    "df = pd.read_csv(os.path.join(dir_path, \"issue_total.csv\"), index_col = 0)\n",
    "df.info()"
   ]
  },
  {
   "cell_type": "code",
   "execution_count": 3,
   "metadata": {},
   "outputs": [
    {
     "data": {
      "text/html": [
       "<div>\n",
       "<style scoped>\n",
       "    .dataframe tbody tr th:only-of-type {\n",
       "        vertical-align: middle;\n",
       "    }\n",
       "\n",
       "    .dataframe tbody tr th {\n",
       "        vertical-align: top;\n",
       "    }\n",
       "\n",
       "    .dataframe thead th {\n",
       "        text-align: right;\n",
       "    }\n",
       "</style>\n",
       "<table border=\"1\" class=\"dataframe\">\n",
       "  <thead>\n",
       "    <tr style=\"text-align: right;\">\n",
       "      <th></th>\n",
       "      <th>Number</th>\n",
       "      <th>source_date</th>\n",
       "      <th>Status</th>\n",
       "      <th>NumberOfPrompts</th>\n",
       "      <th>TokensOfPrompts</th>\n",
       "      <th>TokensOfAnswers</th>\n",
       "    </tr>\n",
       "  </thead>\n",
       "  <tbody>\n",
       "    <tr>\n",
       "      <th>count</th>\n",
       "      <td>2906.000000</td>\n",
       "      <td>2906.0</td>\n",
       "      <td>2906.000000</td>\n",
       "      <td>2580.000000</td>\n",
       "      <td>2580.000000</td>\n",
       "      <td>2580.000000</td>\n",
       "    </tr>\n",
       "    <tr>\n",
       "      <th>mean</th>\n",
       "      <td>487.352719</td>\n",
       "      <td>20230727.0</td>\n",
       "      <td>222.885065</td>\n",
       "      <td>9.909302</td>\n",
       "      <td>1459.981783</td>\n",
       "      <td>4400.686047</td>\n",
       "    </tr>\n",
       "    <tr>\n",
       "      <th>std</th>\n",
       "      <td>4829.640568</td>\n",
       "      <td>0.0</td>\n",
       "      <td>64.391412</td>\n",
       "      <td>18.312491</td>\n",
       "      <td>3996.210906</td>\n",
       "      <td>9069.977740</td>\n",
       "    </tr>\n",
       "    <tr>\n",
       "      <th>min</th>\n",
       "      <td>1.000000</td>\n",
       "      <td>20230727.0</td>\n",
       "      <td>200.000000</td>\n",
       "      <td>1.000000</td>\n",
       "      <td>8.000000</td>\n",
       "      <td>30.000000</td>\n",
       "    </tr>\n",
       "    <tr>\n",
       "      <th>25%</th>\n",
       "      <td>4.000000</td>\n",
       "      <td>20230727.0</td>\n",
       "      <td>200.000000</td>\n",
       "      <td>1.000000</td>\n",
       "      <td>16.000000</td>\n",
       "      <td>407.000000</td>\n",
       "    </tr>\n",
       "    <tr>\n",
       "      <th>50%</th>\n",
       "      <td>78.000000</td>\n",
       "      <td>20230727.0</td>\n",
       "      <td>200.000000</td>\n",
       "      <td>2.000000</td>\n",
       "      <td>83.000000</td>\n",
       "      <td>723.500000</td>\n",
       "    </tr>\n",
       "    <tr>\n",
       "      <th>75%</th>\n",
       "      <td>198.000000</td>\n",
       "      <td>20230727.0</td>\n",
       "      <td>200.000000</td>\n",
       "      <td>10.000000</td>\n",
       "      <td>807.000000</td>\n",
       "      <td>3862.000000</td>\n",
       "    </tr>\n",
       "    <tr>\n",
       "      <th>max</th>\n",
       "      <td>126891.000000</td>\n",
       "      <td>20230727.0</td>\n",
       "      <td>404.000000</td>\n",
       "      <td>88.000000</td>\n",
       "      <td>23410.000000</td>\n",
       "      <td>45033.000000</td>\n",
       "    </tr>\n",
       "  </tbody>\n",
       "</table>\n",
       "</div>"
      ],
      "text/plain": [
       "              Number  source_date       Status  NumberOfPrompts  \\\n",
       "count    2906.000000       2906.0  2906.000000      2580.000000   \n",
       "mean      487.352719   20230727.0   222.885065         9.909302   \n",
       "std      4829.640568          0.0    64.391412        18.312491   \n",
       "min         1.000000   20230727.0   200.000000         1.000000   \n",
       "25%         4.000000   20230727.0   200.000000         1.000000   \n",
       "50%        78.000000   20230727.0   200.000000         2.000000   \n",
       "75%       198.000000   20230727.0   200.000000        10.000000   \n",
       "max    126891.000000   20230727.0   404.000000        88.000000   \n",
       "\n",
       "       TokensOfPrompts  TokensOfAnswers  \n",
       "count      2580.000000      2580.000000  \n",
       "mean       1459.981783      4400.686047  \n",
       "std        3996.210906      9069.977740  \n",
       "min           8.000000        30.000000  \n",
       "25%          16.000000       407.000000  \n",
       "50%          83.000000       723.500000  \n",
       "75%         807.000000      3862.000000  \n",
       "max       23410.000000     45033.000000  "
      ]
     },
     "execution_count": 3,
     "metadata": {},
     "output_type": "execute_result"
    }
   ],
   "source": [
    "df.describe()"
   ]
  },
  {
   "cell_type": "markdown",
   "metadata": {},
   "source": [
    "### Missing Values"
   ]
  },
  {
   "cell_type": "code",
   "execution_count": 4,
   "metadata": {},
   "outputs": [
    {
     "data": {
      "text/plain": [
       "Type                       0\n",
       "URL_issue                  0\n",
       "Author                     0\n",
       "RepoName                   0\n",
       "RepoLanguage            1203\n",
       "Number                     0\n",
       "Title_x                    0\n",
       "Body                      20\n",
       "CreatedAt                  0\n",
       "ClosedAt                1375\n",
       "UpdatedAt                  0\n",
       "State                      0\n",
       "source_date                0\n",
       "URL_chatgptsharing_x       0\n",
       "Status                     0\n",
       "DateOfConversation       326\n",
       "DateOfAccess             326\n",
       "Title_y                  336\n",
       "NumberOfPrompts          326\n",
       "TokensOfPrompts          326\n",
       "TokensOfAnswers          326\n",
       "Model                    326\n",
       "HTMLContent              326\n",
       "URL_chatgptsharing_y       0\n",
       "MentionedURL               0\n",
       "MentionedProperty          0\n",
       "MentionedAuthor            0\n",
       "MentionedText              0\n",
       "URL_chatgptsharing        28\n",
       "Prompt                    30\n",
       "Answer                    28\n",
       "ListOfCode                28\n",
       "dtype: int64"
      ]
     },
     "execution_count": 4,
     "metadata": {},
     "output_type": "execute_result"
    }
   ],
   "source": [
    "#Check if Null values present\n",
    "df.isnull().sum()"
   ]
  },
  {
   "cell_type": "code",
   "execution_count": 5,
   "metadata": {},
   "outputs": [
    {
     "name": "stdout",
     "output_type": "stream",
     "text": [
      "<class 'pandas.core.frame.DataFrame'>\n",
      "Index: 463 entries, 904 to 2905\n",
      "Data columns (total 32 columns):\n",
      " #   Column                Non-Null Count  Dtype  \n",
      "---  ------                --------------  -----  \n",
      " 0   Type                  463 non-null    object \n",
      " 1   URL_issue             463 non-null    object \n",
      " 2   Author                463 non-null    object \n",
      " 3   RepoName              463 non-null    object \n",
      " 4   RepoLanguage          463 non-null    object \n",
      " 5   Number                463 non-null    int64  \n",
      " 6   Title_x               463 non-null    object \n",
      " 7   Body                  463 non-null    object \n",
      " 8   CreatedAt             463 non-null    object \n",
      " 9   ClosedAt              463 non-null    object \n",
      " 10  UpdatedAt             463 non-null    object \n",
      " 11  State                 463 non-null    object \n",
      " 12  source_date           463 non-null    int64  \n",
      " 13  URL_chatgptsharing_x  463 non-null    object \n",
      " 14  Status                463 non-null    int64  \n",
      " 15  DateOfConversation    463 non-null    object \n",
      " 16  DateOfAccess          463 non-null    object \n",
      " 17  Title_y               463 non-null    object \n",
      " 18  NumberOfPrompts       463 non-null    float64\n",
      " 19  TokensOfPrompts       463 non-null    float64\n",
      " 20  TokensOfAnswers       463 non-null    float64\n",
      " 21  Model                 463 non-null    object \n",
      " 22  HTMLContent           463 non-null    object \n",
      " 23  URL_chatgptsharing_y  463 non-null    object \n",
      " 24  MentionedURL          463 non-null    object \n",
      " 25  MentionedProperty     463 non-null    object \n",
      " 26  MentionedAuthor       463 non-null    object \n",
      " 27  MentionedText         463 non-null    object \n",
      " 28  URL_chatgptsharing    463 non-null    object \n",
      " 29  Prompt                463 non-null    object \n",
      " 30  Answer                463 non-null    object \n",
      " 31  ListOfCode            463 non-null    object \n",
      "dtypes: float64(3), int64(3), object(26)\n",
      "memory usage: 119.4+ KB\n"
     ]
    }
   ],
   "source": [
    "# Drop missing values\n",
    "df.dropna(inplace = True)\n",
    "df.info()"
   ]
  },
  {
   "cell_type": "code",
   "execution_count": 6,
   "metadata": {},
   "outputs": [
    {
     "data": {
      "text/plain": [
       "Type                    0\n",
       "URL_issue               0\n",
       "Author                  0\n",
       "RepoName                0\n",
       "RepoLanguage            0\n",
       "Number                  0\n",
       "Title_x                 0\n",
       "Body                    0\n",
       "CreatedAt               0\n",
       "ClosedAt                0\n",
       "UpdatedAt               0\n",
       "State                   0\n",
       "source_date             0\n",
       "URL_chatgptsharing_x    0\n",
       "Status                  0\n",
       "DateOfConversation      0\n",
       "DateOfAccess            0\n",
       "Title_y                 0\n",
       "NumberOfPrompts         0\n",
       "TokensOfPrompts         0\n",
       "TokensOfAnswers         0\n",
       "Model                   0\n",
       "HTMLContent             0\n",
       "URL_chatgptsharing_y    0\n",
       "MentionedURL            0\n",
       "MentionedProperty       0\n",
       "MentionedAuthor         0\n",
       "MentionedText           0\n",
       "URL_chatgptsharing      0\n",
       "Prompt                  0\n",
       "Answer                  0\n",
       "ListOfCode              0\n",
       "dtype: int64"
      ]
     },
     "execution_count": 6,
     "metadata": {},
     "output_type": "execute_result"
    }
   ],
   "source": [
    "# Check if empty strings present in the dataset\n",
    "(df == '').sum()"
   ]
  },
  {
   "cell_type": "code",
   "execution_count": 7,
   "metadata": {},
   "outputs": [
    {
     "data": {
      "text/plain": [
       "54"
      ]
     },
     "execution_count": 7,
     "metadata": {},
     "output_type": "execute_result"
    }
   ],
   "source": [
    "#check duplicates\n",
    "df.duplicated().sum()"
   ]
  },
  {
   "cell_type": "code",
   "execution_count": 8,
   "metadata": {},
   "outputs": [
    {
     "name": "stdout",
     "output_type": "stream",
     "text": [
      "<class 'pandas.core.frame.DataFrame'>\n",
      "Index: 409 entries, 904 to 2905\n",
      "Data columns (total 32 columns):\n",
      " #   Column                Non-Null Count  Dtype  \n",
      "---  ------                --------------  -----  \n",
      " 0   Type                  409 non-null    object \n",
      " 1   URL_issue             409 non-null    object \n",
      " 2   Author                409 non-null    object \n",
      " 3   RepoName              409 non-null    object \n",
      " 4   RepoLanguage          409 non-null    object \n",
      " 5   Number                409 non-null    int64  \n",
      " 6   Title_x               409 non-null    object \n",
      " 7   Body                  409 non-null    object \n",
      " 8   CreatedAt             409 non-null    object \n",
      " 9   ClosedAt              409 non-null    object \n",
      " 10  UpdatedAt             409 non-null    object \n",
      " 11  State                 409 non-null    object \n",
      " 12  source_date           409 non-null    int64  \n",
      " 13  URL_chatgptsharing_x  409 non-null    object \n",
      " 14  Status                409 non-null    int64  \n",
      " 15  DateOfConversation    409 non-null    object \n",
      " 16  DateOfAccess          409 non-null    object \n",
      " 17  Title_y               409 non-null    object \n",
      " 18  NumberOfPrompts       409 non-null    float64\n",
      " 19  TokensOfPrompts       409 non-null    float64\n",
      " 20  TokensOfAnswers       409 non-null    float64\n",
      " 21  Model                 409 non-null    object \n",
      " 22  HTMLContent           409 non-null    object \n",
      " 23  URL_chatgptsharing_y  409 non-null    object \n",
      " 24  MentionedURL          409 non-null    object \n",
      " 25  MentionedProperty     409 non-null    object \n",
      " 26  MentionedAuthor       409 non-null    object \n",
      " 27  MentionedText         409 non-null    object \n",
      " 28  URL_chatgptsharing    409 non-null    object \n",
      " 29  Prompt                409 non-null    object \n",
      " 30  Answer                409 non-null    object \n",
      " 31  ListOfCode            409 non-null    object \n",
      "dtypes: float64(3), int64(3), object(26)\n",
      "memory usage: 105.4+ KB\n"
     ]
    }
   ],
   "source": [
    "# Drop duplicates\n",
    "df = df.drop_duplicates()\n",
    "df.info()"
   ]
  },
  {
   "cell_type": "code",
   "execution_count": 11,
   "metadata": {},
   "outputs": [
    {
     "name": "stdout",
     "output_type": "stream",
     "text": [
      "Type                                 object\n",
      "URL_issue                            object\n",
      "Author                               object\n",
      "RepoName                             object\n",
      "RepoLanguage                         object\n",
      "Number                                int64\n",
      "Title_x                              object\n",
      "Body                                 object\n",
      "CreatedAt               datetime64[ns, UTC]\n",
      "ClosedAt                datetime64[ns, UTC]\n",
      "UpdatedAt               datetime64[ns, UTC]\n",
      "State                                object\n",
      "source_date                           int64\n",
      "URL_chatgptsharing_x                 object\n",
      "Status                                int64\n",
      "DateOfConversation                   object\n",
      "DateOfAccess                         object\n",
      "Title_y                              object\n",
      "NumberOfPrompts                     float64\n",
      "TokensOfPrompts                     float64\n",
      "TokensOfAnswers                     float64\n",
      "Model                                object\n",
      "HTMLContent                          object\n",
      "URL_chatgptsharing_y                 object\n",
      "MentionedURL                         object\n",
      "MentionedProperty                    object\n",
      "MentionedAuthor                      object\n",
      "MentionedText                        object\n",
      "URL_chatgptsharing                   object\n",
      "Prompt                               object\n",
      "Answer                               object\n",
      "ListOfCode                           object\n",
      "dtype: object\n"
     ]
    }
   ],
   "source": [
    "#Convert to datetime\n",
    "columns_to_convert = ['CreatedAt', 'ClosedAt','UpdatedAt']\n",
    "for col in columns_to_convert:\n",
    "    df[col] = pd.to_datetime(df[col])\n",
    "\n",
    "print(df.dtypes)"
   ]
  },
  {
   "cell_type": "markdown",
   "metadata": {},
   "source": [
    "## 2.Data-Preparation"
   ]
  },
  {
   "cell_type": "markdown",
   "metadata": {},
   "source": [
    "### Filter for 'Python' Repo language"
   ]
  },
  {
   "cell_type": "code",
   "execution_count": 9,
   "metadata": {},
   "outputs": [
    {
     "data": {
      "text/plain": [
       "RepoLanguage\n",
       "Python              164\n",
       "TypeScript           73\n",
       "Java                 56\n",
       "JavaScript           32\n",
       "PHP                  31\n",
       "C++                  14\n",
       "C#                   11\n",
       "HTML                  8\n",
       "Go                    5\n",
       "PLpgSQL               5\n",
       "Ruby                  4\n",
       "Jupyter Notebook      2\n",
       "Shell                 2\n",
       "CSS                   1\n",
       "Rust                  1\n",
       "Name: URL_issue, dtype: int64"
      ]
     },
     "execution_count": 9,
     "metadata": {},
     "output_type": "execute_result"
    }
   ],
   "source": [
    "# Check programming language distribution\n",
    "df.groupby([\"RepoLanguage\"])['URL_issue'].count().sort_values(ascending = False)"
   ]
  },
  {
   "cell_type": "code",
   "execution_count": 10,
   "metadata": {},
   "outputs": [
    {
     "name": "stdout",
     "output_type": "stream",
     "text": [
      "<class 'pandas.core.frame.DataFrame'>\n",
      "Index: 164 entries, 917 to 2883\n",
      "Data columns (total 32 columns):\n",
      " #   Column                Non-Null Count  Dtype  \n",
      "---  ------                --------------  -----  \n",
      " 0   Type                  164 non-null    object \n",
      " 1   URL_issue             164 non-null    object \n",
      " 2   Author                164 non-null    object \n",
      " 3   RepoName              164 non-null    object \n",
      " 4   RepoLanguage          164 non-null    object \n",
      " 5   Number                164 non-null    int64  \n",
      " 6   Title_x               164 non-null    object \n",
      " 7   Body                  164 non-null    object \n",
      " 8   CreatedAt             164 non-null    object \n",
      " 9   ClosedAt              164 non-null    object \n",
      " 10  UpdatedAt             164 non-null    object \n",
      " 11  State                 164 non-null    object \n",
      " 12  source_date           164 non-null    int64  \n",
      " 13  URL_chatgptsharing_x  164 non-null    object \n",
      " 14  Status                164 non-null    int64  \n",
      " 15  DateOfConversation    164 non-null    object \n",
      " 16  DateOfAccess          164 non-null    object \n",
      " 17  Title_y               164 non-null    object \n",
      " 18  NumberOfPrompts       164 non-null    float64\n",
      " 19  TokensOfPrompts       164 non-null    float64\n",
      " 20  TokensOfAnswers       164 non-null    float64\n",
      " 21  Model                 164 non-null    object \n",
      " 22  HTMLContent           164 non-null    object \n",
      " 23  URL_chatgptsharing_y  164 non-null    object \n",
      " 24  MentionedURL          164 non-null    object \n",
      " 25  MentionedProperty     164 non-null    object \n",
      " 26  MentionedAuthor       164 non-null    object \n",
      " 27  MentionedText         164 non-null    object \n",
      " 28  URL_chatgptsharing    164 non-null    object \n",
      " 29  Prompt                164 non-null    object \n",
      " 30  Answer                164 non-null    object \n",
      " 31  ListOfCode            164 non-null    object \n",
      "dtypes: float64(3), int64(3), object(26)\n",
      "memory usage: 42.3+ KB\n"
     ]
    }
   ],
   "source": [
    "dfp = df[df['RepoLanguage'] == 'Python']\n",
    "dfp.info()"
   ]
  },
  {
   "cell_type": "markdown",
   "metadata": {},
   "source": [
    "### Filter Chatgpt prompts in 'English'"
   ]
  },
  {
   "cell_type": "code",
   "execution_count": 11,
   "metadata": {},
   "outputs": [],
   "source": [
    "# Fix randomness in language detection\n",
    "DetectorFactory.seed = 0\n",
    "def is_english(text):\n",
    "    try:\n",
    "        return detect(text) == 'en'\n",
    "    except:\n",
    "        return False  # Return False if language detection fails\n",
    "\n",
    "def is_english_count(df):\n",
    "    #df_col = df.select_dtypes(include=['object', 'string']).columns.tolist()\n",
    "    df_col = ['Prompt']\n",
    "    english_counts = {}\n",
    "    for col in df_col:\n",
    "        english_counts[col] = df[col].apply(is_english).sum()\n",
    "\n",
    "    return english_counts"
   ]
  },
  {
   "cell_type": "code",
   "execution_count": 12,
   "metadata": {},
   "outputs": [
    {
     "name": "stdout",
     "output_type": "stream",
     "text": [
      " Number of prompts presented to ChatGPT that are in English language : {'Prompt': 122}\n",
      "Total number of prompts in the dataset : 164\n"
     ]
    }
   ],
   "source": [
    "print(f' Number of prompts presented to ChatGPT that are in English language : {is_english_count(dfp)}\\nTotal number of prompts in the dataset : {len(dfp)}')"
   ]
  },
  {
   "cell_type": "code",
   "execution_count": 13,
   "metadata": {},
   "outputs": [
    {
     "name": "stdout",
     "output_type": "stream",
     "text": [
      "<class 'pandas.core.frame.DataFrame'>\n",
      "Index: 122 entries, 922 to 2883\n",
      "Data columns (total 32 columns):\n",
      " #   Column                Non-Null Count  Dtype  \n",
      "---  ------                --------------  -----  \n",
      " 0   Type                  122 non-null    object \n",
      " 1   URL_issue             122 non-null    object \n",
      " 2   Author                122 non-null    object \n",
      " 3   RepoName              122 non-null    object \n",
      " 4   RepoLanguage          122 non-null    object \n",
      " 5   Number                122 non-null    int64  \n",
      " 6   Title_x               122 non-null    object \n",
      " 7   Body                  122 non-null    object \n",
      " 8   CreatedAt             122 non-null    object \n",
      " 9   ClosedAt              122 non-null    object \n",
      " 10  UpdatedAt             122 non-null    object \n",
      " 11  State                 122 non-null    object \n",
      " 12  source_date           122 non-null    int64  \n",
      " 13  URL_chatgptsharing_x  122 non-null    object \n",
      " 14  Status                122 non-null    int64  \n",
      " 15  DateOfConversation    122 non-null    object \n",
      " 16  DateOfAccess          122 non-null    object \n",
      " 17  Title_y               122 non-null    object \n",
      " 18  NumberOfPrompts       122 non-null    float64\n",
      " 19  TokensOfPrompts       122 non-null    float64\n",
      " 20  TokensOfAnswers       122 non-null    float64\n",
      " 21  Model                 122 non-null    object \n",
      " 22  HTMLContent           122 non-null    object \n",
      " 23  URL_chatgptsharing_y  122 non-null    object \n",
      " 24  MentionedURL          122 non-null    object \n",
      " 25  MentionedProperty     122 non-null    object \n",
      " 26  MentionedAuthor       122 non-null    object \n",
      " 27  MentionedText         122 non-null    object \n",
      " 28  URL_chatgptsharing    122 non-null    object \n",
      " 29  Prompt                122 non-null    object \n",
      " 30  Answer                122 non-null    object \n",
      " 31  ListOfCode            122 non-null    object \n",
      "dtypes: float64(3), int64(3), object(26)\n",
      "memory usage: 31.5+ KB\n"
     ]
    }
   ],
   "source": [
    "dfp_english = dfp[dfp['Prompt'].apply(is_english)]\n",
    "dfp_english.info()"
   ]
  },
  {
   "cell_type": "code",
   "execution_count": 14,
   "metadata": {},
   "outputs": [
    {
     "data": {
      "text/plain": [
       "24"
      ]
     },
     "execution_count": 14,
     "metadata": {},
     "output_type": "execute_result"
    }
   ],
   "source": [
    "dfp_english['URL_issue'].nunique()"
   ]
  },
  {
   "cell_type": "markdown",
   "metadata": {},
   "source": [
    "## 3.Data-Analysis"
   ]
  },
  {
   "cell_type": "markdown",
   "metadata": {},
   "source": [
    "### 3.1 Number of ChatGPT interactions per issue"
   ]
  },
  {
   "cell_type": "code",
   "execution_count": 15,
   "metadata": {},
   "outputs": [
    {
     "name": "stdout",
     "output_type": "stream",
     "text": [
      "Number of unique values for each categorical column:\n",
      "Type                     1\n",
      "URL_issue               24\n",
      "Author                  17\n",
      "RepoName                20\n",
      "RepoLanguage             1\n",
      "Title_x                 24\n",
      "Body                    24\n",
      "CreatedAt               24\n",
      "ClosedAt                24\n",
      "UpdatedAt               24\n",
      "State                    1\n",
      "URL_chatgptsharing_x    24\n",
      "DateOfConversation      19\n",
      "DateOfAccess            28\n",
      "Title_y                 24\n",
      "Model                    1\n",
      "HTMLContent             28\n",
      "URL_chatgptsharing_y    24\n",
      "MentionedURL            28\n",
      "MentionedProperty        2\n",
      "MentionedAuthor         20\n",
      "MentionedText           28\n",
      "URL_chatgptsharing      24\n",
      "Prompt                  88\n",
      "Answer                  89\n",
      "ListOfCode              55\n",
      "dtype: int64\n"
     ]
    }
   ],
   "source": [
    "# Select only categorical columns\n",
    "categorical_columns = dfp_english.select_dtypes(include=['object', 'category'])\n",
    "\n",
    "# Count unique values for each categorical column\n",
    "unique_counts = categorical_columns.nunique()\n",
    "\n",
    "# Print results\n",
    "print(\"Number of unique values for each categorical column:\")\n",
    "print(unique_counts)"
   ]
  },
  {
   "cell_type": "code",
   "execution_count": 19,
   "metadata": {},
   "outputs": [],
   "source": [
    "dfp_english_prompts = pd.DataFrame(dfp_english.groupby('URL_issue')['Prompt'].count())"
   ]
  },
  {
   "cell_type": "code",
   "execution_count": 20,
   "metadata": {},
   "outputs": [
    {
     "data": {
      "text/html": [
       "<div>\n",
       "<style scoped>\n",
       "    .dataframe tbody tr th:only-of-type {\n",
       "        vertical-align: middle;\n",
       "    }\n",
       "\n",
       "    .dataframe tbody tr th {\n",
       "        vertical-align: top;\n",
       "    }\n",
       "\n",
       "    .dataframe thead th {\n",
       "        text-align: right;\n",
       "    }\n",
       "</style>\n",
       "<table border=\"1\" class=\"dataframe\">\n",
       "  <thead>\n",
       "    <tr style=\"text-align: right;\">\n",
       "      <th></th>\n",
       "      <th>Prompt</th>\n",
       "    </tr>\n",
       "    <tr>\n",
       "      <th>URL_issue</th>\n",
       "      <th></th>\n",
       "    </tr>\n",
       "  </thead>\n",
       "  <tbody>\n",
       "    <tr>\n",
       "      <th>https://github.com/AndyGrant/OpenBench/issues/149</th>\n",
       "      <td>1</td>\n",
       "    </tr>\n",
       "    <tr>\n",
       "      <th>https://github.com/AntonOsika/gpt-engineer/issues/294</th>\n",
       "      <td>2</td>\n",
       "    </tr>\n",
       "    <tr>\n",
       "      <th>https://github.com/Delgan/loguru/issues/902</th>\n",
       "      <td>12</td>\n",
       "    </tr>\n",
       "    <tr>\n",
       "      <th>https://github.com/Delgan/loguru/issues/903</th>\n",
       "      <td>3</td>\n",
       "    </tr>\n",
       "    <tr>\n",
       "      <th>https://github.com/Elucidation/mapf-multiagent-robot-planning/issues/118</th>\n",
       "      <td>5</td>\n",
       "    </tr>\n",
       "    <tr>\n",
       "      <th>https://github.com/MauriceLe/PIMS/issues/73</th>\n",
       "      <td>22</td>\n",
       "    </tr>\n",
       "    <tr>\n",
       "      <th>https://github.com/NA-MIC/ProjectWeek/issues/724</th>\n",
       "      <td>1</td>\n",
       "    </tr>\n",
       "    <tr>\n",
       "      <th>https://github.com/OpenAdaptAI/OpenAdapt/issues/185</th>\n",
       "      <td>20</td>\n",
       "    </tr>\n",
       "    <tr>\n",
       "      <th>https://github.com/SafEight/wdm-project/issues/8</th>\n",
       "      <td>2</td>\n",
       "    </tr>\n",
       "    <tr>\n",
       "      <th>https://github.com/davidusb-geek/emhass/issues/82</th>\n",
       "      <td>3</td>\n",
       "    </tr>\n",
       "    <tr>\n",
       "      <th>https://github.com/gorillamania/AICodeBot/issues/4</th>\n",
       "      <td>10</td>\n",
       "    </tr>\n",
       "    <tr>\n",
       "      <th>https://github.com/internetarchive/openlibrary/issues/7942</th>\n",
       "      <td>2</td>\n",
       "    </tr>\n",
       "    <tr>\n",
       "      <th>https://github.com/jasonacox/Powerwall-Dashboard/issues/288</th>\n",
       "      <td>1</td>\n",
       "    </tr>\n",
       "    <tr>\n",
       "      <th>https://github.com/jasonacox/Powerwall-Dashboard/issues/302</th>\n",
       "      <td>4</td>\n",
       "    </tr>\n",
       "    <tr>\n",
       "      <th>https://github.com/jefftriplett/frontmatter-cli/issues/5</th>\n",
       "      <td>2</td>\n",
       "    </tr>\n",
       "    <tr>\n",
       "      <th>https://github.com/mesonbuild/meson/issues/11916</th>\n",
       "      <td>4</td>\n",
       "    </tr>\n",
       "    <tr>\n",
       "      <th>https://github.com/nuhmanpk/Webtrench/issues/10</th>\n",
       "      <td>1</td>\n",
       "    </tr>\n",
       "    <tr>\n",
       "      <th>https://github.com/related-sciences/nxontology-ml/issues/3</th>\n",
       "      <td>1</td>\n",
       "    </tr>\n",
       "    <tr>\n",
       "      <th>https://github.com/simonw/datasette-render-markdown/issues/14</th>\n",
       "      <td>9</td>\n",
       "    </tr>\n",
       "    <tr>\n",
       "      <th>https://github.com/simonw/sqlite-utils/issues/563</th>\n",
       "      <td>6</td>\n",
       "    </tr>\n",
       "    <tr>\n",
       "      <th>https://github.com/simonw/symbex/issues/18</th>\n",
       "      <td>3</td>\n",
       "    </tr>\n",
       "    <tr>\n",
       "      <th>https://github.com/simonw/symbex/issues/19</th>\n",
       "      <td>3</td>\n",
       "    </tr>\n",
       "    <tr>\n",
       "      <th>https://github.com/simonw/symbex/issues/25</th>\n",
       "      <td>4</td>\n",
       "    </tr>\n",
       "    <tr>\n",
       "      <th>https://github.com/simonw/ttok/issues/7</th>\n",
       "      <td>1</td>\n",
       "    </tr>\n",
       "  </tbody>\n",
       "</table>\n",
       "</div>"
      ],
      "text/plain": [
       "                                                    Prompt\n",
       "URL_issue                                                 \n",
       "https://github.com/AndyGrant/OpenBench/issues/149        1\n",
       "https://github.com/AntonOsika/gpt-engineer/issu...       2\n",
       "https://github.com/Delgan/loguru/issues/902             12\n",
       "https://github.com/Delgan/loguru/issues/903              3\n",
       "https://github.com/Elucidation/mapf-multiagent-...       5\n",
       "https://github.com/MauriceLe/PIMS/issues/73             22\n",
       "https://github.com/NA-MIC/ProjectWeek/issues/724         1\n",
       "https://github.com/OpenAdaptAI/OpenAdapt/issues...      20\n",
       "https://github.com/SafEight/wdm-project/issues/8         2\n",
       "https://github.com/davidusb-geek/emhass/issues/82        3\n",
       "https://github.com/gorillamania/AICodeBot/issues/4      10\n",
       "https://github.com/internetarchive/openlibrary/...       2\n",
       "https://github.com/jasonacox/Powerwall-Dashboar...       1\n",
       "https://github.com/jasonacox/Powerwall-Dashboar...       4\n",
       "https://github.com/jefftriplett/frontmatter-cli...       2\n",
       "https://github.com/mesonbuild/meson/issues/11916         4\n",
       "https://github.com/nuhmanpk/Webtrench/issues/10          1\n",
       "https://github.com/related-sciences/nxontology-...       1\n",
       "https://github.com/simonw/datasette-render-mark...       9\n",
       "https://github.com/simonw/sqlite-utils/issues/563        6\n",
       "https://github.com/simonw/symbex/issues/18               3\n",
       "https://github.com/simonw/symbex/issues/19               3\n",
       "https://github.com/simonw/symbex/issues/25               4\n",
       "https://github.com/simonw/ttok/issues/7                  1"
      ]
     },
     "execution_count": 20,
     "metadata": {},
     "output_type": "execute_result"
    }
   ],
   "source": [
    "dfp_english_prompts"
   ]
  },
  {
   "cell_type": "code",
   "execution_count": 21,
   "metadata": {},
   "outputs": [
    {
     "data": {
      "text/plain": [
       "5.083333333333333"
      ]
     },
     "execution_count": 21,
     "metadata": {},
     "output_type": "execute_result"
    }
   ],
   "source": [
    "interactions_per_issue = dfp_english_prompts['Prompt'].mean()\n",
    "interactions_per_issue"
   ]
  },
  {
   "cell_type": "code",
   "execution_count": 22,
   "metadata": {},
   "outputs": [
    {
     "data": {
      "text/plain": [
       "22"
      ]
     },
     "execution_count": 22,
     "metadata": {},
     "output_type": "execute_result"
    }
   ],
   "source": [
    "dfp_english_prompts['Prompt'].max()"
   ]
  },
  {
   "cell_type": "code",
   "execution_count": 23,
   "metadata": {},
   "outputs": [
    {
     "data": {
      "text/plain": [
       "1"
      ]
     },
     "execution_count": 23,
     "metadata": {},
     "output_type": "execute_result"
    }
   ],
   "source": [
    "dfp_english_prompts['Prompt'].min()"
   ]
  },
  {
   "cell_type": "code",
   "execution_count": 35,
   "metadata": {},
   "outputs": [
    {
     "data": {
      "text/html": [
       "\n",
       "<style>\n",
       "  #altair-viz-767fa3cfb9bc4474a1f4d595dcfbb576.vega-embed {\n",
       "    width: 100%;\n",
       "    display: flex;\n",
       "  }\n",
       "\n",
       "  #altair-viz-767fa3cfb9bc4474a1f4d595dcfbb576.vega-embed details,\n",
       "  #altair-viz-767fa3cfb9bc4474a1f4d595dcfbb576.vega-embed details summary {\n",
       "    position: relative;\n",
       "  }\n",
       "</style>\n",
       "<div id=\"altair-viz-767fa3cfb9bc4474a1f4d595dcfbb576\"></div>\n",
       "<script type=\"text/javascript\">\n",
       "  var VEGA_DEBUG = (typeof VEGA_DEBUG == \"undefined\") ? {} : VEGA_DEBUG;\n",
       "  (function(spec, embedOpt){\n",
       "    let outputDiv = document.currentScript.previousElementSibling;\n",
       "    if (outputDiv.id !== \"altair-viz-767fa3cfb9bc4474a1f4d595dcfbb576\") {\n",
       "      outputDiv = document.getElementById(\"altair-viz-767fa3cfb9bc4474a1f4d595dcfbb576\");\n",
       "    }\n",
       "\n",
       "    const paths = {\n",
       "      \"vega\": \"https://cdn.jsdelivr.net/npm/vega@5?noext\",\n",
       "      \"vega-lib\": \"https://cdn.jsdelivr.net/npm/vega-lib?noext\",\n",
       "      \"vega-lite\": \"https://cdn.jsdelivr.net/npm/vega-lite@5.20.1?noext\",\n",
       "      \"vega-embed\": \"https://cdn.jsdelivr.net/npm/vega-embed@6?noext\",\n",
       "    };\n",
       "\n",
       "    function maybeLoadScript(lib, version) {\n",
       "      var key = `${lib.replace(\"-\", \"\")}_version`;\n",
       "      return (VEGA_DEBUG[key] == version) ?\n",
       "        Promise.resolve(paths[lib]) :\n",
       "        new Promise(function(resolve, reject) {\n",
       "          var s = document.createElement('script');\n",
       "          document.getElementsByTagName(\"head\")[0].appendChild(s);\n",
       "          s.async = true;\n",
       "          s.onload = () => {\n",
       "            VEGA_DEBUG[key] = version;\n",
       "            return resolve(paths[lib]);\n",
       "          };\n",
       "          s.onerror = () => reject(`Error loading script: ${paths[lib]}`);\n",
       "          s.src = paths[lib];\n",
       "        });\n",
       "    }\n",
       "\n",
       "    function showError(err) {\n",
       "      outputDiv.innerHTML = `<div class=\"error\" style=\"color:red;\">${err}</div>`;\n",
       "      throw err;\n",
       "    }\n",
       "\n",
       "    function displayChart(vegaEmbed) {\n",
       "      vegaEmbed(outputDiv, spec, embedOpt)\n",
       "        .catch(err => showError(`Javascript Error: ${err.message}<br>This usually means there's a typo in your chart specification. See the javascript console for the full traceback.`));\n",
       "    }\n",
       "\n",
       "    if(typeof define === \"function\" && define.amd) {\n",
       "      requirejs.config({paths});\n",
       "      let deps = [\"vega-embed\"];\n",
       "      require(deps, displayChart, err => showError(`Error loading script: ${err.message}`));\n",
       "    } else {\n",
       "      maybeLoadScript(\"vega\", \"5\")\n",
       "        .then(() => maybeLoadScript(\"vega-lite\", \"5.20.1\"))\n",
       "        .then(() => maybeLoadScript(\"vega-embed\", \"6\"))\n",
       "        .catch(showError)\n",
       "        .then(() => displayChart(vegaEmbed));\n",
       "    }\n",
       "  })({\"config\": {\"view\": {\"continuousWidth\": 300, \"continuousHeight\": 300}}, \"data\": {\"name\": \"data-34f82ac9732fa0ca5c07c7630fd9426b\"}, \"mark\": {\"type\": \"bar\"}, \"encoding\": {\"x\": {\"bin\": {\"maxbins\": 15}, \"field\": \"Prompt\", \"title\": \"Number of ChatGPT Prompts per issue\", \"type\": \"quantitative\"}, \"y\": {\"aggregate\": \"count\", \"type\": \"quantitative\"}}, \"title\": \"Histogram for the number of ChatGPT Prompts per issue\", \"width\": 400, \"$schema\": \"https://vega.github.io/schema/vega-lite/v5.20.1.json\", \"datasets\": {\"data-34f82ac9732fa0ca5c07c7630fd9426b\": [{\"Prompt\": 1}, {\"Prompt\": 2}, {\"Prompt\": 12}, {\"Prompt\": 3}, {\"Prompt\": 5}, {\"Prompt\": 22}, {\"Prompt\": 1}, {\"Prompt\": 20}, {\"Prompt\": 2}, {\"Prompt\": 3}, {\"Prompt\": 10}, {\"Prompt\": 2}, {\"Prompt\": 1}, {\"Prompt\": 4}, {\"Prompt\": 2}, {\"Prompt\": 4}, {\"Prompt\": 1}, {\"Prompt\": 1}, {\"Prompt\": 9}, {\"Prompt\": 6}, {\"Prompt\": 3}, {\"Prompt\": 3}, {\"Prompt\": 4}, {\"Prompt\": 1}]}}, {\"mode\": \"vega-lite\"});\n",
       "</script>"
      ],
      "text/plain": [
       "alt.Chart(...)"
      ]
     },
     "execution_count": 35,
     "metadata": {},
     "output_type": "execute_result"
    }
   ],
   "source": [
    "alt.Chart(dfp_english_prompts).mark_bar().encode(\n",
    "    alt.X('Prompt', bin = alt.Bin(maxbins = 15), title = 'Number of ChatGPT Prompts per issue'),\n",
    "    alt.Y('count()')\n",
    ").properties(title = 'Histogram for the number of ChatGPT Prompts per issue', width = 400)"
   ]
  },
  {
   "cell_type": "markdown",
   "metadata": {},
   "source": [
    "### 3.2 Average length of Prompt"
   ]
  },
  {
   "cell_type": "code",
   "execution_count": 24,
   "metadata": {},
   "outputs": [
    {
     "data": {
      "text/plain": [
       "4402.0"
      ]
     },
     "execution_count": 24,
     "metadata": {},
     "output_type": "execute_result"
    }
   ],
   "source": [
    "dfp_english['TokensOfPrompts'].mean().round()"
   ]
  },
  {
   "cell_type": "code",
   "execution_count": 26,
   "metadata": {},
   "outputs": [
    {
     "data": {
      "text/plain": [
       "23410.0"
      ]
     },
     "execution_count": 26,
     "metadata": {},
     "output_type": "execute_result"
    }
   ],
   "source": [
    "dfp_english['TokensOfPrompts'].max()"
   ]
  },
  {
   "cell_type": "code",
   "execution_count": 27,
   "metadata": {},
   "outputs": [
    {
     "data": {
      "text/plain": [
       "14.0"
      ]
     },
     "execution_count": 27,
     "metadata": {},
     "output_type": "execute_result"
    }
   ],
   "source": [
    "dfp_english['TokensOfPrompts'].min()"
   ]
  },
  {
   "cell_type": "markdown",
   "metadata": {},
   "source": [
    "### 3.3 Average length of Answer"
   ]
  },
  {
   "cell_type": "code",
   "execution_count": 28,
   "metadata": {},
   "outputs": [
    {
     "data": {
      "text/plain": [
       "5716.0"
      ]
     },
     "execution_count": 28,
     "metadata": {},
     "output_type": "execute_result"
    }
   ],
   "source": [
    "dfp_english['TokensOfAnswers'].mean().round()"
   ]
  },
  {
   "cell_type": "code",
   "execution_count": 30,
   "metadata": {},
   "outputs": [
    {
     "data": {
      "text/plain": [
       "23953.0"
      ]
     },
     "execution_count": 30,
     "metadata": {},
     "output_type": "execute_result"
    }
   ],
   "source": [
    "dfp_english['TokensOfAnswers'].max()"
   ]
  },
  {
   "cell_type": "code",
   "execution_count": 31,
   "metadata": {},
   "outputs": [
    {
     "data": {
      "text/plain": [
       "30.0"
      ]
     },
     "execution_count": 31,
     "metadata": {},
     "output_type": "execute_result"
    }
   ],
   "source": [
    "dfp_english['TokensOfAnswers'].min()"
   ]
  }
 ],
 "metadata": {
  "kernelspec": {
   "display_name": "Python 3 (ipykernel)",
   "language": "python",
   "name": "python3"
  },
  "language_info": {
   "codemirror_mode": {
    "name": "ipython",
    "version": 3
   },
   "file_extension": ".py",
   "mimetype": "text/x-python",
   "name": "python",
   "nbconvert_exporter": "python",
   "pygments_lexer": "ipython3",
   "version": "3.12.3"
  }
 },
 "nbformat": 4,
 "nbformat_minor": 4
}
